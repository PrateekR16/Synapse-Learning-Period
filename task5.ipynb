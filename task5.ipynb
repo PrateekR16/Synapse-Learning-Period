{
  "nbformat": 4,
  "nbformat_minor": 0,
  "metadata": {
    "colab": {
      "name": "task5.ipynb",
      "provenance": [],
      "collapsed_sections": [],
      "include_colab_link": true
    },
    "interpreter": {
      "hash": "6f6a9d06c0fd64bf60e6e1c5f52d9e61e3a0d126987fc458258eb07643fb7172"
    },
    "kernelspec": {
      "display_name": "Python 3",
      "language": "python",
      "name": "python3"
    },
    "language_info": {
      "codemirror_mode": {
        "name": "ipython",
        "version": 3
      },
      "file_extension": ".py",
      "mimetype": "text/x-python",
      "name": "python",
      "nbconvert_exporter": "python",
      "pygments_lexer": "ipython3",
      "version": "3.8.5"
    }
  },
  "cells": [
    {
      "cell_type": "markdown",
      "metadata": {
        "id": "view-in-github",
        "colab_type": "text"
      },
      "source": [
        "<a href=\"https://colab.research.google.com/github/PrateekR16/Synapse-Learning-Period/blob/week-5/task5.ipynb\" target=\"_parent\"><img src=\"https://colab.research.google.com/assets/colab-badge.svg\" alt=\"Open In Colab\"/></a>"
      ]
    },
    {
      "cell_type": "markdown",
      "metadata": {
        "id": "jYysdyb-CaWM"
      },
      "source": [
        "# Intro to TensorFlow: Classify images of clothing"
      ]
    },
    {
      "cell_type": "code",
      "metadata": {
        "id": "dzLKpmZICaWN"
      },
      "source": [
        "# import Tensorflow\n",
        "import tensorflow as tf\n",
        "import matplotlib.pyplot as plt\n",
        "import numpy as np\n",
        "# import the other helper libraries required\n",
        "from tensorflow import keras\n",
        "from tensorflow.python.util.tf_export import keras_export\n",
        "from tensorflow.keras.models import Sequential\n",
        "from tensorflow.keras.layers import Flatten, Dense,Softmax,Dropout,BatchNormalization\n",
        "from tensorflow.keras.losses import SparseCategoricalCrossentropy"
      ],
      "execution_count": 1,
      "outputs": []
    },
    {
      "cell_type": "markdown",
      "metadata": {
        "id": "yR0EdgrLCaWR"
      },
      "source": [
        "## Import the Fashion MNIST dataset"
      ]
    },
    {
      "cell_type": "markdown",
      "metadata": {
        "id": "DLdCchMdCaWQ"
      },
      "source": [
        "This guide uses the [Fashion MNIST](https://github.com/zalandoresearch/fashion-mnist) dataset which contains 70,000 grayscale images in 10 categories. The images show individual articles of clothing at low resolution (28 by 28 pixels), as seen here:\n",
        "\n",
        "<table>\n",
        "  <tr><td>\n",
        "    <img src=\"https://tensorflow.org/images/fashion-mnist-sprite.png\"\n",
        "         alt=\"Fashion MNIST sprite\"  width=\"600\">\n",
        "  </td></tr>\n",
        "  <tr><td align=\"center\">\n",
        "    <b>Figure 1.</b> <a href=\"https://github.com/zalandoresearch/fashion-mnist\">Fashion-MNIST samples</a> (by Zalando, MIT License).<br/>&nbsp;\n",
        "  </td></tr>\n",
        "</table>\n",
        "\n",
        "Fashion MNIST is intended as a drop-in replacement for the classic [MNIST](http://yann.lecun.com/exdb/mnist/) dataset—often used as the \"Hello, World\" of machine learning programs for computer vision. The MNIST dataset contains images of handwritten digits (0, 1, 2, etc.) in a format identical to that of the articles of clothing you'll use here.\n",
        "\n",
        "This guide uses Fashion MNIST for variety, and because it's a slightly more challenging problem than regular MNIST. Both datasets are relatively small and are used to verify that an algorithm works as expected. They're good starting points to test and debug code.\n",
        "\n",
        "Here, 60,000 images are used to train the network and 10,000 images to evaluate how accurately the network learned to classify images. You can access the Fashion MNIST directly from TensorFlow. Import and [load the Fashion MNIST data](https://www.tensorflow.org/api_docs/python/tf/keras/datasets/fashion_mnist/load_data) directly from TensorFlow:"
      ]
    },
    {
      "cell_type": "code",
      "metadata": {
        "id": "7MqDQO0KCaWS",
        "colab": {
          "base_uri": "https://localhost:8080/"
        },
        "outputId": "33a4150a-5d2f-478d-f097-6133836ab8a0"
      },
      "source": [
        "#complete the code below:\n",
        "fashion_mnist = tf.keras.datasets.fashion_mnist\n",
        "#load the data into train_images, train_labels, test_images, test_label\n",
        "(train_images, train_labels), (test_images, test_labels) = fashion_mnist.load_data()"
      ],
      "execution_count": 2,
      "outputs": [
        {
          "output_type": "stream",
          "name": "stdout",
          "text": [
            "Downloading data from https://storage.googleapis.com/tensorflow/tf-keras-datasets/train-labels-idx1-ubyte.gz\n",
            "32768/29515 [=================================] - 0s 0us/step\n",
            "40960/29515 [=========================================] - 0s 0us/step\n",
            "Downloading data from https://storage.googleapis.com/tensorflow/tf-keras-datasets/train-images-idx3-ubyte.gz\n",
            "26427392/26421880 [==============================] - 0s 0us/step\n",
            "26435584/26421880 [==============================] - 0s 0us/step\n",
            "Downloading data from https://storage.googleapis.com/tensorflow/tf-keras-datasets/t10k-labels-idx1-ubyte.gz\n",
            "16384/5148 [===============================================================================================] - 0s 0us/step\n",
            "Downloading data from https://storage.googleapis.com/tensorflow/tf-keras-datasets/t10k-images-idx3-ubyte.gz\n",
            "4423680/4422102 [==============================] - 0s 0us/step\n",
            "4431872/4422102 [==============================] - 0s 0us/step\n"
          ]
        }
      ]
    },
    {
      "cell_type": "markdown",
      "metadata": {
        "id": "t9FDsUlxCaWW"
      },
      "source": [
        "Loading the dataset returns four NumPy arrays:\n",
        "\n",
        "* The `train_images` and `train_labels` arrays are the *training set*—the data the model uses to learn.\n",
        "* The model is tested against the *test set*, the `test_images`, and `test_labels` arrays.\n",
        "\n",
        "The images are 28x28 NumPy arrays, with pixel values ranging from 0 to 255. The *labels* are an array of integers, ranging from 0 to 9. These correspond to the *class* of clothing the image represents:\n",
        "\n",
        "<table>\n",
        "  <tr>\n",
        "    <th>Label</th>\n",
        "    <th>Class</th>\n",
        "  </tr>\n",
        "  <tr>\n",
        "    <td>0</td>\n",
        "    <td>T-shirt/top</td>\n",
        "  </tr>\n",
        "  <tr>\n",
        "    <td>1</td>\n",
        "    <td>Trouser</td>\n",
        "  </tr>\n",
        "    <tr>\n",
        "    <td>2</td>\n",
        "    <td>Pullover</td>\n",
        "  </tr>\n",
        "    <tr>\n",
        "    <td>3</td>\n",
        "    <td>Dress</td>\n",
        "  </tr>\n",
        "    <tr>\n",
        "    <td>4</td>\n",
        "    <td>Coat</td>\n",
        "  </tr>\n",
        "    <tr>\n",
        "    <td>5</td>\n",
        "    <td>Sandal</td>\n",
        "  </tr>\n",
        "    <tr>\n",
        "    <td>6</td>\n",
        "    <td>Shirt</td>\n",
        "  </tr>\n",
        "    <tr>\n",
        "    <td>7</td>\n",
        "    <td>Sneaker</td>\n",
        "  </tr>\n",
        "    <tr>\n",
        "    <td>8</td>\n",
        "    <td>Bag</td>\n",
        "  </tr>\n",
        "    <tr>\n",
        "    <td>9</td>\n",
        "    <td>Ankle boot</td>\n",
        "  </tr>\n",
        "</table>\n",
        "\n",
        "Each image is mapped to a single label. Since the *class names* are not included with the dataset, store them here to use later when plotting the images:"
      ]
    },
    {
      "cell_type": "code",
      "metadata": {
        "id": "IjnLH5S2CaWx"
      },
      "source": [
        "#store the class names in a list\n",
        "#complete the code below\n",
        "class_names = ['T-shirt/top', 'Trouser', 'Pullover', 'Dress', 'Coat',\n",
        "               'Sandal', 'Shirt', 'Sneaker', 'Bag', 'Ankle boot']"
      ],
      "execution_count": 3,
      "outputs": []
    },
    {
      "cell_type": "markdown",
      "metadata": {
        "id": "Brm0b_KACaWX"
      },
      "source": [
        "## Explore the data\n",
        "\n",
        "Let's explore the format of the dataset before training the model. The following shows there are 60,000 images in the training set, with each image represented as 28 x 28 pixels:"
      ]
    },
    {
      "cell_type": "code",
      "metadata": {
        "id": "zW5k_xz1CaWX",
        "colab": {
          "base_uri": "https://localhost:8080/"
        },
        "outputId": "dba20fc9-bb7a-42c9-c892-537c4918faae"
      },
      "source": [
        "#check the dimensions of the training data\n",
        "train_images.shape"
      ],
      "execution_count": 4,
      "outputs": [
        {
          "output_type": "execute_result",
          "data": {
            "text/plain": [
              "(60000, 28, 28)"
            ]
          },
          "metadata": {},
          "execution_count": 4
        }
      ]
    },
    {
      "cell_type": "markdown",
      "metadata": {
        "id": "cIAcvQqMCaWf"
      },
      "source": [
        "Likewise, there are 60,000 labels in the training set:"
      ]
    },
    {
      "cell_type": "code",
      "metadata": {
        "id": "TRFYHB2mCaWb",
        "colab": {
          "base_uri": "https://localhost:8080/"
        },
        "outputId": "d3c41a98-2f83-49a6-867e-03bc01a96b17"
      },
      "source": [
        "#verify the number of train_lables\n",
        "len(train_labels)"
      ],
      "execution_count": 5,
      "outputs": [
        {
          "output_type": "execute_result",
          "data": {
            "text/plain": [
              "60000"
            ]
          },
          "metadata": {},
          "execution_count": 5
        }
      ]
    },
    {
      "cell_type": "markdown",
      "metadata": {
        "id": "TMPI88iZpO2T"
      },
      "source": [
        "There are 10,000 images in the test set. Again, each image is represented as 28 x 28 pixels:"
      ]
    },
    {
      "cell_type": "code",
      "metadata": {
        "id": "2KFnYlcwCaWl",
        "colab": {
          "base_uri": "https://localhost:8080/"
        },
        "outputId": "01c933d0-e703-4a8e-b48e-282cd25981e4"
      },
      "source": [
        "#verify the number of images in test_images by checking the dimensions\n",
        "test_images.shape"
      ],
      "execution_count": 6,
      "outputs": [
        {
          "output_type": "execute_result",
          "data": {
            "text/plain": [
              "(10000, 28, 28)"
            ]
          },
          "metadata": {},
          "execution_count": 6
        }
      ]
    },
    {
      "cell_type": "markdown",
      "metadata": {
        "id": "rd0A0Iu0CaWq"
      },
      "source": [
        "And the test set contains 10,000 images labels:"
      ]
    },
    {
      "cell_type": "code",
      "metadata": {
        "id": "iJmPr5-ACaWn",
        "colab": {
          "base_uri": "https://localhost:8080/"
        },
        "outputId": "3d9b85db-ccee-43be-84ba-24722c317769"
      },
      "source": [
        "#verify the number of images in test_labels\n",
        "len(test_labels)"
      ],
      "execution_count": 7,
      "outputs": [
        {
          "output_type": "execute_result",
          "data": {
            "text/plain": [
              "10000"
            ]
          },
          "metadata": {},
          "execution_count": 7
        }
      ]
    },
    {
      "cell_type": "markdown",
      "metadata": {
        "id": "ES6uQoLKCaWr"
      },
      "source": [
        "## Preprocess the data\n",
        "\n",
        "The data must be preprocessed before training the network. If you inspect the first image in the training set, you will see that the pixel values fall in the range of 0 to 255:"
      ]
    },
    {
      "cell_type": "code",
      "metadata": {
        "id": "m4VEw8Ud9Quh",
        "colab": {
          "base_uri": "https://localhost:8080/",
          "height": 265
        },
        "outputId": "93950667-d0ab-4359-ae86-8ccec105c459"
      },
      "source": [
        "#plot a figure using the imshow() function to view the first image in train_images (train_images[0])\n",
        "plt.figure()\n",
        "plt.imshow(train_images[0])\n",
        "plt.colorbar()\n",
        "plt.grid(False)\n",
        "plt.show()"
      ],
      "execution_count": 8,
      "outputs": [
        {
          "output_type": "display_data",
          "data": {
            "image/png": "[encoded data removed]",
            "text/plain": [
              "<Figure size 432x288 with 2 Axes>"
            ]
          },
          "metadata": {
            "needs_background": "light"
          }
        }
      ]
    },
    {
      "cell_type": "markdown",
      "metadata": {
        "id": "Wz7l27Lz9S1P"
      },
      "source": [
        "Scale these values to a range of 0 to 1 before feeding them to the neural network model. To do so, divide the values by 255. It's important that the *training set* and the *testing set* be preprocessed in the same way:"
      ]
    },
    {
      "cell_type": "code",
      "metadata": {
        "id": "bW5WzIPlCaWv"
      },
      "source": [
        "#complete the code below\n",
        "train_images = train_images/255.0\n",
        "test_images = test_images/255.0"
      ],
      "execution_count": 9,
      "outputs": []
    },
    {
      "cell_type": "markdown",
      "metadata": {
        "id": "Ee638AlnCaWz"
      },
      "source": [
        "To verify that the data is in the correct format and that you're ready to build and train the network, display the first 25 images from the *training set* and display the class name below each image."
      ]
    },
    {
      "cell_type": "code",
      "metadata": {
        "id": "oZTImqg_CaW1",
        "colab": {
          "base_uri": "https://localhost:8080/",
          "height": 589
        },
        "outputId": "ef99a0be-bb02-4126-fcf0-a741028a27b5"
      },
      "source": [
        "#write code below\n",
        "plt.figure(figsize=(10,10))\n",
        "for i in range(25) :\n",
        "  plt.subplot(5,5,i+1)\n",
        "  plt.grid(False)\n",
        "  plt.xticks([])\n",
        "  plt.yticks([])\n",
        "  plt.imshow(train_images[i],cmap=plt.cm.binary)\n",
        "  plt.xlabel(class_names[train_labels[i]])\n",
        "plt.show()"
      ],
      "execution_count": 10,
      "outputs": [
        {
          "output_type": "display_data",
          "data": {
            "image/png": "[encoded data removed]",
            "text/plain": [
              "<Figure size 720x720 with 25 Axes>"
            ]
          },
          "metadata": {}
        }
      ]
    },
    {
      "cell_type": "markdown",
      "metadata": {
        "id": "59veuiEZCaW4"
      },
      "source": [
        "## Build the model\n",
        "\n",
        "Building the neural network requires configuring the layers of the model, then compiling the model."
      ]
    },
    {
      "cell_type": "markdown",
      "metadata": {
        "id": "Gxg1XGm0eOBy"
      },
      "source": [
        "### Set up the layers\n",
        "\n",
        "The basic building block of a neural network is the [*layer*](https://www.tensorflow.org/api_docs/python/tf/keras/layers). Layers extract representations from the data fed into them. Hopefully, these representations are meaningful for the problem at hand.\n",
        "\n",
        "Most of deep learning consists of chaining together simple layers. Most layers, such as `tf.keras.layers.Dense`, have parameters that are learned during training."
      ]
    },
    {
      "cell_type": "code",
      "metadata": {
        "id": "9ODch-OFCaW4"
      },
      "source": [
        "#create a model having the layers defined below this cell\n",
        "model = Sequential([\n",
        "    Flatten(input_shape=(28,28)),\n",
        "    Dense(128,activation='relu'), \n",
        "    Dense(10)               \n",
        "])"
      ],
      "execution_count": 11,
      "outputs": []
    },
    {
      "cell_type": "markdown",
      "metadata": {
        "id": "gut8A_7rCaW6"
      },
      "source": [
        "The first layer in this network, `tf.keras.layers.Flatten`, transforms the format of the images from a two-dimensional array (of 28 by 28 pixels) to a one-dimensional array (of 28 * 28 = 784 pixels). Think of this layer as unstacking rows of pixels in the image and lining them up. This layer has no parameters to learn; it only reformats the data.\n",
        "\n",
        "After the pixels are flattened, the network consists of a sequence of two `tf.keras.layers.Dense` layers with a 'BatchNormalization()' layer in between the 2 dense layers. These are densely connected, or fully connected, neural layers. The first `Dense` layer has 128 nodes (or neurons). The second (and last) layer returns a logits array with length of 10. Each node contains a score that indicates the current image belongs to one of the 10 classes. \n",
        "The Batch Normalization layer works by performing a series of operations on the incoming input data. The set of operations involves standardization, normalization, rescaling and shifting of offset of input values coming into the BN layer.\n",
        "\n",
        "### Compile the model\n",
        "\n",
        "Before the model is ready for training, it needs a few more settings. These are added during the model's [*compile*](https://www.tensorflow.org/api_docs/python/tf/keras/Model#compile) step:\n",
        "\n",
        "* [*Loss function*](https://www.tensorflow.org/api_docs/python/tf/keras/losses) —This measures how accurate the model is during training. You want to minimize this function to \"steer\" the model in the right direction.\n",
        "* [*Optimizer*](https://www.tensorflow.org/api_docs/python/tf/keras/optimizers) —This is how the model is updated based on the data it sees and its loss function.\n",
        "* [*Metrics*](https://www.tensorflow.org/api_docs/python/tf/keras/metrics) —Used to monitor the training and testing steps. The following example uses *accuracy*, the fraction of the images that are correctly classified."
      ]
    },
    {
      "cell_type": "code",
      "metadata": {
        "id": "Lhan11blCaW7"
      },
      "source": [
        "#compile the model using model.compile using the adam optimizer, SparseCategoricalCrossentropy loss and accuracy as metrics\n",
        "model.compile(optimizer='ADAM',loss=SparseCategoricalCrossentropy(from_logits=True),metrics=['Accuracy'])"
      ],
      "execution_count": 12,
      "outputs": []
    },
    {
      "cell_type": "markdown",
      "metadata": {
        "id": "qKF6uW-BCaW-"
      },
      "source": [
        "## Train the model\n",
        "\n",
        "Training the neural network model requires the following steps:\n",
        "\n",
        "1. Feed the training data to the model. In this example, the training data is in the `train_images` and `train_labels` arrays.\n",
        "2. The model learns to associate images and labels.\n",
        "3. You ask the model to make predictions about a test set—in this example, the `test_images` array.\n",
        "4. Verify that the predictions match the labels from the `test_labels` array.\n"
      ]
    },
    {
      "cell_type": "markdown",
      "metadata": {
        "id": "Z4P4zIV7E28Z"
      },
      "source": [
        "### Feed the model\n",
        "\n",
        "To start training,  call the [`model.fit`](https://www.tensorflow.org/api_docs/python/tf/keras/Model#fit) method—so called because it \"fits\" the model to the training data:"
      ]
    },
    {
      "cell_type": "code",
      "metadata": {
        "id": "xvwvpA64CaW_",
        "colab": {
          "base_uri": "https://localhost:8080/"
        },
        "outputId": "db0d276d-ad3f-4434-d3d1-ee7f7d87bd60"
      },
      "source": [
        "#write code below setting epochs=10:\n",
        "model.fit(train_images,train_labels,epochs=10)"
      ],
      "execution_count": 13,
      "outputs": [
        {
          "output_type": "stream",
          "name": "stdout",
          "text": [
            "Epoch 1/10\n",
            "1875/1875 [==============================] - 4s 2ms/step - loss: 0.4959 - Accuracy: 0.8251\n",
            "Epoch 2/10\n",
            "1875/1875 [==============================] - 3s 2ms/step - loss: 0.3757 - Accuracy: 0.8643\n",
            "Epoch 3/10\n",
            "1875/1875 [==============================] - 3s 2ms/step - loss: 0.3365 - Accuracy: 0.8770\n",
            "Epoch 4/10\n",
            "1875/1875 [==============================] - 3s 2ms/step - loss: 0.3097 - Accuracy: 0.8864\n",
            "Epoch 5/10\n",
            "1875/1875 [==============================] - 3s 2ms/step - loss: 0.2911 - Accuracy: 0.8923\n",
            "Epoch 6/10\n",
            "1875/1875 [==============================] - 3s 2ms/step - loss: 0.2784 - Accuracy: 0.8971\n",
            "Epoch 7/10\n",
            "1875/1875 [==============================] - 3s 2ms/step - loss: 0.2642 - Accuracy: 0.9014\n",
            "Epoch 8/10\n",
            "1875/1875 [==============================] - 3s 2ms/step - loss: 0.2536 - Accuracy: 0.9052\n",
            "Epoch 9/10\n",
            "1875/1875 [==============================] - 3s 2ms/step - loss: 0.2437 - Accuracy: 0.9088\n",
            "Epoch 10/10\n",
            "1875/1875 [==============================] - 3s 2ms/step - loss: 0.2365 - Accuracy: 0.9118\n"
          ]
        },
        {
          "output_type": "execute_result",
          "data": {
            "text/plain": [
              "<keras.callbacks.History at 0x7fd980614f10>"
            ]
          },
          "metadata": {},
          "execution_count": 13
        }
      ]
    },
    {
      "cell_type": "markdown",
      "metadata": {
        "id": "W3ZVOhugCaXA"
      },
      "source": [
        "As the model trains, the loss and accuracy metrics are displayed. This model reaches an accuracy of about 0.91 (or 91%) on the training data."
      ]
    },
    {
      "cell_type": "markdown",
      "metadata": {
        "id": "wCpr6DGyE28h"
      },
      "source": [
        "### Evaluate accuracy\n",
        "\n",
        "Next, compare how the model performs on the test dataset using model.evaluate():"
      ]
    },
    {
      "cell_type": "code",
      "metadata": {
        "id": "VflXLEeECaXC",
        "colab": {
          "base_uri": "https://localhost:8080/"
        },
        "outputId": "975ec8d4-1c79-4e76-b23b-ecac4211355d"
      },
      "source": [
        "#complete code below\n",
        "\n",
        "test_loss, test_acc = model.evaluate(test_images,test_labels,verbose=2)\n",
        "\n",
        "print('\\nTest accuracy:', test_acc)"
      ],
      "execution_count": 14,
      "outputs": [
        {
          "output_type": "stream",
          "name": "stdout",
          "text": [
            "313/313 - 0s - loss: 0.3475 - Accuracy: 0.8766\n",
            "\n",
            "Test accuracy: 0.8766000270843506\n"
          ]
        }
      ]
    },
    {
      "cell_type": "markdown",
      "metadata": {
        "id": "yWfgsmVXCaXG"
      },
      "source": [
        "It turns out that the accuracy on the test dataset is a little less than the accuracy on the training dataset. This gap between training accuracy and test accuracy represents *overfitting*. Overfitting happens when a machine learning model performs worse on new, previously unseen inputs than it does on the training data. An overfitted model \"memorizes\" the noise and details in the training dataset to a point where it negatively impacts the performance of the model on the new data. For more information, see the following:\n",
        "*   [Demonstrate overfitting](https://www.tensorflow.org/tutorials/keras/overfit_and_underfit#demonstrate_overfitting)\n",
        "*   [Strategies to prevent overfitting](https://www.tensorflow.org/tutorials/keras/overfit_and_underfit#strategies_to_prevent_overfitting)"
      ]
    },
    {
      "cell_type": "markdown",
      "metadata": {
        "id": "v-PyD1SYE28q"
      },
      "source": [
        "### Make predictions\n",
        "\n",
        "With the model trained, you can use it to make predictions about some images.\n",
        "The model's linear outputs, [logits](https://developers.google.com/machine-learning/glossary#logits). Attach a softmax layer to convert the logits to probabilities, which are easier to interpret. "
      ]
    },
    {
      "cell_type": "code",
      "metadata": {
        "id": "DnfNA0CrQLSD"
      },
      "source": [
        "\n",
        "#complete code below\n",
        "probability_model = Sequential([\n",
        "     model,\n",
        "     Softmax()                           \n",
        "])"
      ],
      "execution_count": 15,
      "outputs": []
    },
    {
      "cell_type": "code",
      "metadata": {
        "id": "Gl91RPhdCaXI"
      },
      "source": [
        "#predict on the test_images using the probability_model\n",
        "predictions = probability_model.predict(test_images)"
      ],
      "execution_count": 16,
      "outputs": []
    },
    {
      "cell_type": "markdown",
      "metadata": {
        "id": "x9Kk1voUCaXJ"
      },
      "source": [
        "Here, the model has predicted the label for each image in the testing set. Let's take a look at the first prediction:"
      ]
    },
    {
      "cell_type": "code",
      "metadata": {
        "id": "3DmJEUinCaXK",
        "colab": {
          "base_uri": "https://localhost:8080/"
        },
        "outputId": "a6db85db-859b-40da-dc10-029473fcc891"
      },
      "source": [
        "predictions[0]"
      ],
      "execution_count": 17,
      "outputs": [
        {
          "output_type": "execute_result",
          "data": {
            "text/plain": [
              "array([5.7021825e-08, 1.6324382e-08, 5.8200373e-09, 2.9337155e-08,\n",
              "       3.1760708e-10, 6.8014953e-04, 1.6000892e-07, 3.4762505e-02,\n",
              "       4.0309093e-08, 9.6455705e-01], dtype=float32)"
            ]
          },
          "metadata": {},
          "execution_count": 17
        }
      ]
    },
    {
      "cell_type": "markdown",
      "metadata": {
        "id": "-hw1hgeSCaXN"
      },
      "source": [
        "A prediction is an array of 10 numbers. They represent the model's \"confidence\" that the image corresponds to each of the 10 different articles of clothing. You can see which label has the highest confidence value:"
      ]
    },
    {
      "cell_type": "code",
      "metadata": {
        "id": "qsqenuPnCaXO",
        "colab": {
          "base_uri": "https://localhost:8080/"
        },
        "outputId": "a0502915-db00-4bd8-9bcc-96b2f30e9593"
      },
      "source": [
        "#use np.argmax to find the highest confidence value\n",
        "np.argmax(predictions[0])"
      ],
      "execution_count": 18,
      "outputs": [
        {
          "output_type": "execute_result",
          "data": {
            "text/plain": [
              "9"
            ]
          },
          "metadata": {},
          "execution_count": 18
        }
      ]
    },
    {
      "cell_type": "markdown",
      "metadata": {
        "id": "E51yS7iCCaXO"
      },
      "source": [
        "So, the model is most confident that this image is an ankle boot, or `class_names[9]`. Examining the test label shows that this classification is correct:"
      ]
    },
    {
      "cell_type": "code",
      "metadata": {
        "id": "Sd7Pgsu6CaXP",
        "colab": {
          "base_uri": "https://localhost:8080/"
        },
        "outputId": "9ca3b2fd-01b2-45cd-b1ed-99e0983c68e8"
      },
      "source": [
        "test_labels[0]"
      ],
      "execution_count": 19,
      "outputs": [
        {
          "output_type": "execute_result",
          "data": {
            "text/plain": [
              "9"
            ]
          },
          "metadata": {},
          "execution_count": 19
        }
      ]
    },
    {
      "cell_type": "markdown",
      "metadata": {
        "id": "Zh9yABaME29S"
      },
      "source": [
        "### Verify predictions\n",
        "\n",
        "With the model trained, you can use it to make predictions about some images."
      ]
    },
    {
      "cell_type": "markdown",
      "metadata": {
        "id": "d4Ov9OFDMmOD"
      },
      "source": [
        "Let's look at the 0th image, predictions, and prediction array. Correct prediction labels are blue and incorrect prediction labels are red. The number gives the percentage (out of 100) for the predicted label.\n",
        "Plot should look like this:\n",
        "![image.png](data:image/png;base64,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)"
      ]
    },
    {
      "cell_type": "code",
      "metadata": {
        "id": "HV5jw-5HwSmO",
        "colab": {
          "base_uri": "https://localhost:8080/",
          "height": 211
        },
        "outputId": "4b4e2e15-573f-4045-c80f-777a71b5c35f"
      },
      "source": [
        "#plot the 0th image and next to that plot a bar graph of the predicted values for that image\n",
        "#  if predicted_label is the same as the actual label of the image then the x_axis label should be in blue, whereas \n",
        "# if the predicted_label is not the same as the actual label of the image then the x_axis label should be in red\n",
        "def plot_image(i, predictions_array, actual_label, img):\n",
        "  img,actual_label=img[i],actual_label[i]\n",
        "  plt.grid(False)\n",
        "  plt.xticks([])\n",
        "  plt.yticks([])\n",
        "  plt.imshow(img,cmap=plt.cm.binary)\n",
        "  predicted_label = np.argmax(predictions_array)\n",
        "  if predicted_label == actual_label :\n",
        "    color='blue'\n",
        "  else :\n",
        "    color ='red'\n",
        "\n",
        "  plt.xlabel(\"{} {:2.0f}% ({})\".format(class_names[predicted_label],\n",
        "                                100*np.max(predictions_array),\n",
        "                                class_names[actual_label]),\n",
        "                                color=color)\n",
        "\n",
        "def value_plot (i,label,predictions_array) :\n",
        "  label=label[i]\n",
        "  plt.grid(False)\n",
        "  plt.xticks(range(10))\n",
        "  plt.yticks([])\n",
        "  predicted_label = np.argmax(predictions_array)\n",
        "  plot=plt.bar(range(10),predictions_array)\n",
        "  plt.ylim((0,1))\n",
        "  plot[predicted_label].set_color('red')\n",
        "  plot[label].set_color('blue')\n",
        "i=0\n",
        "plt.figure(figsize=(6,3))\n",
        "plt.subplot(1,2,1)\n",
        "plot_image(i,predictions[i],test_labels,test_images)\n",
        "plt.subplot(1,2,2)\n",
        "value_plot(i,test_labels,predictions[i])\n",
        "plt.show()"
      ],
      "execution_count": 20,
      "outputs": [
        {
          "output_type": "display_data",
          "data": {
            "image/png": "[encoded data removed]",
            "text/plain": [
              "<Figure size 432x216 with 2 Axes>"
            ]
          },
          "metadata": {
            "needs_background": "light"
          }
        }
      ]
    },
    {
      "cell_type": "markdown",
      "metadata": {
        "id": "5wiMlS6wTeM0"
      },
      "source": [
        "Similarly plot the image and predicted values for another value in the test_images"
      ]
    },
    {
      "cell_type": "code",
      "metadata": {
        "id": "Ko-uzOufSCSe",
        "colab": {
          "base_uri": "https://localhost:8080/",
          "height": 211
        },
        "outputId": "9d97c24f-9470-42f7-a2fd-0bf1baeb3771"
      },
      "source": [
        "#write code below\n",
        "i=1000\n",
        "plt.figure(figsize=(6,3))\n",
        "plt.subplot(1,2,1)\n",
        "plot_image(i,predictions[i],test_labels,test_images)\n",
        "plt.subplot(1,2,2)\n",
        "value_plot(i,test_labels,predictions[i])\n",
        "plt.show()"
      ],
      "execution_count": 21,
      "outputs": [
        {
          "output_type": "display_data",
          "data": {
            "image/png": "[encoded data removed]",
            "text/plain": [
              "<Figure size 432x216 with 2 Axes>"
            ]
          },
          "metadata": {
            "needs_background": "light"
          }
        }
      ]
    },
    {
      "cell_type": "markdown",
      "metadata": {
        "id": "kgdvGD52CaXR"
      },
      "source": [
        "plot several images with their predictions. Note that the model can be wrong even when very confident."
      ]
    },
    {
      "cell_type": "code",
      "metadata": {
        "id": "hQlnbqaw2Qu_",
        "colab": {
          "base_uri": "https://localhost:8080/",
          "height": 1000
        },
        "outputId": "b216be3a-8ec7-4a0e-fc6e-bfac094b4ecc"
      },
      "source": [
        "# Plot the first 10 test images, their predicted labels, and the true labels.\n",
        "# Color correct predictions in blue and incorrect predictions in red.\n",
        "plt.figure(figsize=(6,3))\n",
        "for i in range(10) :\n",
        "  plt.subplot(1,2,1)\n",
        "  plot_image(i,predictions[i],test_labels,test_images)\n",
        "  plt.subplot(1,2,2)\n",
        "  value_plot(i,test_labels,predictions[i])\n",
        "  plt.show()"
      ],
      "execution_count": 22,
      "outputs": [
        {
          "output_type": "display_data",
          "data": {
            "image/png": "[encoded data removed]",
            "text/plain": [
              "<Figure size 432x216 with 2 Axes>"
            ]
          },
          "metadata": {
            "needs_background": "light"
          }
        },
        {
          "output_type": "display_data",
          "data": {
            "image/png": "[encoded data removed]",
            "text/plain": [
              "<Figure size 432x288 with 2 Axes>"
            ]
          },
          "metadata": {
            "needs_background": "light"
          }
        },
        {
          "output_type": "display_data",
          "data": {
            "image/png": "[encoded data removed]",
            "text/plain": [
              "<Figure size 432x288 with 2 Axes>"
            ]
          },
          "metadata": {
            "needs_background": "light"
          }
        },
        {
          "output_type": "display_data",
          "data": {
            "image/png": "[encoded data removed]",
            "text/plain": [
              "<Figure size 432x288 with 2 Axes>"
            ]
          },
          "metadata": {
            "needs_background": "light"
          }
        },
        {
          "output_type": "display_data",
          "data": {
            "image/png": "[encoded data removed]",
            "text/plain": [
              "<Figure size 432x288 with 2 Axes>"
            ]
          },
          "metadata": {
            "needs_background": "light"
          }
        },
        {
          "output_type": "display_data",
          "data": {
            "image/png": "[encoded data removed]",
            "text/plain": [
              "<Figure size 432x288 with 2 Axes>"
            ]
          },
          "metadata": {
            "needs_background": "light"
          }
        },
        {
          "output_type": "display_data",
          "data": {
            "image/png": "[encoded data removed]",
            "text/plain": [
              "<Figure size 432x288 with 2 Axes>"
            ]
          },
          "metadata": {
            "needs_background": "light"
          }
        },
        {
          "output_type": "display_data",
          "data": {
            "image/png": "[encoded data removed]",
            "text/plain": [
              "<Figure size 432x288 with 2 Axes>"
            ]
          },
          "metadata": {
            "needs_background": "light"
          }
        },
        {
          "output_type": "display_data",
          "data": {
            "image/png": "[encoded data removed]",
            "text/plain": [
              "<Figure size 432x288 with 2 Axes>"
            ]
          },
          "metadata": {
            "needs_background": "light"
          }
        },
        {
          "output_type": "display_data",
          "data": {
            "image/png": "[encoded data removed]",
            "text/plain": [
              "<Figure size 432x288 with 2 Axes>"
            ]
          },
          "metadata": {
            "needs_background": "light"
          }
        }
      ]
    },
    {
      "cell_type": "markdown",
      "metadata": {
        "id": "R32zteKHCaXT"
      },
      "source": [
        "## Use the trained model\n",
        "\n",
        "Finally, use the trained model to make a prediction about a single image."
      ]
    },
    {
      "cell_type": "code",
      "metadata": {
        "id": "yRJ7JU7JCaXT"
      },
      "source": [
        "# Grab an image from the test dataset.\n",
        "img = test_images[3]\n"
      ],
      "execution_count": 23,
      "outputs": []
    },
    {
      "cell_type": "markdown",
      "metadata": {
        "id": "vz3bVp21CaXV"
      },
      "source": [
        "`tf.keras` models are optimized to make predictions on a *batch*, or collection, of examples at once. Accordingly, even though you're using a single image, you need to add it to a list:"
      ]
    },
    {
      "cell_type": "code",
      "metadata": {
        "id": "lDFh5yF_CaXW",
        "colab": {
          "base_uri": "https://localhost:8080/"
        },
        "outputId": "b1351f4b-4692-47ea-b054-8de1fcd513a8"
      },
      "source": [
        "# Add the image to a batch where it's the only member.\n",
        "#hint: use np.expand_dims\n",
        "#complete code below\n",
        "img = np.expand_dims(img,0)\n",
        "\n",
        "print(img.shape)"
      ],
      "execution_count": 24,
      "outputs": [
        {
          "output_type": "stream",
          "name": "stdout",
          "text": [
            "(1, 28, 28)\n"
          ]
        }
      ]
    },
    {
      "cell_type": "markdown",
      "metadata": {
        "id": "EQ5wLTkcCaXY"
      },
      "source": [
        "Now predict the correct label for this image:"
      ]
    },
    {
      "cell_type": "code",
      "metadata": {
        "id": "o_rzNSdrCaXY",
        "colab": {
          "base_uri": "https://localhost:8080/"
        },
        "outputId": "02385eb3-3867-4f81-e554-07a8d5dec603"
      },
      "source": [
        "#complete code below\n",
        "predictions_single = model.predict(img)\n",
        "\n",
        "print(predictions_single)"
      ],
      "execution_count": 25,
      "outputs": [
        {
          "output_type": "stream",
          "name": "stdout",
          "text": [
            "[[ -4.775775   12.3208275  -7.4724293   0.8283139  -3.034849  -17.574068\n",
            "   -5.857123  -33.04204   -14.401643  -31.058556 ]]\n"
          ]
        }
      ]
    },
    {
      "cell_type": "markdown",
      "metadata": {
        "id": "cU1Y2OAMCaXb"
      },
      "source": [
        "`tf.keras.Model.predict` returns a list of lists—one list for each image in the batch of data. Grab the predictions for our (only) image in the batch:"
      ]
    },
    {
      "cell_type": "code",
      "metadata": {
        "id": "2tRmdq_8CaXb",
        "colab": {
          "base_uri": "https://localhost:8080/"
        },
        "outputId": "62bf4875-b377-4d5d-80e2-1c40f144d706"
      },
      "source": [
        "#print the predicted class for the image\n",
        "print(class_names[np.argmax(predictions_single)])"
      ],
      "execution_count": 26,
      "outputs": [
        {
          "output_type": "stream",
          "name": "stdout",
          "text": [
            "Trouser\n"
          ]
        }
      ]
    },
    {
      "cell_type": "markdown",
      "metadata": {
        "id": "i7f11ILwv8Vn"
      },
      "source": [
        "# Regularization\n",
        "In mathematics, statistics, and computer science, particularly in machine learning and inverse problems, regularization is the process of adding information in order to solve an ill-posed problem or to prevent overfitting.\n",
        "\n",
        "In order to improve the performance of the model, we use different regularization techniques. There are several techniques, but we will discuss 4 main techniques.\n",
        "\n",
        "1. L1 Regularization\n",
        "2. L2 Regularization\n",
        "3. Dropout\n",
        "4. Batch Normalization"
      ]
    },
    {
      "cell_type": "code",
      "metadata": {
        "id": "B2sivGc6v8Vn"
      },
      "source": [
        "#Basic pre-processing\n",
        "#we're importing the iris dataset from sklearn for our model\n",
        "from sklearn.datasets import load_iris\n",
        "from tensorflow.keras.models import Sequential\n",
        "from tensorflow.keras.utils import to_categorical\n",
        "from tensorflow.keras.layers import Dense\n",
        "from sklearn.preprocessing import StandardScaler\n",
        "from sklearn.model_selection import train_test_split\n",
        "iris = load_iris()\n",
        "X = iris.data\n",
        "y = iris.target\n",
        "y = to_categorical(y) #converting output to one-hot vector\n",
        "ss = StandardScaler() #standardizing the data\n",
        "X = ss.fit_transform(X)\n",
        "X_train, X_test, y_train, y_test = train_test_split(X,y, random_state=16)"
      ],
      "execution_count": 27,
      "outputs": []
    },
    {
      "cell_type": "code",
      "metadata": {
        "id": "ylhzQeqxv8Vn"
      },
      "source": [
        "#explore the data (X and y) however you like, (using info(), describe, graphs, etc.) and write any 4 lines on what you understood about the dataset\n",
        "\n",
        "#Solution can be anything\n",
        "# This data sets consists of 3 different types of irises’ (Setosa, Versicolour, and Virginica) petal and sepal length, stored in a 150x4 numpy.ndarray\n",
        "# The rows being the samples and the columns being: Sepal Length, Sepal Width, Petal Length and Petal Width."
      ],
      "execution_count": 28,
      "outputs": []
    },
    {
      "cell_type": "markdown",
      "metadata": {
        "id": "YFc2HbEVCaXd"
      },
      "source": [
        "And the model predicts a label as expected."
      ]
    },
    {
      "cell_type": "code",
      "metadata": {
        "id": "dnT26SZMv8Vn",
        "colab": {
          "base_uri": "https://localhost:8080/"
        },
        "outputId": "cd05b643-8fb7-4a59-f6eb-24c07f9601f3"
      },
      "source": [
        "#model building\n",
        "\n",
        "#run the code given below and observe the performance of this simple model having no regularization\n",
        "\n",
        "model1 = Sequential([\n",
        "    Dense(512, activation='tanh', input_shape = X_train[0].shape),\n",
        "    Dense(512//2, activation='tanh'),\n",
        "    Dense(512//4, activation='tanh'),\n",
        "    Dense(512//8, activation='tanh'),\n",
        "    Dense(32, activation='relu'),\n",
        "    Dense(3, activation='softmax')\n",
        "])\n",
        "print(model1.summary())\n",
        "model1.compile(optimizer='sgd',loss='categorical_crossentropy', metrics=['acc', 'mse'])\n",
        "\n",
        "hist1 = model1.fit(X_train, y_train, epochs=150, batch_size=128, validation_data=(X_test,y_test))\n"
      ],
      "execution_count": 29,
      "outputs": [
        {
          "output_type": "stream",
          "name": "stdout",
          "text": [
            "Model: \"sequential_2\"\n",
            "_________________________________________________________________\n",
            "Layer (type)                 Output Shape              Param #   \n",
            "=================================================================\n",
            "dense_2 (Dense)              (None, 512)               2560      \n",
            "_________________________________________________________________\n",
            "dense_3 (Dense)              (None, 256)               131328    \n",
            "_________________________________________________________________\n",
            "dense_4 (Dense)              (None, 128)               32896     \n",
            "_________________________________________________________________\n",
            "dense_5 (Dense)              (None, 64)                8256      \n",
            "_________________________________________________________________\n",
            "dense_6 (Dense)              (None, 32)                2080      \n",
            "_________________________________________________________________\n",
            "dense_7 (Dense)              (None, 3)                 99        \n",
            "=================================================================\n",
            "Total params: 177,219\n",
            "Trainable params: 177,219\n",
            "Non-trainable params: 0\n",
            "_________________________________________________________________\n",
            "None\n",
            "Epoch 1/150\n",
            "1/1 [==============================] - 1s 505ms/step - loss: 1.1960 - acc: 0.1071 - mse: 0.2428 - val_loss: 1.1139 - val_acc: 0.2632 - val_mse: 0.2258\n",
            "Epoch 2/150\n",
            "1/1 [==============================] - 0s 25ms/step - loss: 1.1147 - acc: 0.2143 - mse: 0.2259 - val_loss: 1.0574 - val_acc: 0.3947 - val_mse: 0.2133\n",
            "Epoch 3/150\n",
            "1/1 [==============================] - 0s 23ms/step - loss: 1.0440 - acc: 0.4464 - mse: 0.2102 - val_loss: 1.0138 - val_acc: 0.5789 - val_mse: 0.2033\n",
            "Epoch 4/150\n",
            "1/1 [==============================] - 0s 25ms/step - loss: 0.9866 - acc: 0.6964 - mse: 0.1968 - val_loss: 0.9797 - val_acc: 0.6053 - val_mse: 0.1953\n",
            "Epoch 5/150\n",
            "1/1 [==============================] - 0s 23ms/step - loss: 0.9424 - acc: 0.6964 - mse: 0.1863 - val_loss: 0.9521 - val_acc: 0.6579 - val_mse: 0.1888\n",
            "Epoch 6/150\n",
            "1/1 [==============================] - 0s 27ms/step - loss: 0.9065 - acc: 0.7054 - mse: 0.1777 - val_loss: 0.9281 - val_acc: 0.6316 - val_mse: 0.1832\n",
            "Epoch 7/150\n",
            "1/1 [==============================] - 0s 25ms/step - loss: 0.8753 - acc: 0.7054 - mse: 0.1702 - val_loss: 0.9063 - val_acc: 0.6316 - val_mse: 0.1780\n",
            "Epoch 8/150\n",
            "1/1 [==============================] - 0s 26ms/step - loss: 0.8476 - acc: 0.7054 - mse: 0.1635 - val_loss: 0.8860 - val_acc: 0.6316 - val_mse: 0.1733\n",
            "Epoch 9/150\n",
            "1/1 [==============================] - 0s 24ms/step - loss: 0.8222 - acc: 0.7143 - mse: 0.1574 - val_loss: 0.8677 - val_acc: 0.6579 - val_mse: 0.1690\n",
            "Epoch 10/150\n",
            "1/1 [==============================] - 0s 27ms/step - loss: 0.7994 - acc: 0.7500 - mse: 0.1520 - val_loss: 0.8511 - val_acc: 0.6579 - val_mse: 0.1652\n",
            "Epoch 11/150\n",
            "1/1 [==============================] - 0s 23ms/step - loss: 0.7786 - acc: 0.7500 - mse: 0.1470 - val_loss: 0.8363 - val_acc: 0.6579 - val_mse: 0.1619\n",
            "Epoch 12/150\n",
            "1/1 [==============================] - 0s 29ms/step - loss: 0.7597 - acc: 0.7500 - mse: 0.1426 - val_loss: 0.8226 - val_acc: 0.6579 - val_mse: 0.1589\n",
            "Epoch 13/150\n",
            "1/1 [==============================] - 0s 27ms/step - loss: 0.7421 - acc: 0.7589 - mse: 0.1385 - val_loss: 0.8098 - val_acc: 0.6579 - val_mse: 0.1561\n",
            "Epoch 14/150\n",
            "1/1 [==============================] - 0s 22ms/step - loss: 0.7257 - acc: 0.7679 - mse: 0.1348 - val_loss: 0.7977 - val_acc: 0.6579 - val_mse: 0.1535\n",
            "Epoch 15/150\n",
            "1/1 [==============================] - 0s 26ms/step - loss: 0.7102 - acc: 0.7679 - mse: 0.1312 - val_loss: 0.7860 - val_acc: 0.6579 - val_mse: 0.1510\n",
            "Epoch 16/150\n",
            "1/1 [==============================] - 0s 27ms/step - loss: 0.6954 - acc: 0.7768 - mse: 0.1279 - val_loss: 0.7750 - val_acc: 0.6579 - val_mse: 0.1487\n",
            "Epoch 17/150\n",
            "1/1 [==============================] - 0s 27ms/step - loss: 0.6814 - acc: 0.7857 - mse: 0.1248 - val_loss: 0.7646 - val_acc: 0.6579 - val_mse: 0.1466\n",
            "Epoch 18/150\n",
            "1/1 [==============================] - 0s 35ms/step - loss: 0.6681 - acc: 0.7857 - mse: 0.1219 - val_loss: 0.7548 - val_acc: 0.6579 - val_mse: 0.1446\n",
            "Epoch 19/150\n",
            "1/1 [==============================] - 0s 24ms/step - loss: 0.6556 - acc: 0.7946 - mse: 0.1192 - val_loss: 0.7453 - val_acc: 0.6842 - val_mse: 0.1427\n",
            "Epoch 20/150\n",
            "1/1 [==============================] - 0s 29ms/step - loss: 0.6439 - acc: 0.7946 - mse: 0.1167 - val_loss: 0.7364 - val_acc: 0.6842 - val_mse: 0.1410\n",
            "Epoch 21/150\n",
            "1/1 [==============================] - 0s 25ms/step - loss: 0.6329 - acc: 0.7946 - mse: 0.1144 - val_loss: 0.7281 - val_acc: 0.6842 - val_mse: 0.1394\n",
            "Epoch 22/150\n",
            "1/1 [==============================] - 0s 26ms/step - loss: 0.6226 - acc: 0.7946 - mse: 0.1123 - val_loss: 0.7200 - val_acc: 0.6842 - val_mse: 0.1379\n",
            "Epoch 23/150\n",
            "1/1 [==============================] - 0s 26ms/step - loss: 0.6128 - acc: 0.8036 - mse: 0.1103 - val_loss: 0.7124 - val_acc: 0.6842 - val_mse: 0.1365\n",
            "Epoch 24/150\n",
            "1/1 [==============================] - 0s 27ms/step - loss: 0.6035 - acc: 0.8036 - mse: 0.1084 - val_loss: 0.7052 - val_acc: 0.6842 - val_mse: 0.1352\n",
            "Epoch 25/150\n",
            "1/1 [==============================] - 0s 27ms/step - loss: 0.5947 - acc: 0.8125 - mse: 0.1067 - val_loss: 0.6982 - val_acc: 0.6842 - val_mse: 0.1339\n",
            "Epoch 26/150\n",
            "1/1 [==============================] - 0s 28ms/step - loss: 0.5863 - acc: 0.8125 - mse: 0.1050 - val_loss: 0.6915 - val_acc: 0.6842 - val_mse: 0.1327\n",
            "Epoch 27/150\n",
            "1/1 [==============================] - 0s 30ms/step - loss: 0.5784 - acc: 0.8125 - mse: 0.1035 - val_loss: 0.6850 - val_acc: 0.7105 - val_mse: 0.1316\n",
            "Epoch 28/150\n",
            "1/1 [==============================] - 0s 26ms/step - loss: 0.5708 - acc: 0.8125 - mse: 0.1020 - val_loss: 0.6788 - val_acc: 0.7105 - val_mse: 0.1305\n",
            "Epoch 29/150\n",
            "1/1 [==============================] - 0s 26ms/step - loss: 0.5635 - acc: 0.8125 - mse: 0.1006 - val_loss: 0.6728 - val_acc: 0.6842 - val_mse: 0.1295\n",
            "Epoch 30/150\n",
            "1/1 [==============================] - 0s 25ms/step - loss: 0.5565 - acc: 0.8125 - mse: 0.0993 - val_loss: 0.6669 - val_acc: 0.6842 - val_mse: 0.1285\n",
            "Epoch 31/150\n",
            "1/1 [==============================] - 0s 33ms/step - loss: 0.5497 - acc: 0.8125 - mse: 0.0980 - val_loss: 0.6611 - val_acc: 0.6842 - val_mse: 0.1275\n",
            "Epoch 32/150\n",
            "1/1 [==============================] - 0s 26ms/step - loss: 0.5432 - acc: 0.8125 - mse: 0.0968 - val_loss: 0.6555 - val_acc: 0.6842 - val_mse: 0.1266\n",
            "Epoch 33/150\n",
            "1/1 [==============================] - 0s 24ms/step - loss: 0.5369 - acc: 0.8125 - mse: 0.0956 - val_loss: 0.6499 - val_acc: 0.6842 - val_mse: 0.1256\n",
            "Epoch 34/150\n",
            "1/1 [==============================] - 0s 32ms/step - loss: 0.5307 - acc: 0.8125 - mse: 0.0945 - val_loss: 0.6445 - val_acc: 0.6842 - val_mse: 0.1247\n",
            "Epoch 35/150\n",
            "1/1 [==============================] - 0s 26ms/step - loss: 0.5247 - acc: 0.8125 - mse: 0.0934 - val_loss: 0.6392 - val_acc: 0.7105 - val_mse: 0.1238\n",
            "Epoch 36/150\n",
            "1/1 [==============================] - 0s 26ms/step - loss: 0.5190 - acc: 0.8125 - mse: 0.0923 - val_loss: 0.6339 - val_acc: 0.7105 - val_mse: 0.1229\n",
            "Epoch 37/150\n",
            "1/1 [==============================] - 0s 26ms/step - loss: 0.5134 - acc: 0.8125 - mse: 0.0913 - val_loss: 0.6288 - val_acc: 0.7105 - val_mse: 0.1221\n",
            "Epoch 38/150\n",
            "1/1 [==============================] - 0s 23ms/step - loss: 0.5079 - acc: 0.8125 - mse: 0.0903 - val_loss: 0.6237 - val_acc: 0.7105 - val_mse: 0.1212\n",
            "Epoch 39/150\n",
            "1/1 [==============================] - 0s 26ms/step - loss: 0.5026 - acc: 0.8125 - mse: 0.0894 - val_loss: 0.6187 - val_acc: 0.7105 - val_mse: 0.1204\n",
            "Epoch 40/150\n",
            "1/1 [==============================] - 0s 23ms/step - loss: 0.4973 - acc: 0.8214 - mse: 0.0884 - val_loss: 0.6138 - val_acc: 0.7105 - val_mse: 0.1196\n",
            "Epoch 41/150\n",
            "1/1 [==============================] - 0s 28ms/step - loss: 0.4922 - acc: 0.8304 - mse: 0.0875 - val_loss: 0.6090 - val_acc: 0.7105 - val_mse: 0.1188\n",
            "Epoch 42/150\n",
            "1/1 [==============================] - 0s 31ms/step - loss: 0.4872 - acc: 0.8304 - mse: 0.0866 - val_loss: 0.6043 - val_acc: 0.7105 - val_mse: 0.1180\n",
            "Epoch 43/150\n",
            "1/1 [==============================] - 0s 27ms/step - loss: 0.4823 - acc: 0.8304 - mse: 0.0857 - val_loss: 0.5998 - val_acc: 0.7105 - val_mse: 0.1173\n",
            "Epoch 44/150\n",
            "1/1 [==============================] - 0s 31ms/step - loss: 0.4775 - acc: 0.8304 - mse: 0.0849 - val_loss: 0.5954 - val_acc: 0.7105 - val_mse: 0.1165\n",
            "Epoch 45/150\n",
            "1/1 [==============================] - 0s 24ms/step - loss: 0.4729 - acc: 0.8393 - mse: 0.0840 - val_loss: 0.5910 - val_acc: 0.7105 - val_mse: 0.1158\n",
            "Epoch 46/150\n",
            "1/1 [==============================] - 0s 25ms/step - loss: 0.4684 - acc: 0.8393 - mse: 0.0832 - val_loss: 0.5868 - val_acc: 0.7105 - val_mse: 0.1151\n",
            "Epoch 47/150\n",
            "1/1 [==============================] - 0s 24ms/step - loss: 0.4639 - acc: 0.8393 - mse: 0.0824 - val_loss: 0.5827 - val_acc: 0.7105 - val_mse: 0.1144\n",
            "Epoch 48/150\n",
            "1/1 [==============================] - 0s 26ms/step - loss: 0.4596 - acc: 0.8393 - mse: 0.0816 - val_loss: 0.5786 - val_acc: 0.7105 - val_mse: 0.1137\n",
            "Epoch 49/150\n",
            "1/1 [==============================] - 0s 22ms/step - loss: 0.4554 - acc: 0.8482 - mse: 0.0809 - val_loss: 0.5746 - val_acc: 0.7368 - val_mse: 0.1131\n",
            "Epoch 50/150\n",
            "1/1 [==============================] - 0s 24ms/step - loss: 0.4512 - acc: 0.8482 - mse: 0.0801 - val_loss: 0.5707 - val_acc: 0.7368 - val_mse: 0.1124\n",
            "Epoch 51/150\n",
            "1/1 [==============================] - 0s 26ms/step - loss: 0.4471 - acc: 0.8482 - mse: 0.0794 - val_loss: 0.5667 - val_acc: 0.7368 - val_mse: 0.1118\n",
            "Epoch 52/150\n",
            "1/1 [==============================] - 0s 29ms/step - loss: 0.4431 - acc: 0.8482 - mse: 0.0787 - val_loss: 0.5629 - val_acc: 0.7368 - val_mse: 0.1111\n",
            "Epoch 53/150\n",
            "1/1 [==============================] - 0s 25ms/step - loss: 0.4392 - acc: 0.8482 - mse: 0.0780 - val_loss: 0.5591 - val_acc: 0.7368 - val_mse: 0.1105\n",
            "Epoch 54/150\n",
            "1/1 [==============================] - 0s 24ms/step - loss: 0.4354 - acc: 0.8482 - mse: 0.0773 - val_loss: 0.5554 - val_acc: 0.7368 - val_mse: 0.1098\n",
            "Epoch 55/150\n",
            "1/1 [==============================] - 0s 27ms/step - loss: 0.4317 - acc: 0.8482 - mse: 0.0766 - val_loss: 0.5518 - val_acc: 0.7368 - val_mse: 0.1092\n",
            "Epoch 56/150\n",
            "1/1 [==============================] - 0s 24ms/step - loss: 0.4281 - acc: 0.8571 - mse: 0.0759 - val_loss: 0.5483 - val_acc: 0.7368 - val_mse: 0.1086\n",
            "Epoch 57/150\n",
            "1/1 [==============================] - 0s 25ms/step - loss: 0.4245 - acc: 0.8571 - mse: 0.0753 - val_loss: 0.5448 - val_acc: 0.7368 - val_mse: 0.1080\n",
            "Epoch 58/150\n",
            "1/1 [==============================] - 0s 26ms/step - loss: 0.4211 - acc: 0.8571 - mse: 0.0746 - val_loss: 0.5414 - val_acc: 0.7368 - val_mse: 0.1074\n",
            "Epoch 59/150\n",
            "1/1 [==============================] - 0s 28ms/step - loss: 0.4177 - acc: 0.8571 - mse: 0.0740 - val_loss: 0.5380 - val_acc: 0.7368 - val_mse: 0.1069\n",
            "Epoch 60/150\n",
            "1/1 [==============================] - 0s 29ms/step - loss: 0.4143 - acc: 0.8571 - mse: 0.0734 - val_loss: 0.5347 - val_acc: 0.7368 - val_mse: 0.1063\n",
            "Epoch 61/150\n",
            "1/1 [==============================] - 0s 26ms/step - loss: 0.4111 - acc: 0.8571 - mse: 0.0728 - val_loss: 0.5314 - val_acc: 0.7368 - val_mse: 0.1057\n",
            "Epoch 62/150\n",
            "1/1 [==============================] - 0s 27ms/step - loss: 0.4079 - acc: 0.8661 - mse: 0.0722 - val_loss: 0.5282 - val_acc: 0.7368 - val_mse: 0.1052\n",
            "Epoch 63/150\n",
            "1/1 [==============================] - 0s 25ms/step - loss: 0.4047 - acc: 0.8661 - mse: 0.0716 - val_loss: 0.5250 - val_acc: 0.7368 - val_mse: 0.1046\n",
            "Epoch 64/150\n",
            "1/1 [==============================] - 0s 26ms/step - loss: 0.4016 - acc: 0.8661 - mse: 0.0710 - val_loss: 0.5219 - val_acc: 0.7105 - val_mse: 0.1041\n",
            "Epoch 65/150\n",
            "1/1 [==============================] - 0s 32ms/step - loss: 0.3986 - acc: 0.8661 - mse: 0.0704 - val_loss: 0.5188 - val_acc: 0.7368 - val_mse: 0.1035\n",
            "Epoch 66/150\n",
            "1/1 [==============================] - 0s 26ms/step - loss: 0.3956 - acc: 0.8661 - mse: 0.0698 - val_loss: 0.5157 - val_acc: 0.7368 - val_mse: 0.1030\n",
            "Epoch 67/150\n",
            "1/1 [==============================] - 0s 23ms/step - loss: 0.3926 - acc: 0.8661 - mse: 0.0693 - val_loss: 0.5127 - val_acc: 0.7368 - val_mse: 0.1024\n",
            "Epoch 68/150\n",
            "1/1 [==============================] - 0s 26ms/step - loss: 0.3897 - acc: 0.8661 - mse: 0.0687 - val_loss: 0.5097 - val_acc: 0.7368 - val_mse: 0.1019\n",
            "Epoch 69/150\n",
            "1/1 [==============================] - 0s 25ms/step - loss: 0.3869 - acc: 0.8661 - mse: 0.0682 - val_loss: 0.5068 - val_acc: 0.7368 - val_mse: 0.1014\n",
            "Epoch 70/150\n",
            "1/1 [==============================] - 0s 30ms/step - loss: 0.3841 - acc: 0.8661 - mse: 0.0676 - val_loss: 0.5040 - val_acc: 0.7632 - val_mse: 0.1009\n",
            "Epoch 71/150\n",
            "1/1 [==============================] - 0s 25ms/step - loss: 0.3813 - acc: 0.8661 - mse: 0.0671 - val_loss: 0.5011 - val_acc: 0.7632 - val_mse: 0.1004\n",
            "Epoch 72/150\n",
            "1/1 [==============================] - 0s 28ms/step - loss: 0.3786 - acc: 0.8661 - mse: 0.0666 - val_loss: 0.4984 - val_acc: 0.7632 - val_mse: 0.0999\n",
            "Epoch 73/150\n",
            "1/1 [==============================] - 0s 28ms/step - loss: 0.3759 - acc: 0.8661 - mse: 0.0661 - val_loss: 0.4956 - val_acc: 0.7632 - val_mse: 0.0994\n",
            "Epoch 74/150\n",
            "1/1 [==============================] - 0s 27ms/step - loss: 0.3732 - acc: 0.8661 - mse: 0.0656 - val_loss: 0.4928 - val_acc: 0.7632 - val_mse: 0.0989\n",
            "Epoch 75/150\n",
            "1/1 [==============================] - 0s 29ms/step - loss: 0.3706 - acc: 0.8661 - mse: 0.0650 - val_loss: 0.4901 - val_acc: 0.7632 - val_mse: 0.0984\n",
            "Epoch 76/150\n",
            "1/1 [==============================] - 0s 27ms/step - loss: 0.3680 - acc: 0.8750 - mse: 0.0645 - val_loss: 0.4875 - val_acc: 0.7632 - val_mse: 0.0979\n",
            "Epoch 77/150\n",
            "1/1 [==============================] - 0s 29ms/step - loss: 0.3654 - acc: 0.8750 - mse: 0.0640 - val_loss: 0.4849 - val_acc: 0.7632 - val_mse: 0.0975\n",
            "Epoch 78/150\n",
            "1/1 [==============================] - 0s 24ms/step - loss: 0.3629 - acc: 0.8750 - mse: 0.0636 - val_loss: 0.4823 - val_acc: 0.7632 - val_mse: 0.0970\n",
            "Epoch 79/150\n",
            "1/1 [==============================] - 0s 32ms/step - loss: 0.3604 - acc: 0.8750 - mse: 0.0631 - val_loss: 0.4797 - val_acc: 0.7632 - val_mse: 0.0965\n",
            "Epoch 80/150\n",
            "1/1 [==============================] - 0s 30ms/step - loss: 0.3579 - acc: 0.8750 - mse: 0.0626 - val_loss: 0.4772 - val_acc: 0.7632 - val_mse: 0.0961\n",
            "Epoch 81/150\n",
            "1/1 [==============================] - 0s 26ms/step - loss: 0.3555 - acc: 0.8750 - mse: 0.0621 - val_loss: 0.4747 - val_acc: 0.7632 - val_mse: 0.0956\n",
            "Epoch 82/150\n",
            "1/1 [==============================] - 0s 31ms/step - loss: 0.3531 - acc: 0.8750 - mse: 0.0616 - val_loss: 0.4723 - val_acc: 0.7632 - val_mse: 0.0952\n",
            "Epoch 83/150\n",
            "1/1 [==============================] - 0s 28ms/step - loss: 0.3507 - acc: 0.8750 - mse: 0.0612 - val_loss: 0.4699 - val_acc: 0.7632 - val_mse: 0.0948\n",
            "Epoch 84/150\n",
            "1/1 [==============================] - 0s 27ms/step - loss: 0.3484 - acc: 0.8750 - mse: 0.0607 - val_loss: 0.4675 - val_acc: 0.7632 - val_mse: 0.0943\n",
            "Epoch 85/150\n",
            "1/1 [==============================] - 0s 29ms/step - loss: 0.3461 - acc: 0.8750 - mse: 0.0603 - val_loss: 0.4651 - val_acc: 0.7632 - val_mse: 0.0939\n",
            "Epoch 86/150\n",
            "1/1 [==============================] - 0s 30ms/step - loss: 0.3438 - acc: 0.8839 - mse: 0.0598 - val_loss: 0.4628 - val_acc: 0.7632 - val_mse: 0.0935\n",
            "Epoch 87/150\n",
            "1/1 [==============================] - 0s 33ms/step - loss: 0.3415 - acc: 0.8839 - mse: 0.0594 - val_loss: 0.4605 - val_acc: 0.7632 - val_mse: 0.0931\n",
            "Epoch 88/150\n",
            "1/1 [==============================] - 0s 32ms/step - loss: 0.3393 - acc: 0.8929 - mse: 0.0589 - val_loss: 0.4583 - val_acc: 0.7632 - val_mse: 0.0927\n",
            "Epoch 89/150\n",
            "1/1 [==============================] - 0s 29ms/step - loss: 0.3371 - acc: 0.8929 - mse: 0.0585 - val_loss: 0.4560 - val_acc: 0.7632 - val_mse: 0.0923\n",
            "Epoch 90/150\n",
            "1/1 [==============================] - 0s 29ms/step - loss: 0.3349 - acc: 0.8929 - mse: 0.0581 - val_loss: 0.4538 - val_acc: 0.7632 - val_mse: 0.0919\n",
            "Epoch 91/150\n",
            "1/1 [==============================] - 0s 27ms/step - loss: 0.3328 - acc: 0.8929 - mse: 0.0577 - val_loss: 0.4516 - val_acc: 0.7632 - val_mse: 0.0915\n",
            "Epoch 92/150\n",
            "1/1 [==============================] - 0s 32ms/step - loss: 0.3306 - acc: 0.8929 - mse: 0.0572 - val_loss: 0.4495 - val_acc: 0.7632 - val_mse: 0.0911\n",
            "Epoch 93/150\n",
            "1/1 [==============================] - 0s 31ms/step - loss: 0.3285 - acc: 0.8929 - mse: 0.0568 - val_loss: 0.4473 - val_acc: 0.7632 - val_mse: 0.0907\n",
            "Epoch 94/150\n",
            "1/1 [==============================] - 0s 32ms/step - loss: 0.3264 - acc: 0.8929 - mse: 0.0564 - val_loss: 0.4452 - val_acc: 0.7632 - val_mse: 0.0903\n",
            "Epoch 95/150\n",
            "1/1 [==============================] - 0s 33ms/step - loss: 0.3244 - acc: 0.9018 - mse: 0.0560 - val_loss: 0.4431 - val_acc: 0.7632 - val_mse: 0.0899\n",
            "Epoch 96/150\n",
            "1/1 [==============================] - 0s 33ms/step - loss: 0.3223 - acc: 0.9018 - mse: 0.0556 - val_loss: 0.4410 - val_acc: 0.7632 - val_mse: 0.0895\n",
            "Epoch 97/150\n",
            "1/1 [==============================] - 0s 26ms/step - loss: 0.3203 - acc: 0.9018 - mse: 0.0552 - val_loss: 0.4390 - val_acc: 0.7632 - val_mse: 0.0892\n",
            "Epoch 98/150\n",
            "1/1 [==============================] - 0s 28ms/step - loss: 0.3183 - acc: 0.9018 - mse: 0.0548 - val_loss: 0.4369 - val_acc: 0.7632 - val_mse: 0.0888\n",
            "Epoch 99/150\n",
            "1/1 [==============================] - 0s 35ms/step - loss: 0.3163 - acc: 0.9018 - mse: 0.0544 - val_loss: 0.4349 - val_acc: 0.7632 - val_mse: 0.0884\n",
            "Epoch 100/150\n",
            "1/1 [==============================] - 0s 28ms/step - loss: 0.3143 - acc: 0.9018 - mse: 0.0540 - val_loss: 0.4329 - val_acc: 0.7632 - val_mse: 0.0881\n",
            "Epoch 101/150\n",
            "1/1 [==============================] - 0s 27ms/step - loss: 0.3124 - acc: 0.9018 - mse: 0.0536 - val_loss: 0.4310 - val_acc: 0.7632 - val_mse: 0.0877\n",
            "Epoch 102/150\n",
            "1/1 [==============================] - 0s 29ms/step - loss: 0.3105 - acc: 0.9018 - mse: 0.0533 - val_loss: 0.4291 - val_acc: 0.7632 - val_mse: 0.0874\n",
            "Epoch 103/150\n",
            "1/1 [==============================] - 0s 29ms/step - loss: 0.3086 - acc: 0.9018 - mse: 0.0529 - val_loss: 0.4272 - val_acc: 0.7632 - val_mse: 0.0870\n",
            "Epoch 104/150\n",
            "1/1 [==============================] - 0s 31ms/step - loss: 0.3067 - acc: 0.9018 - mse: 0.0525 - val_loss: 0.4253 - val_acc: 0.7632 - val_mse: 0.0867\n",
            "Epoch 105/150\n",
            "1/1 [==============================] - 0s 27ms/step - loss: 0.3049 - acc: 0.9018 - mse: 0.0522 - val_loss: 0.4234 - val_acc: 0.7632 - val_mse: 0.0863\n",
            "Epoch 106/150\n",
            "1/1 [==============================] - 0s 27ms/step - loss: 0.3030 - acc: 0.9018 - mse: 0.0518 - val_loss: 0.4216 - val_acc: 0.7895 - val_mse: 0.0860\n",
            "Epoch 107/150\n",
            "1/1 [==============================] - 0s 33ms/step - loss: 0.3012 - acc: 0.9018 - mse: 0.0514 - val_loss: 0.4198 - val_acc: 0.7895 - val_mse: 0.0857\n",
            "Epoch 108/150\n",
            "1/1 [==============================] - 0s 32ms/step - loss: 0.2994 - acc: 0.9018 - mse: 0.0511 - val_loss: 0.4179 - val_acc: 0.7895 - val_mse: 0.0853\n",
            "Epoch 109/150\n",
            "1/1 [==============================] - 0s 29ms/step - loss: 0.2976 - acc: 0.9018 - mse: 0.0507 - val_loss: 0.4162 - val_acc: 0.7895 - val_mse: 0.0850\n",
            "Epoch 110/150\n",
            "1/1 [==============================] - 0s 30ms/step - loss: 0.2958 - acc: 0.9018 - mse: 0.0504 - val_loss: 0.4144 - val_acc: 0.7895 - val_mse: 0.0847\n",
            "Epoch 111/150\n",
            "1/1 [==============================] - 0s 27ms/step - loss: 0.2941 - acc: 0.9018 - mse: 0.0500 - val_loss: 0.4126 - val_acc: 0.7895 - val_mse: 0.0844\n",
            "Epoch 112/150\n",
            "1/1 [==============================] - 0s 31ms/step - loss: 0.2924 - acc: 0.9018 - mse: 0.0497 - val_loss: 0.4109 - val_acc: 0.7895 - val_mse: 0.0840\n",
            "Epoch 113/150\n",
            "1/1 [==============================] - 0s 30ms/step - loss: 0.2906 - acc: 0.9196 - mse: 0.0494 - val_loss: 0.4091 - val_acc: 0.7895 - val_mse: 0.0837\n",
            "Epoch 114/150\n",
            "1/1 [==============================] - 0s 38ms/step - loss: 0.2889 - acc: 0.9286 - mse: 0.0490 - val_loss: 0.4074 - val_acc: 0.7895 - val_mse: 0.0834\n",
            "Epoch 115/150\n",
            "1/1 [==============================] - 0s 37ms/step - loss: 0.2872 - acc: 0.9286 - mse: 0.0487 - val_loss: 0.4057 - val_acc: 0.7895 - val_mse: 0.0831\n",
            "Epoch 116/150\n",
            "1/1 [==============================] - 0s 25ms/step - loss: 0.2856 - acc: 0.9375 - mse: 0.0484 - val_loss: 0.4040 - val_acc: 0.7895 - val_mse: 0.0828\n",
            "Epoch 117/150\n",
            "1/1 [==============================] - 0s 25ms/step - loss: 0.2839 - acc: 0.9375 - mse: 0.0480 - val_loss: 0.4024 - val_acc: 0.7895 - val_mse: 0.0825\n",
            "Epoch 118/150\n",
            "1/1 [==============================] - 0s 29ms/step - loss: 0.2823 - acc: 0.9375 - mse: 0.0477 - val_loss: 0.4007 - val_acc: 0.7895 - val_mse: 0.0821\n",
            "Epoch 119/150\n",
            "1/1 [==============================] - 0s 28ms/step - loss: 0.2807 - acc: 0.9375 - mse: 0.0474 - val_loss: 0.3990 - val_acc: 0.7895 - val_mse: 0.0818\n",
            "Epoch 120/150\n",
            "1/1 [==============================] - 0s 31ms/step - loss: 0.2790 - acc: 0.9375 - mse: 0.0471 - val_loss: 0.3974 - val_acc: 0.7895 - val_mse: 0.0815\n",
            "Epoch 121/150\n",
            "1/1 [==============================] - 0s 30ms/step - loss: 0.2774 - acc: 0.9375 - mse: 0.0468 - val_loss: 0.3958 - val_acc: 0.7895 - val_mse: 0.0812\n",
            "Epoch 122/150\n",
            "1/1 [==============================] - 0s 30ms/step - loss: 0.2759 - acc: 0.9375 - mse: 0.0465 - val_loss: 0.3942 - val_acc: 0.7895 - val_mse: 0.0809\n",
            "Epoch 123/150\n",
            "1/1 [==============================] - 0s 34ms/step - loss: 0.2743 - acc: 0.9375 - mse: 0.0461 - val_loss: 0.3926 - val_acc: 0.7895 - val_mse: 0.0806\n",
            "Epoch 124/150\n",
            "1/1 [==============================] - 0s 32ms/step - loss: 0.2727 - acc: 0.9375 - mse: 0.0458 - val_loss: 0.3910 - val_acc: 0.7895 - val_mse: 0.0803\n",
            "Epoch 125/150\n",
            "1/1 [==============================] - 0s 26ms/step - loss: 0.2712 - acc: 0.9375 - mse: 0.0455 - val_loss: 0.3895 - val_acc: 0.7895 - val_mse: 0.0800\n",
            "Epoch 126/150\n",
            "1/1 [==============================] - 0s 32ms/step - loss: 0.2697 - acc: 0.9375 - mse: 0.0452 - val_loss: 0.3879 - val_acc: 0.7895 - val_mse: 0.0798\n",
            "Epoch 127/150\n",
            "1/1 [==============================] - 0s 31ms/step - loss: 0.2681 - acc: 0.9375 - mse: 0.0449 - val_loss: 0.3864 - val_acc: 0.7895 - val_mse: 0.0795\n",
            "Epoch 128/150\n",
            "1/1 [==============================] - 0s 31ms/step - loss: 0.2666 - acc: 0.9375 - mse: 0.0446 - val_loss: 0.3849 - val_acc: 0.7895 - val_mse: 0.0792\n",
            "Epoch 129/150\n",
            "1/1 [==============================] - 0s 29ms/step - loss: 0.2652 - acc: 0.9375 - mse: 0.0444 - val_loss: 0.3834 - val_acc: 0.7895 - val_mse: 0.0789\n",
            "Epoch 130/150\n",
            "1/1 [==============================] - 0s 35ms/step - loss: 0.2637 - acc: 0.9375 - mse: 0.0441 - val_loss: 0.3819 - val_acc: 0.7895 - val_mse: 0.0786\n",
            "Epoch 131/150\n",
            "1/1 [==============================] - 0s 28ms/step - loss: 0.2622 - acc: 0.9375 - mse: 0.0438 - val_loss: 0.3804 - val_acc: 0.7895 - val_mse: 0.0784\n",
            "Epoch 132/150\n",
            "1/1 [==============================] - 0s 26ms/step - loss: 0.2608 - acc: 0.9375 - mse: 0.0435 - val_loss: 0.3789 - val_acc: 0.7632 - val_mse: 0.0781\n",
            "Epoch 133/150\n",
            "1/1 [==============================] - 0s 31ms/step - loss: 0.2593 - acc: 0.9375 - mse: 0.0432 - val_loss: 0.3775 - val_acc: 0.7632 - val_mse: 0.0778\n",
            "Epoch 134/150\n",
            "1/1 [==============================] - 0s 29ms/step - loss: 0.2579 - acc: 0.9375 - mse: 0.0429 - val_loss: 0.3760 - val_acc: 0.7632 - val_mse: 0.0775\n",
            "Epoch 135/150\n",
            "1/1 [==============================] - 0s 32ms/step - loss: 0.2565 - acc: 0.9375 - mse: 0.0427 - val_loss: 0.3746 - val_acc: 0.7632 - val_mse: 0.0772\n",
            "Epoch 136/150\n",
            "1/1 [==============================] - 0s 27ms/step - loss: 0.2551 - acc: 0.9375 - mse: 0.0424 - val_loss: 0.3731 - val_acc: 0.7632 - val_mse: 0.0770\n",
            "Epoch 137/150\n",
            "1/1 [==============================] - 0s 44ms/step - loss: 0.2537 - acc: 0.9375 - mse: 0.0421 - val_loss: 0.3717 - val_acc: 0.7632 - val_mse: 0.0767\n",
            "Epoch 138/150\n",
            "1/1 [==============================] - 0s 28ms/step - loss: 0.2523 - acc: 0.9375 - mse: 0.0418 - val_loss: 0.3703 - val_acc: 0.7632 - val_mse: 0.0764\n",
            "Epoch 139/150\n",
            "1/1 [==============================] - 0s 26ms/step - loss: 0.2509 - acc: 0.9375 - mse: 0.0416 - val_loss: 0.3689 - val_acc: 0.7632 - val_mse: 0.0762\n",
            "Epoch 140/150\n",
            "1/1 [==============================] - 0s 26ms/step - loss: 0.2496 - acc: 0.9375 - mse: 0.0413 - val_loss: 0.3675 - val_acc: 0.7895 - val_mse: 0.0759\n",
            "Epoch 141/150\n",
            "1/1 [==============================] - 0s 35ms/step - loss: 0.2482 - acc: 0.9375 - mse: 0.0410 - val_loss: 0.3661 - val_acc: 0.7895 - val_mse: 0.0756\n",
            "Epoch 142/150\n",
            "1/1 [==============================] - 0s 29ms/step - loss: 0.2469 - acc: 0.9375 - mse: 0.0408 - val_loss: 0.3648 - val_acc: 0.7895 - val_mse: 0.0754\n",
            "Epoch 143/150\n",
            "1/1 [==============================] - 0s 28ms/step - loss: 0.2456 - acc: 0.9375 - mse: 0.0405 - val_loss: 0.3634 - val_acc: 0.7895 - val_mse: 0.0751\n",
            "Epoch 144/150\n",
            "1/1 [==============================] - 0s 29ms/step - loss: 0.2442 - acc: 0.9375 - mse: 0.0403 - val_loss: 0.3620 - val_acc: 0.7895 - val_mse: 0.0748\n",
            "Epoch 145/150\n",
            "1/1 [==============================] - 0s 30ms/step - loss: 0.2429 - acc: 0.9375 - mse: 0.0400 - val_loss: 0.3607 - val_acc: 0.7895 - val_mse: 0.0746\n",
            "Epoch 146/150\n",
            "1/1 [==============================] - 0s 29ms/step - loss: 0.2416 - acc: 0.9375 - mse: 0.0398 - val_loss: 0.3593 - val_acc: 0.7895 - val_mse: 0.0743\n",
            "Epoch 147/150\n",
            "1/1 [==============================] - 0s 28ms/step - loss: 0.2404 - acc: 0.9375 - mse: 0.0395 - val_loss: 0.3580 - val_acc: 0.7895 - val_mse: 0.0740\n",
            "Epoch 148/150\n",
            "1/1 [==============================] - 0s 30ms/step - loss: 0.2391 - acc: 0.9375 - mse: 0.0393 - val_loss: 0.3566 - val_acc: 0.7895 - val_mse: 0.0738\n",
            "Epoch 149/150\n",
            "1/1 [==============================] - 0s 31ms/step - loss: 0.2378 - acc: 0.9375 - mse: 0.0390 - val_loss: 0.3553 - val_acc: 0.7895 - val_mse: 0.0735\n",
            "Epoch 150/150\n",
            "1/1 [==============================] - 0s 30ms/step - loss: 0.2366 - acc: 0.9375 - mse: 0.0388 - val_loss: 0.3540 - val_acc: 0.7895 - val_mse: 0.0733\n"
          ]
        }
      ]
    },
    {
      "cell_type": "code",
      "metadata": {
        "id": "GfbepR8Bv8Vn",
        "colab": {
          "base_uri": "https://localhost:8080/"
        },
        "outputId": "ad9a6056-c203-47e5-d212-ac0ed1380ef0"
      },
      "source": [
        "#After training the model, evaluate the model and find the  loss, accuracy and mse on the test set using the evaluate() function\n",
        "#print the loss, accuracy and MSE\n",
        "print(model1.evaluate(X_test,y_test,verbose=2))"
      ],
      "execution_count": 30,
      "outputs": [
        {
          "output_type": "stream",
          "name": "stdout",
          "text": [
            "2/2 - 0s - loss: 0.3540 - acc: 0.7895 - mse: 0.0733\n",
            "[0.35399162769317627, 0.7894737124443054, 0.07325588166713715]\n"
          ]
        }
      ]
    },
    {
      "cell_type": "code",
      "metadata": {
        "id": "Llsj41MDv8Vn",
        "colab": {
          "base_uri": "https://localhost:8080/",
          "height": 581
        },
        "outputId": "57d8a8d3-edeb-415d-f6ad-af86c90a1a07"
      },
      "source": [
        "#Observe the plots for Validation Loss and Training Loss.\n",
        "\n",
        "import matplotlib.pyplot as plt\n",
        "plt.style.use('ggplot')\n",
        "plt.plot(hist1.history['loss'], label = 'loss')\n",
        "plt.plot(hist1.history['val_loss'], label='val loss')\n",
        "plt.title(\"Train Loss vs Val_Loss\")\n",
        "plt.xlabel(\"Epochs\")\n",
        "plt.ylabel(\"Loss\")\n",
        "plt.legend()\n",
        "plt.show()\n",
        "\n",
        "# we observe that validation loss is increasing as compared to training loss. \n",
        "# This increase in training loss shows that our model is overfitted.\n",
        "\n",
        "#similarly we plot for model accuracy \n",
        "plt.plot(hist1.history['acc'], label = 'train acc')\n",
        "plt.plot(hist1.history['val_acc'], label='val acc')\n",
        "plt.title(\"train acc vs Val_acc\")\n",
        "plt.xlabel(\"Epochs\")\n",
        "plt.ylabel(\"acc\")\n",
        "plt.legend()\n",
        "plt.show()\n",
        "\n",
        "#This again shows that validation accuracy is low as compared to training accuracy, which again shows signs of overfitting. \n"
      ],
      "execution_count": 31,
      "outputs": [
        {
          "output_type": "display_data",
          "data": {
            "image/png": "[encoded data removed]",
            "text/plain": [
              "<Figure size 432x288 with 1 Axes>"
            ]
          },
          "metadata": {}
        },
        {
          "output_type": "display_data",
          "data": {
            "image/png": "[encoded data removed]",
            "text/plain": [
              "<Figure size 432x288 with 1 Axes>"
            ]
          },
          "metadata": {}
        }
      ]
    },
    {
      "cell_type": "markdown",
      "metadata": {
        "id": "barHZIApv8Vo"
      },
      "source": [
        "\n",
        "\n",
        "## L1 Regularization:\n",
        " \n"
      ]
    },
    {
      "cell_type": "code",
      "metadata": {
        "id": "tG1DFjZlv8Vo",
        "colab": {
          "base_uri": "https://localhost:8080/"
        },
        "outputId": "3ecb7907-ba69-47f7-dd6c-cc6590580f19"
      },
      "source": [
        "#A commonly used Regularization technique is L1 regularization, also known as Lasso Regularization.\n",
        "\n",
        "#The main concept of L1 Regularization is that we have to penalize our weights by adding absolute values of weight in our loss function, multiplied by a regularization parameter lambda λ, where λ is manually tuned to be greater than 0.\n",
        "\n",
        "\n",
        "\n",
        "#to implement L1 regularization, create another model called model2 similar to model1, this time add an extra parameter kernel_regularizer, which we set it to ‘l1’ for L1 Regularization in the first Dense layer:\n",
        "model2 = Sequential([\n",
        "    Dense(512, activation='tanh', input_shape = X_train[0].shape,kernel_regularizer='l1'),\n",
        "    Dense(512//2, activation='tanh'),\n",
        "    Dense(512//4, activation='tanh'),\n",
        "    Dense(512//8, activation='tanh'),\n",
        "    Dense(32, activation='relu'),\n",
        "    Dense(3, activation='softmax')\n",
        "])\n",
        "print(model2.summary())"
      ],
      "execution_count": 32,
      "outputs": [
        {
          "output_type": "stream",
          "name": "stdout",
          "text": [
            "Model: \"sequential_3\"\n",
            "_________________________________________________________________\n",
            "Layer (type)                 Output Shape              Param #   \n",
            "=================================================================\n",
            "dense_8 (Dense)              (None, 512)               2560      \n",
            "_________________________________________________________________\n",
            "dense_9 (Dense)              (None, 256)               131328    \n",
            "_________________________________________________________________\n",
            "dense_10 (Dense)             (None, 128)               32896     \n",
            "_________________________________________________________________\n",
            "dense_11 (Dense)             (None, 64)                8256      \n",
            "_________________________________________________________________\n",
            "dense_12 (Dense)             (None, 32)                2080      \n",
            "_________________________________________________________________\n",
            "dense_13 (Dense)             (None, 3)                 99        \n",
            "=================================================================\n",
            "Total params: 177,219\n",
            "Trainable params: 177,219\n",
            "Non-trainable params: 0\n",
            "_________________________________________________________________\n",
            "None\n"
          ]
        }
      ]
    },
    {
      "cell_type": "code",
      "metadata": {
        "id": "WEgAmaDnv8Vp",
        "colab": {
          "base_uri": "https://localhost:8080/"
        },
        "outputId": "4cb60c1b-8f60-4bcf-f18a-6a1ba14228c2"
      },
      "source": [
        "\n",
        "#just how we used evaluate() in the basic model previously, use it again to find the loss, accuracy and MSE on the test set\n",
        "model2.compile(optimizer='sgd',loss='categorical_crossentropy', metrics=['acc', 'mse'])\n",
        "hist2 = model2.fit(X_train, y_train, epochs=150, batch_size=128, validation_data=(X_test,y_test))\n",
        "print(model2.evaluate(X_test,y_test,verbose=2))"
      ],
      "execution_count": 33,
      "outputs": [
        {
          "output_type": "stream",
          "name": "stdout",
          "text": [
            "Epoch 1/150\n",
            "1/1 [==============================] - 1s 512ms/step - loss: 2.1623 - acc: 0.6607 - mse: 0.2112 - val_loss: 2.1206 - val_acc: 0.6053 - val_mse: 0.2016\n",
            "Epoch 2/150\n",
            "1/1 [==============================] - 0s 29ms/step - loss: 2.1061 - acc: 0.6875 - mse: 0.1984 - val_loss: 2.0816 - val_acc: 0.6053 - val_mse: 0.1928\n",
            "Epoch 3/150\n",
            "1/1 [==============================] - 0s 30ms/step - loss: 2.0601 - acc: 0.6875 - mse: 0.1878 - val_loss: 2.0455 - val_acc: 0.6053 - val_mse: 0.1846\n",
            "Epoch 4/150\n",
            "1/1 [==============================] - 0s 26ms/step - loss: 2.0190 - acc: 0.6875 - mse: 0.1784 - val_loss: 2.0139 - val_acc: 0.6053 - val_mse: 0.1775\n",
            "Epoch 5/150\n",
            "1/1 [==============================] - 0s 26ms/step - loss: 1.9830 - acc: 0.6964 - mse: 0.1702 - val_loss: 1.9866 - val_acc: 0.6053 - val_mse: 0.1715\n",
            "Epoch 6/150\n",
            "1/1 [==============================] - 0s 24ms/step - loss: 1.9512 - acc: 0.7054 - mse: 0.1631 - val_loss: 1.9615 - val_acc: 0.6053 - val_mse: 0.1661\n",
            "Epoch 7/150\n",
            "1/1 [==============================] - 0s 30ms/step - loss: 1.9225 - acc: 0.7143 - mse: 0.1567 - val_loss: 1.9387 - val_acc: 0.6053 - val_mse: 0.1612\n",
            "Epoch 8/150\n",
            "1/1 [==============================] - 0s 27ms/step - loss: 1.8969 - acc: 0.7143 - mse: 0.1511 - val_loss: 1.9174 - val_acc: 0.6053 - val_mse: 0.1567\n",
            "Epoch 9/150\n",
            "1/1 [==============================] - 0s 24ms/step - loss: 1.8737 - acc: 0.7143 - mse: 0.1461 - val_loss: 1.8977 - val_acc: 0.6053 - val_mse: 0.1527\n",
            "Epoch 10/150\n",
            "1/1 [==============================] - 0s 27ms/step - loss: 1.8523 - acc: 0.7232 - mse: 0.1416 - val_loss: 1.8794 - val_acc: 0.6053 - val_mse: 0.1491\n",
            "Epoch 11/150\n",
            "1/1 [==============================] - 0s 50ms/step - loss: 1.8325 - acc: 0.7232 - mse: 0.1375 - val_loss: 1.8623 - val_acc: 0.6053 - val_mse: 0.1458\n",
            "Epoch 12/150\n",
            "1/1 [==============================] - 0s 23ms/step - loss: 1.8139 - acc: 0.7500 - mse: 0.1337 - val_loss: 1.8464 - val_acc: 0.6053 - val_mse: 0.1428\n",
            "Epoch 13/150\n",
            "1/1 [==============================] - 0s 23ms/step - loss: 1.7965 - acc: 0.7500 - mse: 0.1303 - val_loss: 1.8315 - val_acc: 0.6053 - val_mse: 0.1401\n",
            "Epoch 14/150\n",
            "1/1 [==============================] - 0s 28ms/step - loss: 1.7802 - acc: 0.7589 - mse: 0.1271 - val_loss: 1.8174 - val_acc: 0.6316 - val_mse: 0.1376\n",
            "Epoch 15/150\n",
            "1/1 [==============================] - 0s 24ms/step - loss: 1.7647 - acc: 0.7679 - mse: 0.1242 - val_loss: 1.8041 - val_acc: 0.6316 - val_mse: 0.1353\n",
            "Epoch 16/150\n",
            "1/1 [==============================] - 0s 27ms/step - loss: 1.7500 - acc: 0.7679 - mse: 0.1215 - val_loss: 1.7916 - val_acc: 0.6316 - val_mse: 0.1332\n",
            "Epoch 17/150\n",
            "1/1 [==============================] - 0s 25ms/step - loss: 1.7361 - acc: 0.7946 - mse: 0.1189 - val_loss: 1.7798 - val_acc: 0.6316 - val_mse: 0.1313\n",
            "Epoch 18/150\n",
            "1/1 [==============================] - 0s 21ms/step - loss: 1.7229 - acc: 0.7946 - mse: 0.1166 - val_loss: 1.7686 - val_acc: 0.6316 - val_mse: 0.1296\n",
            "Epoch 19/150\n",
            "1/1 [==============================] - 0s 26ms/step - loss: 1.7104 - acc: 0.7946 - mse: 0.1144 - val_loss: 1.7580 - val_acc: 0.6316 - val_mse: 0.1280\n",
            "Epoch 20/150\n",
            "1/1 [==============================] - 0s 26ms/step - loss: 1.6984 - acc: 0.7946 - mse: 0.1123 - val_loss: 1.7479 - val_acc: 0.6316 - val_mse: 0.1265\n",
            "Epoch 21/150\n",
            "1/1 [==============================] - 0s 24ms/step - loss: 1.6869 - acc: 0.7946 - mse: 0.1104 - val_loss: 1.7382 - val_acc: 0.6316 - val_mse: 0.1251\n",
            "Epoch 22/150\n",
            "1/1 [==============================] - 0s 25ms/step - loss: 1.6759 - acc: 0.8125 - mse: 0.1086 - val_loss: 1.7290 - val_acc: 0.6316 - val_mse: 0.1239\n",
            "Epoch 23/150\n",
            "1/1 [==============================] - 0s 25ms/step - loss: 1.6653 - acc: 0.8214 - mse: 0.1069 - val_loss: 1.7202 - val_acc: 0.6316 - val_mse: 0.1227\n",
            "Epoch 24/150\n",
            "1/1 [==============================] - 0s 26ms/step - loss: 1.6552 - acc: 0.8214 - mse: 0.1053 - val_loss: 1.7118 - val_acc: 0.6842 - val_mse: 0.1216\n",
            "Epoch 25/150\n",
            "1/1 [==============================] - 0s 24ms/step - loss: 1.6454 - acc: 0.8304 - mse: 0.1038 - val_loss: 1.7037 - val_acc: 0.6579 - val_mse: 0.1206\n",
            "Epoch 26/150\n",
            "1/1 [==============================] - 0s 27ms/step - loss: 1.6361 - acc: 0.8304 - mse: 0.1024 - val_loss: 1.6960 - val_acc: 0.6579 - val_mse: 0.1197\n",
            "Epoch 27/150\n",
            "1/1 [==============================] - 0s 47ms/step - loss: 1.6272 - acc: 0.8304 - mse: 0.1011 - val_loss: 1.6886 - val_acc: 0.6579 - val_mse: 0.1188\n",
            "Epoch 28/150\n",
            "1/1 [==============================] - 0s 30ms/step - loss: 1.6186 - acc: 0.8304 - mse: 0.0999 - val_loss: 1.6814 - val_acc: 0.7105 - val_mse: 0.1181\n",
            "Epoch 29/150\n",
            "1/1 [==============================] - 0s 28ms/step - loss: 1.6103 - acc: 0.8304 - mse: 0.0987 - val_loss: 1.6746 - val_acc: 0.7105 - val_mse: 0.1173\n",
            "Epoch 30/150\n",
            "1/1 [==============================] - 0s 26ms/step - loss: 1.6023 - acc: 0.8304 - mse: 0.0976 - val_loss: 1.6679 - val_acc: 0.7368 - val_mse: 0.1166\n",
            "Epoch 31/150\n",
            "1/1 [==============================] - 0s 26ms/step - loss: 1.5946 - acc: 0.8304 - mse: 0.0965 - val_loss: 1.6615 - val_acc: 0.7368 - val_mse: 0.1159\n",
            "Epoch 32/150\n",
            "1/1 [==============================] - 0s 28ms/step - loss: 1.5870 - acc: 0.8304 - mse: 0.0955 - val_loss: 1.6552 - val_acc: 0.7368 - val_mse: 0.1153\n",
            "Epoch 33/150\n",
            "1/1 [==============================] - 0s 29ms/step - loss: 1.5797 - acc: 0.8304 - mse: 0.0946 - val_loss: 1.6492 - val_acc: 0.7368 - val_mse: 0.1147\n",
            "Epoch 34/150\n",
            "1/1 [==============================] - 0s 33ms/step - loss: 1.5726 - acc: 0.8304 - mse: 0.0936 - val_loss: 1.6432 - val_acc: 0.7368 - val_mse: 0.1142\n",
            "Epoch 35/150\n",
            "1/1 [==============================] - 0s 33ms/step - loss: 1.5656 - acc: 0.8304 - mse: 0.0927 - val_loss: 1.6374 - val_acc: 0.7368 - val_mse: 0.1136\n",
            "Epoch 36/150\n",
            "1/1 [==============================] - 0s 28ms/step - loss: 1.5589 - acc: 0.8304 - mse: 0.0919 - val_loss: 1.6317 - val_acc: 0.7368 - val_mse: 0.1131\n",
            "Epoch 37/150\n",
            "1/1 [==============================] - 0s 32ms/step - loss: 1.5523 - acc: 0.8304 - mse: 0.0910 - val_loss: 1.6261 - val_acc: 0.7368 - val_mse: 0.1125\n",
            "Epoch 38/150\n",
            "1/1 [==============================] - 0s 32ms/step - loss: 1.5458 - acc: 0.8304 - mse: 0.0902 - val_loss: 1.6206 - val_acc: 0.7368 - val_mse: 0.1120\n",
            "Epoch 39/150\n",
            "1/1 [==============================] - 0s 25ms/step - loss: 1.5394 - acc: 0.8304 - mse: 0.0894 - val_loss: 1.6151 - val_acc: 0.7368 - val_mse: 0.1115\n",
            "Epoch 40/150\n",
            "1/1 [==============================] - 0s 25ms/step - loss: 1.5331 - acc: 0.8304 - mse: 0.0887 - val_loss: 1.6098 - val_acc: 0.7368 - val_mse: 0.1110\n",
            "Epoch 41/150\n",
            "1/1 [==============================] - 0s 34ms/step - loss: 1.5269 - acc: 0.8304 - mse: 0.0879 - val_loss: 1.6045 - val_acc: 0.7368 - val_mse: 0.1105\n",
            "Epoch 42/150\n",
            "1/1 [==============================] - 0s 41ms/step - loss: 1.5208 - acc: 0.8393 - mse: 0.0871 - val_loss: 1.5993 - val_acc: 0.7368 - val_mse: 0.1101\n",
            "Epoch 43/150\n",
            "1/1 [==============================] - 0s 30ms/step - loss: 1.5148 - acc: 0.8393 - mse: 0.0864 - val_loss: 1.5942 - val_acc: 0.7368 - val_mse: 0.1096\n",
            "Epoch 44/150\n",
            "1/1 [==============================] - 0s 29ms/step - loss: 1.5088 - acc: 0.8393 - mse: 0.0856 - val_loss: 1.5892 - val_acc: 0.7368 - val_mse: 0.1091\n",
            "Epoch 45/150\n",
            "1/1 [==============================] - 0s 38ms/step - loss: 1.5030 - acc: 0.8393 - mse: 0.0849 - val_loss: 1.5844 - val_acc: 0.7368 - val_mse: 0.1087\n",
            "Epoch 46/150\n",
            "1/1 [==============================] - 0s 39ms/step - loss: 1.4973 - acc: 0.8393 - mse: 0.0842 - val_loss: 1.5797 - val_acc: 0.7368 - val_mse: 0.1083\n",
            "Epoch 47/150\n",
            "1/1 [==============================] - 0s 29ms/step - loss: 1.4916 - acc: 0.8482 - mse: 0.0835 - val_loss: 1.5752 - val_acc: 0.7368 - val_mse: 0.1080\n",
            "Epoch 48/150\n",
            "1/1 [==============================] - 0s 26ms/step - loss: 1.4859 - acc: 0.8482 - mse: 0.0828 - val_loss: 1.5708 - val_acc: 0.7368 - val_mse: 0.1076\n",
            "Epoch 49/150\n",
            "1/1 [==============================] - 0s 29ms/step - loss: 1.4803 - acc: 0.8482 - mse: 0.0822 - val_loss: 1.5663 - val_acc: 0.7368 - val_mse: 0.1073\n",
            "Epoch 50/150\n",
            "1/1 [==============================] - 0s 27ms/step - loss: 1.4748 - acc: 0.8482 - mse: 0.0815 - val_loss: 1.5619 - val_acc: 0.7368 - val_mse: 0.1069\n",
            "Epoch 51/150\n",
            "1/1 [==============================] - 0s 30ms/step - loss: 1.4694 - acc: 0.8482 - mse: 0.0809 - val_loss: 1.5576 - val_acc: 0.7368 - val_mse: 0.1065\n",
            "Epoch 52/150\n",
            "1/1 [==============================] - 0s 25ms/step - loss: 1.4641 - acc: 0.8482 - mse: 0.0802 - val_loss: 1.5533 - val_acc: 0.7368 - val_mse: 0.1062\n",
            "Epoch 53/150\n",
            "1/1 [==============================] - 0s 32ms/step - loss: 1.4589 - acc: 0.8482 - mse: 0.0796 - val_loss: 1.5491 - val_acc: 0.7368 - val_mse: 0.1059\n",
            "Epoch 54/150\n",
            "1/1 [==============================] - 0s 27ms/step - loss: 1.4538 - acc: 0.8482 - mse: 0.0790 - val_loss: 1.5448 - val_acc: 0.7368 - val_mse: 0.1055\n",
            "Epoch 55/150\n",
            "1/1 [==============================] - 0s 26ms/step - loss: 1.4488 - acc: 0.8482 - mse: 0.0784 - val_loss: 1.5405 - val_acc: 0.7368 - val_mse: 0.1051\n",
            "Epoch 56/150\n",
            "1/1 [==============================] - 0s 34ms/step - loss: 1.4439 - acc: 0.8482 - mse: 0.0779 - val_loss: 1.5363 - val_acc: 0.7368 - val_mse: 0.1048\n",
            "Epoch 57/150\n",
            "1/1 [==============================] - 0s 23ms/step - loss: 1.4390 - acc: 0.8482 - mse: 0.0773 - val_loss: 1.5321 - val_acc: 0.7368 - val_mse: 0.1044\n",
            "Epoch 58/150\n",
            "1/1 [==============================] - 0s 25ms/step - loss: 1.4342 - acc: 0.8482 - mse: 0.0768 - val_loss: 1.5279 - val_acc: 0.7368 - val_mse: 0.1040\n",
            "Epoch 59/150\n",
            "1/1 [==============================] - 0s 29ms/step - loss: 1.4294 - acc: 0.8482 - mse: 0.0762 - val_loss: 1.5238 - val_acc: 0.7368 - val_mse: 0.1037\n",
            "Epoch 60/150\n",
            "1/1 [==============================] - 0s 33ms/step - loss: 1.4247 - acc: 0.8482 - mse: 0.0757 - val_loss: 1.5196 - val_acc: 0.7368 - val_mse: 0.1033\n",
            "Epoch 61/150\n",
            "1/1 [==============================] - 0s 32ms/step - loss: 1.4200 - acc: 0.8482 - mse: 0.0752 - val_loss: 1.5155 - val_acc: 0.7368 - val_mse: 0.1030\n",
            "Epoch 62/150\n",
            "1/1 [==============================] - 0s 29ms/step - loss: 1.4154 - acc: 0.8661 - mse: 0.0746 - val_loss: 1.5114 - val_acc: 0.7368 - val_mse: 0.1026\n",
            "Epoch 63/150\n",
            "1/1 [==============================] - 0s 37ms/step - loss: 1.4109 - acc: 0.8661 - mse: 0.0741 - val_loss: 1.5072 - val_acc: 0.7368 - val_mse: 0.1022\n",
            "Epoch 64/150\n",
            "1/1 [==============================] - 0s 25ms/step - loss: 1.4064 - acc: 0.8661 - mse: 0.0736 - val_loss: 1.5032 - val_acc: 0.7368 - val_mse: 0.1018\n",
            "Epoch 65/150\n",
            "1/1 [==============================] - 0s 31ms/step - loss: 1.4020 - acc: 0.8661 - mse: 0.0731 - val_loss: 1.4991 - val_acc: 0.7368 - val_mse: 0.1014\n",
            "Epoch 66/150\n",
            "1/1 [==============================] - 0s 30ms/step - loss: 1.3975 - acc: 0.8661 - mse: 0.0726 - val_loss: 1.4950 - val_acc: 0.7368 - val_mse: 0.1010\n",
            "Epoch 67/150\n",
            "1/1 [==============================] - 0s 37ms/step - loss: 1.3931 - acc: 0.8661 - mse: 0.0721 - val_loss: 1.4910 - val_acc: 0.7368 - val_mse: 0.1007\n",
            "Epoch 68/150\n",
            "1/1 [==============================] - 0s 27ms/step - loss: 1.3887 - acc: 0.8661 - mse: 0.0716 - val_loss: 1.4870 - val_acc: 0.7368 - val_mse: 0.1003\n",
            "Epoch 69/150\n",
            "1/1 [==============================] - 0s 28ms/step - loss: 1.3844 - acc: 0.8661 - mse: 0.0712 - val_loss: 1.4830 - val_acc: 0.7368 - val_mse: 0.0999\n",
            "Epoch 70/150\n",
            "1/1 [==============================] - 0s 24ms/step - loss: 1.3801 - acc: 0.8661 - mse: 0.0707 - val_loss: 1.4790 - val_acc: 0.7368 - val_mse: 0.0995\n",
            "Epoch 71/150\n",
            "1/1 [==============================] - 0s 30ms/step - loss: 1.3758 - acc: 0.8661 - mse: 0.0702 - val_loss: 1.4750 - val_acc: 0.7368 - val_mse: 0.0991\n",
            "Epoch 72/150\n",
            "1/1 [==============================] - 0s 26ms/step - loss: 1.3716 - acc: 0.8661 - mse: 0.0697 - val_loss: 1.4710 - val_acc: 0.7368 - val_mse: 0.0987\n",
            "Epoch 73/150\n",
            "1/1 [==============================] - 0s 30ms/step - loss: 1.3673 - acc: 0.8661 - mse: 0.0692 - val_loss: 1.4669 - val_acc: 0.7368 - val_mse: 0.0983\n",
            "Epoch 74/150\n",
            "1/1 [==============================] - 0s 33ms/step - loss: 1.3631 - acc: 0.8661 - mse: 0.0687 - val_loss: 1.4630 - val_acc: 0.7368 - val_mse: 0.0979\n",
            "Epoch 75/150\n",
            "1/1 [==============================] - 0s 36ms/step - loss: 1.3589 - acc: 0.8661 - mse: 0.0683 - val_loss: 1.4590 - val_acc: 0.7368 - val_mse: 0.0975\n",
            "Epoch 76/150\n",
            "1/1 [==============================] - 0s 24ms/step - loss: 1.3547 - acc: 0.8661 - mse: 0.0678 - val_loss: 1.4551 - val_acc: 0.7368 - val_mse: 0.0971\n",
            "Epoch 77/150\n",
            "1/1 [==============================] - 0s 29ms/step - loss: 1.3506 - acc: 0.8661 - mse: 0.0673 - val_loss: 1.4513 - val_acc: 0.7368 - val_mse: 0.0967\n",
            "Epoch 78/150\n",
            "1/1 [==============================] - 0s 26ms/step - loss: 1.3465 - acc: 0.8750 - mse: 0.0669 - val_loss: 1.4474 - val_acc: 0.7632 - val_mse: 0.0964\n",
            "Epoch 79/150\n",
            "1/1 [==============================] - 0s 27ms/step - loss: 1.3425 - acc: 0.8750 - mse: 0.0664 - val_loss: 1.4436 - val_acc: 0.7632 - val_mse: 0.0960\n",
            "Epoch 80/150\n",
            "1/1 [==============================] - 0s 31ms/step - loss: 1.3384 - acc: 0.8750 - mse: 0.0659 - val_loss: 1.4398 - val_acc: 0.7632 - val_mse: 0.0956\n",
            "Epoch 81/150\n",
            "1/1 [==============================] - 0s 24ms/step - loss: 1.3344 - acc: 0.8750 - mse: 0.0655 - val_loss: 1.4360 - val_acc: 0.7632 - val_mse: 0.0953\n",
            "Epoch 82/150\n",
            "1/1 [==============================] - 0s 38ms/step - loss: 1.3304 - acc: 0.8750 - mse: 0.0650 - val_loss: 1.4323 - val_acc: 0.7632 - val_mse: 0.0949\n",
            "Epoch 83/150\n",
            "1/1 [==============================] - 0s 32ms/step - loss: 1.3264 - acc: 0.8839 - mse: 0.0646 - val_loss: 1.4286 - val_acc: 0.7632 - val_mse: 0.0945\n",
            "Epoch 84/150\n",
            "1/1 [==============================] - 0s 29ms/step - loss: 1.3224 - acc: 0.8839 - mse: 0.0642 - val_loss: 1.4249 - val_acc: 0.7632 - val_mse: 0.0942\n",
            "Epoch 85/150\n",
            "1/1 [==============================] - 0s 34ms/step - loss: 1.3185 - acc: 0.8839 - mse: 0.0637 - val_loss: 1.4212 - val_acc: 0.7632 - val_mse: 0.0938\n",
            "Epoch 86/150\n",
            "1/1 [==============================] - 0s 27ms/step - loss: 1.3146 - acc: 0.8839 - mse: 0.0633 - val_loss: 1.4174 - val_acc: 0.7632 - val_mse: 0.0935\n",
            "Epoch 87/150\n",
            "1/1 [==============================] - 0s 26ms/step - loss: 1.3107 - acc: 0.8839 - mse: 0.0629 - val_loss: 1.4137 - val_acc: 0.7632 - val_mse: 0.0931\n",
            "Epoch 88/150\n",
            "1/1 [==============================] - 0s 24ms/step - loss: 1.3069 - acc: 0.8839 - mse: 0.0624 - val_loss: 1.4100 - val_acc: 0.7632 - val_mse: 0.0927\n",
            "Epoch 89/150\n",
            "1/1 [==============================] - 0s 29ms/step - loss: 1.3030 - acc: 0.8839 - mse: 0.0620 - val_loss: 1.4062 - val_acc: 0.7895 - val_mse: 0.0923\n",
            "Epoch 90/150\n",
            "1/1 [==============================] - 0s 34ms/step - loss: 1.2992 - acc: 0.8839 - mse: 0.0616 - val_loss: 1.4025 - val_acc: 0.7895 - val_mse: 0.0919\n",
            "Epoch 91/150\n",
            "1/1 [==============================] - 0s 31ms/step - loss: 1.2954 - acc: 0.8839 - mse: 0.0612 - val_loss: 1.3987 - val_acc: 0.7895 - val_mse: 0.0915\n",
            "Epoch 92/150\n",
            "1/1 [==============================] - 0s 32ms/step - loss: 1.2916 - acc: 0.8839 - mse: 0.0608 - val_loss: 1.3949 - val_acc: 0.7895 - val_mse: 0.0911\n",
            "Epoch 93/150\n",
            "1/1 [==============================] - 0s 29ms/step - loss: 1.2878 - acc: 0.8839 - mse: 0.0603 - val_loss: 1.3911 - val_acc: 0.7895 - val_mse: 0.0907\n",
            "Epoch 94/150\n",
            "1/1 [==============================] - 0s 27ms/step - loss: 1.2839 - acc: 0.8839 - mse: 0.0599 - val_loss: 1.3873 - val_acc: 0.7895 - val_mse: 0.0903\n",
            "Epoch 95/150\n",
            "1/1 [==============================] - 0s 31ms/step - loss: 1.2801 - acc: 0.8839 - mse: 0.0595 - val_loss: 1.3835 - val_acc: 0.7895 - val_mse: 0.0899\n",
            "Epoch 96/150\n",
            "1/1 [==============================] - 0s 26ms/step - loss: 1.2764 - acc: 0.8839 - mse: 0.0591 - val_loss: 1.3798 - val_acc: 0.7895 - val_mse: 0.0895\n",
            "Epoch 97/150\n",
            "1/1 [==============================] - 0s 35ms/step - loss: 1.2726 - acc: 0.8839 - mse: 0.0587 - val_loss: 1.3760 - val_acc: 0.7895 - val_mse: 0.0891\n",
            "Epoch 98/150\n",
            "1/1 [==============================] - 0s 30ms/step - loss: 1.2689 - acc: 0.8839 - mse: 0.0582 - val_loss: 1.3723 - val_acc: 0.7895 - val_mse: 0.0887\n",
            "Epoch 99/150\n",
            "1/1 [==============================] - 0s 33ms/step - loss: 1.2652 - acc: 0.8839 - mse: 0.0578 - val_loss: 1.3685 - val_acc: 0.7895 - val_mse: 0.0883\n",
            "Epoch 100/150\n",
            "1/1 [==============================] - 0s 25ms/step - loss: 1.2615 - acc: 0.8839 - mse: 0.0574 - val_loss: 1.3648 - val_acc: 0.7895 - val_mse: 0.0879\n",
            "Epoch 101/150\n",
            "1/1 [==============================] - 0s 30ms/step - loss: 1.2579 - acc: 0.8929 - mse: 0.0570 - val_loss: 1.3612 - val_acc: 0.7895 - val_mse: 0.0875\n",
            "Epoch 102/150\n",
            "1/1 [==============================] - 0s 38ms/step - loss: 1.2542 - acc: 0.8929 - mse: 0.0566 - val_loss: 1.3575 - val_acc: 0.7895 - val_mse: 0.0871\n",
            "Epoch 103/150\n",
            "1/1 [==============================] - 0s 28ms/step - loss: 1.2506 - acc: 0.8929 - mse: 0.0563 - val_loss: 1.3539 - val_acc: 0.7895 - val_mse: 0.0867\n",
            "Epoch 104/150\n",
            "1/1 [==============================] - 0s 27ms/step - loss: 1.2470 - acc: 0.8929 - mse: 0.0559 - val_loss: 1.3503 - val_acc: 0.7895 - val_mse: 0.0864\n",
            "Epoch 105/150\n",
            "1/1 [==============================] - 0s 28ms/step - loss: 1.2434 - acc: 0.9018 - mse: 0.0555 - val_loss: 1.3467 - val_acc: 0.7895 - val_mse: 0.0860\n",
            "Epoch 106/150\n",
            "1/1 [==============================] - 0s 27ms/step - loss: 1.2399 - acc: 0.9196 - mse: 0.0551 - val_loss: 1.3432 - val_acc: 0.7895 - val_mse: 0.0856\n",
            "Epoch 107/150\n",
            "1/1 [==============================] - 0s 27ms/step - loss: 1.2363 - acc: 0.9196 - mse: 0.0547 - val_loss: 1.3396 - val_acc: 0.7895 - val_mse: 0.0853\n",
            "Epoch 108/150\n",
            "1/1 [==============================] - 0s 30ms/step - loss: 1.2328 - acc: 0.9196 - mse: 0.0544 - val_loss: 1.3360 - val_acc: 0.7895 - val_mse: 0.0849\n",
            "Epoch 109/150\n",
            "1/1 [==============================] - 0s 34ms/step - loss: 1.2292 - acc: 0.9196 - mse: 0.0540 - val_loss: 1.3326 - val_acc: 0.8158 - val_mse: 0.0845\n",
            "Epoch 110/150\n",
            "1/1 [==============================] - 0s 27ms/step - loss: 1.2257 - acc: 0.9196 - mse: 0.0536 - val_loss: 1.3291 - val_acc: 0.8158 - val_mse: 0.0842\n",
            "Epoch 111/150\n",
            "1/1 [==============================] - 0s 26ms/step - loss: 1.2222 - acc: 0.9196 - mse: 0.0533 - val_loss: 1.3256 - val_acc: 0.7895 - val_mse: 0.0838\n",
            "Epoch 112/150\n",
            "1/1 [==============================] - 0s 25ms/step - loss: 1.2188 - acc: 0.9196 - mse: 0.0529 - val_loss: 1.3221 - val_acc: 0.7895 - val_mse: 0.0835\n",
            "Epoch 113/150\n",
            "1/1 [==============================] - 0s 28ms/step - loss: 1.2153 - acc: 0.9196 - mse: 0.0526 - val_loss: 1.3187 - val_acc: 0.7895 - val_mse: 0.0832\n",
            "Epoch 114/150\n",
            "1/1 [==============================] - 0s 32ms/step - loss: 1.2119 - acc: 0.9196 - mse: 0.0522 - val_loss: 1.3154 - val_acc: 0.7895 - val_mse: 0.0828\n",
            "Epoch 115/150\n",
            "1/1 [==============================] - 0s 29ms/step - loss: 1.2085 - acc: 0.9196 - mse: 0.0519 - val_loss: 1.3120 - val_acc: 0.7895 - val_mse: 0.0825\n",
            "Epoch 116/150\n",
            "1/1 [==============================] - 0s 34ms/step - loss: 1.2051 - acc: 0.9196 - mse: 0.0515 - val_loss: 1.3086 - val_acc: 0.7895 - val_mse: 0.0822\n",
            "Epoch 117/150\n",
            "1/1 [==============================] - 0s 33ms/step - loss: 1.2017 - acc: 0.9196 - mse: 0.0512 - val_loss: 1.3053 - val_acc: 0.7895 - val_mse: 0.0819\n",
            "Epoch 118/150\n",
            "1/1 [==============================] - 0s 27ms/step - loss: 1.1984 - acc: 0.9196 - mse: 0.0509 - val_loss: 1.3020 - val_acc: 0.7895 - val_mse: 0.0815\n",
            "Epoch 119/150\n",
            "1/1 [==============================] - 0s 32ms/step - loss: 1.1950 - acc: 0.9196 - mse: 0.0505 - val_loss: 1.2987 - val_acc: 0.7895 - val_mse: 0.0812\n",
            "Epoch 120/150\n",
            "1/1 [==============================] - 0s 30ms/step - loss: 1.1917 - acc: 0.9196 - mse: 0.0502 - val_loss: 1.2954 - val_acc: 0.7895 - val_mse: 0.0809\n",
            "Epoch 121/150\n",
            "1/1 [==============================] - 0s 28ms/step - loss: 1.1884 - acc: 0.9196 - mse: 0.0499 - val_loss: 1.2920 - val_acc: 0.7895 - val_mse: 0.0806\n",
            "Epoch 122/150\n",
            "1/1 [==============================] - 0s 32ms/step - loss: 1.1851 - acc: 0.9196 - mse: 0.0496 - val_loss: 1.2887 - val_acc: 0.7895 - val_mse: 0.0803\n",
            "Epoch 123/150\n",
            "1/1 [==============================] - 0s 28ms/step - loss: 1.1818 - acc: 0.9196 - mse: 0.0493 - val_loss: 1.2855 - val_acc: 0.7895 - val_mse: 0.0800\n",
            "Epoch 124/150\n",
            "1/1 [==============================] - 0s 35ms/step - loss: 1.1785 - acc: 0.9196 - mse: 0.0489 - val_loss: 1.2822 - val_acc: 0.7895 - val_mse: 0.0796\n",
            "Epoch 125/150\n",
            "1/1 [==============================] - 0s 26ms/step - loss: 1.1753 - acc: 0.9196 - mse: 0.0486 - val_loss: 1.2789 - val_acc: 0.7895 - val_mse: 0.0793\n",
            "Epoch 126/150\n",
            "1/1 [==============================] - 0s 27ms/step - loss: 1.1720 - acc: 0.9196 - mse: 0.0483 - val_loss: 1.2757 - val_acc: 0.7895 - val_mse: 0.0790\n",
            "Epoch 127/150\n",
            "1/1 [==============================] - 0s 30ms/step - loss: 1.1688 - acc: 0.9196 - mse: 0.0480 - val_loss: 1.2724 - val_acc: 0.7895 - val_mse: 0.0787\n",
            "Epoch 128/150\n",
            "1/1 [==============================] - 0s 35ms/step - loss: 1.1656 - acc: 0.9196 - mse: 0.0477 - val_loss: 1.2692 - val_acc: 0.7895 - val_mse: 0.0784\n",
            "Epoch 129/150\n",
            "1/1 [==============================] - 0s 28ms/step - loss: 1.1623 - acc: 0.9196 - mse: 0.0474 - val_loss: 1.2660 - val_acc: 0.7895 - val_mse: 0.0781\n",
            "Epoch 130/150\n",
            "1/1 [==============================] - 0s 26ms/step - loss: 1.1592 - acc: 0.9196 - mse: 0.0471 - val_loss: 1.2628 - val_acc: 0.7895 - val_mse: 0.0778\n",
            "Epoch 131/150\n",
            "1/1 [==============================] - 0s 29ms/step - loss: 1.1560 - acc: 0.9196 - mse: 0.0468 - val_loss: 1.2596 - val_acc: 0.7895 - val_mse: 0.0775\n",
            "Epoch 132/150\n",
            "1/1 [==============================] - 0s 29ms/step - loss: 1.1528 - acc: 0.9196 - mse: 0.0465 - val_loss: 1.2564 - val_acc: 0.7895 - val_mse: 0.0772\n",
            "Epoch 133/150\n",
            "1/1 [==============================] - 0s 32ms/step - loss: 1.1496 - acc: 0.9196 - mse: 0.0462 - val_loss: 1.2532 - val_acc: 0.7895 - val_mse: 0.0769\n",
            "Epoch 134/150\n",
            "1/1 [==============================] - 0s 25ms/step - loss: 1.1465 - acc: 0.9196 - mse: 0.0459 - val_loss: 1.2501 - val_acc: 0.7895 - val_mse: 0.0766\n",
            "Epoch 135/150\n",
            "1/1 [==============================] - 0s 25ms/step - loss: 1.1433 - acc: 0.9196 - mse: 0.0456 - val_loss: 1.2469 - val_acc: 0.7895 - val_mse: 0.0763\n",
            "Epoch 136/150\n",
            "1/1 [==============================] - 0s 24ms/step - loss: 1.1402 - acc: 0.9196 - mse: 0.0453 - val_loss: 1.2438 - val_acc: 0.7895 - val_mse: 0.0760\n",
            "Epoch 137/150\n",
            "1/1 [==============================] - 0s 24ms/step - loss: 1.1371 - acc: 0.9196 - mse: 0.0451 - val_loss: 1.2406 - val_acc: 0.7895 - val_mse: 0.0757\n",
            "Epoch 138/150\n",
            "1/1 [==============================] - 0s 28ms/step - loss: 1.1340 - acc: 0.9196 - mse: 0.0448 - val_loss: 1.2375 - val_acc: 0.7895 - val_mse: 0.0754\n",
            "Epoch 139/150\n",
            "1/1 [==============================] - 0s 25ms/step - loss: 1.1309 - acc: 0.9286 - mse: 0.0445 - val_loss: 1.2344 - val_acc: 0.7895 - val_mse: 0.0751\n",
            "Epoch 140/150\n",
            "1/1 [==============================] - 0s 26ms/step - loss: 1.1278 - acc: 0.9286 - mse: 0.0442 - val_loss: 1.2312 - val_acc: 0.7895 - val_mse: 0.0748\n",
            "Epoch 141/150\n",
            "1/1 [==============================] - 0s 32ms/step - loss: 1.1247 - acc: 0.9286 - mse: 0.0439 - val_loss: 1.2281 - val_acc: 0.7895 - val_mse: 0.0745\n",
            "Epoch 142/150\n",
            "1/1 [==============================] - 0s 26ms/step - loss: 1.1217 - acc: 0.9286 - mse: 0.0437 - val_loss: 1.2251 - val_acc: 0.7895 - val_mse: 0.0742\n",
            "Epoch 143/150\n",
            "1/1 [==============================] - 0s 29ms/step - loss: 1.1186 - acc: 0.9286 - mse: 0.0434 - val_loss: 1.2220 - val_acc: 0.7895 - val_mse: 0.0740\n",
            "Epoch 144/150\n",
            "1/1 [==============================] - 0s 27ms/step - loss: 1.1156 - acc: 0.9286 - mse: 0.0431 - val_loss: 1.2190 - val_acc: 0.7895 - val_mse: 0.0737\n",
            "Epoch 145/150\n",
            "1/1 [==============================] - 0s 33ms/step - loss: 1.1126 - acc: 0.9375 - mse: 0.0429 - val_loss: 1.2160 - val_acc: 0.7895 - val_mse: 0.0734\n",
            "Epoch 146/150\n",
            "1/1 [==============================] - 0s 32ms/step - loss: 1.1096 - acc: 0.9375 - mse: 0.0426 - val_loss: 1.2130 - val_acc: 0.7895 - val_mse: 0.0732\n",
            "Epoch 147/150\n",
            "1/1 [==============================] - 0s 26ms/step - loss: 1.1066 - acc: 0.9375 - mse: 0.0423 - val_loss: 1.2100 - val_acc: 0.7895 - val_mse: 0.0729\n",
            "Epoch 148/150\n",
            "1/1 [==============================] - 0s 29ms/step - loss: 1.1036 - acc: 0.9375 - mse: 0.0421 - val_loss: 1.2070 - val_acc: 0.7895 - val_mse: 0.0726\n",
            "Epoch 149/150\n",
            "1/1 [==============================] - 0s 28ms/step - loss: 1.1006 - acc: 0.9375 - mse: 0.0418 - val_loss: 1.2040 - val_acc: 0.8158 - val_mse: 0.0724\n",
            "Epoch 150/150\n",
            "1/1 [==============================] - 0s 27ms/step - loss: 1.0977 - acc: 0.9375 - mse: 0.0416 - val_loss: 1.2010 - val_acc: 0.8158 - val_mse: 0.0721\n",
            "2/2 - 0s - loss: 1.2010 - acc: 0.8158 - mse: 0.0721\n",
            "[1.2010493278503418, 0.8157894611358643, 0.07209275662899017]\n"
          ]
        }
      ]
    },
    {
      "cell_type": "code",
      "metadata": {
        "id": "bXx90Ciiv8Vp",
        "colab": {
          "base_uri": "https://localhost:8080/",
          "height": 581
        },
        "outputId": "87480750-dc61-43ba-eb00-787c521936f7"
      },
      "source": [
        "# Plot the train loss vs validation loss and train accuracy vs validation accuracy graphs just like we did before\n",
        "\n",
        "plt.style.use('ggplot')\n",
        "plt.plot(hist2.history['loss'], label = 'loss')\n",
        "plt.plot(hist2.history['val_loss'], label='val loss')\n",
        "plt.title(\"Train Loss vs Val_Loss\")\n",
        "plt.xlabel(\"Epochs\")\n",
        "plt.ylabel(\"Loss\")\n",
        "plt.legend()\n",
        "plt.show()\n",
        "\n",
        "plt.plot(hist2.history['acc'], label = 'train acc')\n",
        "plt.plot(hist2.history['val_acc'], label='val acc')\n",
        "plt.title(\"train acc vs Val_acc\")\n",
        "plt.xlabel(\"Epochs\")\n",
        "plt.ylabel(\"acc\")\n",
        "plt.legend()\n",
        "plt.show()\n"
      ],
      "execution_count": 34,
      "outputs": [
        {
          "output_type": "display_data",
          "data": {
            "image/png": "[encoded data removed]",
            "text/plain": [
              "<Figure size 432x288 with 1 Axes>"
            ]
          },
          "metadata": {}
        },
        {
          "output_type": "display_data",
          "data": {
            "image/png": "[encoded data removed]",
            "text/plain": [
              "<Figure size 432x288 with 1 Axes>"
            ]
          },
          "metadata": {}
        }
      ]
    },
    {
      "cell_type": "code",
      "metadata": {
        "id": "cu9JbQFwv8Vp",
        "colab": {
          "base_uri": "https://localhost:8080/"
        },
        "outputId": "9f02c2e3-008e-423c-a349-1fac8ba2425c"
      },
      "source": [
        "# create a new model model3, similar to model1 and model2 and add l1 in more layers to check if it improves the model or not.\n",
        "model3 = Sequential([\n",
        "    Dense(512, activation='tanh', input_shape = X_train[0].shape,kernel_regularizer='l1'),\n",
        "    Dense(512//2, activation='tanh',kernel_regularizer='l1'),\n",
        "    Dense(512//4, activation='tanh',kernel_regularizer='l1'),\n",
        "    Dense(512//8, activation='tanh',kernel_regularizer='l1'),\n",
        "    Dense(32, activation='relu',kernel_regularizer='l1'),\n",
        "    Dense(3, activation='softmax')\n",
        "])\n",
        "print(model3.summary())\n"
      ],
      "execution_count": 35,
      "outputs": [
        {
          "output_type": "stream",
          "name": "stdout",
          "text": [
            "Model: \"sequential_4\"\n",
            "_________________________________________________________________\n",
            "Layer (type)                 Output Shape              Param #   \n",
            "=================================================================\n",
            "dense_14 (Dense)             (None, 512)               2560      \n",
            "_________________________________________________________________\n",
            "dense_15 (Dense)             (None, 256)               131328    \n",
            "_________________________________________________________________\n",
            "dense_16 (Dense)             (None, 128)               32896     \n",
            "_________________________________________________________________\n",
            "dense_17 (Dense)             (None, 64)                8256      \n",
            "_________________________________________________________________\n",
            "dense_18 (Dense)             (None, 32)                2080      \n",
            "_________________________________________________________________\n",
            "dense_19 (Dense)             (None, 3)                 99        \n",
            "=================================================================\n",
            "Total params: 177,219\n",
            "Trainable params: 177,219\n",
            "Non-trainable params: 0\n",
            "_________________________________________________________________\n",
            "None\n"
          ]
        }
      ]
    },
    {
      "cell_type": "code",
      "metadata": {
        "id": "QA94oQtJv8Vp",
        "colab": {
          "base_uri": "https://localhost:8080/"
        },
        "outputId": "2634c77e-d9ef-492c-df07-e13d66091b34"
      },
      "source": [
        "#just how we used evaluate() in the basic model previously, use it again to find the loss, accuracy and MSE on the test set\n",
        "model3.compile(optimizer='sgd',loss='categorical_crossentropy', metrics=['acc', 'mse'])\n",
        "hist3 = model3.fit(X_train, y_train, epochs=150, batch_size=128, validation_data=(X_test,y_test))\n",
        "print(model3.evaluate(X_test,y_test,verbose=2))"
      ],
      "execution_count": 36,
      "outputs": [
        {
          "output_type": "stream",
          "name": "stdout",
          "text": [
            "Epoch 1/150\n",
            "1/1 [==============================] - 1s 582ms/step - loss: 90.3181 - acc: 0.4732 - mse: 0.2099 - val_loss: 90.1296 - val_acc: 0.5526 - val_mse: 0.2064\n",
            "Epoch 2/150\n",
            "1/1 [==============================] - 0s 25ms/step - loss: 90.1003 - acc: 0.6429 - mse: 0.1998 - val_loss: 89.9203 - val_acc: 0.6579 - val_mse: 0.1983\n",
            "Epoch 3/150\n",
            "1/1 [==============================] - 0s 26ms/step - loss: 89.8874 - acc: 0.8125 - mse: 0.1908 - val_loss: 89.7139 - val_acc: 0.7368 - val_mse: 0.1908\n",
            "Epoch 4/150\n",
            "1/1 [==============================] - 0s 24ms/step - loss: 89.6785 - acc: 0.8482 - mse: 0.1825 - val_loss: 89.5116 - val_acc: 0.7105 - val_mse: 0.1841\n",
            "Epoch 5/150\n",
            "1/1 [==============================] - 0s 31ms/step - loss: 89.4735 - acc: 0.8661 - mse: 0.1751 - val_loss: 89.3124 - val_acc: 0.7105 - val_mse: 0.1780\n",
            "Epoch 6/150\n",
            "1/1 [==============================] - 0s 26ms/step - loss: 89.2716 - acc: 0.8571 - mse: 0.1684 - val_loss: 89.1154 - val_acc: 0.7368 - val_mse: 0.1725\n",
            "Epoch 7/150\n",
            "1/1 [==============================] - 0s 27ms/step - loss: 89.0718 - acc: 0.8571 - mse: 0.1621 - val_loss: 88.9209 - val_acc: 0.7368 - val_mse: 0.1675\n",
            "Epoch 8/150\n",
            "1/1 [==============================] - 0s 32ms/step - loss: 88.8743 - acc: 0.8571 - mse: 0.1564 - val_loss: 88.7279 - val_acc: 0.7368 - val_mse: 0.1628\n",
            "Epoch 9/150\n",
            "1/1 [==============================] - 0s 27ms/step - loss: 88.6782 - acc: 0.8571 - mse: 0.1509 - val_loss: 88.5368 - val_acc: 0.7368 - val_mse: 0.1585\n",
            "Epoch 10/150\n",
            "1/1 [==============================] - 0s 26ms/step - loss: 88.4839 - acc: 0.8571 - mse: 0.1458 - val_loss: 88.3472 - val_acc: 0.7368 - val_mse: 0.1546\n",
            "Epoch 11/150\n",
            "1/1 [==============================] - 0s 47ms/step - loss: 88.2913 - acc: 0.8661 - mse: 0.1411 - val_loss: 88.1588 - val_acc: 0.7368 - val_mse: 0.1509\n",
            "Epoch 12/150\n",
            "1/1 [==============================] - 0s 24ms/step - loss: 88.0997 - acc: 0.8661 - mse: 0.1366 - val_loss: 87.9717 - val_acc: 0.7368 - val_mse: 0.1475\n",
            "Epoch 13/150\n",
            "1/1 [==============================] - 0s 28ms/step - loss: 87.9094 - acc: 0.8661 - mse: 0.1324 - val_loss: 87.7856 - val_acc: 0.7368 - val_mse: 0.1443\n",
            "Epoch 14/150\n",
            "1/1 [==============================] - 0s 24ms/step - loss: 87.7197 - acc: 0.8661 - mse: 0.1283 - val_loss: 87.6005 - val_acc: 0.7368 - val_mse: 0.1414\n",
            "Epoch 15/150\n",
            "1/1 [==============================] - 0s 26ms/step - loss: 87.5310 - acc: 0.8661 - mse: 0.1244 - val_loss: 87.4165 - val_acc: 0.7368 - val_mse: 0.1386\n",
            "Epoch 16/150\n",
            "1/1 [==============================] - 0s 25ms/step - loss: 87.3432 - acc: 0.8661 - mse: 0.1207 - val_loss: 87.2333 - val_acc: 0.7368 - val_mse: 0.1361\n",
            "Epoch 17/150\n",
            "1/1 [==============================] - 0s 26ms/step - loss: 87.1566 - acc: 0.8661 - mse: 0.1173 - val_loss: 87.0509 - val_acc: 0.7368 - val_mse: 0.1337\n",
            "Epoch 18/150\n",
            "1/1 [==============================] - 0s 27ms/step - loss: 86.9711 - acc: 0.8661 - mse: 0.1142 - val_loss: 86.8692 - val_acc: 0.7368 - val_mse: 0.1315\n",
            "Epoch 19/150\n",
            "1/1 [==============================] - 0s 24ms/step - loss: 86.7867 - acc: 0.8661 - mse: 0.1113 - val_loss: 86.6880 - val_acc: 0.7368 - val_mse: 0.1294\n",
            "Epoch 20/150\n",
            "1/1 [==============================] - 0s 26ms/step - loss: 86.6034 - acc: 0.8661 - mse: 0.1086 - val_loss: 86.5075 - val_acc: 0.7105 - val_mse: 0.1274\n",
            "Epoch 21/150\n",
            "1/1 [==============================] - 0s 26ms/step - loss: 86.4208 - acc: 0.8661 - mse: 0.1061 - val_loss: 86.3275 - val_acc: 0.7105 - val_mse: 0.1256\n",
            "Epoch 22/150\n",
            "1/1 [==============================] - 0s 30ms/step - loss: 86.2389 - acc: 0.8661 - mse: 0.1037 - val_loss: 86.1479 - val_acc: 0.7105 - val_mse: 0.1237\n",
            "Epoch 23/150\n",
            "1/1 [==============================] - 0s 30ms/step - loss: 86.0578 - acc: 0.8661 - mse: 0.1014 - val_loss: 85.9690 - val_acc: 0.7105 - val_mse: 0.1221\n",
            "Epoch 24/150\n",
            "1/1 [==============================] - 0s 29ms/step - loss: 85.8775 - acc: 0.8661 - mse: 0.0994 - val_loss: 85.7908 - val_acc: 0.7105 - val_mse: 0.1205\n",
            "Epoch 25/150\n",
            "1/1 [==============================] - 0s 27ms/step - loss: 85.6979 - acc: 0.8661 - mse: 0.0975 - val_loss: 85.6133 - val_acc: 0.7105 - val_mse: 0.1191\n",
            "Epoch 26/150\n",
            "1/1 [==============================] - 0s 32ms/step - loss: 85.5190 - acc: 0.8661 - mse: 0.0957 - val_loss: 85.4362 - val_acc: 0.7368 - val_mse: 0.1178\n",
            "Epoch 27/150\n",
            "1/1 [==============================] - 0s 24ms/step - loss: 85.3407 - acc: 0.8661 - mse: 0.0940 - val_loss: 85.2597 - val_acc: 0.7368 - val_mse: 0.1166\n",
            "Epoch 28/150\n",
            "1/1 [==============================] - 0s 30ms/step - loss: 85.1629 - acc: 0.8661 - mse: 0.0924 - val_loss: 85.0836 - val_acc: 0.7368 - val_mse: 0.1154\n",
            "Epoch 29/150\n",
            "1/1 [==============================] - 0s 33ms/step - loss: 84.9856 - acc: 0.8661 - mse: 0.0909 - val_loss: 84.9080 - val_acc: 0.7368 - val_mse: 0.1142\n",
            "Epoch 30/150\n",
            "1/1 [==============================] - 0s 30ms/step - loss: 84.8089 - acc: 0.8661 - mse: 0.0894 - val_loss: 84.7329 - val_acc: 0.7368 - val_mse: 0.1132\n",
            "Epoch 31/150\n",
            "1/1 [==============================] - 0s 27ms/step - loss: 84.6327 - acc: 0.8661 - mse: 0.0881 - val_loss: 84.5582 - val_acc: 0.7368 - val_mse: 0.1122\n",
            "Epoch 32/150\n",
            "1/1 [==============================] - 0s 29ms/step - loss: 84.4571 - acc: 0.8661 - mse: 0.0868 - val_loss: 84.3840 - val_acc: 0.7368 - val_mse: 0.1113\n",
            "Epoch 33/150\n",
            "1/1 [==============================] - 0s 30ms/step - loss: 84.2819 - acc: 0.8661 - mse: 0.0856 - val_loss: 84.2100 - val_acc: 0.7368 - val_mse: 0.1104\n",
            "Epoch 34/150\n",
            "1/1 [==============================] - 0s 29ms/step - loss: 84.1071 - acc: 0.8661 - mse: 0.0845 - val_loss: 84.0364 - val_acc: 0.7368 - val_mse: 0.1095\n",
            "Epoch 35/150\n",
            "1/1 [==============================] - 0s 43ms/step - loss: 83.9328 - acc: 0.8661 - mse: 0.0834 - val_loss: 83.8630 - val_acc: 0.7368 - val_mse: 0.1086\n",
            "Epoch 36/150\n",
            "1/1 [==============================] - 0s 29ms/step - loss: 83.7587 - acc: 0.8661 - mse: 0.0823 - val_loss: 83.6900 - val_acc: 0.7368 - val_mse: 0.1078\n",
            "Epoch 37/150\n",
            "1/1 [==============================] - 0s 31ms/step - loss: 83.5851 - acc: 0.8661 - mse: 0.0813 - val_loss: 83.5173 - val_acc: 0.7368 - val_mse: 0.1070\n",
            "Epoch 38/150\n",
            "1/1 [==============================] - 0s 36ms/step - loss: 83.4118 - acc: 0.8750 - mse: 0.0803 - val_loss: 83.3448 - val_acc: 0.7368 - val_mse: 0.1062\n",
            "Epoch 39/150\n",
            "1/1 [==============================] - 0s 63ms/step - loss: 83.2389 - acc: 0.8750 - mse: 0.0794 - val_loss: 83.1727 - val_acc: 0.7368 - val_mse: 0.1055\n",
            "Epoch 40/150\n",
            "1/1 [==============================] - 0s 27ms/step - loss: 83.0663 - acc: 0.8750 - mse: 0.0784 - val_loss: 83.0007 - val_acc: 0.7368 - val_mse: 0.1047\n",
            "Epoch 41/150\n",
            "1/1 [==============================] - 0s 27ms/step - loss: 82.8940 - acc: 0.8750 - mse: 0.0776 - val_loss: 82.8291 - val_acc: 0.7632 - val_mse: 0.1040\n",
            "Epoch 42/150\n",
            "1/1 [==============================] - 0s 31ms/step - loss: 82.7220 - acc: 0.8750 - mse: 0.0767 - val_loss: 82.6576 - val_acc: 0.7632 - val_mse: 0.1033\n",
            "Epoch 43/150\n",
            "1/1 [==============================] - 0s 27ms/step - loss: 82.5502 - acc: 0.8750 - mse: 0.0759 - val_loss: 82.4865 - val_acc: 0.7632 - val_mse: 0.1025\n",
            "Epoch 44/150\n",
            "1/1 [==============================] - 0s 37ms/step - loss: 82.3789 - acc: 0.8839 - mse: 0.0750 - val_loss: 82.3156 - val_acc: 0.7632 - val_mse: 0.1018\n",
            "Epoch 45/150\n",
            "1/1 [==============================] - 0s 27ms/step - loss: 82.2078 - acc: 0.8839 - mse: 0.0742 - val_loss: 82.1450 - val_acc: 0.7632 - val_mse: 0.1011\n",
            "Epoch 46/150\n",
            "1/1 [==============================] - 0s 30ms/step - loss: 82.0370 - acc: 0.8839 - mse: 0.0735 - val_loss: 81.9746 - val_acc: 0.7632 - val_mse: 0.1005\n",
            "Epoch 47/150\n",
            "1/1 [==============================] - 0s 47ms/step - loss: 81.8666 - acc: 0.8839 - mse: 0.0727 - val_loss: 81.8046 - val_acc: 0.7632 - val_mse: 0.0998\n",
            "Epoch 48/150\n",
            "1/1 [==============================] - 0s 27ms/step - loss: 81.6964 - acc: 0.8839 - mse: 0.0720 - val_loss: 81.6348 - val_acc: 0.7632 - val_mse: 0.0992\n",
            "Epoch 49/150\n",
            "1/1 [==============================] - 0s 24ms/step - loss: 81.5266 - acc: 0.8839 - mse: 0.0713 - val_loss: 81.4652 - val_acc: 0.7632 - val_mse: 0.0985\n",
            "Epoch 50/150\n",
            "1/1 [==============================] - 0s 24ms/step - loss: 81.3570 - acc: 0.8839 - mse: 0.0706 - val_loss: 81.2959 - val_acc: 0.7632 - val_mse: 0.0979\n",
            "Epoch 51/150\n",
            "1/1 [==============================] - 0s 35ms/step - loss: 81.1877 - acc: 0.8839 - mse: 0.0700 - val_loss: 81.1268 - val_acc: 0.7632 - val_mse: 0.0972\n",
            "Epoch 52/150\n",
            "1/1 [==============================] - 0s 26ms/step - loss: 81.0186 - acc: 0.8839 - mse: 0.0693 - val_loss: 80.9580 - val_acc: 0.7632 - val_mse: 0.0966\n",
            "Epoch 53/150\n",
            "1/1 [==============================] - 0s 28ms/step - loss: 80.8498 - acc: 0.8839 - mse: 0.0687 - val_loss: 80.7894 - val_acc: 0.7632 - val_mse: 0.0960\n",
            "Epoch 54/150\n",
            "1/1 [==============================] - 0s 32ms/step - loss: 80.6813 - acc: 0.8839 - mse: 0.0680 - val_loss: 80.6211 - val_acc: 0.7632 - val_mse: 0.0955\n",
            "Epoch 55/150\n",
            "1/1 [==============================] - 0s 29ms/step - loss: 80.5130 - acc: 0.8839 - mse: 0.0674 - val_loss: 80.4531 - val_acc: 0.7632 - val_mse: 0.0949\n",
            "Epoch 56/150\n",
            "1/1 [==============================] - 0s 28ms/step - loss: 80.3449 - acc: 0.8929 - mse: 0.0668 - val_loss: 80.2851 - val_acc: 0.7632 - val_mse: 0.0943\n",
            "Epoch 57/150\n",
            "1/1 [==============================] - 0s 30ms/step - loss: 80.1769 - acc: 0.9018 - mse: 0.0662 - val_loss: 80.1174 - val_acc: 0.7632 - val_mse: 0.0937\n",
            "Epoch 58/150\n",
            "1/1 [==============================] - 0s 34ms/step - loss: 80.0092 - acc: 0.9018 - mse: 0.0655 - val_loss: 79.9498 - val_acc: 0.7632 - val_mse: 0.0931\n",
            "Epoch 59/150\n",
            "1/1 [==============================] - 0s 27ms/step - loss: 79.8416 - acc: 0.9018 - mse: 0.0649 - val_loss: 79.7824 - val_acc: 0.7632 - val_mse: 0.0925\n",
            "Epoch 60/150\n",
            "1/1 [==============================] - 0s 36ms/step - loss: 79.6743 - acc: 0.9018 - mse: 0.0643 - val_loss: 79.6153 - val_acc: 0.7632 - val_mse: 0.0919\n",
            "Epoch 61/150\n",
            "1/1 [==============================] - 0s 32ms/step - loss: 79.5072 - acc: 0.9018 - mse: 0.0637 - val_loss: 79.4484 - val_acc: 0.7632 - val_mse: 0.0914\n",
            "Epoch 62/150\n",
            "1/1 [==============================] - 0s 27ms/step - loss: 79.3403 - acc: 0.9018 - mse: 0.0631 - val_loss: 79.2818 - val_acc: 0.7632 - val_mse: 0.0908\n",
            "Epoch 63/150\n",
            "1/1 [==============================] - 0s 28ms/step - loss: 79.1737 - acc: 0.9018 - mse: 0.0625 - val_loss: 79.1155 - val_acc: 0.7632 - val_mse: 0.0903\n",
            "Epoch 64/150\n",
            "1/1 [==============================] - 0s 32ms/step - loss: 79.0072 - acc: 0.9107 - mse: 0.0619 - val_loss: 78.9494 - val_acc: 0.7895 - val_mse: 0.0898\n",
            "Epoch 65/150\n",
            "1/1 [==============================] - 0s 34ms/step - loss: 78.8410 - acc: 0.9196 - mse: 0.0613 - val_loss: 78.7834 - val_acc: 0.7895 - val_mse: 0.0892\n",
            "Epoch 66/150\n",
            "1/1 [==============================] - 0s 29ms/step - loss: 78.6750 - acc: 0.9196 - mse: 0.0607 - val_loss: 78.6177 - val_acc: 0.7895 - val_mse: 0.0887\n",
            "Epoch 67/150\n",
            "1/1 [==============================] - 0s 41ms/step - loss: 78.5092 - acc: 0.9286 - mse: 0.0601 - val_loss: 78.4523 - val_acc: 0.7895 - val_mse: 0.0882\n",
            "Epoch 68/150\n",
            "1/1 [==============================] - 0s 25ms/step - loss: 78.3437 - acc: 0.9286 - mse: 0.0596 - val_loss: 78.2871 - val_acc: 0.7895 - val_mse: 0.0877\n",
            "Epoch 69/150\n",
            "1/1 [==============================] - 0s 24ms/step - loss: 78.1784 - acc: 0.9375 - mse: 0.0590 - val_loss: 78.1221 - val_acc: 0.7895 - val_mse: 0.0872\n",
            "Epoch 70/150\n",
            "1/1 [==============================] - 0s 35ms/step - loss: 78.0134 - acc: 0.9375 - mse: 0.0585 - val_loss: 77.9574 - val_acc: 0.7895 - val_mse: 0.0867\n",
            "Epoch 71/150\n",
            "1/1 [==============================] - 0s 29ms/step - loss: 77.8486 - acc: 0.9375 - mse: 0.0580 - val_loss: 77.7929 - val_acc: 0.7895 - val_mse: 0.0863\n",
            "Epoch 72/150\n",
            "1/1 [==============================] - 0s 27ms/step - loss: 77.6841 - acc: 0.9375 - mse: 0.0575 - val_loss: 77.6286 - val_acc: 0.7895 - val_mse: 0.0858\n",
            "Epoch 73/150\n",
            "1/1 [==============================] - 0s 23ms/step - loss: 77.5198 - acc: 0.9375 - mse: 0.0571 - val_loss: 77.4646 - val_acc: 0.7895 - val_mse: 0.0854\n",
            "Epoch 74/150\n",
            "1/1 [==============================] - 0s 30ms/step - loss: 77.3558 - acc: 0.9375 - mse: 0.0566 - val_loss: 77.3008 - val_acc: 0.7895 - val_mse: 0.0850\n",
            "Epoch 75/150\n",
            "1/1 [==============================] - 0s 30ms/step - loss: 77.1920 - acc: 0.9375 - mse: 0.0562 - val_loss: 77.1372 - val_acc: 0.7895 - val_mse: 0.0845\n",
            "Epoch 76/150\n",
            "1/1 [==============================] - 0s 28ms/step - loss: 77.0285 - acc: 0.9375 - mse: 0.0557 - val_loss: 76.9740 - val_acc: 0.7895 - val_mse: 0.0841\n",
            "Epoch 77/150\n",
            "1/1 [==============================] - 0s 33ms/step - loss: 76.8653 - acc: 0.9375 - mse: 0.0553 - val_loss: 76.8109 - val_acc: 0.7895 - val_mse: 0.0838\n",
            "Epoch 78/150\n",
            "1/1 [==============================] - 0s 32ms/step - loss: 76.7023 - acc: 0.9375 - mse: 0.0549 - val_loss: 76.6482 - val_acc: 0.7895 - val_mse: 0.0834\n",
            "Epoch 79/150\n",
            "1/1 [==============================] - 0s 32ms/step - loss: 76.5395 - acc: 0.9375 - mse: 0.0546 - val_loss: 76.4856 - val_acc: 0.7895 - val_mse: 0.0831\n",
            "Epoch 80/150\n",
            "1/1 [==============================] - 0s 36ms/step - loss: 76.3770 - acc: 0.9375 - mse: 0.0542 - val_loss: 76.3233 - val_acc: 0.7895 - val_mse: 0.0827\n",
            "Epoch 81/150\n",
            "1/1 [==============================] - 0s 33ms/step - loss: 76.2147 - acc: 0.9375 - mse: 0.0538 - val_loss: 76.1611 - val_acc: 0.8158 - val_mse: 0.0823\n",
            "Epoch 82/150\n",
            "1/1 [==============================] - 0s 25ms/step - loss: 76.0526 - acc: 0.9375 - mse: 0.0535 - val_loss: 75.9991 - val_acc: 0.8158 - val_mse: 0.0820\n",
            "Epoch 83/150\n",
            "1/1 [==============================] - 0s 25ms/step - loss: 75.8907 - acc: 0.9375 - mse: 0.0531 - val_loss: 75.8374 - val_acc: 0.8158 - val_mse: 0.0817\n",
            "Epoch 84/150\n",
            "1/1 [==============================] - 0s 28ms/step - loss: 75.7290 - acc: 0.9375 - mse: 0.0528 - val_loss: 75.6758 - val_acc: 0.8158 - val_mse: 0.0813\n",
            "Epoch 85/150\n",
            "1/1 [==============================] - 0s 31ms/step - loss: 75.5675 - acc: 0.9375 - mse: 0.0525 - val_loss: 75.5146 - val_acc: 0.8158 - val_mse: 0.0810\n",
            "Epoch 86/150\n",
            "1/1 [==============================] - 0s 36ms/step - loss: 75.4063 - acc: 0.9375 - mse: 0.0521 - val_loss: 75.3534 - val_acc: 0.8158 - val_mse: 0.0807\n",
            "Epoch 87/150\n",
            "1/1 [==============================] - 0s 32ms/step - loss: 75.2451 - acc: 0.9375 - mse: 0.0518 - val_loss: 75.1925 - val_acc: 0.8158 - val_mse: 0.0804\n",
            "Epoch 88/150\n",
            "1/1 [==============================] - 0s 28ms/step - loss: 75.0844 - acc: 0.9375 - mse: 0.0515 - val_loss: 75.0319 - val_acc: 0.8158 - val_mse: 0.0800\n",
            "Epoch 89/150\n",
            "1/1 [==============================] - 0s 32ms/step - loss: 74.9237 - acc: 0.9375 - mse: 0.0512 - val_loss: 74.8715 - val_acc: 0.8158 - val_mse: 0.0797\n",
            "Epoch 90/150\n",
            "1/1 [==============================] - 0s 28ms/step - loss: 74.7633 - acc: 0.9375 - mse: 0.0508 - val_loss: 74.7111 - val_acc: 0.8158 - val_mse: 0.0794\n",
            "Epoch 91/150\n",
            "1/1 [==============================] - 0s 27ms/step - loss: 74.6030 - acc: 0.9375 - mse: 0.0505 - val_loss: 74.5511 - val_acc: 0.8158 - val_mse: 0.0791\n",
            "Epoch 92/150\n",
            "1/1 [==============================] - 0s 31ms/step - loss: 74.4430 - acc: 0.9375 - mse: 0.0502 - val_loss: 74.3911 - val_acc: 0.8158 - val_mse: 0.0788\n",
            "Epoch 93/150\n",
            "1/1 [==============================] - 0s 32ms/step - loss: 74.2831 - acc: 0.9375 - mse: 0.0499 - val_loss: 74.2316 - val_acc: 0.8158 - val_mse: 0.0786\n",
            "Epoch 94/150\n",
            "1/1 [==============================] - 0s 32ms/step - loss: 74.1236 - acc: 0.9375 - mse: 0.0497 - val_loss: 74.0721 - val_acc: 0.8158 - val_mse: 0.0783\n",
            "Epoch 95/150\n",
            "1/1 [==============================] - 0s 32ms/step - loss: 73.9641 - acc: 0.9375 - mse: 0.0494 - val_loss: 73.9129 - val_acc: 0.8158 - val_mse: 0.0780\n",
            "Epoch 96/150\n",
            "1/1 [==============================] - 0s 38ms/step - loss: 73.8049 - acc: 0.9375 - mse: 0.0491 - val_loss: 73.7538 - val_acc: 0.8158 - val_mse: 0.0777\n",
            "Epoch 97/150\n",
            "1/1 [==============================] - 0s 27ms/step - loss: 73.6459 - acc: 0.9375 - mse: 0.0488 - val_loss: 73.5950 - val_acc: 0.8158 - val_mse: 0.0775\n",
            "Epoch 98/150\n",
            "1/1 [==============================] - 0s 28ms/step - loss: 73.4871 - acc: 0.9375 - mse: 0.0485 - val_loss: 73.4364 - val_acc: 0.8158 - val_mse: 0.0772\n",
            "Epoch 99/150\n",
            "1/1 [==============================] - 0s 27ms/step - loss: 73.3285 - acc: 0.9375 - mse: 0.0483 - val_loss: 73.2779 - val_acc: 0.8158 - val_mse: 0.0769\n",
            "Epoch 100/150\n",
            "1/1 [==============================] - 0s 45ms/step - loss: 73.1701 - acc: 0.9375 - mse: 0.0480 - val_loss: 73.1197 - val_acc: 0.8158 - val_mse: 0.0767\n",
            "Epoch 101/150\n",
            "1/1 [==============================] - 0s 26ms/step - loss: 73.0119 - acc: 0.9464 - mse: 0.0477 - val_loss: 72.9615 - val_acc: 0.8158 - val_mse: 0.0764\n",
            "Epoch 102/150\n",
            "1/1 [==============================] - 0s 33ms/step - loss: 72.8538 - acc: 0.9464 - mse: 0.0475 - val_loss: 72.8038 - val_acc: 0.8158 - val_mse: 0.0761\n",
            "Epoch 103/150\n",
            "1/1 [==============================] - 0s 28ms/step - loss: 72.6961 - acc: 0.9464 - mse: 0.0472 - val_loss: 72.6461 - val_acc: 0.8158 - val_mse: 0.0759\n",
            "Epoch 104/150\n",
            "1/1 [==============================] - 0s 27ms/step - loss: 72.5384 - acc: 0.9464 - mse: 0.0469 - val_loss: 72.4886 - val_acc: 0.8158 - val_mse: 0.0756\n",
            "Epoch 105/150\n",
            "1/1 [==============================] - 0s 26ms/step - loss: 72.3811 - acc: 0.9464 - mse: 0.0467 - val_loss: 72.3314 - val_acc: 0.8158 - val_mse: 0.0754\n",
            "Epoch 106/150\n",
            "1/1 [==============================] - 0s 27ms/step - loss: 72.2240 - acc: 0.9554 - mse: 0.0465 - val_loss: 72.1744 - val_acc: 0.8158 - val_mse: 0.0751\n",
            "Epoch 107/150\n",
            "1/1 [==============================] - 0s 28ms/step - loss: 72.0670 - acc: 0.9554 - mse: 0.0462 - val_loss: 72.0176 - val_acc: 0.8158 - val_mse: 0.0749\n",
            "Epoch 108/150\n",
            "1/1 [==============================] - 0s 27ms/step - loss: 71.9103 - acc: 0.9554 - mse: 0.0460 - val_loss: 71.8610 - val_acc: 0.8158 - val_mse: 0.0746\n",
            "Epoch 109/150\n",
            "1/1 [==============================] - 0s 30ms/step - loss: 71.7538 - acc: 0.9554 - mse: 0.0458 - val_loss: 71.7045 - val_acc: 0.8158 - val_mse: 0.0744\n",
            "Epoch 110/150\n",
            "1/1 [==============================] - 0s 35ms/step - loss: 71.5975 - acc: 0.9554 - mse: 0.0455 - val_loss: 71.5483 - val_acc: 0.8158 - val_mse: 0.0742\n",
            "Epoch 111/150\n",
            "1/1 [==============================] - 0s 30ms/step - loss: 71.4413 - acc: 0.9554 - mse: 0.0453 - val_loss: 71.3922 - val_acc: 0.8158 - val_mse: 0.0739\n",
            "Epoch 112/150\n",
            "1/1 [==============================] - 0s 24ms/step - loss: 71.2854 - acc: 0.9554 - mse: 0.0451 - val_loss: 71.2363 - val_acc: 0.8158 - val_mse: 0.0737\n",
            "Epoch 113/150\n",
            "1/1 [==============================] - 0s 24ms/step - loss: 71.1296 - acc: 0.9554 - mse: 0.0449 - val_loss: 71.0807 - val_acc: 0.8158 - val_mse: 0.0734\n",
            "Epoch 114/150\n",
            "1/1 [==============================] - 0s 31ms/step - loss: 70.9741 - acc: 0.9554 - mse: 0.0447 - val_loss: 70.9252 - val_acc: 0.8158 - val_mse: 0.0732\n",
            "Epoch 115/150\n",
            "1/1 [==============================] - 0s 25ms/step - loss: 70.8187 - acc: 0.9554 - mse: 0.0445 - val_loss: 70.7699 - val_acc: 0.8158 - val_mse: 0.0730\n",
            "Epoch 116/150\n",
            "1/1 [==============================] - 0s 28ms/step - loss: 70.6635 - acc: 0.9554 - mse: 0.0443 - val_loss: 70.6148 - val_acc: 0.8158 - val_mse: 0.0727\n",
            "Epoch 117/150\n",
            "1/1 [==============================] - 0s 27ms/step - loss: 70.5086 - acc: 0.9554 - mse: 0.0441 - val_loss: 70.4597 - val_acc: 0.8158 - val_mse: 0.0725\n",
            "Epoch 118/150\n",
            "1/1 [==============================] - 0s 29ms/step - loss: 70.3538 - acc: 0.9554 - mse: 0.0439 - val_loss: 70.3051 - val_acc: 0.8158 - val_mse: 0.0722\n",
            "Epoch 119/150\n",
            "1/1 [==============================] - 0s 27ms/step - loss: 70.1993 - acc: 0.9554 - mse: 0.0437 - val_loss: 70.1504 - val_acc: 0.8158 - val_mse: 0.0720\n",
            "Epoch 120/150\n",
            "1/1 [==============================] - 0s 26ms/step - loss: 70.0448 - acc: 0.9554 - mse: 0.0435 - val_loss: 69.9961 - val_acc: 0.8158 - val_mse: 0.0718\n",
            "Epoch 121/150\n",
            "1/1 [==============================] - 0s 27ms/step - loss: 69.8907 - acc: 0.9554 - mse: 0.0433 - val_loss: 69.8419 - val_acc: 0.8158 - val_mse: 0.0715\n",
            "Epoch 122/150\n",
            "1/1 [==============================] - 0s 29ms/step - loss: 69.7366 - acc: 0.9554 - mse: 0.0431 - val_loss: 69.6880 - val_acc: 0.8158 - val_mse: 0.0713\n",
            "Epoch 123/150\n",
            "1/1 [==============================] - 0s 37ms/step - loss: 69.5829 - acc: 0.9554 - mse: 0.0429 - val_loss: 69.5341 - val_acc: 0.8158 - val_mse: 0.0711\n",
            "Epoch 124/150\n",
            "1/1 [==============================] - 0s 30ms/step - loss: 69.4292 - acc: 0.9554 - mse: 0.0427 - val_loss: 69.3806 - val_acc: 0.8158 - val_mse: 0.0709\n",
            "Epoch 125/150\n",
            "1/1 [==============================] - 0s 24ms/step - loss: 69.2759 - acc: 0.9554 - mse: 0.0425 - val_loss: 69.2270 - val_acc: 0.8421 - val_mse: 0.0706\n",
            "Epoch 126/150\n",
            "1/1 [==============================] - 0s 37ms/step - loss: 69.1225 - acc: 0.9554 - mse: 0.0424 - val_loss: 69.0739 - val_acc: 0.8421 - val_mse: 0.0704\n",
            "Epoch 127/150\n",
            "1/1 [==============================] - 0s 23ms/step - loss: 68.9696 - acc: 0.9554 - mse: 0.0422 - val_loss: 68.9208 - val_acc: 0.8421 - val_mse: 0.0702\n",
            "Epoch 128/150\n",
            "1/1 [==============================] - 0s 34ms/step - loss: 68.8166 - acc: 0.9554 - mse: 0.0420 - val_loss: 68.7680 - val_acc: 0.8421 - val_mse: 0.0700\n",
            "Epoch 129/150\n",
            "1/1 [==============================] - 0s 25ms/step - loss: 68.6640 - acc: 0.9554 - mse: 0.0418 - val_loss: 68.6153 - val_acc: 0.8421 - val_mse: 0.0698\n",
            "Epoch 130/150\n",
            "1/1 [==============================] - 0s 27ms/step - loss: 68.5116 - acc: 0.9554 - mse: 0.0417 - val_loss: 68.4629 - val_acc: 0.8421 - val_mse: 0.0695\n",
            "Epoch 131/150\n",
            "1/1 [==============================] - 0s 26ms/step - loss: 68.3593 - acc: 0.9554 - mse: 0.0415 - val_loss: 68.3106 - val_acc: 0.8421 - val_mse: 0.0693\n",
            "Epoch 132/150\n",
            "1/1 [==============================] - 0s 24ms/step - loss: 68.2073 - acc: 0.9554 - mse: 0.0413 - val_loss: 68.1585 - val_acc: 0.8421 - val_mse: 0.0691\n",
            "Epoch 133/150\n",
            "1/1 [==============================] - 0s 30ms/step - loss: 68.0553 - acc: 0.9554 - mse: 0.0412 - val_loss: 68.0067 - val_acc: 0.8421 - val_mse: 0.0689\n",
            "Epoch 134/150\n",
            "1/1 [==============================] - 0s 27ms/step - loss: 67.9037 - acc: 0.9554 - mse: 0.0410 - val_loss: 67.8549 - val_acc: 0.8421 - val_mse: 0.0687\n",
            "Epoch 135/150\n",
            "1/1 [==============================] - 0s 26ms/step - loss: 67.7521 - acc: 0.9554 - mse: 0.0409 - val_loss: 67.7035 - val_acc: 0.8421 - val_mse: 0.0685\n",
            "Epoch 136/150\n",
            "1/1 [==============================] - 0s 31ms/step - loss: 67.6009 - acc: 0.9554 - mse: 0.0407 - val_loss: 67.5520 - val_acc: 0.8421 - val_mse: 0.0683\n",
            "Epoch 137/150\n",
            "1/1 [==============================] - 0s 31ms/step - loss: 67.4496 - acc: 0.9554 - mse: 0.0405 - val_loss: 67.4009 - val_acc: 0.8421 - val_mse: 0.0681\n",
            "Epoch 138/150\n",
            "1/1 [==============================] - 0s 25ms/step - loss: 67.2988 - acc: 0.9554 - mse: 0.0404 - val_loss: 67.2498 - val_acc: 0.8421 - val_mse: 0.0679\n",
            "Epoch 139/150\n",
            "1/1 [==============================] - 0s 30ms/step - loss: 67.1479 - acc: 0.9554 - mse: 0.0402 - val_loss: 67.0991 - val_acc: 0.8421 - val_mse: 0.0677\n",
            "Epoch 140/150\n",
            "1/1 [==============================] - 0s 28ms/step - loss: 66.9974 - acc: 0.9554 - mse: 0.0401 - val_loss: 66.9485 - val_acc: 0.8684 - val_mse: 0.0675\n",
            "Epoch 141/150\n",
            "1/1 [==============================] - 0s 32ms/step - loss: 66.8470 - acc: 0.9554 - mse: 0.0399 - val_loss: 66.7981 - val_acc: 0.8684 - val_mse: 0.0673\n",
            "Epoch 142/150\n",
            "1/1 [==============================] - 0s 28ms/step - loss: 66.6969 - acc: 0.9554 - mse: 0.0398 - val_loss: 66.6479 - val_acc: 0.8684 - val_mse: 0.0671\n",
            "Epoch 143/150\n",
            "1/1 [==============================] - 0s 47ms/step - loss: 66.5468 - acc: 0.9554 - mse: 0.0397 - val_loss: 66.4978 - val_acc: 0.8684 - val_mse: 0.0669\n",
            "Epoch 144/150\n",
            "1/1 [==============================] - 0s 28ms/step - loss: 66.3970 - acc: 0.9554 - mse: 0.0395 - val_loss: 66.3480 - val_acc: 0.8684 - val_mse: 0.0667\n",
            "Epoch 145/150\n",
            "1/1 [==============================] - 0s 31ms/step - loss: 66.2474 - acc: 0.9554 - mse: 0.0394 - val_loss: 66.1983 - val_acc: 0.8684 - val_mse: 0.0665\n",
            "Epoch 146/150\n",
            "1/1 [==============================] - 0s 33ms/step - loss: 66.0979 - acc: 0.9554 - mse: 0.0392 - val_loss: 66.0490 - val_acc: 0.8684 - val_mse: 0.0663\n",
            "Epoch 147/150\n",
            "1/1 [==============================] - 0s 25ms/step - loss: 65.9488 - acc: 0.9554 - mse: 0.0391 - val_loss: 65.8997 - val_acc: 0.8684 - val_mse: 0.0661\n",
            "Epoch 148/150\n",
            "1/1 [==============================] - 0s 46ms/step - loss: 65.7997 - acc: 0.9554 - mse: 0.0390 - val_loss: 65.7507 - val_acc: 0.8684 - val_mse: 0.0659\n",
            "Epoch 149/150\n",
            "1/1 [==============================] - 0s 22ms/step - loss: 65.6509 - acc: 0.9554 - mse: 0.0388 - val_loss: 65.6018 - val_acc: 0.8684 - val_mse: 0.0657\n",
            "Epoch 150/150\n",
            "1/1 [==============================] - 0s 34ms/step - loss: 65.5023 - acc: 0.9554 - mse: 0.0387 - val_loss: 65.4533 - val_acc: 0.8684 - val_mse: 0.0655\n",
            "2/2 - 0s - loss: 65.4533 - acc: 0.8684 - mse: 0.0655\n",
            "[65.45325469970703, 0.8684210777282715, 0.06553540378808975]\n"
          ]
        }
      ]
    },
    {
      "cell_type": "code",
      "metadata": {
        "id": "9JsHKp-Vv8Vp",
        "colab": {
          "base_uri": "https://localhost:8080/",
          "height": 581
        },
        "outputId": "57787d42-48df-4ca8-ad01-e1b8fdcdb99e"
      },
      "source": [
        "# Plot the train loss vs validation loss and train accuracy vs validation accuracy graphs just like we did before\n",
        "plt.style.use('ggplot')\n",
        "plt.plot(hist3.history['loss'], label = 'loss')\n",
        "plt.plot(hist3.history['val_loss'], label='val loss')\n",
        "plt.title(\"Train Loss vs Val_Loss\")\n",
        "plt.xlabel(\"Epochs\")\n",
        "plt.ylabel(\"Loss\")\n",
        "plt.legend()\n",
        "plt.show()\n",
        "\n",
        "plt.plot(hist3.history['acc'], label = 'train acc')\n",
        "plt.plot(hist3.history['val_acc'], label='val acc')\n",
        "plt.title(\"train acc vs Val_acc\")\n",
        "plt.xlabel(\"Epochs\")\n",
        "plt.ylabel(\"acc\")\n",
        "plt.legend()\n",
        "plt.show()\n"
      ],
      "execution_count": 37,
      "outputs": [
        {
          "output_type": "display_data",
          "data": {
            "image/png": "[encoded data removed]",
            "text/plain": [
              "<Figure size 432x288 with 1 Axes>"
            ]
          },
          "metadata": {}
        },
        {
          "output_type": "display_data",
          "data": {
            "image/png": "[encoded data removed]",
            "text/plain": [
              "<Figure size 432x288 with 1 Axes>"
            ]
          },
          "metadata": {}
        }
      ]
    },
    {
      "cell_type": "code",
      "metadata": {
        "colab": {
          "base_uri": "https://localhost:8080/"
        },
        "id": "vRDnB4psXMIx",
        "outputId": "f44504d4-8a2f-4117-9459-9eb508944616"
      },
      "source": [
        "print(model1.evaluate(X_test,y_test,verbose=2))\n",
        "print(model2.evaluate(X_test,y_test,verbose=2))\n",
        "print(model3.evaluate(X_test,y_test,verbose=2))"
      ],
      "execution_count": 38,
      "outputs": [
        {
          "output_type": "stream",
          "name": "stdout",
          "text": [
            "2/2 - 0s - loss: 0.3540 - acc: 0.7895 - mse: 0.0733\n",
            "[0.35399162769317627, 0.7894737124443054, 0.07325588166713715]\n",
            "2/2 - 0s - loss: 1.2010 - acc: 0.8158 - mse: 0.0721\n",
            "[1.2010493278503418, 0.8157894611358643, 0.07209275662899017]\n",
            "2/2 - 0s - loss: 65.4533 - acc: 0.8684 - mse: 0.0655\n",
            "[65.45325469970703, 0.8684210777282715, 0.06553540378808975]\n"
          ]
        }
      ]
    },
    {
      "cell_type": "markdown",
      "metadata": {
        "id": "ufC-e1zKv8Vp"
      },
      "source": [
        "\n",
        "## L2 Regularization\n"
      ]
    },
    {
      "cell_type": "code",
      "metadata": {
        "id": "F-MBCX4Cv8Vq",
        "colab": {
          "base_uri": "https://localhost:8080/"
        },
        "outputId": "24f35453-0432-4593-db73-13b6f8365fed"
      },
      "source": [
        "# L2 Regularization is another regularization technique which is also known as Ridge regularization. In L2 regularization we add the squared magnitude of weights to penalize our cost function.\n",
        "\n",
        "#to implement L2 regularization, create another model called model4 similar to our initial basic model, this time add an extra parameter kernel_regularizer, which we set to ‘l2’ for L1 Regularization in the first Dense layer.\n",
        "#compile and run the model\n",
        "\n",
        "model4 = Sequential([\n",
        "    Dense(512, activation='tanh', input_shape = X_train[0].shape,kernel_regularizer='l2'),\n",
        "    Dense(512//2, activation='tanh'),\n",
        "    Dense(512//4, activation='tanh'),\n",
        "    Dense(512//8, activation='tanh'),\n",
        "    Dense(32, activation='relu'),\n",
        "    Dense(3, activation='softmax')\n",
        "])\n",
        "print(model4.summary())\n",
        "model4.compile(optimizer='sgd',loss='categorical_crossentropy', metrics=['acc', 'mse'])\n",
        "hist4 = model4.fit(X_train, y_train, epochs=150, batch_size=128, validation_data=(X_test,y_test))\n"
      ],
      "execution_count": 39,
      "outputs": [
        {
          "output_type": "stream",
          "name": "stdout",
          "text": [
            "Model: \"sequential_5\"\n",
            "_________________________________________________________________\n",
            "Layer (type)                 Output Shape              Param #   \n",
            "=================================================================\n",
            "dense_20 (Dense)             (None, 512)               2560      \n",
            "_________________________________________________________________\n",
            "dense_21 (Dense)             (None, 256)               131328    \n",
            "_________________________________________________________________\n",
            "dense_22 (Dense)             (None, 128)               32896     \n",
            "_________________________________________________________________\n",
            "dense_23 (Dense)             (None, 64)                8256      \n",
            "_________________________________________________________________\n",
            "dense_24 (Dense)             (None, 32)                2080      \n",
            "_________________________________________________________________\n",
            "dense_25 (Dense)             (None, 3)                 99        \n",
            "=================================================================\n",
            "Total params: 177,219\n",
            "Trainable params: 177,219\n",
            "Non-trainable params: 0\n",
            "_________________________________________________________________\n",
            "None\n",
            "Epoch 1/150\n",
            "1/1 [==============================] - 0s 484ms/step - loss: 1.1410 - acc: 0.5893 - mse: 0.2137 - val_loss: 1.0735 - val_acc: 0.7632 - val_mse: 0.1983\n",
            "Epoch 2/150\n",
            "1/1 [==============================] - 0s 24ms/step - loss: 1.0703 - acc: 0.7768 - mse: 0.1975 - val_loss: 1.0320 - val_acc: 0.7105 - val_mse: 0.1887\n",
            "Epoch 3/150\n",
            "1/1 [==============================] - 0s 25ms/step - loss: 1.0117 - acc: 0.8125 - mse: 0.1838 - val_loss: 0.9974 - val_acc: 0.7105 - val_mse: 0.1806\n",
            "Epoch 4/150\n",
            "1/1 [==============================] - 0s 35ms/step - loss: 0.9625 - acc: 0.8393 - mse: 0.1721 - val_loss: 0.9656 - val_acc: 0.7105 - val_mse: 0.1733\n",
            "Epoch 5/150\n",
            "1/1 [==============================] - 0s 27ms/step - loss: 0.9195 - acc: 0.8393 - mse: 0.1618 - val_loss: 0.9369 - val_acc: 0.7368 - val_mse: 0.1667\n",
            "Epoch 6/150\n",
            "1/1 [==============================] - 0s 23ms/step - loss: 0.8820 - acc: 0.8393 - mse: 0.1529 - val_loss: 0.9116 - val_acc: 0.7368 - val_mse: 0.1610\n",
            "Epoch 7/150\n",
            "1/1 [==============================] - 0s 31ms/step - loss: 0.8492 - acc: 0.8304 - mse: 0.1451 - val_loss: 0.8884 - val_acc: 0.7105 - val_mse: 0.1558\n",
            "Epoch 8/150\n",
            "1/1 [==============================] - 0s 25ms/step - loss: 0.8203 - acc: 0.8304 - mse: 0.1384 - val_loss: 0.8676 - val_acc: 0.7105 - val_mse: 0.1512\n",
            "Epoch 9/150\n",
            "1/1 [==============================] - 0s 26ms/step - loss: 0.7946 - acc: 0.8304 - mse: 0.1324 - val_loss: 0.8481 - val_acc: 0.7105 - val_mse: 0.1470\n",
            "Epoch 10/150\n",
            "1/1 [==============================] - 0s 26ms/step - loss: 0.7709 - acc: 0.8304 - mse: 0.1270 - val_loss: 0.8302 - val_acc: 0.7105 - val_mse: 0.1432\n",
            "Epoch 11/150\n",
            "1/1 [==============================] - 0s 22ms/step - loss: 0.7490 - acc: 0.8304 - mse: 0.1220 - val_loss: 0.8136 - val_acc: 0.7105 - val_mse: 0.1397\n",
            "Epoch 12/150\n",
            "1/1 [==============================] - 0s 25ms/step - loss: 0.7290 - acc: 0.8304 - mse: 0.1176 - val_loss: 0.7978 - val_acc: 0.7105 - val_mse: 0.1365\n",
            "Epoch 13/150\n",
            "1/1 [==============================] - 0s 24ms/step - loss: 0.7107 - acc: 0.8304 - mse: 0.1136 - val_loss: 0.7833 - val_acc: 0.7105 - val_mse: 0.1335\n",
            "Epoch 14/150\n",
            "1/1 [==============================] - 0s 34ms/step - loss: 0.6939 - acc: 0.8393 - mse: 0.1100 - val_loss: 0.7698 - val_acc: 0.7105 - val_mse: 0.1309\n",
            "Epoch 15/150\n",
            "1/1 [==============================] - 0s 27ms/step - loss: 0.6783 - acc: 0.8482 - mse: 0.1067 - val_loss: 0.7572 - val_acc: 0.7105 - val_mse: 0.1284\n",
            "Epoch 16/150\n",
            "1/1 [==============================] - 0s 24ms/step - loss: 0.6638 - acc: 0.8482 - mse: 0.1036 - val_loss: 0.7455 - val_acc: 0.7105 - val_mse: 0.1262\n",
            "Epoch 17/150\n",
            "1/1 [==============================] - 0s 24ms/step - loss: 0.6502 - acc: 0.8571 - mse: 0.1009 - val_loss: 0.7345 - val_acc: 0.7105 - val_mse: 0.1242\n",
            "Epoch 18/150\n",
            "1/1 [==============================] - 0s 25ms/step - loss: 0.6376 - acc: 0.8571 - mse: 0.0983 - val_loss: 0.7242 - val_acc: 0.7105 - val_mse: 0.1223\n",
            "Epoch 19/150\n",
            "1/1 [==============================] - 0s 42ms/step - loss: 0.6259 - acc: 0.8661 - mse: 0.0960 - val_loss: 0.7145 - val_acc: 0.7105 - val_mse: 0.1206\n",
            "Epoch 20/150\n",
            "1/1 [==============================] - 0s 31ms/step - loss: 0.6148 - acc: 0.8661 - mse: 0.0938 - val_loss: 0.7053 - val_acc: 0.7105 - val_mse: 0.1190\n",
            "Epoch 21/150\n",
            "1/1 [==============================] - 0s 27ms/step - loss: 0.6045 - acc: 0.8661 - mse: 0.0918 - val_loss: 0.6966 - val_acc: 0.7105 - val_mse: 0.1175\n",
            "Epoch 22/150\n",
            "1/1 [==============================] - 0s 29ms/step - loss: 0.5946 - acc: 0.8661 - mse: 0.0899 - val_loss: 0.6883 - val_acc: 0.7105 - val_mse: 0.1161\n",
            "Epoch 23/150\n",
            "1/1 [==============================] - 0s 33ms/step - loss: 0.5853 - acc: 0.8661 - mse: 0.0882 - val_loss: 0.6804 - val_acc: 0.7105 - val_mse: 0.1148\n",
            "Epoch 24/150\n",
            "1/1 [==============================] - 0s 28ms/step - loss: 0.5765 - acc: 0.8661 - mse: 0.0865 - val_loss: 0.6728 - val_acc: 0.7368 - val_mse: 0.1135\n",
            "Epoch 25/150\n",
            "1/1 [==============================] - 0s 26ms/step - loss: 0.5681 - acc: 0.8661 - mse: 0.0849 - val_loss: 0.6657 - val_acc: 0.7368 - val_mse: 0.1123\n",
            "Epoch 26/150\n",
            "1/1 [==============================] - 0s 25ms/step - loss: 0.5601 - acc: 0.8661 - mse: 0.0834 - val_loss: 0.6588 - val_acc: 0.7368 - val_mse: 0.1112\n",
            "Epoch 27/150\n",
            "1/1 [==============================] - 0s 27ms/step - loss: 0.5525 - acc: 0.8661 - mse: 0.0820 - val_loss: 0.6522 - val_acc: 0.7368 - val_mse: 0.1102\n",
            "Epoch 28/150\n",
            "1/1 [==============================] - 0s 50ms/step - loss: 0.5453 - acc: 0.8661 - mse: 0.0807 - val_loss: 0.6459 - val_acc: 0.7368 - val_mse: 0.1092\n",
            "Epoch 29/150\n",
            "1/1 [==============================] - 0s 28ms/step - loss: 0.5383 - acc: 0.8661 - mse: 0.0794 - val_loss: 0.6398 - val_acc: 0.7368 - val_mse: 0.1082\n",
            "Epoch 30/150\n",
            "1/1 [==============================] - 0s 27ms/step - loss: 0.5316 - acc: 0.8661 - mse: 0.0782 - val_loss: 0.6340 - val_acc: 0.7368 - val_mse: 0.1073\n",
            "Epoch 31/150\n",
            "1/1 [==============================] - 0s 30ms/step - loss: 0.5253 - acc: 0.8661 - mse: 0.0771 - val_loss: 0.6283 - val_acc: 0.7368 - val_mse: 0.1064\n",
            "Epoch 32/150\n",
            "1/1 [==============================] - 0s 25ms/step - loss: 0.5192 - acc: 0.8661 - mse: 0.0760 - val_loss: 0.6229 - val_acc: 0.7368 - val_mse: 0.1056\n",
            "Epoch 33/150\n",
            "1/1 [==============================] - 0s 28ms/step - loss: 0.5133 - acc: 0.8661 - mse: 0.0749 - val_loss: 0.6177 - val_acc: 0.7368 - val_mse: 0.1048\n",
            "Epoch 34/150\n",
            "1/1 [==============================] - 0s 24ms/step - loss: 0.5076 - acc: 0.8661 - mse: 0.0739 - val_loss: 0.6127 - val_acc: 0.7368 - val_mse: 0.1040\n",
            "Epoch 35/150\n",
            "1/1 [==============================] - 0s 28ms/step - loss: 0.5022 - acc: 0.8661 - mse: 0.0729 - val_loss: 0.6078 - val_acc: 0.7368 - val_mse: 0.1033\n",
            "Epoch 36/150\n",
            "1/1 [==============================] - 0s 26ms/step - loss: 0.4969 - acc: 0.8661 - mse: 0.0720 - val_loss: 0.6032 - val_acc: 0.7368 - val_mse: 0.1026\n",
            "Epoch 37/150\n",
            "1/1 [==============================] - 0s 25ms/step - loss: 0.4919 - acc: 0.8661 - mse: 0.0711 - val_loss: 0.5987 - val_acc: 0.7368 - val_mse: 0.1019\n",
            "Epoch 38/150\n",
            "1/1 [==============================] - 0s 23ms/step - loss: 0.4870 - acc: 0.8661 - mse: 0.0702 - val_loss: 0.5944 - val_acc: 0.7368 - val_mse: 0.1013\n",
            "Epoch 39/150\n",
            "1/1 [==============================] - 0s 29ms/step - loss: 0.4823 - acc: 0.8750 - mse: 0.0694 - val_loss: 0.5902 - val_acc: 0.7368 - val_mse: 0.1006\n",
            "Epoch 40/150\n",
            "1/1 [==============================] - 0s 24ms/step - loss: 0.4777 - acc: 0.8750 - mse: 0.0686 - val_loss: 0.5861 - val_acc: 0.7368 - val_mse: 0.1000\n",
            "Epoch 41/150\n",
            "1/1 [==============================] - 0s 24ms/step - loss: 0.4732 - acc: 0.8750 - mse: 0.0678 - val_loss: 0.5821 - val_acc: 0.7368 - val_mse: 0.0994\n",
            "Epoch 42/150\n",
            "1/1 [==============================] - 0s 24ms/step - loss: 0.4689 - acc: 0.8750 - mse: 0.0670 - val_loss: 0.5783 - val_acc: 0.7632 - val_mse: 0.0988\n",
            "Epoch 43/150\n",
            "1/1 [==============================] - 0s 28ms/step - loss: 0.4647 - acc: 0.8750 - mse: 0.0663 - val_loss: 0.5745 - val_acc: 0.7632 - val_mse: 0.0983\n",
            "Epoch 44/150\n",
            "1/1 [==============================] - 0s 29ms/step - loss: 0.4606 - acc: 0.8839 - mse: 0.0655 - val_loss: 0.5709 - val_acc: 0.7632 - val_mse: 0.0977\n",
            "Epoch 45/150\n",
            "1/1 [==============================] - 0s 26ms/step - loss: 0.4566 - acc: 0.8839 - mse: 0.0648 - val_loss: 0.5673 - val_acc: 0.7632 - val_mse: 0.0972\n",
            "Epoch 46/150\n",
            "1/1 [==============================] - 0s 23ms/step - loss: 0.4528 - acc: 0.8839 - mse: 0.0641 - val_loss: 0.5638 - val_acc: 0.7632 - val_mse: 0.0967\n",
            "Epoch 47/150\n",
            "1/1 [==============================] - 0s 24ms/step - loss: 0.4490 - acc: 0.8839 - mse: 0.0635 - val_loss: 0.5604 - val_acc: 0.7632 - val_mse: 0.0962\n",
            "Epoch 48/150\n",
            "1/1 [==============================] - 0s 25ms/step - loss: 0.4453 - acc: 0.8839 - mse: 0.0628 - val_loss: 0.5571 - val_acc: 0.7632 - val_mse: 0.0957\n",
            "Epoch 49/150\n",
            "1/1 [==============================] - 0s 25ms/step - loss: 0.4418 - acc: 0.8929 - mse: 0.0622 - val_loss: 0.5539 - val_acc: 0.7632 - val_mse: 0.0952\n",
            "Epoch 50/150\n",
            "1/1 [==============================] - 0s 26ms/step - loss: 0.4383 - acc: 0.8929 - mse: 0.0616 - val_loss: 0.5507 - val_acc: 0.7632 - val_mse: 0.0947\n",
            "Epoch 51/150\n",
            "1/1 [==============================] - 0s 25ms/step - loss: 0.4349 - acc: 0.8929 - mse: 0.0610 - val_loss: 0.5477 - val_acc: 0.7632 - val_mse: 0.0943\n",
            "Epoch 52/150\n",
            "1/1 [==============================] - 0s 25ms/step - loss: 0.4316 - acc: 0.8929 - mse: 0.0604 - val_loss: 0.5448 - val_acc: 0.7632 - val_mse: 0.0939\n",
            "Epoch 53/150\n",
            "1/1 [==============================] - 0s 26ms/step - loss: 0.4284 - acc: 0.8929 - mse: 0.0598 - val_loss: 0.5419 - val_acc: 0.7632 - val_mse: 0.0934\n",
            "Epoch 54/150\n",
            "1/1 [==============================] - 0s 25ms/step - loss: 0.4252 - acc: 0.8929 - mse: 0.0592 - val_loss: 0.5391 - val_acc: 0.7632 - val_mse: 0.0930\n",
            "Epoch 55/150\n",
            "1/1 [==============================] - 0s 28ms/step - loss: 0.4221 - acc: 0.8929 - mse: 0.0587 - val_loss: 0.5364 - val_acc: 0.7632 - val_mse: 0.0926\n",
            "Epoch 56/150\n",
            "1/1 [==============================] - 0s 28ms/step - loss: 0.4190 - acc: 0.8929 - mse: 0.0581 - val_loss: 0.5337 - val_acc: 0.7632 - val_mse: 0.0922\n",
            "Epoch 57/150\n",
            "1/1 [==============================] - 0s 28ms/step - loss: 0.4160 - acc: 0.9018 - mse: 0.0576 - val_loss: 0.5310 - val_acc: 0.7632 - val_mse: 0.0918\n",
            "Epoch 58/150\n",
            "1/1 [==============================] - 0s 27ms/step - loss: 0.4131 - acc: 0.9018 - mse: 0.0571 - val_loss: 0.5284 - val_acc: 0.7632 - val_mse: 0.0914\n",
            "Epoch 59/150\n",
            "1/1 [==============================] - 0s 35ms/step - loss: 0.4103 - acc: 0.9018 - mse: 0.0566 - val_loss: 0.5259 - val_acc: 0.7368 - val_mse: 0.0911\n",
            "Epoch 60/150\n",
            "1/1 [==============================] - 0s 29ms/step - loss: 0.4075 - acc: 0.9018 - mse: 0.0561 - val_loss: 0.5235 - val_acc: 0.7368 - val_mse: 0.0907\n",
            "Epoch 61/150\n",
            "1/1 [==============================] - 0s 28ms/step - loss: 0.4047 - acc: 0.9018 - mse: 0.0556 - val_loss: 0.5210 - val_acc: 0.7368 - val_mse: 0.0903\n",
            "Epoch 62/150\n",
            "1/1 [==============================] - 0s 26ms/step - loss: 0.4021 - acc: 0.9018 - mse: 0.0551 - val_loss: 0.5187 - val_acc: 0.7368 - val_mse: 0.0900\n",
            "Epoch 63/150\n",
            "1/1 [==============================] - 0s 26ms/step - loss: 0.3995 - acc: 0.9018 - mse: 0.0547 - val_loss: 0.5163 - val_acc: 0.7368 - val_mse: 0.0896\n",
            "Epoch 64/150\n",
            "1/1 [==============================] - 0s 28ms/step - loss: 0.3969 - acc: 0.9107 - mse: 0.0542 - val_loss: 0.5141 - val_acc: 0.7368 - val_mse: 0.0893\n",
            "Epoch 65/150\n",
            "1/1 [==============================] - 0s 33ms/step - loss: 0.3944 - acc: 0.9107 - mse: 0.0538 - val_loss: 0.5118 - val_acc: 0.7632 - val_mse: 0.0889\n",
            "Epoch 66/150\n",
            "1/1 [==============================] - 0s 28ms/step - loss: 0.3920 - acc: 0.9107 - mse: 0.0533 - val_loss: 0.5096 - val_acc: 0.7632 - val_mse: 0.0886\n",
            "Epoch 67/150\n",
            "1/1 [==============================] - 0s 31ms/step - loss: 0.3896 - acc: 0.9107 - mse: 0.0529 - val_loss: 0.5075 - val_acc: 0.7632 - val_mse: 0.0882\n",
            "Epoch 68/150\n",
            "1/1 [==============================] - 0s 33ms/step - loss: 0.3872 - acc: 0.9107 - mse: 0.0525 - val_loss: 0.5053 - val_acc: 0.7632 - val_mse: 0.0879\n",
            "Epoch 69/150\n",
            "1/1 [==============================] - 0s 25ms/step - loss: 0.3849 - acc: 0.9107 - mse: 0.0520 - val_loss: 0.5033 - val_acc: 0.7632 - val_mse: 0.0876\n",
            "Epoch 70/150\n",
            "1/1 [==============================] - 0s 28ms/step - loss: 0.3827 - acc: 0.9107 - mse: 0.0516 - val_loss: 0.5012 - val_acc: 0.7632 - val_mse: 0.0873\n",
            "Epoch 71/150\n",
            "1/1 [==============================] - 0s 27ms/step - loss: 0.3805 - acc: 0.9196 - mse: 0.0512 - val_loss: 0.4992 - val_acc: 0.7632 - val_mse: 0.0869\n",
            "Epoch 72/150\n",
            "1/1 [==============================] - 0s 27ms/step - loss: 0.3783 - acc: 0.9196 - mse: 0.0509 - val_loss: 0.4972 - val_acc: 0.7632 - val_mse: 0.0866\n",
            "Epoch 73/150\n",
            "1/1 [==============================] - 0s 35ms/step - loss: 0.3761 - acc: 0.9196 - mse: 0.0505 - val_loss: 0.4952 - val_acc: 0.7632 - val_mse: 0.0863\n",
            "Epoch 74/150\n",
            "1/1 [==============================] - 0s 30ms/step - loss: 0.3740 - acc: 0.9286 - mse: 0.0501 - val_loss: 0.4933 - val_acc: 0.7632 - val_mse: 0.0860\n",
            "Epoch 75/150\n",
            "1/1 [==============================] - 0s 34ms/step - loss: 0.3720 - acc: 0.9286 - mse: 0.0497 - val_loss: 0.4914 - val_acc: 0.7632 - val_mse: 0.0857\n",
            "Epoch 76/150\n",
            "1/1 [==============================] - 0s 31ms/step - loss: 0.3699 - acc: 0.9286 - mse: 0.0493 - val_loss: 0.4895 - val_acc: 0.7632 - val_mse: 0.0854\n",
            "Epoch 77/150\n",
            "1/1 [==============================] - 0s 31ms/step - loss: 0.3679 - acc: 0.9286 - mse: 0.0490 - val_loss: 0.4877 - val_acc: 0.7632 - val_mse: 0.0851\n",
            "Epoch 78/150\n",
            "1/1 [==============================] - 0s 30ms/step - loss: 0.3660 - acc: 0.9286 - mse: 0.0486 - val_loss: 0.4859 - val_acc: 0.7632 - val_mse: 0.0848\n",
            "Epoch 79/150\n",
            "1/1 [==============================] - 0s 28ms/step - loss: 0.3640 - acc: 0.9375 - mse: 0.0483 - val_loss: 0.4841 - val_acc: 0.7632 - val_mse: 0.0845\n",
            "Epoch 80/150\n",
            "1/1 [==============================] - 0s 40ms/step - loss: 0.3621 - acc: 0.9375 - mse: 0.0479 - val_loss: 0.4823 - val_acc: 0.7632 - val_mse: 0.0842\n",
            "Epoch 81/150\n",
            "1/1 [==============================] - 0s 29ms/step - loss: 0.3602 - acc: 0.9375 - mse: 0.0476 - val_loss: 0.4805 - val_acc: 0.7632 - val_mse: 0.0839\n",
            "Epoch 82/150\n",
            "1/1 [==============================] - 0s 36ms/step - loss: 0.3583 - acc: 0.9375 - mse: 0.0473 - val_loss: 0.4788 - val_acc: 0.7632 - val_mse: 0.0836\n",
            "Epoch 83/150\n",
            "1/1 [==============================] - 0s 29ms/step - loss: 0.3565 - acc: 0.9375 - mse: 0.0469 - val_loss: 0.4771 - val_acc: 0.7632 - val_mse: 0.0834\n",
            "Epoch 84/150\n",
            "1/1 [==============================] - 0s 22ms/step - loss: 0.3547 - acc: 0.9375 - mse: 0.0466 - val_loss: 0.4754 - val_acc: 0.7632 - val_mse: 0.0831\n",
            "Epoch 85/150\n",
            "1/1 [==============================] - 0s 28ms/step - loss: 0.3529 - acc: 0.9375 - mse: 0.0463 - val_loss: 0.4737 - val_acc: 0.7632 - val_mse: 0.0828\n",
            "Epoch 86/150\n",
            "1/1 [==============================] - 0s 36ms/step - loss: 0.3512 - acc: 0.9375 - mse: 0.0460 - val_loss: 0.4720 - val_acc: 0.7632 - val_mse: 0.0825\n",
            "Epoch 87/150\n",
            "1/1 [==============================] - 0s 30ms/step - loss: 0.3494 - acc: 0.9375 - mse: 0.0456 - val_loss: 0.4704 - val_acc: 0.7632 - val_mse: 0.0822\n",
            "Epoch 88/150\n",
            "1/1 [==============================] - 0s 30ms/step - loss: 0.3477 - acc: 0.9375 - mse: 0.0453 - val_loss: 0.4688 - val_acc: 0.7632 - val_mse: 0.0820\n",
            "Epoch 89/150\n",
            "1/1 [==============================] - 0s 25ms/step - loss: 0.3460 - acc: 0.9375 - mse: 0.0450 - val_loss: 0.4671 - val_acc: 0.7632 - val_mse: 0.0817\n",
            "Epoch 90/150\n",
            "1/1 [==============================] - 0s 26ms/step - loss: 0.3444 - acc: 0.9375 - mse: 0.0447 - val_loss: 0.4655 - val_acc: 0.7632 - val_mse: 0.0814\n",
            "Epoch 91/150\n",
            "1/1 [==============================] - 0s 27ms/step - loss: 0.3427 - acc: 0.9375 - mse: 0.0444 - val_loss: 0.4639 - val_acc: 0.7632 - val_mse: 0.0811\n",
            "Epoch 92/150\n",
            "1/1 [==============================] - 0s 31ms/step - loss: 0.3411 - acc: 0.9375 - mse: 0.0441 - val_loss: 0.4624 - val_acc: 0.7632 - val_mse: 0.0809\n",
            "Epoch 93/150\n",
            "1/1 [==============================] - 0s 25ms/step - loss: 0.3395 - acc: 0.9375 - mse: 0.0438 - val_loss: 0.4608 - val_acc: 0.7632 - val_mse: 0.0806\n",
            "Epoch 94/150\n",
            "1/1 [==============================] - 0s 28ms/step - loss: 0.3378 - acc: 0.9375 - mse: 0.0435 - val_loss: 0.4592 - val_acc: 0.7632 - val_mse: 0.0803\n",
            "Epoch 95/150\n",
            "1/1 [==============================] - 0s 23ms/step - loss: 0.3363 - acc: 0.9375 - mse: 0.0432 - val_loss: 0.4576 - val_acc: 0.7632 - val_mse: 0.0800\n",
            "Epoch 96/150\n",
            "1/1 [==============================] - 0s 25ms/step - loss: 0.3347 - acc: 0.9375 - mse: 0.0430 - val_loss: 0.4561 - val_acc: 0.7632 - val_mse: 0.0798\n",
            "Epoch 97/150\n",
            "1/1 [==============================] - 0s 29ms/step - loss: 0.3332 - acc: 0.9375 - mse: 0.0427 - val_loss: 0.4546 - val_acc: 0.7632 - val_mse: 0.0795\n",
            "Epoch 98/150\n",
            "1/1 [==============================] - 0s 34ms/step - loss: 0.3316 - acc: 0.9375 - mse: 0.0424 - val_loss: 0.4531 - val_acc: 0.7632 - val_mse: 0.0792\n",
            "Epoch 99/150\n",
            "1/1 [==============================] - 0s 33ms/step - loss: 0.3301 - acc: 0.9375 - mse: 0.0421 - val_loss: 0.4516 - val_acc: 0.7632 - val_mse: 0.0790\n",
            "Epoch 100/150\n",
            "1/1 [==============================] - 0s 27ms/step - loss: 0.3286 - acc: 0.9375 - mse: 0.0419 - val_loss: 0.4501 - val_acc: 0.7632 - val_mse: 0.0787\n",
            "Epoch 101/150\n",
            "1/1 [==============================] - 0s 28ms/step - loss: 0.3272 - acc: 0.9375 - mse: 0.0416 - val_loss: 0.4486 - val_acc: 0.7632 - val_mse: 0.0784\n",
            "Epoch 102/150\n",
            "1/1 [==============================] - 0s 32ms/step - loss: 0.3257 - acc: 0.9375 - mse: 0.0413 - val_loss: 0.4472 - val_acc: 0.7632 - val_mse: 0.0782\n",
            "Epoch 103/150\n",
            "1/1 [==============================] - 0s 25ms/step - loss: 0.3242 - acc: 0.9375 - mse: 0.0411 - val_loss: 0.4457 - val_acc: 0.7632 - val_mse: 0.0779\n",
            "Epoch 104/150\n",
            "1/1 [==============================] - 0s 28ms/step - loss: 0.3228 - acc: 0.9375 - mse: 0.0408 - val_loss: 0.4443 - val_acc: 0.7632 - val_mse: 0.0776\n",
            "Epoch 105/150\n",
            "1/1 [==============================] - 0s 29ms/step - loss: 0.3214 - acc: 0.9375 - mse: 0.0405 - val_loss: 0.4428 - val_acc: 0.7895 - val_mse: 0.0774\n",
            "Epoch 106/150\n",
            "1/1 [==============================] - 0s 29ms/step - loss: 0.3200 - acc: 0.9375 - mse: 0.0403 - val_loss: 0.4414 - val_acc: 0.7895 - val_mse: 0.0771\n",
            "Epoch 107/150\n",
            "1/1 [==============================] - 0s 31ms/step - loss: 0.3186 - acc: 0.9375 - mse: 0.0400 - val_loss: 0.4399 - val_acc: 0.7895 - val_mse: 0.0768\n",
            "Epoch 108/150\n",
            "1/1 [==============================] - 0s 27ms/step - loss: 0.3173 - acc: 0.9375 - mse: 0.0398 - val_loss: 0.4385 - val_acc: 0.7895 - val_mse: 0.0765\n",
            "Epoch 109/150\n",
            "1/1 [==============================] - 0s 26ms/step - loss: 0.3159 - acc: 0.9375 - mse: 0.0395 - val_loss: 0.4371 - val_acc: 0.7895 - val_mse: 0.0763\n",
            "Epoch 110/150\n",
            "1/1 [==============================] - 0s 29ms/step - loss: 0.3146 - acc: 0.9375 - mse: 0.0393 - val_loss: 0.4356 - val_acc: 0.7895 - val_mse: 0.0760\n",
            "Epoch 111/150\n",
            "1/1 [==============================] - 0s 34ms/step - loss: 0.3133 - acc: 0.9375 - mse: 0.0390 - val_loss: 0.4342 - val_acc: 0.7895 - val_mse: 0.0757\n",
            "Epoch 112/150\n",
            "1/1 [==============================] - 0s 30ms/step - loss: 0.3120 - acc: 0.9464 - mse: 0.0388 - val_loss: 0.4328 - val_acc: 0.7895 - val_mse: 0.0754\n",
            "Epoch 113/150\n",
            "1/1 [==============================] - 0s 25ms/step - loss: 0.3107 - acc: 0.9464 - mse: 0.0385 - val_loss: 0.4314 - val_acc: 0.7895 - val_mse: 0.0752\n",
            "Epoch 114/150\n",
            "1/1 [==============================] - 0s 28ms/step - loss: 0.3094 - acc: 0.9464 - mse: 0.0383 - val_loss: 0.4301 - val_acc: 0.7895 - val_mse: 0.0749\n",
            "Epoch 115/150\n",
            "1/1 [==============================] - 0s 30ms/step - loss: 0.3081 - acc: 0.9464 - mse: 0.0381 - val_loss: 0.4287 - val_acc: 0.7895 - val_mse: 0.0746\n",
            "Epoch 116/150\n",
            "1/1 [==============================] - 0s 33ms/step - loss: 0.3068 - acc: 0.9464 - mse: 0.0378 - val_loss: 0.4273 - val_acc: 0.7895 - val_mse: 0.0743\n",
            "Epoch 117/150\n",
            "1/1 [==============================] - 0s 31ms/step - loss: 0.3056 - acc: 0.9464 - mse: 0.0376 - val_loss: 0.4260 - val_acc: 0.7895 - val_mse: 0.0741\n",
            "Epoch 118/150\n",
            "1/1 [==============================] - 0s 28ms/step - loss: 0.3044 - acc: 0.9464 - mse: 0.0374 - val_loss: 0.4246 - val_acc: 0.7895 - val_mse: 0.0738\n",
            "Epoch 119/150\n",
            "1/1 [==============================] - 0s 27ms/step - loss: 0.3031 - acc: 0.9464 - mse: 0.0371 - val_loss: 0.4233 - val_acc: 0.8158 - val_mse: 0.0735\n",
            "Epoch 120/150\n",
            "1/1 [==============================] - 0s 32ms/step - loss: 0.3019 - acc: 0.9464 - mse: 0.0369 - val_loss: 0.4220 - val_acc: 0.8158 - val_mse: 0.0733\n",
            "Epoch 121/150\n",
            "1/1 [==============================] - 0s 28ms/step - loss: 0.3007 - acc: 0.9464 - mse: 0.0367 - val_loss: 0.4206 - val_acc: 0.8158 - val_mse: 0.0730\n",
            "Epoch 122/150\n",
            "1/1 [==============================] - 0s 26ms/step - loss: 0.2995 - acc: 0.9464 - mse: 0.0365 - val_loss: 0.4193 - val_acc: 0.8158 - val_mse: 0.0727\n",
            "Epoch 123/150\n",
            "1/1 [==============================] - 0s 27ms/step - loss: 0.2984 - acc: 0.9464 - mse: 0.0362 - val_loss: 0.4180 - val_acc: 0.8158 - val_mse: 0.0725\n",
            "Epoch 124/150\n",
            "1/1 [==============================] - 0s 28ms/step - loss: 0.2972 - acc: 0.9464 - mse: 0.0360 - val_loss: 0.4167 - val_acc: 0.8158 - val_mse: 0.0722\n",
            "Epoch 125/150\n",
            "1/1 [==============================] - 0s 29ms/step - loss: 0.2960 - acc: 0.9464 - mse: 0.0358 - val_loss: 0.4154 - val_acc: 0.8158 - val_mse: 0.0719\n",
            "Epoch 126/150\n",
            "1/1 [==============================] - 0s 32ms/step - loss: 0.2949 - acc: 0.9464 - mse: 0.0356 - val_loss: 0.4141 - val_acc: 0.8158 - val_mse: 0.0717\n",
            "Epoch 127/150\n",
            "1/1 [==============================] - 0s 27ms/step - loss: 0.2937 - acc: 0.9554 - mse: 0.0354 - val_loss: 0.4128 - val_acc: 0.8158 - val_mse: 0.0714\n",
            "Epoch 128/150\n",
            "1/1 [==============================] - 0s 31ms/step - loss: 0.2926 - acc: 0.9554 - mse: 0.0352 - val_loss: 0.4115 - val_acc: 0.8158 - val_mse: 0.0711\n",
            "Epoch 129/150\n",
            "1/1 [==============================] - 0s 31ms/step - loss: 0.2915 - acc: 0.9554 - mse: 0.0350 - val_loss: 0.4102 - val_acc: 0.8158 - val_mse: 0.0709\n",
            "Epoch 130/150\n",
            "1/1 [==============================] - 0s 24ms/step - loss: 0.2904 - acc: 0.9554 - mse: 0.0347 - val_loss: 0.4089 - val_acc: 0.8158 - val_mse: 0.0706\n",
            "Epoch 131/150\n",
            "1/1 [==============================] - 0s 23ms/step - loss: 0.2893 - acc: 0.9554 - mse: 0.0345 - val_loss: 0.4077 - val_acc: 0.8158 - val_mse: 0.0703\n",
            "Epoch 132/150\n",
            "1/1 [==============================] - 0s 25ms/step - loss: 0.2882 - acc: 0.9554 - mse: 0.0343 - val_loss: 0.4064 - val_acc: 0.8158 - val_mse: 0.0701\n",
            "Epoch 133/150\n",
            "1/1 [==============================] - 0s 31ms/step - loss: 0.2871 - acc: 0.9554 - mse: 0.0341 - val_loss: 0.4052 - val_acc: 0.8158 - val_mse: 0.0698\n",
            "Epoch 134/150\n",
            "1/1 [==============================] - 0s 34ms/step - loss: 0.2860 - acc: 0.9554 - mse: 0.0339 - val_loss: 0.4039 - val_acc: 0.8158 - val_mse: 0.0695\n",
            "Epoch 135/150\n",
            "1/1 [==============================] - 0s 32ms/step - loss: 0.2849 - acc: 0.9554 - mse: 0.0337 - val_loss: 0.4027 - val_acc: 0.8158 - val_mse: 0.0693\n",
            "Epoch 136/150\n",
            "1/1 [==============================] - 0s 32ms/step - loss: 0.2839 - acc: 0.9554 - mse: 0.0335 - val_loss: 0.4015 - val_acc: 0.8158 - val_mse: 0.0690\n",
            "Epoch 137/150\n",
            "1/1 [==============================] - 0s 29ms/step - loss: 0.2828 - acc: 0.9554 - mse: 0.0333 - val_loss: 0.4002 - val_acc: 0.8158 - val_mse: 0.0687\n",
            "Epoch 138/150\n",
            "1/1 [==============================] - 0s 30ms/step - loss: 0.2818 - acc: 0.9554 - mse: 0.0331 - val_loss: 0.3990 - val_acc: 0.8158 - val_mse: 0.0685\n",
            "Epoch 139/150\n",
            "1/1 [==============================] - 0s 28ms/step - loss: 0.2808 - acc: 0.9554 - mse: 0.0329 - val_loss: 0.3978 - val_acc: 0.8158 - val_mse: 0.0682\n",
            "Epoch 140/150\n",
            "1/1 [==============================] - 0s 32ms/step - loss: 0.2797 - acc: 0.9554 - mse: 0.0327 - val_loss: 0.3966 - val_acc: 0.8158 - val_mse: 0.0680\n",
            "Epoch 141/150\n",
            "1/1 [==============================] - 0s 31ms/step - loss: 0.2787 - acc: 0.9554 - mse: 0.0325 - val_loss: 0.3954 - val_acc: 0.8158 - val_mse: 0.0677\n",
            "Epoch 142/150\n",
            "1/1 [==============================] - 0s 32ms/step - loss: 0.2777 - acc: 0.9554 - mse: 0.0323 - val_loss: 0.3942 - val_acc: 0.8158 - val_mse: 0.0674\n",
            "Epoch 143/150\n",
            "1/1 [==============================] - 0s 31ms/step - loss: 0.2767 - acc: 0.9554 - mse: 0.0321 - val_loss: 0.3930 - val_acc: 0.8158 - val_mse: 0.0672\n",
            "Epoch 144/150\n",
            "1/1 [==============================] - 0s 29ms/step - loss: 0.2757 - acc: 0.9554 - mse: 0.0320 - val_loss: 0.3918 - val_acc: 0.8158 - val_mse: 0.0669\n",
            "Epoch 145/150\n",
            "1/1 [==============================] - 0s 31ms/step - loss: 0.2747 - acc: 0.9554 - mse: 0.0318 - val_loss: 0.3906 - val_acc: 0.8158 - val_mse: 0.0667\n",
            "Epoch 146/150\n",
            "1/1 [==============================] - 0s 32ms/step - loss: 0.2737 - acc: 0.9554 - mse: 0.0316 - val_loss: 0.3894 - val_acc: 0.8158 - val_mse: 0.0664\n",
            "Epoch 147/150\n",
            "1/1 [==============================] - 0s 29ms/step - loss: 0.2728 - acc: 0.9554 - mse: 0.0314 - val_loss: 0.3882 - val_acc: 0.8158 - val_mse: 0.0661\n",
            "Epoch 148/150\n",
            "1/1 [==============================] - 0s 32ms/step - loss: 0.2718 - acc: 0.9554 - mse: 0.0312 - val_loss: 0.3871 - val_acc: 0.8158 - val_mse: 0.0659\n",
            "Epoch 149/150\n",
            "1/1 [==============================] - 0s 31ms/step - loss: 0.2708 - acc: 0.9554 - mse: 0.0310 - val_loss: 0.3859 - val_acc: 0.8158 - val_mse: 0.0656\n",
            "Epoch 150/150\n",
            "1/1 [==============================] - 0s 33ms/step - loss: 0.2699 - acc: 0.9554 - mse: 0.0308 - val_loss: 0.3847 - val_acc: 0.8158 - val_mse: 0.0654\n"
          ]
        }
      ]
    },
    {
      "cell_type": "code",
      "metadata": {
        "id": "HIaxZwUTv8Vr",
        "colab": {
          "base_uri": "https://localhost:8080/"
        },
        "outputId": "5f09d83d-84b3-451f-bdb6-0e946bcf84c7"
      },
      "source": [
        "#just how we used evaluate() in the basic model previously, use it again to find the loss, accuracy and MSE on the test set\n",
        "print(model4.evaluate(X_test,y_test,verbose=2))"
      ],
      "execution_count": 40,
      "outputs": [
        {
          "output_type": "stream",
          "name": "stdout",
          "text": [
            "2/2 - 0s - loss: 0.3847 - acc: 0.8158 - mse: 0.0654\n",
            "[0.3847323954105377, 0.8157894611358643, 0.06536342948675156]\n"
          ]
        }
      ]
    },
    {
      "cell_type": "code",
      "metadata": {
        "id": "PmBQ_8-Ov8Vs",
        "colab": {
          "base_uri": "https://localhost:8080/",
          "height": 581
        },
        "outputId": "71c4e104-2754-450f-c084-975fcdfaa04d"
      },
      "source": [
        "# Plot the train loss vs validation loss and train accuracy vs validation accuracy graphs just like we did before\n",
        "plt.style.use('ggplot')\n",
        "plt.plot(hist4.history['loss'], label = 'loss')\n",
        "plt.plot(hist4.history['val_loss'], label='val loss')\n",
        "plt.title(\"Train Loss vs Val_Loss\")\n",
        "plt.xlabel(\"Epochs\")\n",
        "plt.ylabel(\"Loss\")\n",
        "plt.legend()\n",
        "plt.show()\n",
        "\n",
        "plt.plot(hist4.history['acc'], label = 'train acc')\n",
        "plt.plot(hist4.history['val_acc'], label='val acc')\n",
        "plt.title(\"train acc vs Val_acc\")\n",
        "plt.xlabel(\"Epochs\")\n",
        "plt.ylabel(\"acc\")\n",
        "plt.legend()\n",
        "plt.show()"
      ],
      "execution_count": 41,
      "outputs": [
        {
          "output_type": "display_data",
          "data": {
            "image/png": "[encoded data removed]",
            "text/plain": [
              "<Figure size 432x288 with 1 Axes>"
            ]
          },
          "metadata": {}
        },
        {
          "output_type": "display_data",
          "data": {
            "image/png": "[encoded data removed]",
            "text/plain": [
              "<Figure size 432x288 with 1 Axes>"
            ]
          },
          "metadata": {}
        }
      ]
    },
    {
      "cell_type": "code",
      "metadata": {
        "id": "NM2il_o8v8Vs",
        "colab": {
          "base_uri": "https://localhost:8080/"
        },
        "outputId": "b29434fc-5953-41d6-a632-92d2bcaee8bf"
      },
      "source": [
        "# Now create model5 having similar to the above models having L2 in all other layers.\n",
        "model5 = Sequential([\n",
        "    Dense(512, activation='tanh', input_shape = X_train[0].shape,kernel_regularizer='l2'),\n",
        "    Dense(512//2, activation='tanh',kernel_regularizer='l2'),\n",
        "    Dense(512//4, activation='tanh',kernel_regularizer='l2'),\n",
        "    Dense(512//8, activation='tanh',kernel_regularizer='l2'),\n",
        "    Dense(32, activation='relu',kernel_regularizer='l2'),\n",
        "    Dense(3, activation='softmax')\n",
        "])\n",
        "print(model5.summary())\n",
        "model5.compile(optimizer='sgd',loss='categorical_crossentropy', metrics=['acc', 'mse'])\n",
        "hist5 = model5.fit(X_train, y_train, epochs=150, batch_size=32, validation_data=(X_test,y_test))"
      ],
      "execution_count": 42,
      "outputs": [
        {
          "output_type": "stream",
          "name": "stdout",
          "text": [
            "Model: \"sequential_6\"\n",
            "_________________________________________________________________\n",
            "Layer (type)                 Output Shape              Param #   \n",
            "=================================================================\n",
            "dense_26 (Dense)             (None, 512)               2560      \n",
            "_________________________________________________________________\n",
            "dense_27 (Dense)             (None, 256)               131328    \n",
            "_________________________________________________________________\n",
            "dense_28 (Dense)             (None, 128)               32896     \n",
            "_________________________________________________________________\n",
            "dense_29 (Dense)             (None, 64)                8256      \n",
            "_________________________________________________________________\n",
            "dense_30 (Dense)             (None, 32)                2080      \n",
            "_________________________________________________________________\n",
            "dense_31 (Dense)             (None, 3)                 99        \n",
            "=================================================================\n",
            "Total params: 177,219\n",
            "Trainable params: 177,219\n",
            "Non-trainable params: 0\n",
            "_________________________________________________________________\n",
            "None\n",
            "Epoch 1/150\n",
            "4/4 [==============================] - 1s 61ms/step - loss: 7.5552 - acc: 0.4643 - mse: 0.2211 - val_loss: 7.5029 - val_acc: 0.3947 - val_mse: 0.2107\n",
            "Epoch 2/150\n",
            "4/4 [==============================] - 0s 10ms/step - loss: 7.4274 - acc: 0.6964 - mse: 0.1940 - val_loss: 7.4228 - val_acc: 0.7105 - val_mse: 0.1947\n",
            "Epoch 3/150\n",
            "4/4 [==============================] - 0s 9ms/step - loss: 7.3324 - acc: 0.8125 - mse: 0.1739 - val_loss: 7.3522 - val_acc: 0.7105 - val_mse: 0.1810\n",
            "Epoch 4/150\n",
            "4/4 [==============================] - 0s 9ms/step - loss: 7.2538 - acc: 0.8214 - mse: 0.1579 - val_loss: 7.2930 - val_acc: 0.7105 - val_mse: 0.1701\n",
            "Epoch 5/150\n",
            "4/4 [==============================] - 0s 10ms/step - loss: 7.1858 - acc: 0.8214 - mse: 0.1444 - val_loss: 7.2406 - val_acc: 0.7105 - val_mse: 0.1609\n",
            "Epoch 6/150\n",
            "4/4 [==============================] - 0s 10ms/step - loss: 7.1276 - acc: 0.8304 - mse: 0.1334 - val_loss: 7.1891 - val_acc: 0.7105 - val_mse: 0.1518\n",
            "Epoch 7/150\n",
            "4/4 [==============================] - 0s 10ms/step - loss: 7.0732 - acc: 0.8482 - mse: 0.1233 - val_loss: 7.1413 - val_acc: 0.7368 - val_mse: 0.1436\n",
            "Epoch 8/150\n",
            "4/4 [==============================] - 0s 9ms/step - loss: 7.0228 - acc: 0.8482 - mse: 0.1141 - val_loss: 7.0950 - val_acc: 0.7368 - val_mse: 0.1357\n",
            "Epoch 9/150\n",
            "4/4 [==============================] - 0s 10ms/step - loss: 6.9746 - acc: 0.8661 - mse: 0.1055 - val_loss: 7.0518 - val_acc: 0.7368 - val_mse: 0.1286\n",
            "Epoch 10/150\n",
            "4/4 [==============================] - 0s 11ms/step - loss: 6.9315 - acc: 0.8661 - mse: 0.0981 - val_loss: 7.0104 - val_acc: 0.7368 - val_mse: 0.1220\n",
            "Epoch 11/150\n",
            "4/4 [==============================] - 0s 10ms/step - loss: 6.8916 - acc: 0.8661 - mse: 0.0915 - val_loss: 6.9758 - val_acc: 0.7368 - val_mse: 0.1172\n",
            "Epoch 12/150\n",
            "4/4 [==============================] - 0s 10ms/step - loss: 6.8550 - acc: 0.8750 - mse: 0.0858 - val_loss: 6.9454 - val_acc: 0.7632 - val_mse: 0.1134\n",
            "Epoch 13/150\n",
            "4/4 [==============================] - 0s 11ms/step - loss: 6.8219 - acc: 0.8750 - mse: 0.0811 - val_loss: 6.9170 - val_acc: 0.7632 - val_mse: 0.1102\n",
            "Epoch 14/150\n",
            "4/4 [==============================] - 0s 9ms/step - loss: 6.7911 - acc: 0.8750 - mse: 0.0770 - val_loss: 6.8883 - val_acc: 0.7632 - val_mse: 0.1067\n",
            "Epoch 15/150\n",
            "4/4 [==============================] - 0s 9ms/step - loss: 6.7627 - acc: 0.8750 - mse: 0.0733 - val_loss: 6.8636 - val_acc: 0.7632 - val_mse: 0.1042\n",
            "Epoch 16/150\n",
            "4/4 [==============================] - 0s 9ms/step - loss: 6.7369 - acc: 0.8929 - mse: 0.0702 - val_loss: 6.8419 - val_acc: 0.7632 - val_mse: 0.1024\n",
            "Epoch 17/150\n",
            "4/4 [==============================] - 0s 9ms/step - loss: 6.7122 - acc: 0.8929 - mse: 0.0675 - val_loss: 6.8169 - val_acc: 0.7632 - val_mse: 0.0997\n",
            "Epoch 18/150\n",
            "4/4 [==============================] - 0s 10ms/step - loss: 6.6889 - acc: 0.8929 - mse: 0.0650 - val_loss: 6.7983 - val_acc: 0.7632 - val_mse: 0.0986\n",
            "Epoch 19/150\n",
            "4/4 [==============================] - 0s 10ms/step - loss: 6.6666 - acc: 0.8929 - mse: 0.0628 - val_loss: 6.7765 - val_acc: 0.7632 - val_mse: 0.0965\n",
            "Epoch 20/150\n",
            "4/4 [==============================] - 0s 10ms/step - loss: 6.6460 - acc: 0.8929 - mse: 0.0609 - val_loss: 6.7552 - val_acc: 0.7632 - val_mse: 0.0944\n",
            "Epoch 21/150\n",
            "4/4 [==============================] - 0s 10ms/step - loss: 6.6259 - acc: 0.9196 - mse: 0.0588 - val_loss: 6.7351 - val_acc: 0.7895 - val_mse: 0.0926\n",
            "Epoch 22/150\n",
            "4/4 [==============================] - 0s 9ms/step - loss: 6.6068 - acc: 0.9196 - mse: 0.0572 - val_loss: 6.7169 - val_acc: 0.7895 - val_mse: 0.0912\n",
            "Epoch 23/150\n",
            "4/4 [==============================] - 0s 11ms/step - loss: 6.5877 - acc: 0.9196 - mse: 0.0555 - val_loss: 6.6984 - val_acc: 0.7895 - val_mse: 0.0897\n",
            "Epoch 24/150\n",
            "4/4 [==============================] - 0s 10ms/step - loss: 6.5695 - acc: 0.9286 - mse: 0.0539 - val_loss: 6.6777 - val_acc: 0.7895 - val_mse: 0.0874\n",
            "Epoch 25/150\n",
            "4/4 [==============================] - 0s 15ms/step - loss: 6.5524 - acc: 0.9286 - mse: 0.0523 - val_loss: 6.6631 - val_acc: 0.7895 - val_mse: 0.0869\n",
            "Epoch 26/150\n",
            "4/4 [==============================] - 0s 10ms/step - loss: 6.5348 - acc: 0.9286 - mse: 0.0510 - val_loss: 6.6448 - val_acc: 0.7895 - val_mse: 0.0851\n",
            "Epoch 27/150\n",
            "4/4 [==============================] - 0s 13ms/step - loss: 6.5181 - acc: 0.9286 - mse: 0.0496 - val_loss: 6.6285 - val_acc: 0.7632 - val_mse: 0.0840\n",
            "Epoch 28/150\n",
            "4/4 [==============================] - 0s 10ms/step - loss: 6.5016 - acc: 0.9286 - mse: 0.0483 - val_loss: 6.6125 - val_acc: 0.7895 - val_mse: 0.0828\n",
            "Epoch 29/150\n",
            "4/4 [==============================] - 0s 10ms/step - loss: 6.4862 - acc: 0.9375 - mse: 0.0473 - val_loss: 6.6003 - val_acc: 0.7895 - val_mse: 0.0828\n",
            "Epoch 30/150\n",
            "4/4 [==============================] - 0s 12ms/step - loss: 6.4697 - acc: 0.9286 - mse: 0.0460 - val_loss: 6.5840 - val_acc: 0.7895 - val_mse: 0.0814\n",
            "Epoch 31/150\n",
            "4/4 [==============================] - 0s 13ms/step - loss: 6.4546 - acc: 0.9375 - mse: 0.0450 - val_loss: 6.5691 - val_acc: 0.7895 - val_mse: 0.0805\n",
            "Epoch 32/150\n",
            "4/4 [==============================] - 0s 10ms/step - loss: 6.4396 - acc: 0.9375 - mse: 0.0439 - val_loss: 6.5570 - val_acc: 0.7895 - val_mse: 0.0803\n",
            "Epoch 33/150\n",
            "4/4 [==============================] - 0s 11ms/step - loss: 6.4243 - acc: 0.9375 - mse: 0.0429 - val_loss: 6.5398 - val_acc: 0.7895 - val_mse: 0.0785\n",
            "Epoch 34/150\n",
            "4/4 [==============================] - 0s 16ms/step - loss: 6.4099 - acc: 0.9375 - mse: 0.0420 - val_loss: 6.5224 - val_acc: 0.7895 - val_mse: 0.0768\n",
            "Epoch 35/150\n",
            "4/4 [==============================] - 0s 9ms/step - loss: 6.3952 - acc: 0.9375 - mse: 0.0409 - val_loss: 6.5083 - val_acc: 0.8158 - val_mse: 0.0759\n",
            "Epoch 36/150\n",
            "4/4 [==============================] - 0s 10ms/step - loss: 6.3807 - acc: 0.9375 - mse: 0.0399 - val_loss: 6.4948 - val_acc: 0.8158 - val_mse: 0.0752\n",
            "Epoch 37/150\n",
            "4/4 [==============================] - 0s 15ms/step - loss: 6.3663 - acc: 0.9375 - mse: 0.0390 - val_loss: 6.4775 - val_acc: 0.7895 - val_mse: 0.0734\n",
            "Epoch 38/150\n",
            "4/4 [==============================] - 0s 9ms/step - loss: 6.3528 - acc: 0.9375 - mse: 0.0382 - val_loss: 6.4613 - val_acc: 0.7895 - val_mse: 0.0717\n",
            "Epoch 39/150\n",
            "4/4 [==============================] - 0s 10ms/step - loss: 6.3382 - acc: 0.9464 - mse: 0.0370 - val_loss: 6.4465 - val_acc: 0.7895 - val_mse: 0.0705\n",
            "Epoch 40/150\n",
            "4/4 [==============================] - 0s 9ms/step - loss: 6.3248 - acc: 0.9554 - mse: 0.0362 - val_loss: 6.4328 - val_acc: 0.7895 - val_mse: 0.0697\n",
            "Epoch 41/150\n",
            "4/4 [==============================] - 0s 11ms/step - loss: 6.3111 - acc: 0.9554 - mse: 0.0354 - val_loss: 6.4182 - val_acc: 0.7895 - val_mse: 0.0685\n",
            "Epoch 42/150\n",
            "4/4 [==============================] - 0s 10ms/step - loss: 6.2976 - acc: 0.9554 - mse: 0.0345 - val_loss: 6.4068 - val_acc: 0.7895 - val_mse: 0.0683\n",
            "Epoch 43/150\n",
            "4/4 [==============================] - 0s 10ms/step - loss: 6.2839 - acc: 0.9554 - mse: 0.0337 - val_loss: 6.3911 - val_acc: 0.7895 - val_mse: 0.0668\n",
            "Epoch 44/150\n",
            "4/4 [==============================] - 0s 11ms/step - loss: 6.2710 - acc: 0.9554 - mse: 0.0330 - val_loss: 6.3792 - val_acc: 0.7895 - val_mse: 0.0663\n",
            "Epoch 45/150\n",
            "4/4 [==============================] - 0s 10ms/step - loss: 6.2576 - acc: 0.9554 - mse: 0.0322 - val_loss: 6.3649 - val_acc: 0.8158 - val_mse: 0.0651\n",
            "Epoch 46/150\n",
            "4/4 [==============================] - 0s 11ms/step - loss: 6.2443 - acc: 0.9554 - mse: 0.0314 - val_loss: 6.3486 - val_acc: 0.8421 - val_mse: 0.0633\n",
            "Epoch 47/150\n",
            "4/4 [==============================] - 0s 11ms/step - loss: 6.2316 - acc: 0.9554 - mse: 0.0307 - val_loss: 6.3315 - val_acc: 0.8421 - val_mse: 0.0613\n",
            "Epoch 48/150\n",
            "4/4 [==============================] - 0s 10ms/step - loss: 6.2186 - acc: 0.9643 - mse: 0.0298 - val_loss: 6.3151 - val_acc: 0.8421 - val_mse: 0.0595\n",
            "Epoch 49/150\n",
            "4/4 [==============================] - 0s 10ms/step - loss: 6.2078 - acc: 0.9643 - mse: 0.0295 - val_loss: 6.3041 - val_acc: 0.8421 - val_mse: 0.0593\n",
            "Epoch 50/150\n",
            "4/4 [==============================] - 0s 10ms/step - loss: 6.1935 - acc: 0.9643 - mse: 0.0284 - val_loss: 6.2914 - val_acc: 0.8421 - val_mse: 0.0585\n",
            "Epoch 51/150\n",
            "4/4 [==============================] - 0s 19ms/step - loss: 6.1817 - acc: 0.9643 - mse: 0.0280 - val_loss: 6.2800 - val_acc: 0.8421 - val_mse: 0.0582\n",
            "Epoch 52/150\n",
            "4/4 [==============================] - 0s 11ms/step - loss: 6.1693 - acc: 0.9643 - mse: 0.0274 - val_loss: 6.2689 - val_acc: 0.8684 - val_mse: 0.0578\n",
            "Epoch 53/150\n",
            "4/4 [==============================] - 0s 10ms/step - loss: 6.1572 - acc: 0.9643 - mse: 0.0270 - val_loss: 6.2554 - val_acc: 0.8421 - val_mse: 0.0568\n",
            "Epoch 54/150\n",
            "4/4 [==============================] - 0s 10ms/step - loss: 6.1446 - acc: 0.9643 - mse: 0.0263 - val_loss: 6.2406 - val_acc: 0.8684 - val_mse: 0.0555\n",
            "Epoch 55/150\n",
            "4/4 [==============================] - 0s 9ms/step - loss: 6.1325 - acc: 0.9643 - mse: 0.0255 - val_loss: 6.2289 - val_acc: 0.8684 - val_mse: 0.0549\n",
            "Epoch 56/150\n",
            "4/4 [==============================] - 0s 10ms/step - loss: 6.1207 - acc: 0.9643 - mse: 0.0251 - val_loss: 6.2167 - val_acc: 0.8684 - val_mse: 0.0542\n",
            "Epoch 57/150\n",
            "4/4 [==============================] - 0s 10ms/step - loss: 6.1092 - acc: 0.9554 - mse: 0.0246 - val_loss: 6.2055 - val_acc: 0.8947 - val_mse: 0.0538\n",
            "Epoch 58/150\n",
            "4/4 [==============================] - 0s 10ms/step - loss: 6.0977 - acc: 0.9643 - mse: 0.0244 - val_loss: 6.1914 - val_acc: 0.8684 - val_mse: 0.0525\n",
            "Epoch 59/150\n",
            "4/4 [==============================] - 0s 10ms/step - loss: 6.0854 - acc: 0.9732 - mse: 0.0236 - val_loss: 6.1772 - val_acc: 0.8684 - val_mse: 0.0513\n",
            "Epoch 60/150\n",
            "4/4 [==============================] - 0s 16ms/step - loss: 6.0746 - acc: 0.9732 - mse: 0.0234 - val_loss: 6.1630 - val_acc: 0.8684 - val_mse: 0.0500\n",
            "Epoch 61/150\n",
            "4/4 [==============================] - 0s 9ms/step - loss: 6.0626 - acc: 0.9643 - mse: 0.0226 - val_loss: 6.1513 - val_acc: 0.8684 - val_mse: 0.0494\n",
            "Epoch 62/150\n",
            "4/4 [==============================] - 0s 9ms/step - loss: 6.0516 - acc: 0.9643 - mse: 0.0223 - val_loss: 6.1379 - val_acc: 0.8947 - val_mse: 0.0484\n",
            "Epoch 63/150\n",
            "4/4 [==============================] - 0s 9ms/step - loss: 6.0399 - acc: 0.9643 - mse: 0.0217 - val_loss: 6.1254 - val_acc: 0.8947 - val_mse: 0.0476\n",
            "Epoch 64/150\n",
            "4/4 [==============================] - 0s 9ms/step - loss: 6.0294 - acc: 0.9643 - mse: 0.0215 - val_loss: 6.1140 - val_acc: 0.8947 - val_mse: 0.0471\n",
            "Epoch 65/150\n",
            "4/4 [==============================] - 0s 10ms/step - loss: 6.0180 - acc: 0.9643 - mse: 0.0211 - val_loss: 6.1006 - val_acc: 0.8947 - val_mse: 0.0459\n",
            "Epoch 66/150\n",
            "4/4 [==============================] - 0s 9ms/step - loss: 6.0068 - acc: 0.9643 - mse: 0.0207 - val_loss: 6.0884 - val_acc: 0.8947 - val_mse: 0.0453\n",
            "Epoch 67/150\n",
            "4/4 [==============================] - 0s 11ms/step - loss: 5.9950 - acc: 0.9643 - mse: 0.0199 - val_loss: 6.0775 - val_acc: 0.8947 - val_mse: 0.0449\n",
            "Epoch 68/150\n",
            "4/4 [==============================] - 0s 10ms/step - loss: 5.9849 - acc: 0.9643 - mse: 0.0199 - val_loss: 6.0648 - val_acc: 0.8947 - val_mse: 0.0441\n",
            "Epoch 69/150\n",
            "4/4 [==============================] - 0s 13ms/step - loss: 5.9737 - acc: 0.9732 - mse: 0.0193 - val_loss: 6.0526 - val_acc: 0.8947 - val_mse: 0.0433\n",
            "Epoch 70/150\n",
            "4/4 [==============================] - 0s 10ms/step - loss: 5.9647 - acc: 0.9732 - mse: 0.0195 - val_loss: 6.0415 - val_acc: 0.8947 - val_mse: 0.0429\n",
            "Epoch 71/150\n",
            "4/4 [==============================] - 0s 11ms/step - loss: 5.9526 - acc: 0.9732 - mse: 0.0188 - val_loss: 6.0287 - val_acc: 0.8947 - val_mse: 0.0419\n",
            "Epoch 72/150\n",
            "4/4 [==============================] - 0s 10ms/step - loss: 5.9414 - acc: 0.9732 - mse: 0.0183 - val_loss: 6.0164 - val_acc: 0.8947 - val_mse: 0.0412\n",
            "Epoch 73/150\n",
            "4/4 [==============================] - 0s 10ms/step - loss: 5.9312 - acc: 0.9732 - mse: 0.0181 - val_loss: 6.0055 - val_acc: 0.8947 - val_mse: 0.0408\n",
            "Epoch 74/150\n",
            "4/4 [==============================] - 0s 15ms/step - loss: 5.9227 - acc: 0.9732 - mse: 0.0185 - val_loss: 5.9935 - val_acc: 0.8947 - val_mse: 0.0400\n",
            "Epoch 75/150\n",
            "4/4 [==============================] - 0s 11ms/step - loss: 5.9097 - acc: 0.9732 - mse: 0.0174 - val_loss: 5.9819 - val_acc: 0.8947 - val_mse: 0.0393\n",
            "Epoch 76/150\n",
            "4/4 [==============================] - 0s 16ms/step - loss: 5.8995 - acc: 0.9732 - mse: 0.0173 - val_loss: 5.9710 - val_acc: 0.8947 - val_mse: 0.0390\n",
            "Epoch 77/150\n",
            "4/4 [==============================] - 0s 10ms/step - loss: 5.8888 - acc: 0.9732 - mse: 0.0169 - val_loss: 5.9603 - val_acc: 0.8947 - val_mse: 0.0385\n",
            "Epoch 78/150\n",
            "4/4 [==============================] - 0s 9ms/step - loss: 5.8783 - acc: 0.9732 - mse: 0.0167 - val_loss: 5.9497 - val_acc: 0.8947 - val_mse: 0.0381\n",
            "Epoch 79/150\n",
            "4/4 [==============================] - 0s 11ms/step - loss: 5.8682 - acc: 0.9732 - mse: 0.0166 - val_loss: 5.9394 - val_acc: 0.8947 - val_mse: 0.0379\n",
            "Epoch 80/150\n",
            "4/4 [==============================] - 0s 9ms/step - loss: 5.8582 - acc: 0.9732 - mse: 0.0164 - val_loss: 5.9295 - val_acc: 0.8947 - val_mse: 0.0379\n",
            "Epoch 81/150\n",
            "4/4 [==============================] - 0s 11ms/step - loss: 5.8486 - acc: 0.9732 - mse: 0.0163 - val_loss: 5.9187 - val_acc: 0.8947 - val_mse: 0.0374\n",
            "Epoch 82/150\n",
            "4/4 [==============================] - 0s 11ms/step - loss: 5.8379 - acc: 0.9732 - mse: 0.0159 - val_loss: 5.9077 - val_acc: 0.8947 - val_mse: 0.0368\n",
            "Epoch 83/150\n",
            "4/4 [==============================] - 0s 11ms/step - loss: 5.8283 - acc: 0.9732 - mse: 0.0160 - val_loss: 5.8975 - val_acc: 0.8947 - val_mse: 0.0368\n",
            "Epoch 84/150\n",
            "4/4 [==============================] - 0s 10ms/step - loss: 5.8182 - acc: 0.9732 - mse: 0.0155 - val_loss: 5.8872 - val_acc: 0.8947 - val_mse: 0.0364\n",
            "Epoch 85/150\n",
            "4/4 [==============================] - 0s 10ms/step - loss: 5.8085 - acc: 0.9732 - mse: 0.0154 - val_loss: 5.8768 - val_acc: 0.8947 - val_mse: 0.0357\n",
            "Epoch 86/150\n",
            "4/4 [==============================] - 0s 15ms/step - loss: 5.7982 - acc: 0.9732 - mse: 0.0154 - val_loss: 5.8663 - val_acc: 0.8947 - val_mse: 0.0354\n",
            "Epoch 87/150\n",
            "4/4 [==============================] - 0s 13ms/step - loss: 5.7889 - acc: 0.9732 - mse: 0.0153 - val_loss: 5.8556 - val_acc: 0.8947 - val_mse: 0.0350\n",
            "Epoch 88/150\n",
            "4/4 [==============================] - 0s 11ms/step - loss: 5.7788 - acc: 0.9732 - mse: 0.0150 - val_loss: 5.8458 - val_acc: 0.8947 - val_mse: 0.0347\n",
            "Epoch 89/150\n",
            "4/4 [==============================] - 0s 10ms/step - loss: 5.7700 - acc: 0.9732 - mse: 0.0151 - val_loss: 5.8355 - val_acc: 0.9211 - val_mse: 0.0341\n",
            "Epoch 90/150\n",
            "4/4 [==============================] - 0s 11ms/step - loss: 5.7599 - acc: 0.9732 - mse: 0.0151 - val_loss: 5.8251 - val_acc: 0.8947 - val_mse: 0.0339\n",
            "Epoch 91/150\n",
            "4/4 [==============================] - 0s 10ms/step - loss: 5.7500 - acc: 0.9732 - mse: 0.0148 - val_loss: 5.8144 - val_acc: 0.8947 - val_mse: 0.0336\n",
            "Epoch 92/150\n",
            "4/4 [==============================] - 0s 10ms/step - loss: 5.7403 - acc: 0.9732 - mse: 0.0146 - val_loss: 5.8039 - val_acc: 0.8947 - val_mse: 0.0332\n",
            "Epoch 93/150\n",
            "4/4 [==============================] - 0s 11ms/step - loss: 5.7308 - acc: 0.9732 - mse: 0.0145 - val_loss: 5.7933 - val_acc: 0.9211 - val_mse: 0.0325\n",
            "Epoch 94/150\n",
            "4/4 [==============================] - 0s 13ms/step - loss: 5.7212 - acc: 0.9732 - mse: 0.0145 - val_loss: 5.7826 - val_acc: 0.8947 - val_mse: 0.0323\n",
            "Epoch 95/150\n",
            "4/4 [==============================] - 0s 9ms/step - loss: 5.7110 - acc: 0.9732 - mse: 0.0140 - val_loss: 5.7730 - val_acc: 0.8947 - val_mse: 0.0323\n",
            "Epoch 96/150\n",
            "4/4 [==============================] - 0s 11ms/step - loss: 5.7024 - acc: 0.9732 - mse: 0.0140 - val_loss: 5.7633 - val_acc: 0.8947 - val_mse: 0.0320\n",
            "Epoch 97/150\n",
            "4/4 [==============================] - 0s 11ms/step - loss: 5.6946 - acc: 0.9732 - mse: 0.0147 - val_loss: 5.7537 - val_acc: 0.8947 - val_mse: 0.0323\n",
            "Epoch 98/150\n",
            "4/4 [==============================] - 0s 11ms/step - loss: 5.6835 - acc: 0.9732 - mse: 0.0137 - val_loss: 5.7439 - val_acc: 0.8947 - val_mse: 0.0319\n",
            "Epoch 99/150\n",
            "4/4 [==============================] - 0s 11ms/step - loss: 5.6738 - acc: 0.9732 - mse: 0.0137 - val_loss: 5.7340 - val_acc: 0.8947 - val_mse: 0.0315\n",
            "Epoch 100/150\n",
            "4/4 [==============================] - 0s 13ms/step - loss: 5.6641 - acc: 0.9732 - mse: 0.0135 - val_loss: 5.7240 - val_acc: 0.8947 - val_mse: 0.0312\n",
            "Epoch 101/150\n",
            "4/4 [==============================] - 0s 12ms/step - loss: 5.6553 - acc: 0.9732 - mse: 0.0136 - val_loss: 5.7145 - val_acc: 0.8947 - val_mse: 0.0310\n",
            "Epoch 102/150\n",
            "4/4 [==============================] - 0s 12ms/step - loss: 5.6459 - acc: 0.9732 - mse: 0.0134 - val_loss: 5.7041 - val_acc: 0.8947 - val_mse: 0.0308\n",
            "Epoch 103/150\n",
            "4/4 [==============================] - 0s 11ms/step - loss: 5.6371 - acc: 0.9732 - mse: 0.0134 - val_loss: 5.6957 - val_acc: 0.8947 - val_mse: 0.0311\n",
            "Epoch 104/150\n",
            "4/4 [==============================] - 0s 13ms/step - loss: 5.6272 - acc: 0.9732 - mse: 0.0131 - val_loss: 5.6874 - val_acc: 0.8947 - val_mse: 0.0314\n",
            "Epoch 105/150\n",
            "4/4 [==============================] - 0s 10ms/step - loss: 5.6185 - acc: 0.9732 - mse: 0.0131 - val_loss: 5.6793 - val_acc: 0.8947 - val_mse: 0.0318\n",
            "Epoch 106/150\n",
            "4/4 [==============================] - 0s 10ms/step - loss: 5.6089 - acc: 0.9732 - mse: 0.0129 - val_loss: 5.6687 - val_acc: 0.8947 - val_mse: 0.0312\n",
            "Epoch 107/150\n",
            "4/4 [==============================] - 0s 11ms/step - loss: 5.5997 - acc: 0.9732 - mse: 0.0127 - val_loss: 5.6577 - val_acc: 0.8947 - val_mse: 0.0304\n",
            "Epoch 108/150\n",
            "4/4 [==============================] - 0s 10ms/step - loss: 5.5925 - acc: 0.9732 - mse: 0.0133 - val_loss: 5.6495 - val_acc: 0.8947 - val_mse: 0.0307\n",
            "Epoch 109/150\n",
            "4/4 [==============================] - 0s 11ms/step - loss: 5.5816 - acc: 0.9732 - mse: 0.0127 - val_loss: 5.6392 - val_acc: 0.8947 - val_mse: 0.0300\n",
            "Epoch 110/150\n",
            "4/4 [==============================] - 0s 11ms/step - loss: 5.5723 - acc: 0.9732 - mse: 0.0127 - val_loss: 5.6296 - val_acc: 0.8947 - val_mse: 0.0298\n",
            "Epoch 111/150\n",
            "4/4 [==============================] - 0s 10ms/step - loss: 5.5636 - acc: 0.9732 - mse: 0.0126 - val_loss: 5.6192 - val_acc: 0.8947 - val_mse: 0.0289\n",
            "Epoch 112/150\n",
            "4/4 [==============================] - 0s 11ms/step - loss: 5.5543 - acc: 0.9732 - mse: 0.0126 - val_loss: 5.6102 - val_acc: 0.8947 - val_mse: 0.0289\n",
            "Epoch 113/150\n",
            "4/4 [==============================] - 0s 11ms/step - loss: 5.5455 - acc: 0.9732 - mse: 0.0126 - val_loss: 5.6007 - val_acc: 0.8947 - val_mse: 0.0287\n",
            "Epoch 114/150\n",
            "4/4 [==============================] - 0s 10ms/step - loss: 5.5390 - acc: 0.9732 - mse: 0.0131 - val_loss: 5.5927 - val_acc: 0.8947 - val_mse: 0.0291\n",
            "Epoch 115/150\n",
            "4/4 [==============================] - 0s 10ms/step - loss: 5.5272 - acc: 0.9732 - mse: 0.0123 - val_loss: 5.5831 - val_acc: 0.8947 - val_mse: 0.0288\n",
            "Epoch 116/150\n",
            "4/4 [==============================] - 0s 10ms/step - loss: 5.5187 - acc: 0.9732 - mse: 0.0124 - val_loss: 5.5740 - val_acc: 0.8947 - val_mse: 0.0288\n",
            "Epoch 117/150\n",
            "4/4 [==============================] - 0s 11ms/step - loss: 5.5102 - acc: 0.9732 - mse: 0.0123 - val_loss: 5.5644 - val_acc: 0.8947 - val_mse: 0.0284\n",
            "Epoch 118/150\n",
            "4/4 [==============================] - 0s 10ms/step - loss: 5.5011 - acc: 0.9732 - mse: 0.0124 - val_loss: 5.5574 - val_acc: 0.8947 - val_mse: 0.0294\n",
            "Epoch 119/150\n",
            "4/4 [==============================] - 0s 11ms/step - loss: 5.4924 - acc: 0.9732 - mse: 0.0122 - val_loss: 5.5511 - val_acc: 0.8947 - val_mse: 0.0303\n",
            "Epoch 120/150\n",
            "4/4 [==============================] - 0s 11ms/step - loss: 5.4833 - acc: 0.9732 - mse: 0.0119 - val_loss: 5.5405 - val_acc: 0.8947 - val_mse: 0.0295\n",
            "Epoch 121/150\n",
            "4/4 [==============================] - 0s 12ms/step - loss: 5.4749 - acc: 0.9732 - mse: 0.0121 - val_loss: 5.5321 - val_acc: 0.8947 - val_mse: 0.0298\n",
            "Epoch 122/150\n",
            "4/4 [==============================] - 0s 13ms/step - loss: 5.4666 - acc: 0.9732 - mse: 0.0121 - val_loss: 5.5214 - val_acc: 0.8947 - val_mse: 0.0289\n",
            "Epoch 123/150\n",
            "4/4 [==============================] - 0s 11ms/step - loss: 5.4566 - acc: 0.9732 - mse: 0.0118 - val_loss: 5.5124 - val_acc: 0.8947 - val_mse: 0.0287\n",
            "Epoch 124/150\n",
            "4/4 [==============================] - 0s 11ms/step - loss: 5.4477 - acc: 0.9732 - mse: 0.0117 - val_loss: 5.5035 - val_acc: 0.8947 - val_mse: 0.0285\n",
            "Epoch 125/150\n",
            "4/4 [==============================] - 0s 11ms/step - loss: 5.4402 - acc: 0.9732 - mse: 0.0122 - val_loss: 5.4950 - val_acc: 0.8947 - val_mse: 0.0287\n",
            "Epoch 126/150\n",
            "4/4 [==============================] - 0s 10ms/step - loss: 5.4309 - acc: 0.9732 - mse: 0.0117 - val_loss: 5.4853 - val_acc: 0.8947 - val_mse: 0.0281\n",
            "Epoch 127/150\n",
            "4/4 [==============================] - 0s 13ms/step - loss: 5.4238 - acc: 0.9732 - mse: 0.0121 - val_loss: 5.4757 - val_acc: 0.8947 - val_mse: 0.0276\n",
            "Epoch 128/150\n",
            "4/4 [==============================] - 0s 11ms/step - loss: 5.4141 - acc: 0.9732 - mse: 0.0119 - val_loss: 5.4667 - val_acc: 0.8947 - val_mse: 0.0273\n",
            "Epoch 129/150\n",
            "4/4 [==============================] - 0s 10ms/step - loss: 5.4048 - acc: 0.9732 - mse: 0.0118 - val_loss: 5.4577 - val_acc: 0.8947 - val_mse: 0.0270\n",
            "Epoch 130/150\n",
            "4/4 [==============================] - 0s 10ms/step - loss: 5.3963 - acc: 0.9732 - mse: 0.0118 - val_loss: 5.4491 - val_acc: 0.8947 - val_mse: 0.0270\n",
            "Epoch 131/150\n",
            "4/4 [==============================] - 0s 9ms/step - loss: 5.3878 - acc: 0.9732 - mse: 0.0118 - val_loss: 5.4402 - val_acc: 0.9211 - val_mse: 0.0267\n",
            "Epoch 132/150\n",
            "4/4 [==============================] - 0s 13ms/step - loss: 5.3799 - acc: 0.9732 - mse: 0.0120 - val_loss: 5.4319 - val_acc: 0.9211 - val_mse: 0.0268\n",
            "Epoch 133/150\n",
            "4/4 [==============================] - 0s 10ms/step - loss: 5.3708 - acc: 0.9732 - mse: 0.0118 - val_loss: 5.4251 - val_acc: 0.8947 - val_mse: 0.0278\n",
            "Epoch 134/150\n",
            "4/4 [==============================] - 0s 11ms/step - loss: 5.3617 - acc: 0.9732 - mse: 0.0114 - val_loss: 5.4159 - val_acc: 0.8947 - val_mse: 0.0275\n",
            "Epoch 135/150\n",
            "4/4 [==============================] - 0s 10ms/step - loss: 5.3536 - acc: 0.9732 - mse: 0.0115 - val_loss: 5.4064 - val_acc: 0.8947 - val_mse: 0.0272\n",
            "Epoch 136/150\n",
            "4/4 [==============================] - 0s 12ms/step - loss: 5.3449 - acc: 0.9732 - mse: 0.0114 - val_loss: 5.3972 - val_acc: 0.8947 - val_mse: 0.0269\n",
            "Epoch 137/150\n",
            "4/4 [==============================] - 0s 11ms/step - loss: 5.3369 - acc: 0.9732 - mse: 0.0115 - val_loss: 5.3886 - val_acc: 0.8947 - val_mse: 0.0267\n",
            "Epoch 138/150\n",
            "4/4 [==============================] - 0s 11ms/step - loss: 5.3283 - acc: 0.9732 - mse: 0.0116 - val_loss: 5.3807 - val_acc: 0.8947 - val_mse: 0.0271\n",
            "Epoch 139/150\n",
            "4/4 [==============================] - 0s 11ms/step - loss: 5.3196 - acc: 0.9732 - mse: 0.0114 - val_loss: 5.3743 - val_acc: 0.8947 - val_mse: 0.0280\n",
            "Epoch 140/150\n",
            "4/4 [==============================] - 0s 11ms/step - loss: 5.3109 - acc: 0.9732 - mse: 0.0112 - val_loss: 5.3655 - val_acc: 0.8947 - val_mse: 0.0278\n",
            "Epoch 141/150\n",
            "4/4 [==============================] - 0s 11ms/step - loss: 5.3025 - acc: 0.9732 - mse: 0.0111 - val_loss: 5.3560 - val_acc: 0.8947 - val_mse: 0.0273\n",
            "Epoch 142/150\n",
            "4/4 [==============================] - 0s 10ms/step - loss: 5.2941 - acc: 0.9732 - mse: 0.0111 - val_loss: 5.3468 - val_acc: 0.8947 - val_mse: 0.0270\n",
            "Epoch 143/150\n",
            "4/4 [==============================] - 0s 11ms/step - loss: 5.2868 - acc: 0.9732 - mse: 0.0113 - val_loss: 5.3382 - val_acc: 0.8947 - val_mse: 0.0269\n",
            "Epoch 144/150\n",
            "4/4 [==============================] - 0s 12ms/step - loss: 5.2790 - acc: 0.9732 - mse: 0.0116 - val_loss: 5.3357 - val_acc: 0.8947 - val_mse: 0.0292\n",
            "Epoch 145/150\n",
            "4/4 [==============================] - 0s 11ms/step - loss: 5.2697 - acc: 0.9732 - mse: 0.0110 - val_loss: 5.3251 - val_acc: 0.8947 - val_mse: 0.0281\n",
            "Epoch 146/150\n",
            "4/4 [==============================] - 0s 12ms/step - loss: 5.2615 - acc: 0.9732 - mse: 0.0112 - val_loss: 5.3185 - val_acc: 0.8947 - val_mse: 0.0287\n",
            "Epoch 147/150\n",
            "4/4 [==============================] - 0s 11ms/step - loss: 5.2530 - acc: 0.9732 - mse: 0.0110 - val_loss: 5.3060 - val_acc: 0.8947 - val_mse: 0.0270\n",
            "Epoch 148/150\n",
            "4/4 [==============================] - 0s 11ms/step - loss: 5.2450 - acc: 0.9732 - mse: 0.0112 - val_loss: 5.2970 - val_acc: 0.8947 - val_mse: 0.0266\n",
            "Epoch 149/150\n",
            "4/4 [==============================] - 0s 12ms/step - loss: 5.2361 - acc: 0.9732 - mse: 0.0111 - val_loss: 5.2900 - val_acc: 0.8947 - val_mse: 0.0273\n",
            "Epoch 150/150\n",
            "4/4 [==============================] - 0s 10ms/step - loss: 5.2287 - acc: 0.9732 - mse: 0.0111 - val_loss: 5.2801 - val_acc: 0.8947 - val_mse: 0.0266\n"
          ]
        }
      ]
    },
    {
      "cell_type": "code",
      "metadata": {
        "id": "Db80d8_gv8Vs",
        "colab": {
          "base_uri": "https://localhost:8080/"
        },
        "outputId": "30a165c3-1f81-4946-d275-005d1b48d243"
      },
      "source": [
        "#just how we used evaluate() in the basic model previously, use it again to find the loss, accuracy and MSE on the test set\n",
        "print(model5.evaluate(X_test,y_test))"
      ],
      "execution_count": 43,
      "outputs": [
        {
          "output_type": "stream",
          "name": "stdout",
          "text": [
            "2/2 [==============================] - 0s 4ms/step - loss: 5.2801 - acc: 0.8947 - mse: 0.0266\n",
            "[5.28013801574707, 0.8947368264198303, 0.026584280654788017]\n"
          ]
        }
      ]
    },
    {
      "cell_type": "code",
      "metadata": {
        "id": "8RAxNBh9v8Vs",
        "colab": {
          "base_uri": "https://localhost:8080/",
          "height": 581
        },
        "outputId": "16e2f36e-3dc2-4521-92d2-e6b2fa1d4841"
      },
      "source": [
        "# Plot the train loss vs validation loss and train accuracy vs validation accuracy graphs just like we did before\n",
        "plt.style.use('ggplot')\n",
        "plt.plot(hist5.history['loss'], label = 'loss')\n",
        "plt.plot(hist5.history['val_loss'], label='val loss')\n",
        "plt.title(\"Train Loss vs Val_Loss\")\n",
        "plt.xlabel(\"Epochs\")\n",
        "plt.ylabel(\"Loss\")\n",
        "plt.legend()\n",
        "plt.show()\n",
        "\n",
        "plt.plot(hist5.history['acc'], label = 'train acc')\n",
        "plt.plot(hist5.history['val_acc'], label='val acc')\n",
        "plt.title(\"train acc vs Val_acc\")\n",
        "plt.xlabel(\"Epochs\")\n",
        "plt.ylabel(\"acc\")\n",
        "plt.legend()\n",
        "plt.show()\n",
        "\n"
      ],
      "execution_count": 44,
      "outputs": [
        {
          "output_type": "display_data",
          "data": {
            "image/png": "[encoded data removed]",
            "text/plain": [
              "<Figure size 432x288 with 1 Axes>"
            ]
          },
          "metadata": {}
        },
        {
          "output_type": "display_data",
          "data": {
            "image/png": "[encoded data removed]",
            "text/plain": [
              "<Figure size 432x288 with 1 Axes>"
            ]
          },
          "metadata": {}
        }
      ]
    },
    {
      "cell_type": "markdown",
      "metadata": {
        "id": "9i9RXd6vv8Vt"
      },
      "source": [
        "\n",
        " \n",
        "\n",
        "## Dropout\n",
        " \n"
      ]
    },
    {
      "cell_type": "code",
      "metadata": {
        "id": "MQWFgaTcv8Vt",
        "colab": {
          "base_uri": "https://localhost:8080/"
        },
        "outputId": "4129e613-b4f7-4450-c39f-ad6b57b41dfe"
      },
      "source": [
        "#Another common way to avoid regularization is by using the Dropout technique. The main idea behind using dropout is that we randomly turn off some neurons in our layer based on some probability.\n",
        "\n",
        "# Create a model6 having same layers as the basic model. Add a dropout layer in this model, lets say after the 1st dense layer, and set dropout rate as 50%\n",
        "model6 = Sequential([\n",
        "    Dense(512, activation='tanh', input_shape = X_train[0].shape),\n",
        "    Dropout(0.5),\n",
        "    Dense(512//2, activation='tanh'),\n",
        "    Dense(512//4, activation='tanh'),\n",
        "    Dense(512//8, activation='tanh'),\n",
        "    Dense(32, activation='relu'),\n",
        "    Dense(3, activation='softmax')\n",
        "])\n",
        "print(model6.summary())\n",
        "model6.compile(optimizer='sgd',loss='categorical_crossentropy', metrics=['acc', 'mse'])\n",
        "hist6 = model6.fit(X_train, y_train, epochs=150, batch_size=128, validation_data=(X_test,y_test))\n"
      ],
      "execution_count": 45,
      "outputs": [
        {
          "output_type": "stream",
          "name": "stdout",
          "text": [
            "Model: \"sequential_7\"\n",
            "_________________________________________________________________\n",
            "Layer (type)                 Output Shape              Param #   \n",
            "=================================================================\n",
            "dense_32 (Dense)             (None, 512)               2560      \n",
            "_________________________________________________________________\n",
            "dropout (Dropout)            (None, 512)               0         \n",
            "_________________________________________________________________\n",
            "dense_33 (Dense)             (None, 256)               131328    \n",
            "_________________________________________________________________\n",
            "dense_34 (Dense)             (None, 128)               32896     \n",
            "_________________________________________________________________\n",
            "dense_35 (Dense)             (None, 64)                8256      \n",
            "_________________________________________________________________\n",
            "dense_36 (Dense)             (None, 32)                2080      \n",
            "_________________________________________________________________\n",
            "dense_37 (Dense)             (None, 3)                 99        \n",
            "=================================================================\n",
            "Total params: 177,219\n",
            "Trainable params: 177,219\n",
            "Non-trainable params: 0\n",
            "_________________________________________________________________\n",
            "None\n",
            "Epoch 1/150\n",
            "1/1 [==============================] - 1s 501ms/step - loss: 1.1620 - acc: 0.3125 - mse: 0.2357 - val_loss: 1.0634 - val_acc: 0.6053 - val_mse: 0.2146\n",
            "Epoch 2/150\n",
            "1/1 [==============================] - 0s 25ms/step - loss: 1.1264 - acc: 0.3661 - mse: 0.2282 - val_loss: 1.0033 - val_acc: 0.7368 - val_mse: 0.2007\n",
            "Epoch 3/150\n",
            "1/1 [==============================] - 0s 24ms/step - loss: 1.0157 - acc: 0.5000 - mse: 0.2042 - val_loss: 0.9570 - val_acc: 0.8421 - val_mse: 0.1897\n",
            "Epoch 4/150\n",
            "1/1 [==============================] - 0s 32ms/step - loss: 0.9996 - acc: 0.6429 - mse: 0.2005 - val_loss: 0.9149 - val_acc: 0.7632 - val_mse: 0.1796\n",
            "Epoch 5/150\n",
            "1/1 [==============================] - 0s 28ms/step - loss: 0.9605 - acc: 0.6607 - mse: 0.1915 - val_loss: 0.8764 - val_acc: 0.7368 - val_mse: 0.1704\n",
            "Epoch 6/150\n",
            "1/1 [==============================] - 0s 26ms/step - loss: 0.9118 - acc: 0.7857 - mse: 0.1801 - val_loss: 0.8447 - val_acc: 0.7368 - val_mse: 0.1629\n",
            "Epoch 7/150\n",
            "1/1 [==============================] - 0s 24ms/step - loss: 0.8766 - acc: 0.7411 - mse: 0.1724 - val_loss: 0.8167 - val_acc: 0.7105 - val_mse: 0.1563\n",
            "Epoch 8/150\n",
            "1/1 [==============================] - 0s 23ms/step - loss: 0.8256 - acc: 0.8125 - mse: 0.1599 - val_loss: 0.7905 - val_acc: 0.7105 - val_mse: 0.1503\n",
            "Epoch 9/150\n",
            "1/1 [==============================] - 0s 24ms/step - loss: 0.8180 - acc: 0.7679 - mse: 0.1586 - val_loss: 0.7679 - val_acc: 0.7105 - val_mse: 0.1453\n",
            "Epoch 10/150\n",
            "1/1 [==============================] - 0s 25ms/step - loss: 0.7893 - acc: 0.8036 - mse: 0.1516 - val_loss: 0.7470 - val_acc: 0.7368 - val_mse: 0.1407\n",
            "Epoch 11/150\n",
            "1/1 [==============================] - 0s 23ms/step - loss: 0.7555 - acc: 0.8393 - mse: 0.1435 - val_loss: 0.7289 - val_acc: 0.7105 - val_mse: 0.1368\n",
            "Epoch 12/150\n",
            "1/1 [==============================] - 0s 24ms/step - loss: 0.7316 - acc: 0.8482 - mse: 0.1384 - val_loss: 0.7117 - val_acc: 0.7105 - val_mse: 0.1332\n",
            "Epoch 13/150\n",
            "1/1 [==============================] - 0s 29ms/step - loss: 0.6991 - acc: 0.8482 - mse: 0.1308 - val_loss: 0.6973 - val_acc: 0.7105 - val_mse: 0.1303\n",
            "Epoch 14/150\n",
            "1/1 [==============================] - 0s 29ms/step - loss: 0.6873 - acc: 0.8214 - mse: 0.1281 - val_loss: 0.6842 - val_acc: 0.7105 - val_mse: 0.1277\n",
            "Epoch 15/150\n",
            "1/1 [==============================] - 0s 27ms/step - loss: 0.6853 - acc: 0.8482 - mse: 0.1282 - val_loss: 0.6714 - val_acc: 0.7105 - val_mse: 0.1253\n",
            "Epoch 16/150\n",
            "1/1 [==============================] - 0s 27ms/step - loss: 0.6579 - acc: 0.8482 - mse: 0.1210 - val_loss: 0.6595 - val_acc: 0.7105 - val_mse: 0.1231\n",
            "Epoch 17/150\n",
            "1/1 [==============================] - 0s 25ms/step - loss: 0.6390 - acc: 0.8393 - mse: 0.1168 - val_loss: 0.6486 - val_acc: 0.7105 - val_mse: 0.1211\n",
            "Epoch 18/150\n",
            "1/1 [==============================] - 0s 24ms/step - loss: 0.6173 - acc: 0.8125 - mse: 0.1118 - val_loss: 0.6383 - val_acc: 0.7105 - val_mse: 0.1193\n",
            "Epoch 19/150\n",
            "1/1 [==============================] - 0s 27ms/step - loss: 0.6102 - acc: 0.8482 - mse: 0.1106 - val_loss: 0.6290 - val_acc: 0.7105 - val_mse: 0.1178\n",
            "Epoch 20/150\n",
            "1/1 [==============================] - 0s 26ms/step - loss: 0.5831 - acc: 0.8482 - mse: 0.1046 - val_loss: 0.6201 - val_acc: 0.7105 - val_mse: 0.1164\n",
            "Epoch 21/150\n",
            "1/1 [==============================] - 0s 28ms/step - loss: 0.5708 - acc: 0.8571 - mse: 0.1019 - val_loss: 0.6114 - val_acc: 0.7105 - val_mse: 0.1150\n",
            "Epoch 22/150\n",
            "1/1 [==============================] - 0s 28ms/step - loss: 0.5677 - acc: 0.8482 - mse: 0.1016 - val_loss: 0.6032 - val_acc: 0.7105 - val_mse: 0.1137\n",
            "Epoch 23/150\n",
            "1/1 [==============================] - 0s 26ms/step - loss: 0.5514 - acc: 0.8482 - mse: 0.0979 - val_loss: 0.5954 - val_acc: 0.7105 - val_mse: 0.1125\n",
            "Epoch 24/150\n",
            "1/1 [==============================] - 0s 26ms/step - loss: 0.5458 - acc: 0.8393 - mse: 0.0975 - val_loss: 0.5886 - val_acc: 0.7105 - val_mse: 0.1116\n",
            "Epoch 25/150\n",
            "1/1 [==============================] - 0s 32ms/step - loss: 0.5194 - acc: 0.8482 - mse: 0.0911 - val_loss: 0.5817 - val_acc: 0.7105 - val_mse: 0.1106\n",
            "Epoch 26/150\n",
            "1/1 [==============================] - 0s 28ms/step - loss: 0.5183 - acc: 0.8571 - mse: 0.0914 - val_loss: 0.5752 - val_acc: 0.7105 - val_mse: 0.1097\n",
            "Epoch 27/150\n",
            "1/1 [==============================] - 0s 27ms/step - loss: 0.5203 - acc: 0.8482 - mse: 0.0918 - val_loss: 0.5690 - val_acc: 0.7105 - val_mse: 0.1089\n",
            "Epoch 28/150\n",
            "1/1 [==============================] - 0s 28ms/step - loss: 0.5040 - acc: 0.8750 - mse: 0.0887 - val_loss: 0.5633 - val_acc: 0.7105 - val_mse: 0.1081\n",
            "Epoch 29/150\n",
            "1/1 [==============================] - 0s 29ms/step - loss: 0.5043 - acc: 0.8571 - mse: 0.0889 - val_loss: 0.5578 - val_acc: 0.7105 - val_mse: 0.1074\n",
            "Epoch 30/150\n",
            "1/1 [==============================] - 0s 31ms/step - loss: 0.4877 - acc: 0.8661 - mse: 0.0860 - val_loss: 0.5526 - val_acc: 0.7105 - val_mse: 0.1067\n",
            "Epoch 31/150\n",
            "1/1 [==============================] - 0s 32ms/step - loss: 0.4865 - acc: 0.8750 - mse: 0.0856 - val_loss: 0.5480 - val_acc: 0.7368 - val_mse: 0.1062\n",
            "Epoch 32/150\n",
            "1/1 [==============================] - 0s 32ms/step - loss: 0.4814 - acc: 0.8482 - mse: 0.0845 - val_loss: 0.5434 - val_acc: 0.7368 - val_mse: 0.1057\n",
            "Epoch 33/150\n",
            "1/1 [==============================] - 0s 25ms/step - loss: 0.4825 - acc: 0.8571 - mse: 0.0858 - val_loss: 0.5392 - val_acc: 0.7368 - val_mse: 0.1052\n",
            "Epoch 34/150\n",
            "1/1 [==============================] - 0s 30ms/step - loss: 0.4461 - acc: 0.8750 - mse: 0.0770 - val_loss: 0.5349 - val_acc: 0.7368 - val_mse: 0.1047\n",
            "Epoch 35/150\n",
            "1/1 [==============================] - 0s 27ms/step - loss: 0.4668 - acc: 0.8571 - mse: 0.0822 - val_loss: 0.5309 - val_acc: 0.7368 - val_mse: 0.1043\n",
            "Epoch 36/150\n",
            "1/1 [==============================] - 0s 33ms/step - loss: 0.4462 - acc: 0.8482 - mse: 0.0775 - val_loss: 0.5266 - val_acc: 0.7368 - val_mse: 0.1038\n",
            "Epoch 37/150\n",
            "1/1 [==============================] - 0s 26ms/step - loss: 0.4336 - acc: 0.8661 - mse: 0.0753 - val_loss: 0.5229 - val_acc: 0.7368 - val_mse: 0.1033\n",
            "Epoch 38/150\n",
            "1/1 [==============================] - 0s 47ms/step - loss: 0.4390 - acc: 0.8571 - mse: 0.0768 - val_loss: 0.5188 - val_acc: 0.7368 - val_mse: 0.1028\n",
            "Epoch 39/150\n",
            "1/1 [==============================] - 0s 26ms/step - loss: 0.4447 - acc: 0.8571 - mse: 0.0786 - val_loss: 0.5155 - val_acc: 0.7368 - val_mse: 0.1024\n",
            "Epoch 40/150\n",
            "1/1 [==============================] - 0s 31ms/step - loss: 0.4215 - acc: 0.8750 - mse: 0.0728 - val_loss: 0.5121 - val_acc: 0.7632 - val_mse: 0.1020\n",
            "Epoch 41/150\n",
            "1/1 [==============================] - 0s 31ms/step - loss: 0.4158 - acc: 0.8661 - mse: 0.0721 - val_loss: 0.5090 - val_acc: 0.7632 - val_mse: 0.1017\n",
            "Epoch 42/150\n",
            "1/1 [==============================] - 0s 36ms/step - loss: 0.4180 - acc: 0.8750 - mse: 0.0727 - val_loss: 0.5058 - val_acc: 0.7632 - val_mse: 0.1014\n",
            "Epoch 43/150\n",
            "1/1 [==============================] - 0s 22ms/step - loss: 0.4148 - acc: 0.8571 - mse: 0.0725 - val_loss: 0.5027 - val_acc: 0.7632 - val_mse: 0.1010\n",
            "Epoch 44/150\n",
            "1/1 [==============================] - 0s 23ms/step - loss: 0.4070 - acc: 0.8929 - mse: 0.0710 - val_loss: 0.5000 - val_acc: 0.7632 - val_mse: 0.1008\n",
            "Epoch 45/150\n",
            "1/1 [==============================] - 0s 26ms/step - loss: 0.4151 - acc: 0.8571 - mse: 0.0731 - val_loss: 0.4971 - val_acc: 0.7632 - val_mse: 0.1005\n",
            "Epoch 46/150\n",
            "1/1 [==============================] - 0s 24ms/step - loss: 0.3971 - acc: 0.8929 - mse: 0.0690 - val_loss: 0.4944 - val_acc: 0.7632 - val_mse: 0.1002\n",
            "Epoch 47/150\n",
            "1/1 [==============================] - 0s 25ms/step - loss: 0.4076 - acc: 0.8571 - mse: 0.0721 - val_loss: 0.4915 - val_acc: 0.7632 - val_mse: 0.0999\n",
            "Epoch 48/150\n",
            "1/1 [==============================] - 0s 27ms/step - loss: 0.3997 - acc: 0.8839 - mse: 0.0701 - val_loss: 0.4889 - val_acc: 0.7632 - val_mse: 0.0996\n",
            "Epoch 49/150\n",
            "1/1 [==============================] - 0s 33ms/step - loss: 0.3877 - acc: 0.8839 - mse: 0.0673 - val_loss: 0.4866 - val_acc: 0.7632 - val_mse: 0.0994\n",
            "Epoch 50/150\n",
            "1/1 [==============================] - 0s 32ms/step - loss: 0.3929 - acc: 0.8482 - mse: 0.0697 - val_loss: 0.4842 - val_acc: 0.7632 - val_mse: 0.0991\n",
            "Epoch 51/150\n",
            "1/1 [==============================] - 0s 29ms/step - loss: 0.3724 - acc: 0.8839 - mse: 0.0643 - val_loss: 0.4816 - val_acc: 0.7632 - val_mse: 0.0988\n",
            "Epoch 52/150\n",
            "1/1 [==============================] - 0s 33ms/step - loss: 0.3684 - acc: 0.8750 - mse: 0.0640 - val_loss: 0.4796 - val_acc: 0.7632 - val_mse: 0.0986\n",
            "Epoch 53/150\n",
            "1/1 [==============================] - 0s 23ms/step - loss: 0.3755 - acc: 0.8571 - mse: 0.0660 - val_loss: 0.4773 - val_acc: 0.7632 - val_mse: 0.0983\n",
            "Epoch 54/150\n",
            "1/1 [==============================] - 0s 31ms/step - loss: 0.3768 - acc: 0.8661 - mse: 0.0665 - val_loss: 0.4750 - val_acc: 0.7632 - val_mse: 0.0980\n",
            "Epoch 55/150\n",
            "1/1 [==============================] - 0s 28ms/step - loss: 0.3696 - acc: 0.8839 - mse: 0.0650 - val_loss: 0.4727 - val_acc: 0.7632 - val_mse: 0.0978\n",
            "Epoch 56/150\n",
            "1/1 [==============================] - 0s 29ms/step - loss: 0.3525 - acc: 0.8929 - mse: 0.0604 - val_loss: 0.4708 - val_acc: 0.7368 - val_mse: 0.0976\n",
            "Epoch 57/150\n",
            "1/1 [==============================] - 0s 27ms/step - loss: 0.3666 - acc: 0.8750 - mse: 0.0643 - val_loss: 0.4685 - val_acc: 0.7368 - val_mse: 0.0973\n",
            "Epoch 58/150\n",
            "1/1 [==============================] - 0s 29ms/step - loss: 0.3470 - acc: 0.8839 - mse: 0.0597 - val_loss: 0.4663 - val_acc: 0.7368 - val_mse: 0.0970\n",
            "Epoch 59/150\n",
            "1/1 [==============================] - 0s 45ms/step - loss: 0.3482 - acc: 0.8839 - mse: 0.0603 - val_loss: 0.4640 - val_acc: 0.7368 - val_mse: 0.0967\n",
            "Epoch 60/150\n",
            "1/1 [==============================] - 0s 30ms/step - loss: 0.3510 - acc: 0.8839 - mse: 0.0616 - val_loss: 0.4621 - val_acc: 0.7368 - val_mse: 0.0965\n",
            "Epoch 61/150\n",
            "1/1 [==============================] - 0s 27ms/step - loss: 0.3522 - acc: 0.8839 - mse: 0.0623 - val_loss: 0.4601 - val_acc: 0.7368 - val_mse: 0.0962\n",
            "Epoch 62/150\n",
            "1/1 [==============================] - 0s 30ms/step - loss: 0.3456 - acc: 0.9018 - mse: 0.0606 - val_loss: 0.4584 - val_acc: 0.7368 - val_mse: 0.0961\n",
            "Epoch 63/150\n",
            "1/1 [==============================] - 0s 28ms/step - loss: 0.3515 - acc: 0.8661 - mse: 0.0629 - val_loss: 0.4566 - val_acc: 0.7368 - val_mse: 0.0958\n",
            "Epoch 64/150\n",
            "1/1 [==============================] - 0s 28ms/step - loss: 0.3224 - acc: 0.9107 - mse: 0.0551 - val_loss: 0.4550 - val_acc: 0.7368 - val_mse: 0.0957\n",
            "Epoch 65/150\n",
            "1/1 [==============================] - 0s 26ms/step - loss: 0.3271 - acc: 0.9018 - mse: 0.0562 - val_loss: 0.4531 - val_acc: 0.7368 - val_mse: 0.0954\n",
            "Epoch 66/150\n",
            "1/1 [==============================] - 0s 29ms/step - loss: 0.3257 - acc: 0.8839 - mse: 0.0567 - val_loss: 0.4515 - val_acc: 0.7368 - val_mse: 0.0952\n",
            "Epoch 67/150\n",
            "1/1 [==============================] - 0s 44ms/step - loss: 0.3270 - acc: 0.9375 - mse: 0.0563 - val_loss: 0.4502 - val_acc: 0.7368 - val_mse: 0.0952\n",
            "Epoch 68/150\n",
            "1/1 [==============================] - 0s 26ms/step - loss: 0.3319 - acc: 0.8839 - mse: 0.0575 - val_loss: 0.4486 - val_acc: 0.7368 - val_mse: 0.0950\n",
            "Epoch 69/150\n",
            "1/1 [==============================] - 0s 36ms/step - loss: 0.3315 - acc: 0.9018 - mse: 0.0583 - val_loss: 0.4467 - val_acc: 0.7368 - val_mse: 0.0947\n",
            "Epoch 70/150\n",
            "1/1 [==============================] - 0s 29ms/step - loss: 0.3306 - acc: 0.9018 - mse: 0.0588 - val_loss: 0.4452 - val_acc: 0.7368 - val_mse: 0.0945\n",
            "Epoch 71/150\n",
            "1/1 [==============================] - 0s 27ms/step - loss: 0.3213 - acc: 0.9018 - mse: 0.0568 - val_loss: 0.4435 - val_acc: 0.7368 - val_mse: 0.0943\n",
            "Epoch 72/150\n",
            "1/1 [==============================] - 0s 25ms/step - loss: 0.3144 - acc: 0.9018 - mse: 0.0550 - val_loss: 0.4417 - val_acc: 0.7368 - val_mse: 0.0940\n",
            "Epoch 73/150\n",
            "1/1 [==============================] - 0s 31ms/step - loss: 0.3055 - acc: 0.9107 - mse: 0.0527 - val_loss: 0.4401 - val_acc: 0.7368 - val_mse: 0.0938\n",
            "Epoch 74/150\n",
            "1/1 [==============================] - 0s 48ms/step - loss: 0.3176 - acc: 0.8661 - mse: 0.0562 - val_loss: 0.4385 - val_acc: 0.7632 - val_mse: 0.0936\n",
            "Epoch 75/150\n",
            "1/1 [==============================] - 0s 26ms/step - loss: 0.3151 - acc: 0.8929 - mse: 0.0557 - val_loss: 0.4370 - val_acc: 0.7632 - val_mse: 0.0934\n",
            "Epoch 76/150\n",
            "1/1 [==============================] - 0s 27ms/step - loss: 0.3049 - acc: 0.9196 - mse: 0.0525 - val_loss: 0.4357 - val_acc: 0.7632 - val_mse: 0.0932\n",
            "Epoch 77/150\n",
            "1/1 [==============================] - 0s 26ms/step - loss: 0.3059 - acc: 0.9107 - mse: 0.0536 - val_loss: 0.4340 - val_acc: 0.7632 - val_mse: 0.0930\n",
            "Epoch 78/150\n",
            "1/1 [==============================] - 0s 28ms/step - loss: 0.2967 - acc: 0.9464 - mse: 0.0501 - val_loss: 0.4329 - val_acc: 0.7632 - val_mse: 0.0929\n",
            "Epoch 79/150\n",
            "1/1 [==============================] - 0s 29ms/step - loss: 0.2980 - acc: 0.9107 - mse: 0.0521 - val_loss: 0.4318 - val_acc: 0.7632 - val_mse: 0.0928\n",
            "Epoch 80/150\n",
            "1/1 [==============================] - 0s 32ms/step - loss: 0.2912 - acc: 0.9286 - mse: 0.0502 - val_loss: 0.4305 - val_acc: 0.7632 - val_mse: 0.0926\n",
            "Epoch 81/150\n",
            "1/1 [==============================] - 0s 25ms/step - loss: 0.3026 - acc: 0.9018 - mse: 0.0535 - val_loss: 0.4293 - val_acc: 0.7632 - val_mse: 0.0924\n",
            "Epoch 82/150\n",
            "1/1 [==============================] - 0s 32ms/step - loss: 0.2898 - acc: 0.9196 - mse: 0.0498 - val_loss: 0.4281 - val_acc: 0.7632 - val_mse: 0.0923\n",
            "Epoch 83/150\n",
            "1/1 [==============================] - 0s 29ms/step - loss: 0.2931 - acc: 0.9196 - mse: 0.0510 - val_loss: 0.4267 - val_acc: 0.7632 - val_mse: 0.0921\n",
            "Epoch 84/150\n",
            "1/1 [==============================] - 0s 25ms/step - loss: 0.2992 - acc: 0.9107 - mse: 0.0523 - val_loss: 0.4254 - val_acc: 0.7632 - val_mse: 0.0919\n",
            "Epoch 85/150\n",
            "1/1 [==============================] - 0s 25ms/step - loss: 0.2901 - acc: 0.9286 - mse: 0.0505 - val_loss: 0.4242 - val_acc: 0.7632 - val_mse: 0.0918\n",
            "Epoch 86/150\n",
            "1/1 [==============================] - 0s 31ms/step - loss: 0.2957 - acc: 0.9018 - mse: 0.0525 - val_loss: 0.4230 - val_acc: 0.7632 - val_mse: 0.0916\n",
            "Epoch 87/150\n",
            "1/1 [==============================] - 0s 27ms/step - loss: 0.2925 - acc: 0.9018 - mse: 0.0514 - val_loss: 0.4220 - val_acc: 0.7632 - val_mse: 0.0915\n",
            "Epoch 88/150\n",
            "1/1 [==============================] - 0s 27ms/step - loss: 0.2799 - acc: 0.9375 - mse: 0.0474 - val_loss: 0.4210 - val_acc: 0.7632 - val_mse: 0.0914\n",
            "Epoch 89/150\n",
            "1/1 [==============================] - 0s 27ms/step - loss: 0.2992 - acc: 0.8661 - mse: 0.0539 - val_loss: 0.4197 - val_acc: 0.7632 - val_mse: 0.0912\n",
            "Epoch 90/150\n",
            "1/1 [==============================] - 0s 35ms/step - loss: 0.2712 - acc: 0.9375 - mse: 0.0454 - val_loss: 0.4184 - val_acc: 0.7632 - val_mse: 0.0910\n",
            "Epoch 91/150\n",
            "1/1 [==============================] - 0s 25ms/step - loss: 0.2885 - acc: 0.9018 - mse: 0.0512 - val_loss: 0.4170 - val_acc: 0.7632 - val_mse: 0.0908\n",
            "Epoch 92/150\n",
            "1/1 [==============================] - 0s 24ms/step - loss: 0.2755 - acc: 0.9196 - mse: 0.0478 - val_loss: 0.4155 - val_acc: 0.7632 - val_mse: 0.0905\n",
            "Epoch 93/150\n",
            "1/1 [==============================] - 0s 32ms/step - loss: 0.2819 - acc: 0.8929 - mse: 0.0498 - val_loss: 0.4145 - val_acc: 0.7632 - val_mse: 0.0904\n",
            "Epoch 94/150\n",
            "1/1 [==============================] - 0s 25ms/step - loss: 0.2827 - acc: 0.9286 - mse: 0.0503 - val_loss: 0.4135 - val_acc: 0.7632 - val_mse: 0.0903\n",
            "Epoch 95/150\n",
            "1/1 [==============================] - 0s 26ms/step - loss: 0.2744 - acc: 0.9196 - mse: 0.0480 - val_loss: 0.4125 - val_acc: 0.7632 - val_mse: 0.0902\n",
            "Epoch 96/150\n",
            "1/1 [==============================] - 0s 35ms/step - loss: 0.2687 - acc: 0.9286 - mse: 0.0464 - val_loss: 0.4114 - val_acc: 0.7632 - val_mse: 0.0900\n",
            "Epoch 97/150\n",
            "1/1 [==============================] - 0s 32ms/step - loss: 0.2747 - acc: 0.9196 - mse: 0.0486 - val_loss: 0.4102 - val_acc: 0.7632 - val_mse: 0.0898\n",
            "Epoch 98/150\n",
            "1/1 [==============================] - 0s 31ms/step - loss: 0.2729 - acc: 0.9286 - mse: 0.0477 - val_loss: 0.4092 - val_acc: 0.7632 - val_mse: 0.0897\n",
            "Epoch 99/150\n",
            "1/1 [==============================] - 0s 30ms/step - loss: 0.2678 - acc: 0.9196 - mse: 0.0466 - val_loss: 0.4079 - val_acc: 0.7632 - val_mse: 0.0895\n",
            "Epoch 100/150\n",
            "1/1 [==============================] - 0s 33ms/step - loss: 0.2707 - acc: 0.9375 - mse: 0.0479 - val_loss: 0.4069 - val_acc: 0.7632 - val_mse: 0.0893\n",
            "Epoch 101/150\n",
            "1/1 [==============================] - 0s 29ms/step - loss: 0.2652 - acc: 0.9286 - mse: 0.0463 - val_loss: 0.4055 - val_acc: 0.7632 - val_mse: 0.0891\n",
            "Epoch 102/150\n",
            "1/1 [==============================] - 0s 26ms/step - loss: 0.2563 - acc: 0.9375 - mse: 0.0443 - val_loss: 0.4042 - val_acc: 0.7632 - val_mse: 0.0889\n",
            "Epoch 103/150\n",
            "1/1 [==============================] - 0s 30ms/step - loss: 0.2612 - acc: 0.9375 - mse: 0.0460 - val_loss: 0.4029 - val_acc: 0.7632 - val_mse: 0.0886\n",
            "Epoch 104/150\n",
            "1/1 [==============================] - 0s 26ms/step - loss: 0.2506 - acc: 0.9464 - mse: 0.0425 - val_loss: 0.4018 - val_acc: 0.7632 - val_mse: 0.0884\n",
            "Epoch 105/150\n",
            "1/1 [==============================] - 0s 26ms/step - loss: 0.2655 - acc: 0.9196 - mse: 0.0470 - val_loss: 0.4003 - val_acc: 0.7632 - val_mse: 0.0881\n",
            "Epoch 106/150\n",
            "1/1 [==============================] - 0s 28ms/step - loss: 0.2708 - acc: 0.9196 - mse: 0.0482 - val_loss: 0.3988 - val_acc: 0.7632 - val_mse: 0.0879\n",
            "Epoch 107/150\n",
            "1/1 [==============================] - 0s 26ms/step - loss: 0.2480 - acc: 0.9464 - mse: 0.0427 - val_loss: 0.3975 - val_acc: 0.7632 - val_mse: 0.0876\n",
            "Epoch 108/150\n",
            "1/1 [==============================] - 0s 32ms/step - loss: 0.2554 - acc: 0.9464 - mse: 0.0446 - val_loss: 0.3964 - val_acc: 0.7632 - val_mse: 0.0874\n",
            "Epoch 109/150\n",
            "1/1 [==============================] - 0s 33ms/step - loss: 0.2584 - acc: 0.9286 - mse: 0.0461 - val_loss: 0.3952 - val_acc: 0.7632 - val_mse: 0.0872\n",
            "Epoch 110/150\n",
            "1/1 [==============================] - 0s 31ms/step - loss: 0.2543 - acc: 0.9286 - mse: 0.0444 - val_loss: 0.3939 - val_acc: 0.7632 - val_mse: 0.0870\n",
            "Epoch 111/150\n",
            "1/1 [==============================] - 0s 33ms/step - loss: 0.2558 - acc: 0.9375 - mse: 0.0443 - val_loss: 0.3930 - val_acc: 0.7632 - val_mse: 0.0868\n",
            "Epoch 112/150\n",
            "1/1 [==============================] - 0s 28ms/step - loss: 0.2448 - acc: 0.9464 - mse: 0.0420 - val_loss: 0.3922 - val_acc: 0.7632 - val_mse: 0.0867\n",
            "Epoch 113/150\n",
            "1/1 [==============================] - 0s 39ms/step - loss: 0.2447 - acc: 0.9375 - mse: 0.0422 - val_loss: 0.3912 - val_acc: 0.7632 - val_mse: 0.0866\n",
            "Epoch 114/150\n",
            "1/1 [==============================] - 0s 25ms/step - loss: 0.2489 - acc: 0.9375 - mse: 0.0435 - val_loss: 0.3897 - val_acc: 0.7632 - val_mse: 0.0863\n",
            "Epoch 115/150\n",
            "1/1 [==============================] - 0s 28ms/step - loss: 0.2366 - acc: 0.9375 - mse: 0.0404 - val_loss: 0.3885 - val_acc: 0.7632 - val_mse: 0.0860\n",
            "Epoch 116/150\n",
            "1/1 [==============================] - 0s 25ms/step - loss: 0.2467 - acc: 0.9196 - mse: 0.0438 - val_loss: 0.3872 - val_acc: 0.7632 - val_mse: 0.0858\n",
            "Epoch 117/150\n",
            "1/1 [==============================] - 0s 28ms/step - loss: 0.2385 - acc: 0.9375 - mse: 0.0406 - val_loss: 0.3861 - val_acc: 0.7632 - val_mse: 0.0856\n",
            "Epoch 118/150\n",
            "1/1 [==============================] - 0s 32ms/step - loss: 0.2360 - acc: 0.9375 - mse: 0.0410 - val_loss: 0.3850 - val_acc: 0.7632 - val_mse: 0.0854\n",
            "Epoch 119/150\n",
            "1/1 [==============================] - 0s 28ms/step - loss: 0.2355 - acc: 0.9464 - mse: 0.0404 - val_loss: 0.3841 - val_acc: 0.7632 - val_mse: 0.0853\n",
            "Epoch 120/150\n",
            "1/1 [==============================] - 0s 34ms/step - loss: 0.2383 - acc: 0.9107 - mse: 0.0419 - val_loss: 0.3827 - val_acc: 0.7632 - val_mse: 0.0850\n",
            "Epoch 121/150\n",
            "1/1 [==============================] - 0s 31ms/step - loss: 0.2349 - acc: 0.9375 - mse: 0.0402 - val_loss: 0.3818 - val_acc: 0.7632 - val_mse: 0.0848\n",
            "Epoch 122/150\n",
            "1/1 [==============================] - 0s 27ms/step - loss: 0.2410 - acc: 0.9196 - mse: 0.0423 - val_loss: 0.3803 - val_acc: 0.7632 - val_mse: 0.0845\n",
            "Epoch 123/150\n",
            "1/1 [==============================] - 0s 35ms/step - loss: 0.2390 - acc: 0.9375 - mse: 0.0417 - val_loss: 0.3789 - val_acc: 0.7632 - val_mse: 0.0842\n",
            "Epoch 124/150\n",
            "1/1 [==============================] - 0s 24ms/step - loss: 0.2289 - acc: 0.9554 - mse: 0.0391 - val_loss: 0.3774 - val_acc: 0.7632 - val_mse: 0.0839\n",
            "Epoch 125/150\n",
            "1/1 [==============================] - 0s 25ms/step - loss: 0.2244 - acc: 0.9196 - mse: 0.0381 - val_loss: 0.3764 - val_acc: 0.7632 - val_mse: 0.0837\n",
            "Epoch 126/150\n",
            "1/1 [==============================] - 0s 33ms/step - loss: 0.2303 - acc: 0.9286 - mse: 0.0396 - val_loss: 0.3755 - val_acc: 0.7632 - val_mse: 0.0836\n",
            "Epoch 127/150\n",
            "1/1 [==============================] - 0s 29ms/step - loss: 0.2271 - acc: 0.9464 - mse: 0.0386 - val_loss: 0.3744 - val_acc: 0.7632 - val_mse: 0.0833\n",
            "Epoch 128/150\n",
            "1/1 [==============================] - 0s 31ms/step - loss: 0.2169 - acc: 0.9554 - mse: 0.0362 - val_loss: 0.3734 - val_acc: 0.7632 - val_mse: 0.0832\n",
            "Epoch 129/150\n",
            "1/1 [==============================] - 0s 29ms/step - loss: 0.2226 - acc: 0.9464 - mse: 0.0379 - val_loss: 0.3723 - val_acc: 0.7632 - val_mse: 0.0829\n",
            "Epoch 130/150\n",
            "1/1 [==============================] - 0s 26ms/step - loss: 0.2403 - acc: 0.9107 - mse: 0.0425 - val_loss: 0.3710 - val_acc: 0.7632 - val_mse: 0.0827\n",
            "Epoch 131/150\n",
            "1/1 [==============================] - 0s 26ms/step - loss: 0.2276 - acc: 0.9375 - mse: 0.0393 - val_loss: 0.3697 - val_acc: 0.7632 - val_mse: 0.0824\n",
            "Epoch 132/150\n",
            "1/1 [==============================] - 0s 28ms/step - loss: 0.2364 - acc: 0.9286 - mse: 0.0412 - val_loss: 0.3692 - val_acc: 0.7632 - val_mse: 0.0824\n",
            "Epoch 133/150\n",
            "1/1 [==============================] - 0s 27ms/step - loss: 0.2245 - acc: 0.9375 - mse: 0.0388 - val_loss: 0.3673 - val_acc: 0.7632 - val_mse: 0.0820\n",
            "Epoch 134/150\n",
            "1/1 [==============================] - 0s 29ms/step - loss: 0.2160 - acc: 0.9375 - mse: 0.0375 - val_loss: 0.3659 - val_acc: 0.7632 - val_mse: 0.0817\n",
            "Epoch 135/150\n",
            "1/1 [==============================] - 0s 25ms/step - loss: 0.2171 - acc: 0.9464 - mse: 0.0371 - val_loss: 0.3646 - val_acc: 0.7895 - val_mse: 0.0814\n",
            "Epoch 136/150\n",
            "1/1 [==============================] - 0s 27ms/step - loss: 0.2273 - acc: 0.9286 - mse: 0.0402 - val_loss: 0.3629 - val_acc: 0.7895 - val_mse: 0.0810\n",
            "Epoch 137/150\n",
            "1/1 [==============================] - 0s 29ms/step - loss: 0.2234 - acc: 0.9464 - mse: 0.0384 - val_loss: 0.3615 - val_acc: 0.7895 - val_mse: 0.0807\n",
            "Epoch 138/150\n",
            "1/1 [==============================] - 0s 28ms/step - loss: 0.2253 - acc: 0.9554 - mse: 0.0395 - val_loss: 0.3602 - val_acc: 0.7895 - val_mse: 0.0804\n",
            "Epoch 139/150\n",
            "1/1 [==============================] - 0s 28ms/step - loss: 0.2139 - acc: 0.9464 - mse: 0.0368 - val_loss: 0.3590 - val_acc: 0.7895 - val_mse: 0.0802\n",
            "Epoch 140/150\n",
            "1/1 [==============================] - 0s 28ms/step - loss: 0.2184 - acc: 0.9464 - mse: 0.0373 - val_loss: 0.3577 - val_acc: 0.7895 - val_mse: 0.0799\n",
            "Epoch 141/150\n",
            "1/1 [==============================] - 0s 34ms/step - loss: 0.2132 - acc: 0.9464 - mse: 0.0358 - val_loss: 0.3561 - val_acc: 0.8158 - val_mse: 0.0795\n",
            "Epoch 142/150\n",
            "1/1 [==============================] - 0s 32ms/step - loss: 0.2155 - acc: 0.9464 - mse: 0.0366 - val_loss: 0.3551 - val_acc: 0.8158 - val_mse: 0.0793\n",
            "Epoch 143/150\n",
            "1/1 [==============================] - 0s 26ms/step - loss: 0.2076 - acc: 0.9554 - mse: 0.0350 - val_loss: 0.3542 - val_acc: 0.8158 - val_mse: 0.0792\n",
            "Epoch 144/150\n",
            "1/1 [==============================] - 0s 30ms/step - loss: 0.2145 - acc: 0.9464 - mse: 0.0363 - val_loss: 0.3533 - val_acc: 0.8158 - val_mse: 0.0790\n",
            "Epoch 145/150\n",
            "1/1 [==============================] - 0s 38ms/step - loss: 0.2060 - acc: 0.9464 - mse: 0.0347 - val_loss: 0.3522 - val_acc: 0.8158 - val_mse: 0.0788\n",
            "Epoch 146/150\n",
            "1/1 [==============================] - 0s 29ms/step - loss: 0.2122 - acc: 0.9375 - mse: 0.0362 - val_loss: 0.3506 - val_acc: 0.8158 - val_mse: 0.0784\n",
            "Epoch 147/150\n",
            "1/1 [==============================] - 0s 25ms/step - loss: 0.2156 - acc: 0.9286 - mse: 0.0379 - val_loss: 0.3492 - val_acc: 0.8158 - val_mse: 0.0781\n",
            "Epoch 148/150\n",
            "1/1 [==============================] - 0s 29ms/step - loss: 0.2104 - acc: 0.9286 - mse: 0.0364 - val_loss: 0.3479 - val_acc: 0.8158 - val_mse: 0.0778\n",
            "Epoch 149/150\n",
            "1/1 [==============================] - 0s 31ms/step - loss: 0.2028 - acc: 0.9375 - mse: 0.0337 - val_loss: 0.3475 - val_acc: 0.8158 - val_mse: 0.0778\n",
            "Epoch 150/150\n",
            "1/1 [==============================] - 0s 28ms/step - loss: 0.2102 - acc: 0.9286 - mse: 0.0366 - val_loss: 0.3466 - val_acc: 0.8158 - val_mse: 0.0776\n"
          ]
        }
      ]
    },
    {
      "cell_type": "code",
      "metadata": {
        "id": "ZiX2KNq_v8Vt",
        "colab": {
          "base_uri": "https://localhost:8080/"
        },
        "outputId": "8dbb0480-7d12-40c0-abf4-07c51d123549"
      },
      "source": [
        "#just how we used evaluate() in the basic model previously, use it again to find the loss, accuracy and MSE on the test set\n",
        "print(model6.evaluate(X_test,y_test))"
      ],
      "execution_count": 46,
      "outputs": [
        {
          "output_type": "stream",
          "name": "stdout",
          "text": [
            "2/2 [==============================] - 0s 6ms/step - loss: 0.3466 - acc: 0.8158 - mse: 0.0776\n",
            "[0.34657636284828186, 0.8157894611358643, 0.07762077450752258]\n"
          ]
        }
      ]
    },
    {
      "cell_type": "code",
      "metadata": {
        "id": "2HnB9XQgv8Vt",
        "colab": {
          "base_uri": "https://localhost:8080/",
          "height": 581
        },
        "outputId": "b3fc734c-4e72-4e44-b004-5ee96aeccd15"
      },
      "source": [
        "# Plot the train loss vs validation loss and train accuracy vs validation accuracy graphs just like we did before\n",
        "plt.style.use('ggplot')\n",
        "plt.plot(hist6.history['loss'], label = 'loss')\n",
        "plt.plot(hist6.history['val_loss'], label='val loss')\n",
        "plt.title(\"Train Loss vs Val_Loss\")\n",
        "plt.xlabel(\"Epochs\")\n",
        "plt.ylabel(\"Loss\")\n",
        "plt.legend()\n",
        "plt.show()\n",
        "\n",
        "plt.plot(hist6.history['acc'], label = 'train acc')\n",
        "plt.plot(hist6.history['val_acc'], label='val acc')\n",
        "plt.title(\"train acc vs Val_acc\")\n",
        "plt.xlabel(\"Epochs\")\n",
        "plt.ylabel(\"acc\")\n",
        "plt.legend()\n",
        "plt.show()\n"
      ],
      "execution_count": 47,
      "outputs": [
        {
          "output_type": "display_data",
          "data": {
            "image/png": "[encoded data removed]",
            "text/plain": [
              "<Figure size 432x288 with 1 Axes>"
            ]
          },
          "metadata": {}
        },
        {
          "output_type": "display_data",
          "data": {
            "image/png": "[encoded data removed]",
            "text/plain": [
              "<Figure size 432x288 with 1 Axes>"
            ]
          },
          "metadata": {}
        }
      ]
    },
    {
      "cell_type": "code",
      "metadata": {
        "id": "G2k3oZTFv8Vt",
        "colab": {
          "base_uri": "https://localhost:8080/"
        },
        "outputId": "55f87e32-9a26-4eed-8353-07a0238a9250"
      },
      "source": [
        "# Create model7, having more dropout layers, having a dropout rate of your choice\n",
        "model7 = Sequential([\n",
        "    Dense(512, activation='tanh', input_shape = X_train[0].shape),\n",
        "    Dropout(0.5,input_shape=X_train[0].shape),\n",
        "    Dense(512//2, activation='tanh'),\n",
        "    Dropout(0.5),\n",
        "    Dense(512//4, activation='tanh'),\n",
        "    Dropout(0.5),\n",
        "    Dense(512//8, activation='tanh'),\n",
        "    Dropout(0.4),\n",
        "    Dense(32, activation='relu'),\n",
        "    Dense(3, activation='softmax')\n",
        "])\n",
        "print(model7.summary())\n",
        "model7.compile(optimizer='sgd',loss='categorical_crossentropy', metrics=['acc', 'mse'])\n",
        "hist7 = model7.fit(X_train, y_train, epochs=150, batch_size=32, validation_data=(X_test,y_test))\n"
      ],
      "execution_count": 48,
      "outputs": [
        {
          "output_type": "stream",
          "name": "stdout",
          "text": [
            "Model: \"sequential_8\"\n",
            "_________________________________________________________________\n",
            "Layer (type)                 Output Shape              Param #   \n",
            "=================================================================\n",
            "dense_38 (Dense)             (None, 512)               2560      \n",
            "_________________________________________________________________\n",
            "dropout_1 (Dropout)          (None, 512)               0         \n",
            "_________________________________________________________________\n",
            "dense_39 (Dense)             (None, 256)               131328    \n",
            "_________________________________________________________________\n",
            "dropout_2 (Dropout)          (None, 256)               0         \n",
            "_________________________________________________________________\n",
            "dense_40 (Dense)             (None, 128)               32896     \n",
            "_________________________________________________________________\n",
            "dropout_3 (Dropout)          (None, 128)               0         \n",
            "_________________________________________________________________\n",
            "dense_41 (Dense)             (None, 64)                8256      \n",
            "_________________________________________________________________\n",
            "dropout_4 (Dropout)          (None, 64)                0         \n",
            "_________________________________________________________________\n",
            "dense_42 (Dense)             (None, 32)                2080      \n",
            "_________________________________________________________________\n",
            "dense_43 (Dense)             (None, 3)                 99        \n",
            "=================================================================\n",
            "Total params: 177,219\n",
            "Trainable params: 177,219\n",
            "Non-trainable params: 0\n",
            "_________________________________________________________________\n",
            "None\n",
            "Epoch 1/150\n",
            "4/4 [==============================] - 1s 55ms/step - loss: 1.0722 - acc: 0.4286 - mse: 0.2155 - val_loss: 1.0455 - val_acc: 0.5000 - val_mse: 0.2106\n",
            "Epoch 2/150\n",
            "4/4 [==============================] - 0s 9ms/step - loss: 1.0259 - acc: 0.4554 - mse: 0.2068 - val_loss: 0.9548 - val_acc: 0.7368 - val_mse: 0.1896\n",
            "Epoch 3/150\n",
            "4/4 [==============================] - 0s 10ms/step - loss: 0.9589 - acc: 0.5179 - mse: 0.1922 - val_loss: 0.8815 - val_acc: 0.7632 - val_mse: 0.1723\n",
            "Epoch 4/150\n",
            "4/4 [==============================] - 0s 9ms/step - loss: 0.9297 - acc: 0.5357 - mse: 0.1835 - val_loss: 0.8277 - val_acc: 0.7632 - val_mse: 0.1597\n",
            "Epoch 5/150\n",
            "4/4 [==============================] - 0s 8ms/step - loss: 0.8466 - acc: 0.6786 - mse: 0.1645 - val_loss: 0.7706 - val_acc: 0.7632 - val_mse: 0.1464\n",
            "Epoch 6/150\n",
            "4/4 [==============================] - 0s 9ms/step - loss: 0.8230 - acc: 0.6250 - mse: 0.1609 - val_loss: 0.7261 - val_acc: 0.7632 - val_mse: 0.1364\n",
            "Epoch 7/150\n",
            "4/4 [==============================] - 0s 9ms/step - loss: 0.7769 - acc: 0.6607 - mse: 0.1506 - val_loss: 0.6873 - val_acc: 0.7368 - val_mse: 0.1280\n",
            "Epoch 8/150\n",
            "4/4 [==============================] - 0s 10ms/step - loss: 0.7391 - acc: 0.7143 - mse: 0.1403 - val_loss: 0.6517 - val_acc: 0.7368 - val_mse: 0.1207\n",
            "Epoch 9/150\n",
            "4/4 [==============================] - 0s 9ms/step - loss: 0.7180 - acc: 0.7232 - mse: 0.1370 - val_loss: 0.6194 - val_acc: 0.7368 - val_mse: 0.1144\n",
            "Epoch 10/150\n",
            "4/4 [==============================] - 0s 12ms/step - loss: 0.6646 - acc: 0.7589 - mse: 0.1257 - val_loss: 0.5956 - val_acc: 0.7368 - val_mse: 0.1102\n",
            "Epoch 11/150\n",
            "4/4 [==============================] - 0s 9ms/step - loss: 0.6130 - acc: 0.8036 - mse: 0.1136 - val_loss: 0.5717 - val_acc: 0.7368 - val_mse: 0.1062\n",
            "Epoch 12/150\n",
            "4/4 [==============================] - 0s 10ms/step - loss: 0.6507 - acc: 0.7589 - mse: 0.1230 - val_loss: 0.5544 - val_acc: 0.7368 - val_mse: 0.1038\n",
            "Epoch 13/150\n",
            "4/4 [==============================] - 0s 9ms/step - loss: 0.6227 - acc: 0.7768 - mse: 0.1164 - val_loss: 0.5350 - val_acc: 0.7368 - val_mse: 0.1009\n",
            "Epoch 14/150\n",
            "4/4 [==============================] - 0s 10ms/step - loss: 0.5380 - acc: 0.8571 - mse: 0.0963 - val_loss: 0.5212 - val_acc: 0.7368 - val_mse: 0.0994\n",
            "Epoch 15/150\n",
            "4/4 [==============================] - 0s 10ms/step - loss: 0.5865 - acc: 0.7857 - mse: 0.1085 - val_loss: 0.5083 - val_acc: 0.7368 - val_mse: 0.0978\n",
            "Epoch 16/150\n",
            "4/4 [==============================] - 0s 10ms/step - loss: 0.5925 - acc: 0.8125 - mse: 0.1101 - val_loss: 0.4951 - val_acc: 0.7632 - val_mse: 0.0959\n",
            "Epoch 17/150\n",
            "4/4 [==============================] - 0s 10ms/step - loss: 0.5475 - acc: 0.8214 - mse: 0.1023 - val_loss: 0.4886 - val_acc: 0.7368 - val_mse: 0.0958\n",
            "Epoch 18/150\n",
            "4/4 [==============================] - 0s 9ms/step - loss: 0.5174 - acc: 0.8125 - mse: 0.0964 - val_loss: 0.4801 - val_acc: 0.7368 - val_mse: 0.0949\n",
            "Epoch 19/150\n",
            "4/4 [==============================] - 0s 9ms/step - loss: 0.5098 - acc: 0.8304 - mse: 0.0960 - val_loss: 0.4723 - val_acc: 0.7368 - val_mse: 0.0940\n",
            "Epoch 20/150\n",
            "4/4 [==============================] - 0s 10ms/step - loss: 0.4915 - acc: 0.8125 - mse: 0.0919 - val_loss: 0.4636 - val_acc: 0.7632 - val_mse: 0.0929\n",
            "Epoch 21/150\n",
            "4/4 [==============================] - 0s 9ms/step - loss: 0.4943 - acc: 0.8036 - mse: 0.0926 - val_loss: 0.4544 - val_acc: 0.7632 - val_mse: 0.0914\n",
            "Epoch 22/150\n",
            "4/4 [==============================] - 0s 9ms/step - loss: 0.4883 - acc: 0.8304 - mse: 0.0903 - val_loss: 0.4503 - val_acc: 0.7632 - val_mse: 0.0917\n",
            "Epoch 23/150\n",
            "4/4 [==============================] - 0s 9ms/step - loss: 0.4738 - acc: 0.8482 - mse: 0.0882 - val_loss: 0.4467 - val_acc: 0.7632 - val_mse: 0.0920\n",
            "Epoch 24/150\n",
            "4/4 [==============================] - 0s 9ms/step - loss: 0.4403 - acc: 0.8571 - mse: 0.0809 - val_loss: 0.4411 - val_acc: 0.7632 - val_mse: 0.0914\n",
            "Epoch 25/150\n",
            "4/4 [==============================] - 0s 9ms/step - loss: 0.4522 - acc: 0.8393 - mse: 0.0849 - val_loss: 0.4385 - val_acc: 0.7632 - val_mse: 0.0914\n",
            "Epoch 26/150\n",
            "4/4 [==============================] - 0s 9ms/step - loss: 0.4370 - acc: 0.8482 - mse: 0.0817 - val_loss: 0.4344 - val_acc: 0.7632 - val_mse: 0.0910\n",
            "Epoch 27/150\n",
            "4/4 [==============================] - 0s 9ms/step - loss: 0.4302 - acc: 0.8214 - mse: 0.0801 - val_loss: 0.4335 - val_acc: 0.7632 - val_mse: 0.0916\n",
            "Epoch 28/150\n",
            "4/4 [==============================] - 0s 10ms/step - loss: 0.4261 - acc: 0.8482 - mse: 0.0815 - val_loss: 0.4280 - val_acc: 0.7632 - val_mse: 0.0907\n",
            "Epoch 29/150\n",
            "4/4 [==============================] - 0s 10ms/step - loss: 0.3904 - acc: 0.8482 - mse: 0.0721 - val_loss: 0.4273 - val_acc: 0.7632 - val_mse: 0.0912\n",
            "Epoch 30/150\n",
            "4/4 [==============================] - 0s 10ms/step - loss: 0.4121 - acc: 0.8839 - mse: 0.0757 - val_loss: 0.4220 - val_acc: 0.7632 - val_mse: 0.0904\n",
            "Epoch 31/150\n",
            "4/4 [==============================] - 0s 11ms/step - loss: 0.4266 - acc: 0.8661 - mse: 0.0813 - val_loss: 0.4251 - val_acc: 0.7632 - val_mse: 0.0919\n",
            "Epoch 32/150\n",
            "4/4 [==============================] - 0s 11ms/step - loss: 0.4101 - acc: 0.8304 - mse: 0.0778 - val_loss: 0.4211 - val_acc: 0.7632 - val_mse: 0.0913\n",
            "Epoch 33/150\n",
            "4/4 [==============================] - 0s 9ms/step - loss: 0.3657 - acc: 0.8929 - mse: 0.0666 - val_loss: 0.4184 - val_acc: 0.7632 - val_mse: 0.0911\n",
            "Epoch 34/150\n",
            "4/4 [==============================] - 0s 8ms/step - loss: 0.3741 - acc: 0.8839 - mse: 0.0682 - val_loss: 0.4117 - val_acc: 0.7632 - val_mse: 0.0896\n",
            "Epoch 35/150\n",
            "4/4 [==============================] - 0s 9ms/step - loss: 0.3854 - acc: 0.8750 - mse: 0.0715 - val_loss: 0.4095 - val_acc: 0.7632 - val_mse: 0.0896\n",
            "Epoch 36/150\n",
            "4/4 [==============================] - 0s 9ms/step - loss: 0.3754 - acc: 0.8750 - mse: 0.0674 - val_loss: 0.4084 - val_acc: 0.7632 - val_mse: 0.0899\n",
            "Epoch 37/150\n",
            "4/4 [==============================] - 0s 10ms/step - loss: 0.3641 - acc: 0.8839 - mse: 0.0676 - val_loss: 0.4061 - val_acc: 0.7632 - val_mse: 0.0894\n",
            "Epoch 38/150\n",
            "4/4 [==============================] - 0s 11ms/step - loss: 0.3686 - acc: 0.8750 - mse: 0.0683 - val_loss: 0.4043 - val_acc: 0.7632 - val_mse: 0.0893\n",
            "Epoch 39/150\n",
            "4/4 [==============================] - 0s 9ms/step - loss: 0.3578 - acc: 0.8929 - mse: 0.0666 - val_loss: 0.4061 - val_acc: 0.7632 - val_mse: 0.0902\n",
            "Epoch 40/150\n",
            "4/4 [==============================] - 0s 9ms/step - loss: 0.3811 - acc: 0.8661 - mse: 0.0708 - val_loss: 0.4066 - val_acc: 0.7632 - val_mse: 0.0908\n",
            "Epoch 41/150\n",
            "4/4 [==============================] - 0s 10ms/step - loss: 0.3450 - acc: 0.9018 - mse: 0.0640 - val_loss: 0.4014 - val_acc: 0.7632 - val_mse: 0.0896\n",
            "Epoch 42/150\n",
            "4/4 [==============================] - 0s 11ms/step - loss: 0.3681 - acc: 0.8571 - mse: 0.0701 - val_loss: 0.3961 - val_acc: 0.7632 - val_mse: 0.0883\n",
            "Epoch 43/150\n",
            "4/4 [==============================] - 0s 10ms/step - loss: 0.3480 - acc: 0.8304 - mse: 0.0674 - val_loss: 0.3947 - val_acc: 0.7632 - val_mse: 0.0879\n",
            "Epoch 44/150\n",
            "4/4 [==============================] - 0s 12ms/step - loss: 0.3592 - acc: 0.8661 - mse: 0.0676 - val_loss: 0.3939 - val_acc: 0.7632 - val_mse: 0.0881\n",
            "Epoch 45/150\n",
            "4/4 [==============================] - 0s 11ms/step - loss: 0.3554 - acc: 0.8929 - mse: 0.0662 - val_loss: 0.3921 - val_acc: 0.7632 - val_mse: 0.0880\n",
            "Epoch 46/150\n",
            "4/4 [==============================] - 0s 10ms/step - loss: 0.3152 - acc: 0.8750 - mse: 0.0607 - val_loss: 0.3915 - val_acc: 0.7632 - val_mse: 0.0880\n",
            "Epoch 47/150\n",
            "4/4 [==============================] - 0s 9ms/step - loss: 0.2857 - acc: 0.9018 - mse: 0.0529 - val_loss: 0.3854 - val_acc: 0.7632 - val_mse: 0.0865\n",
            "Epoch 48/150\n",
            "4/4 [==============================] - 0s 15ms/step - loss: 0.3146 - acc: 0.8661 - mse: 0.0601 - val_loss: 0.3872 - val_acc: 0.7632 - val_mse: 0.0874\n",
            "Epoch 49/150\n",
            "4/4 [==============================] - 0s 10ms/step - loss: 0.3451 - acc: 0.8929 - mse: 0.0632 - val_loss: 0.3819 - val_acc: 0.7632 - val_mse: 0.0862\n",
            "Epoch 50/150\n",
            "4/4 [==============================] - 0s 10ms/step - loss: 0.2849 - acc: 0.9018 - mse: 0.0543 - val_loss: 0.3782 - val_acc: 0.7632 - val_mse: 0.0852\n",
            "Epoch 51/150\n",
            "4/4 [==============================] - 0s 11ms/step - loss: 0.2988 - acc: 0.9018 - mse: 0.0551 - val_loss: 0.3794 - val_acc: 0.7632 - val_mse: 0.0860\n",
            "Epoch 52/150\n",
            "4/4 [==============================] - 0s 10ms/step - loss: 0.2561 - acc: 0.9196 - mse: 0.0444 - val_loss: 0.3758 - val_acc: 0.7632 - val_mse: 0.0849\n",
            "Epoch 53/150\n",
            "4/4 [==============================] - 0s 10ms/step - loss: 0.2904 - acc: 0.8839 - mse: 0.0541 - val_loss: 0.3741 - val_acc: 0.7895 - val_mse: 0.0845\n",
            "Epoch 54/150\n",
            "4/4 [==============================] - 0s 10ms/step - loss: 0.3095 - acc: 0.8839 - mse: 0.0587 - val_loss: 0.3729 - val_acc: 0.7895 - val_mse: 0.0845\n",
            "Epoch 55/150\n",
            "4/4 [==============================] - 0s 12ms/step - loss: 0.2936 - acc: 0.9018 - mse: 0.0541 - val_loss: 0.3682 - val_acc: 0.8158 - val_mse: 0.0832\n",
            "Epoch 56/150\n",
            "4/4 [==============================] - 0s 10ms/step - loss: 0.2764 - acc: 0.9107 - mse: 0.0506 - val_loss: 0.3660 - val_acc: 0.8158 - val_mse: 0.0825\n",
            "Epoch 57/150\n",
            "4/4 [==============================] - 0s 11ms/step - loss: 0.2813 - acc: 0.8839 - mse: 0.0542 - val_loss: 0.3648 - val_acc: 0.8158 - val_mse: 0.0828\n",
            "Epoch 58/150\n",
            "4/4 [==============================] - 0s 9ms/step - loss: 0.3120 - acc: 0.8839 - mse: 0.0616 - val_loss: 0.3671 - val_acc: 0.7895 - val_mse: 0.0839\n",
            "Epoch 59/150\n",
            "4/4 [==============================] - 0s 9ms/step - loss: 0.2362 - acc: 0.9107 - mse: 0.0408 - val_loss: 0.3650 - val_acc: 0.7895 - val_mse: 0.0834\n",
            "Epoch 60/150\n",
            "4/4 [==============================] - 0s 9ms/step - loss: 0.2366 - acc: 0.9196 - mse: 0.0418 - val_loss: 0.3615 - val_acc: 0.8158 - val_mse: 0.0827\n",
            "Epoch 61/150\n",
            "4/4 [==============================] - 0s 10ms/step - loss: 0.3055 - acc: 0.8929 - mse: 0.0577 - val_loss: 0.3585 - val_acc: 0.8158 - val_mse: 0.0822\n",
            "Epoch 62/150\n",
            "4/4 [==============================] - 0s 11ms/step - loss: 0.2898 - acc: 0.8839 - mse: 0.0553 - val_loss: 0.3558 - val_acc: 0.8158 - val_mse: 0.0815\n",
            "Epoch 63/150\n",
            "4/4 [==============================] - 0s 9ms/step - loss: 0.2783 - acc: 0.9018 - mse: 0.0512 - val_loss: 0.3510 - val_acc: 0.8158 - val_mse: 0.0799\n",
            "Epoch 64/150\n",
            "4/4 [==============================] - 0s 9ms/step - loss: 0.2504 - acc: 0.9375 - mse: 0.0447 - val_loss: 0.3483 - val_acc: 0.8158 - val_mse: 0.0793\n",
            "Epoch 65/150\n",
            "4/4 [==============================] - 0s 9ms/step - loss: 0.2527 - acc: 0.9464 - mse: 0.0447 - val_loss: 0.3468 - val_acc: 0.8158 - val_mse: 0.0788\n",
            "Epoch 66/150\n",
            "4/4 [==============================] - 0s 10ms/step - loss: 0.2657 - acc: 0.9107 - mse: 0.0495 - val_loss: 0.3466 - val_acc: 0.8158 - val_mse: 0.0795\n",
            "Epoch 67/150\n",
            "4/4 [==============================] - 0s 9ms/step - loss: 0.2911 - acc: 0.8661 - mse: 0.0570 - val_loss: 0.3410 - val_acc: 0.8158 - val_mse: 0.0785\n",
            "Epoch 68/150\n",
            "4/4 [==============================] - 0s 9ms/step - loss: 0.2434 - acc: 0.9196 - mse: 0.0439 - val_loss: 0.3383 - val_acc: 0.8158 - val_mse: 0.0776\n",
            "Epoch 69/150\n",
            "4/4 [==============================] - 0s 9ms/step - loss: 0.2795 - acc: 0.8839 - mse: 0.0538 - val_loss: 0.3407 - val_acc: 0.8158 - val_mse: 0.0784\n",
            "Epoch 70/150\n",
            "4/4 [==============================] - 0s 10ms/step - loss: 0.2559 - acc: 0.8839 - mse: 0.0504 - val_loss: 0.3361 - val_acc: 0.8158 - val_mse: 0.0770\n",
            "Epoch 71/150\n",
            "4/4 [==============================] - 0s 11ms/step - loss: 0.2417 - acc: 0.9018 - mse: 0.0467 - val_loss: 0.3334 - val_acc: 0.8158 - val_mse: 0.0765\n",
            "Epoch 72/150\n",
            "4/4 [==============================] - 0s 10ms/step - loss: 0.2449 - acc: 0.9286 - mse: 0.0445 - val_loss: 0.3298 - val_acc: 0.8158 - val_mse: 0.0753\n",
            "Epoch 73/150\n",
            "4/4 [==============================] - 0s 10ms/step - loss: 0.2342 - acc: 0.9018 - mse: 0.0442 - val_loss: 0.3318 - val_acc: 0.8158 - val_mse: 0.0764\n",
            "Epoch 74/150\n",
            "4/4 [==============================] - 0s 12ms/step - loss: 0.2088 - acc: 0.9196 - mse: 0.0374 - val_loss: 0.3268 - val_acc: 0.8158 - val_mse: 0.0751\n",
            "Epoch 75/150\n",
            "4/4 [==============================] - 0s 11ms/step - loss: 0.2438 - acc: 0.9375 - mse: 0.0444 - val_loss: 0.3238 - val_acc: 0.8158 - val_mse: 0.0744\n",
            "Epoch 76/150\n",
            "4/4 [==============================] - 0s 10ms/step - loss: 0.2331 - acc: 0.9286 - mse: 0.0441 - val_loss: 0.3205 - val_acc: 0.8158 - val_mse: 0.0740\n",
            "Epoch 77/150\n",
            "4/4 [==============================] - 0s 10ms/step - loss: 0.2806 - acc: 0.8929 - mse: 0.0512 - val_loss: 0.3145 - val_acc: 0.8158 - val_mse: 0.0725\n",
            "Epoch 78/150\n",
            "4/4 [==============================] - 0s 15ms/step - loss: 0.2983 - acc: 0.8839 - mse: 0.0574 - val_loss: 0.3057 - val_acc: 0.8158 - val_mse: 0.0701\n",
            "Epoch 79/150\n",
            "4/4 [==============================] - 0s 9ms/step - loss: 0.2018 - acc: 0.9554 - mse: 0.0328 - val_loss: 0.3040 - val_acc: 0.8158 - val_mse: 0.0698\n",
            "Epoch 80/150\n",
            "4/4 [==============================] - 0s 11ms/step - loss: 0.2036 - acc: 0.9375 - mse: 0.0350 - val_loss: 0.3043 - val_acc: 0.8158 - val_mse: 0.0700\n",
            "Epoch 81/150\n",
            "4/4 [==============================] - 0s 10ms/step - loss: 0.2049 - acc: 0.9554 - mse: 0.0336 - val_loss: 0.3015 - val_acc: 0.8158 - val_mse: 0.0692\n",
            "Epoch 82/150\n",
            "4/4 [==============================] - 0s 10ms/step - loss: 0.2578 - acc: 0.8839 - mse: 0.0500 - val_loss: 0.2954 - val_acc: 0.8421 - val_mse: 0.0677\n",
            "Epoch 83/150\n",
            "4/4 [==============================] - 0s 10ms/step - loss: 0.2226 - acc: 0.9375 - mse: 0.0391 - val_loss: 0.2916 - val_acc: 0.8421 - val_mse: 0.0668\n",
            "Epoch 84/150\n",
            "4/4 [==============================] - 0s 9ms/step - loss: 0.2250 - acc: 0.9196 - mse: 0.0416 - val_loss: 0.2907 - val_acc: 0.8421 - val_mse: 0.0667\n",
            "Epoch 85/150\n",
            "4/4 [==============================] - 0s 9ms/step - loss: 0.2466 - acc: 0.9018 - mse: 0.0479 - val_loss: 0.2874 - val_acc: 0.8421 - val_mse: 0.0658\n",
            "Epoch 86/150\n",
            "4/4 [==============================] - 0s 9ms/step - loss: 0.2308 - acc: 0.9286 - mse: 0.0429 - val_loss: 0.2864 - val_acc: 0.8421 - val_mse: 0.0657\n",
            "Epoch 87/150\n",
            "4/4 [==============================] - 0s 10ms/step - loss: 0.2190 - acc: 0.9464 - mse: 0.0387 - val_loss: 0.2831 - val_acc: 0.8421 - val_mse: 0.0649\n",
            "Epoch 88/150\n",
            "4/4 [==============================] - 0s 10ms/step - loss: 0.2436 - acc: 0.9286 - mse: 0.0456 - val_loss: 0.2804 - val_acc: 0.8421 - val_mse: 0.0642\n",
            "Epoch 89/150\n",
            "4/4 [==============================] - 0s 10ms/step - loss: 0.2239 - acc: 0.9196 - mse: 0.0409 - val_loss: 0.2755 - val_acc: 0.8684 - val_mse: 0.0629\n",
            "Epoch 90/150\n",
            "4/4 [==============================] - 0s 11ms/step - loss: 0.1975 - acc: 0.9286 - mse: 0.0354 - val_loss: 0.2718 - val_acc: 0.8684 - val_mse: 0.0621\n",
            "Epoch 91/150\n",
            "4/4 [==============================] - 0s 10ms/step - loss: 0.2163 - acc: 0.9464 - mse: 0.0388 - val_loss: 0.2682 - val_acc: 0.8684 - val_mse: 0.0612\n",
            "Epoch 92/150\n",
            "4/4 [==============================] - 0s 11ms/step - loss: 0.1826 - acc: 0.9464 - mse: 0.0316 - val_loss: 0.2670 - val_acc: 0.8684 - val_mse: 0.0610\n",
            "Epoch 93/150\n",
            "4/4 [==============================] - 0s 11ms/step - loss: 0.1883 - acc: 0.9464 - mse: 0.0331 - val_loss: 0.2649 - val_acc: 0.8684 - val_mse: 0.0605\n",
            "Epoch 94/150\n",
            "4/4 [==============================] - 0s 10ms/step - loss: 0.2559 - acc: 0.8929 - mse: 0.0505 - val_loss: 0.2608 - val_acc: 0.8684 - val_mse: 0.0594\n",
            "Epoch 95/150\n",
            "4/4 [==============================] - 0s 11ms/step - loss: 0.1765 - acc: 0.9464 - mse: 0.0296 - val_loss: 0.2599 - val_acc: 0.8684 - val_mse: 0.0592\n",
            "Epoch 96/150\n",
            "4/4 [==============================] - 0s 10ms/step - loss: 0.1970 - acc: 0.9286 - mse: 0.0360 - val_loss: 0.2602 - val_acc: 0.8684 - val_mse: 0.0594\n",
            "Epoch 97/150\n",
            "4/4 [==============================] - 0s 10ms/step - loss: 0.2218 - acc: 0.9018 - mse: 0.0427 - val_loss: 0.2564 - val_acc: 0.8684 - val_mse: 0.0585\n",
            "Epoch 98/150\n",
            "4/4 [==============================] - 0s 16ms/step - loss: 0.1834 - acc: 0.9286 - mse: 0.0331 - val_loss: 0.2536 - val_acc: 0.8684 - val_mse: 0.0577\n",
            "Epoch 99/150\n",
            "4/4 [==============================] - 0s 13ms/step - loss: 0.2161 - acc: 0.9375 - mse: 0.0388 - val_loss: 0.2550 - val_acc: 0.8684 - val_mse: 0.0581\n",
            "Epoch 100/150\n",
            "4/4 [==============================] - 0s 11ms/step - loss: 0.1824 - acc: 0.9554 - mse: 0.0300 - val_loss: 0.2525 - val_acc: 0.8684 - val_mse: 0.0577\n",
            "Epoch 101/150\n",
            "4/4 [==============================] - 0s 11ms/step - loss: 0.2194 - acc: 0.9196 - mse: 0.0402 - val_loss: 0.2453 - val_acc: 0.8684 - val_mse: 0.0559\n",
            "Epoch 102/150\n",
            "4/4 [==============================] - 0s 11ms/step - loss: 0.1767 - acc: 0.9375 - mse: 0.0311 - val_loss: 0.2443 - val_acc: 0.8684 - val_mse: 0.0555\n",
            "Epoch 103/150\n",
            "4/4 [==============================] - 0s 10ms/step - loss: 0.1884 - acc: 0.8929 - mse: 0.0359 - val_loss: 0.2417 - val_acc: 0.8684 - val_mse: 0.0549\n",
            "Epoch 104/150\n",
            "4/4 [==============================] - 0s 12ms/step - loss: 0.2211 - acc: 0.8929 - mse: 0.0427 - val_loss: 0.2378 - val_acc: 0.8684 - val_mse: 0.0542\n",
            "Epoch 105/150\n",
            "4/4 [==============================] - 0s 10ms/step - loss: 0.2183 - acc: 0.9196 - mse: 0.0431 - val_loss: 0.2330 - val_acc: 0.8684 - val_mse: 0.0531\n",
            "Epoch 106/150\n",
            "4/4 [==============================] - 0s 10ms/step - loss: 0.2040 - acc: 0.9554 - mse: 0.0334 - val_loss: 0.2285 - val_acc: 0.8684 - val_mse: 0.0519\n",
            "Epoch 107/150\n",
            "4/4 [==============================] - 0s 10ms/step - loss: 0.1321 - acc: 0.9821 - mse: 0.0194 - val_loss: 0.2269 - val_acc: 0.8684 - val_mse: 0.0513\n",
            "Epoch 108/150\n",
            "4/4 [==============================] - 0s 10ms/step - loss: 0.1598 - acc: 0.9464 - mse: 0.0283 - val_loss: 0.2219 - val_acc: 0.8684 - val_mse: 0.0504\n",
            "Epoch 109/150\n",
            "4/4 [==============================] - 0s 10ms/step - loss: 0.1856 - acc: 0.9196 - mse: 0.0353 - val_loss: 0.2174 - val_acc: 0.8684 - val_mse: 0.0493\n",
            "Epoch 110/150\n",
            "4/4 [==============================] - 0s 10ms/step - loss: 0.1683 - acc: 0.9464 - mse: 0.0312 - val_loss: 0.2131 - val_acc: 0.8684 - val_mse: 0.0481\n",
            "Epoch 111/150\n",
            "4/4 [==============================] - 0s 13ms/step - loss: 0.1631 - acc: 0.9375 - mse: 0.0296 - val_loss: 0.2116 - val_acc: 0.8684 - val_mse: 0.0475\n",
            "Epoch 112/150\n",
            "4/4 [==============================] - 0s 9ms/step - loss: 0.1626 - acc: 0.9464 - mse: 0.0291 - val_loss: 0.2085 - val_acc: 0.8684 - val_mse: 0.0464\n",
            "Epoch 113/150\n",
            "4/4 [==============================] - 0s 10ms/step - loss: 0.2016 - acc: 0.9196 - mse: 0.0405 - val_loss: 0.2067 - val_acc: 0.8684 - val_mse: 0.0457\n",
            "Epoch 114/150\n",
            "4/4 [==============================] - 0s 10ms/step - loss: 0.1978 - acc: 0.9286 - mse: 0.0361 - val_loss: 0.2073 - val_acc: 0.8684 - val_mse: 0.0458\n",
            "Epoch 115/150\n",
            "4/4 [==============================] - 0s 12ms/step - loss: 0.2304 - acc: 0.9196 - mse: 0.0436 - val_loss: 0.2034 - val_acc: 0.8684 - val_mse: 0.0452\n",
            "Epoch 116/150\n",
            "4/4 [==============================] - 0s 11ms/step - loss: 0.1842 - acc: 0.9375 - mse: 0.0347 - val_loss: 0.2020 - val_acc: 0.8684 - val_mse: 0.0440\n",
            "Epoch 117/150\n",
            "4/4 [==============================] - 0s 10ms/step - loss: 0.1607 - acc: 0.9196 - mse: 0.0311 - val_loss: 0.2003 - val_acc: 0.8684 - val_mse: 0.0444\n",
            "Epoch 118/150\n",
            "4/4 [==============================] - 0s 10ms/step - loss: 0.1913 - acc: 0.9286 - mse: 0.0358 - val_loss: 0.1985 - val_acc: 0.8684 - val_mse: 0.0447\n",
            "Epoch 119/150\n",
            "4/4 [==============================] - 0s 10ms/step - loss: 0.1586 - acc: 0.9464 - mse: 0.0267 - val_loss: 0.1973 - val_acc: 0.8684 - val_mse: 0.0448\n",
            "Epoch 120/150\n",
            "4/4 [==============================] - 0s 10ms/step - loss: 0.2005 - acc: 0.9375 - mse: 0.0344 - val_loss: 0.1965 - val_acc: 0.8684 - val_mse: 0.0444\n",
            "Epoch 121/150\n",
            "4/4 [==============================] - 0s 11ms/step - loss: 0.1549 - acc: 0.9554 - mse: 0.0283 - val_loss: 0.1994 - val_acc: 0.8684 - val_mse: 0.0455\n",
            "Epoch 122/150\n",
            "4/4 [==============================] - 0s 9ms/step - loss: 0.1629 - acc: 0.9464 - mse: 0.0292 - val_loss: 0.1954 - val_acc: 0.8947 - val_mse: 0.0445\n",
            "Epoch 123/150\n",
            "4/4 [==============================] - 0s 10ms/step - loss: 0.1351 - acc: 0.9554 - mse: 0.0236 - val_loss: 0.1893 - val_acc: 0.8684 - val_mse: 0.0422\n",
            "Epoch 124/150\n",
            "4/4 [==============================] - 0s 11ms/step - loss: 0.1657 - acc: 0.9375 - mse: 0.0293 - val_loss: 0.1886 - val_acc: 0.8684 - val_mse: 0.0414\n",
            "Epoch 125/150\n",
            "4/4 [==============================] - 0s 10ms/step - loss: 0.1719 - acc: 0.9554 - mse: 0.0322 - val_loss: 0.1921 - val_acc: 0.8684 - val_mse: 0.0433\n",
            "Epoch 126/150\n",
            "4/4 [==============================] - 0s 10ms/step - loss: 0.1925 - acc: 0.9286 - mse: 0.0355 - val_loss: 0.1947 - val_acc: 0.8947 - val_mse: 0.0448\n",
            "Epoch 127/150\n",
            "4/4 [==============================] - 0s 10ms/step - loss: 0.1784 - acc: 0.9375 - mse: 0.0320 - val_loss: 0.1901 - val_acc: 0.8684 - val_mse: 0.0430\n",
            "Epoch 128/150\n",
            "4/4 [==============================] - 0s 13ms/step - loss: 0.2145 - acc: 0.9375 - mse: 0.0398 - val_loss: 0.1852 - val_acc: 0.8947 - val_mse: 0.0424\n",
            "Epoch 129/150\n",
            "4/4 [==============================] - 0s 10ms/step - loss: 0.1516 - acc: 0.9554 - mse: 0.0247 - val_loss: 0.1809 - val_acc: 0.8947 - val_mse: 0.0412\n",
            "Epoch 130/150\n",
            "4/4 [==============================] - 0s 10ms/step - loss: 0.1281 - acc: 0.9375 - mse: 0.0231 - val_loss: 0.1781 - val_acc: 0.8947 - val_mse: 0.0399\n",
            "Epoch 131/150\n",
            "4/4 [==============================] - 0s 11ms/step - loss: 0.2031 - acc: 0.9375 - mse: 0.0373 - val_loss: 0.1762 - val_acc: 0.8684 - val_mse: 0.0384\n",
            "Epoch 132/150\n",
            "4/4 [==============================] - 0s 9ms/step - loss: 0.1227 - acc: 0.9554 - mse: 0.0203 - val_loss: 0.1743 - val_acc: 0.8947 - val_mse: 0.0386\n",
            "Epoch 133/150\n",
            "4/4 [==============================] - 0s 10ms/step - loss: 0.1651 - acc: 0.9643 - mse: 0.0284 - val_loss: 0.1766 - val_acc: 0.8947 - val_mse: 0.0390\n",
            "Epoch 134/150\n",
            "4/4 [==============================] - 0s 10ms/step - loss: 0.2066 - acc: 0.9196 - mse: 0.0371 - val_loss: 0.1842 - val_acc: 0.8947 - val_mse: 0.0428\n",
            "Epoch 135/150\n",
            "4/4 [==============================] - 0s 10ms/step - loss: 0.1537 - acc: 0.9375 - mse: 0.0282 - val_loss: 0.1896 - val_acc: 0.8947 - val_mse: 0.0443\n",
            "Epoch 136/150\n",
            "4/4 [==============================] - 0s 11ms/step - loss: 0.1428 - acc: 0.9554 - mse: 0.0244 - val_loss: 0.1844 - val_acc: 0.8947 - val_mse: 0.0430\n",
            "Epoch 137/150\n",
            "4/4 [==============================] - 0s 10ms/step - loss: 0.1284 - acc: 0.9732 - mse: 0.0207 - val_loss: 0.1778 - val_acc: 0.8947 - val_mse: 0.0411\n",
            "Epoch 138/150\n",
            "4/4 [==============================] - 0s 10ms/step - loss: 0.1256 - acc: 0.9732 - mse: 0.0210 - val_loss: 0.1787 - val_acc: 0.8947 - val_mse: 0.0413\n",
            "Epoch 139/150\n",
            "4/4 [==============================] - 0s 10ms/step - loss: 0.1130 - acc: 0.9732 - mse: 0.0192 - val_loss: 0.1750 - val_acc: 0.8947 - val_mse: 0.0400\n",
            "Epoch 140/150\n",
            "4/4 [==============================] - 0s 10ms/step - loss: 0.1435 - acc: 0.9464 - mse: 0.0258 - val_loss: 0.1713 - val_acc: 0.8947 - val_mse: 0.0388\n",
            "Epoch 141/150\n",
            "4/4 [==============================] - 0s 10ms/step - loss: 0.1831 - acc: 0.9375 - mse: 0.0321 - val_loss: 0.1745 - val_acc: 0.8947 - val_mse: 0.0404\n",
            "Epoch 142/150\n",
            "4/4 [==============================] - 0s 11ms/step - loss: 0.1274 - acc: 0.9554 - mse: 0.0224 - val_loss: 0.1766 - val_acc: 0.8947 - val_mse: 0.0414\n",
            "Epoch 143/150\n",
            "4/4 [==============================] - 0s 10ms/step - loss: 0.1570 - acc: 0.9464 - mse: 0.0291 - val_loss: 0.1744 - val_acc: 0.8947 - val_mse: 0.0407\n",
            "Epoch 144/150\n",
            "4/4 [==============================] - 0s 10ms/step - loss: 0.1350 - acc: 0.9554 - mse: 0.0238 - val_loss: 0.1688 - val_acc: 0.8947 - val_mse: 0.0386\n",
            "Epoch 145/150\n",
            "4/4 [==============================] - 0s 11ms/step - loss: 0.1415 - acc: 0.9464 - mse: 0.0252 - val_loss: 0.1719 - val_acc: 0.8947 - val_mse: 0.0396\n",
            "Epoch 146/150\n",
            "4/4 [==============================] - 0s 11ms/step - loss: 0.1858 - acc: 0.9286 - mse: 0.0365 - val_loss: 0.1647 - val_acc: 0.8947 - val_mse: 0.0376\n",
            "Epoch 147/150\n",
            "4/4 [==============================] - 0s 10ms/step - loss: 0.0968 - acc: 0.9911 - mse: 0.0132 - val_loss: 0.1649 - val_acc: 0.8947 - val_mse: 0.0377\n",
            "Epoch 148/150\n",
            "4/4 [==============================] - 0s 9ms/step - loss: 0.1426 - acc: 0.9464 - mse: 0.0254 - val_loss: 0.1637 - val_acc: 0.8947 - val_mse: 0.0380\n",
            "Epoch 149/150\n",
            "4/4 [==============================] - 0s 10ms/step - loss: 0.0942 - acc: 0.9643 - mse: 0.0145 - val_loss: 0.1625 - val_acc: 0.8947 - val_mse: 0.0378\n",
            "Epoch 150/150\n",
            "4/4 [==============================] - 0s 18ms/step - loss: 0.1766 - acc: 0.9554 - mse: 0.0305 - val_loss: 0.1652 - val_acc: 0.8947 - val_mse: 0.0388\n"
          ]
        }
      ]
    },
    {
      "cell_type": "code",
      "metadata": {
        "id": "CkP_JX2Dv8Vt",
        "colab": {
          "base_uri": "https://localhost:8080/"
        },
        "outputId": "e1f0c29f-a7f0-4159-f9e6-743e2817ef97"
      },
      "source": [
        "#just how we used evaluate() in the basic model previously, use it again to find the loss, accuracy and MSE on the test set\n",
        "print(model7.evaluate(X_test,y_test))"
      ],
      "execution_count": 49,
      "outputs": [
        {
          "output_type": "stream",
          "name": "stdout",
          "text": [
            "2/2 [==============================] - 0s 5ms/step - loss: 0.1652 - acc: 0.8947 - mse: 0.0388\n",
            "[0.16522391140460968, 0.8947368264198303, 0.03879416733980179]\n"
          ]
        }
      ]
    },
    {
      "cell_type": "code",
      "metadata": {
        "id": "b13Ky16_v8Vt",
        "colab": {
          "base_uri": "https://localhost:8080/",
          "height": 581
        },
        "outputId": "896fd3cb-1931-4d0c-c279-2f344b2be998"
      },
      "source": [
        "# Plot the train loss vs validation loss and train accuracy vs validation accuracy graphs just like we did before\n",
        "plt.style.use('ggplot')\n",
        "plt.plot(hist7.history['loss'], label = 'loss')\n",
        "plt.plot(hist7.history['val_loss'], label='val loss')\n",
        "plt.title(\"Train Loss vs Val_Loss\")\n",
        "plt.xlabel(\"Epochs\")\n",
        "plt.ylabel(\"Loss\")\n",
        "plt.legend()\n",
        "plt.show()\n",
        "\n",
        "plt.plot(hist7.history['acc'], label = 'train acc')\n",
        "plt.plot(hist7.history['val_acc'], label='val acc')\n",
        "plt.title(\"train acc vs Val_acc\")\n",
        "plt.xlabel(\"Epochs\")\n",
        "plt.ylabel(\"acc\")\n",
        "plt.legend()\n",
        "plt.show()"
      ],
      "execution_count": 50,
      "outputs": [
        {
          "output_type": "display_data",
          "data": {
            "image/png": "[encoded data removed]",
            "text/plain": [
              "<Figure size 432x288 with 1 Axes>"
            ]
          },
          "metadata": {}
        },
        {
          "output_type": "display_data",
          "data": {
            "image/png": "[encoded data removed]",
            "text/plain": [
              "<Figure size 432x288 with 1 Axes>"
            ]
          },
          "metadata": {}
        }
      ]
    },
    {
      "cell_type": "markdown",
      "metadata": {
        "id": "XdkWssZ4v8Vu"
      },
      "source": [
        "## Batch Normalization\n"
      ]
    },
    {
      "cell_type": "code",
      "metadata": {
        "id": "8ErrLk_mv8Vu",
        "colab": {
          "base_uri": "https://localhost:8080/"
        },
        "outputId": "bb1bba09-c0bb-4a53-ee78-6f24aad6ca69"
      },
      "source": [
        "# The main idea behind batch normalization is that we normalize the input layer by using several techniques (sklearn.preprocessing.StandardScaler) in our case, which improves the model performance, so if the input layer is benefitted by normalization, why not normalize the hidden layers, which will improve and fasten learning even further.\n",
        "\n",
        "# To add it in your TensorFlow model, just add tf.keras.layers.BatchNormalization() after your layers.\n",
        "\n",
        "#Create model8, having same layers as the first model, but this time add a BatchNormalization layer after the first or second dense layer\n",
        "model8 = Sequential([\n",
        "    Dense(512, activation='tanh', input_shape = X_train[0].shape),\n",
        "    Dense(512//2, activation='tanh'),\n",
        "    BatchNormalization(),\n",
        "    Dense(512//4, activation='tanh'),\n",
        "    Dense(512//8, activation='tanh'),\n",
        "    Dense(32, activation='relu'),\n",
        "    Dense(3, activation='softmax')\n",
        "])\n",
        "print(model8.summary())\n",
        "model8.compile(optimizer='sgd',loss='categorical_crossentropy', metrics=['acc', 'mse'])\n",
        "\n",
        "hist8 = model8.fit(X_train, y_train, epochs=150, batch_size=128, validation_data=(X_test,y_test))"
      ],
      "execution_count": 51,
      "outputs": [
        {
          "output_type": "stream",
          "name": "stdout",
          "text": [
            "Model: \"sequential_9\"\n",
            "_________________________________________________________________\n",
            "Layer (type)                 Output Shape              Param #   \n",
            "=================================================================\n",
            "dense_44 (Dense)             (None, 512)               2560      \n",
            "_________________________________________________________________\n",
            "dense_45 (Dense)             (None, 256)               131328    \n",
            "_________________________________________________________________\n",
            "batch_normalization (BatchNo (None, 256)               1024      \n",
            "_________________________________________________________________\n",
            "dense_46 (Dense)             (None, 128)               32896     \n",
            "_________________________________________________________________\n",
            "dense_47 (Dense)             (None, 64)                8256      \n",
            "_________________________________________________________________\n",
            "dense_48 (Dense)             (None, 32)                2080      \n",
            "_________________________________________________________________\n",
            "dense_49 (Dense)             (None, 3)                 99        \n",
            "=================================================================\n",
            "Total params: 178,243\n",
            "Trainable params: 177,731\n",
            "Non-trainable params: 512\n",
            "_________________________________________________________________\n",
            "None\n",
            "Epoch 1/150\n",
            "1/1 [==============================] - 1s 622ms/step - loss: 0.9807 - acc: 0.6161 - mse: 0.1864 - val_loss: 1.0182 - val_acc: 0.6053 - val_mse: 0.2031\n",
            "Epoch 2/150\n",
            "1/1 [==============================] - 0s 26ms/step - loss: 0.7229 - acc: 0.6875 - mse: 0.1323 - val_loss: 0.9880 - val_acc: 0.6579 - val_mse: 0.1962\n",
            "Epoch 3/150\n",
            "1/1 [==============================] - 0s 25ms/step - loss: 0.6293 - acc: 0.7054 - mse: 0.1140 - val_loss: 0.9692 - val_acc: 0.7105 - val_mse: 0.1919\n",
            "Epoch 4/150\n",
            "1/1 [==============================] - 0s 28ms/step - loss: 0.5740 - acc: 0.7946 - mse: 0.1028 - val_loss: 0.9536 - val_acc: 0.7632 - val_mse: 0.1883\n",
            "Epoch 5/150\n",
            "1/1 [==============================] - 0s 24ms/step - loss: 0.5328 - acc: 0.8125 - mse: 0.0942 - val_loss: 0.9396 - val_acc: 0.7632 - val_mse: 0.1850\n",
            "Epoch 6/150\n",
            "1/1 [==============================] - 0s 23ms/step - loss: 0.5025 - acc: 0.8482 - mse: 0.0880 - val_loss: 0.9271 - val_acc: 0.7632 - val_mse: 0.1821\n",
            "Epoch 7/150\n",
            "1/1 [==============================] - 0s 26ms/step - loss: 0.4786 - acc: 0.8482 - mse: 0.0834 - val_loss: 0.9159 - val_acc: 0.7368 - val_mse: 0.1794\n",
            "Epoch 8/150\n",
            "1/1 [==============================] - 0s 25ms/step - loss: 0.4590 - acc: 0.8661 - mse: 0.0796 - val_loss: 0.9060 - val_acc: 0.7368 - val_mse: 0.1770\n",
            "Epoch 9/150\n",
            "1/1 [==============================] - 0s 26ms/step - loss: 0.4423 - acc: 0.8750 - mse: 0.0763 - val_loss: 0.8969 - val_acc: 0.7368 - val_mse: 0.1748\n",
            "Epoch 10/150\n",
            "1/1 [==============================] - 0s 30ms/step - loss: 0.4274 - acc: 0.8750 - mse: 0.0734 - val_loss: 0.8887 - val_acc: 0.7105 - val_mse: 0.1728\n",
            "Epoch 11/150\n",
            "1/1 [==============================] - 0s 25ms/step - loss: 0.4144 - acc: 0.8750 - mse: 0.0708 - val_loss: 0.8809 - val_acc: 0.7105 - val_mse: 0.1710\n",
            "Epoch 12/150\n",
            "1/1 [==============================] - 0s 30ms/step - loss: 0.4026 - acc: 0.8839 - mse: 0.0685 - val_loss: 0.8735 - val_acc: 0.7105 - val_mse: 0.1692\n",
            "Epoch 13/150\n",
            "1/1 [==============================] - 0s 27ms/step - loss: 0.3919 - acc: 0.8839 - mse: 0.0663 - val_loss: 0.8663 - val_acc: 0.7105 - val_mse: 0.1675\n",
            "Epoch 14/150\n",
            "1/1 [==============================] - 0s 24ms/step - loss: 0.3820 - acc: 0.8929 - mse: 0.0644 - val_loss: 0.8596 - val_acc: 0.7105 - val_mse: 0.1659\n",
            "Epoch 15/150\n",
            "1/1 [==============================] - 0s 25ms/step - loss: 0.3730 - acc: 0.8929 - mse: 0.0626 - val_loss: 0.8532 - val_acc: 0.7632 - val_mse: 0.1643\n",
            "Epoch 16/150\n",
            "1/1 [==============================] - 0s 26ms/step - loss: 0.3646 - acc: 0.8929 - mse: 0.0609 - val_loss: 0.8470 - val_acc: 0.7632 - val_mse: 0.1628\n",
            "Epoch 17/150\n",
            "1/1 [==============================] - 0s 46ms/step - loss: 0.3568 - acc: 0.8929 - mse: 0.0593 - val_loss: 0.8411 - val_acc: 0.7632 - val_mse: 0.1614\n",
            "Epoch 18/150\n",
            "1/1 [==============================] - 0s 31ms/step - loss: 0.3495 - acc: 0.8929 - mse: 0.0579 - val_loss: 0.8354 - val_acc: 0.7632 - val_mse: 0.1600\n",
            "Epoch 19/150\n",
            "1/1 [==============================] - 0s 23ms/step - loss: 0.3428 - acc: 0.8929 - mse: 0.0566 - val_loss: 0.8300 - val_acc: 0.7632 - val_mse: 0.1587\n",
            "Epoch 20/150\n",
            "1/1 [==============================] - 0s 22ms/step - loss: 0.3366 - acc: 0.8929 - mse: 0.0554 - val_loss: 0.8249 - val_acc: 0.7632 - val_mse: 0.1575\n",
            "Epoch 21/150\n",
            "1/1 [==============================] - 0s 25ms/step - loss: 0.3308 - acc: 0.8929 - mse: 0.0543 - val_loss: 0.8198 - val_acc: 0.7632 - val_mse: 0.1563\n",
            "Epoch 22/150\n",
            "1/1 [==============================] - 0s 25ms/step - loss: 0.3253 - acc: 0.8929 - mse: 0.0532 - val_loss: 0.8148 - val_acc: 0.7895 - val_mse: 0.1551\n",
            "Epoch 23/150\n",
            "1/1 [==============================] - 0s 30ms/step - loss: 0.3202 - acc: 0.9018 - mse: 0.0523 - val_loss: 0.8100 - val_acc: 0.7895 - val_mse: 0.1539\n",
            "Epoch 24/150\n",
            "1/1 [==============================] - 0s 26ms/step - loss: 0.3153 - acc: 0.9018 - mse: 0.0514 - val_loss: 0.8053 - val_acc: 0.7895 - val_mse: 0.1528\n",
            "Epoch 25/150\n",
            "1/1 [==============================] - 0s 23ms/step - loss: 0.3107 - acc: 0.9018 - mse: 0.0506 - val_loss: 0.8008 - val_acc: 0.8158 - val_mse: 0.1518\n",
            "Epoch 26/150\n",
            "1/1 [==============================] - 0s 38ms/step - loss: 0.3063 - acc: 0.9107 - mse: 0.0497 - val_loss: 0.7965 - val_acc: 0.8158 - val_mse: 0.1507\n",
            "Epoch 27/150\n",
            "1/1 [==============================] - 0s 29ms/step - loss: 0.3022 - acc: 0.9107 - mse: 0.0490 - val_loss: 0.7923 - val_acc: 0.8158 - val_mse: 0.1497\n",
            "Epoch 28/150\n",
            "1/1 [==============================] - 0s 27ms/step - loss: 0.2982 - acc: 0.9107 - mse: 0.0482 - val_loss: 0.7881 - val_acc: 0.8158 - val_mse: 0.1487\n",
            "Epoch 29/150\n",
            "1/1 [==============================] - 0s 30ms/step - loss: 0.2944 - acc: 0.9196 - mse: 0.0475 - val_loss: 0.7840 - val_acc: 0.8158 - val_mse: 0.1478\n",
            "Epoch 30/150\n",
            "1/1 [==============================] - 0s 27ms/step - loss: 0.2907 - acc: 0.9196 - mse: 0.0469 - val_loss: 0.7799 - val_acc: 0.8158 - val_mse: 0.1468\n",
            "Epoch 31/150\n",
            "1/1 [==============================] - 0s 29ms/step - loss: 0.2872 - acc: 0.9196 - mse: 0.0462 - val_loss: 0.7759 - val_acc: 0.8158 - val_mse: 0.1459\n",
            "Epoch 32/150\n",
            "1/1 [==============================] - 0s 32ms/step - loss: 0.2838 - acc: 0.9196 - mse: 0.0456 - val_loss: 0.7721 - val_acc: 0.8158 - val_mse: 0.1450\n",
            "Epoch 33/150\n",
            "1/1 [==============================] - 0s 27ms/step - loss: 0.2805 - acc: 0.9196 - mse: 0.0450 - val_loss: 0.7682 - val_acc: 0.8158 - val_mse: 0.1441\n",
            "Epoch 34/150\n",
            "1/1 [==============================] - 0s 43ms/step - loss: 0.2773 - acc: 0.9196 - mse: 0.0445 - val_loss: 0.7646 - val_acc: 0.8158 - val_mse: 0.1432\n",
            "Epoch 35/150\n",
            "1/1 [==============================] - 0s 29ms/step - loss: 0.2742 - acc: 0.9107 - mse: 0.0439 - val_loss: 0.7609 - val_acc: 0.8158 - val_mse: 0.1424\n",
            "Epoch 36/150\n",
            "1/1 [==============================] - 0s 31ms/step - loss: 0.2713 - acc: 0.9107 - mse: 0.0434 - val_loss: 0.7573 - val_acc: 0.8158 - val_mse: 0.1415\n",
            "Epoch 37/150\n",
            "1/1 [==============================] - 0s 23ms/step - loss: 0.2684 - acc: 0.9107 - mse: 0.0428 - val_loss: 0.7537 - val_acc: 0.8158 - val_mse: 0.1407\n",
            "Epoch 38/150\n",
            "1/1 [==============================] - 0s 25ms/step - loss: 0.2656 - acc: 0.9107 - mse: 0.0423 - val_loss: 0.7503 - val_acc: 0.8158 - val_mse: 0.1399\n",
            "Epoch 39/150\n",
            "1/1 [==============================] - 0s 23ms/step - loss: 0.2629 - acc: 0.9107 - mse: 0.0418 - val_loss: 0.7468 - val_acc: 0.8421 - val_mse: 0.1391\n",
            "Epoch 40/150\n",
            "1/1 [==============================] - 0s 34ms/step - loss: 0.2602 - acc: 0.9107 - mse: 0.0413 - val_loss: 0.7434 - val_acc: 0.8421 - val_mse: 0.1383\n",
            "Epoch 41/150\n",
            "1/1 [==============================] - 0s 28ms/step - loss: 0.2577 - acc: 0.9107 - mse: 0.0409 - val_loss: 0.7400 - val_acc: 0.8158 - val_mse: 0.1375\n",
            "Epoch 42/150\n",
            "1/1 [==============================] - 0s 26ms/step - loss: 0.2552 - acc: 0.9107 - mse: 0.0404 - val_loss: 0.7366 - val_acc: 0.8158 - val_mse: 0.1367\n",
            "Epoch 43/150\n",
            "1/1 [==============================] - 0s 28ms/step - loss: 0.2528 - acc: 0.9107 - mse: 0.0400 - val_loss: 0.7334 - val_acc: 0.8158 - val_mse: 0.1360\n",
            "Epoch 44/150\n",
            "1/1 [==============================] - 0s 26ms/step - loss: 0.2504 - acc: 0.9107 - mse: 0.0396 - val_loss: 0.7301 - val_acc: 0.8158 - val_mse: 0.1353\n",
            "Epoch 45/150\n",
            "1/1 [==============================] - 0s 29ms/step - loss: 0.2481 - acc: 0.9196 - mse: 0.0392 - val_loss: 0.7268 - val_acc: 0.8158 - val_mse: 0.1345\n",
            "Epoch 46/150\n",
            "1/1 [==============================] - 0s 33ms/step - loss: 0.2459 - acc: 0.9196 - mse: 0.0388 - val_loss: 0.7236 - val_acc: 0.8158 - val_mse: 0.1338\n",
            "Epoch 47/150\n",
            "1/1 [==============================] - 0s 25ms/step - loss: 0.2437 - acc: 0.9196 - mse: 0.0384 - val_loss: 0.7204 - val_acc: 0.8158 - val_mse: 0.1331\n",
            "Epoch 48/150\n",
            "1/1 [==============================] - 0s 24ms/step - loss: 0.2416 - acc: 0.9196 - mse: 0.0380 - val_loss: 0.7174 - val_acc: 0.8158 - val_mse: 0.1324\n",
            "Epoch 49/150\n",
            "1/1 [==============================] - 0s 31ms/step - loss: 0.2395 - acc: 0.9196 - mse: 0.0377 - val_loss: 0.7143 - val_acc: 0.8158 - val_mse: 0.1317\n",
            "Epoch 50/150\n",
            "1/1 [==============================] - 0s 26ms/step - loss: 0.2375 - acc: 0.9196 - mse: 0.0373 - val_loss: 0.7113 - val_acc: 0.8158 - val_mse: 0.1310\n",
            "Epoch 51/150\n",
            "1/1 [==============================] - 0s 23ms/step - loss: 0.2355 - acc: 0.9196 - mse: 0.0370 - val_loss: 0.7083 - val_acc: 0.8158 - val_mse: 0.1303\n",
            "Epoch 52/150\n",
            "1/1 [==============================] - 0s 28ms/step - loss: 0.2336 - acc: 0.9196 - mse: 0.0366 - val_loss: 0.7053 - val_acc: 0.8158 - val_mse: 0.1297\n",
            "Epoch 53/150\n",
            "1/1 [==============================] - 0s 30ms/step - loss: 0.2317 - acc: 0.9196 - mse: 0.0363 - val_loss: 0.7023 - val_acc: 0.8421 - val_mse: 0.1290\n",
            "Epoch 54/150\n",
            "1/1 [==============================] - 0s 31ms/step - loss: 0.2299 - acc: 0.9196 - mse: 0.0360 - val_loss: 0.6995 - val_acc: 0.8421 - val_mse: 0.1284\n",
            "Epoch 55/150\n",
            "1/1 [==============================] - 0s 30ms/step - loss: 0.2281 - acc: 0.9286 - mse: 0.0357 - val_loss: 0.6965 - val_acc: 0.8421 - val_mse: 0.1277\n",
            "Epoch 56/150\n",
            "1/1 [==============================] - 0s 30ms/step - loss: 0.2263 - acc: 0.9286 - mse: 0.0354 - val_loss: 0.6937 - val_acc: 0.8421 - val_mse: 0.1271\n",
            "Epoch 57/150\n",
            "1/1 [==============================] - 0s 29ms/step - loss: 0.2245 - acc: 0.9286 - mse: 0.0351 - val_loss: 0.6909 - val_acc: 0.8421 - val_mse: 0.1265\n",
            "Epoch 58/150\n",
            "1/1 [==============================] - 0s 27ms/step - loss: 0.2228 - acc: 0.9286 - mse: 0.0348 - val_loss: 0.6881 - val_acc: 0.8421 - val_mse: 0.1259\n",
            "Epoch 59/150\n",
            "1/1 [==============================] - 0s 33ms/step - loss: 0.2212 - acc: 0.9286 - mse: 0.0345 - val_loss: 0.6854 - val_acc: 0.8421 - val_mse: 0.1253\n",
            "Epoch 60/150\n",
            "1/1 [==============================] - 0s 28ms/step - loss: 0.2195 - acc: 0.9286 - mse: 0.0342 - val_loss: 0.6826 - val_acc: 0.8684 - val_mse: 0.1247\n",
            "Epoch 61/150\n",
            "1/1 [==============================] - 0s 24ms/step - loss: 0.2179 - acc: 0.9286 - mse: 0.0339 - val_loss: 0.6799 - val_acc: 0.8684 - val_mse: 0.1241\n",
            "Epoch 62/150\n",
            "1/1 [==============================] - 0s 30ms/step - loss: 0.2163 - acc: 0.9286 - mse: 0.0337 - val_loss: 0.6772 - val_acc: 0.8684 - val_mse: 0.1236\n",
            "Epoch 63/150\n",
            "1/1 [==============================] - 0s 28ms/step - loss: 0.2148 - acc: 0.9286 - mse: 0.0334 - val_loss: 0.6746 - val_acc: 0.8684 - val_mse: 0.1230\n",
            "Epoch 64/150\n",
            "1/1 [==============================] - 0s 27ms/step - loss: 0.2132 - acc: 0.9286 - mse: 0.0331 - val_loss: 0.6720 - val_acc: 0.8684 - val_mse: 0.1225\n",
            "Epoch 65/150\n",
            "1/1 [==============================] - 0s 32ms/step - loss: 0.2117 - acc: 0.9286 - mse: 0.0329 - val_loss: 0.6693 - val_acc: 0.8684 - val_mse: 0.1219\n",
            "Epoch 66/150\n",
            "1/1 [==============================] - 0s 31ms/step - loss: 0.2103 - acc: 0.9286 - mse: 0.0326 - val_loss: 0.6667 - val_acc: 0.8684 - val_mse: 0.1213\n",
            "Epoch 67/150\n",
            "1/1 [==============================] - 0s 27ms/step - loss: 0.2088 - acc: 0.9286 - mse: 0.0324 - val_loss: 0.6640 - val_acc: 0.8684 - val_mse: 0.1208\n",
            "Epoch 68/150\n",
            "1/1 [==============================] - 0s 30ms/step - loss: 0.2074 - acc: 0.9286 - mse: 0.0321 - val_loss: 0.6614 - val_acc: 0.8684 - val_mse: 0.1202\n",
            "Epoch 69/150\n",
            "1/1 [==============================] - 0s 29ms/step - loss: 0.2060 - acc: 0.9286 - mse: 0.0319 - val_loss: 0.6588 - val_acc: 0.8684 - val_mse: 0.1197\n",
            "Epoch 70/150\n",
            "1/1 [==============================] - 0s 28ms/step - loss: 0.2046 - acc: 0.9286 - mse: 0.0317 - val_loss: 0.6564 - val_acc: 0.8684 - val_mse: 0.1192\n",
            "Epoch 71/150\n",
            "1/1 [==============================] - 0s 23ms/step - loss: 0.2032 - acc: 0.9286 - mse: 0.0314 - val_loss: 0.6537 - val_acc: 0.8684 - val_mse: 0.1186\n",
            "Epoch 72/150\n",
            "1/1 [==============================] - 0s 34ms/step - loss: 0.2019 - acc: 0.9286 - mse: 0.0312 - val_loss: 0.6514 - val_acc: 0.8684 - val_mse: 0.1182\n",
            "Epoch 73/150\n",
            "1/1 [==============================] - 0s 29ms/step - loss: 0.2006 - acc: 0.9286 - mse: 0.0310 - val_loss: 0.6488 - val_acc: 0.8684 - val_mse: 0.1176\n",
            "Epoch 74/150\n",
            "1/1 [==============================] - 0s 32ms/step - loss: 0.1993 - acc: 0.9286 - mse: 0.0308 - val_loss: 0.6463 - val_acc: 0.8684 - val_mse: 0.1171\n",
            "Epoch 75/150\n",
            "1/1 [==============================] - 0s 30ms/step - loss: 0.1980 - acc: 0.9286 - mse: 0.0306 - val_loss: 0.6440 - val_acc: 0.8684 - val_mse: 0.1166\n",
            "Epoch 76/150\n",
            "1/1 [==============================] - 0s 27ms/step - loss: 0.1967 - acc: 0.9286 - mse: 0.0303 - val_loss: 0.6416 - val_acc: 0.8684 - val_mse: 0.1161\n",
            "Epoch 77/150\n",
            "1/1 [==============================] - 0s 33ms/step - loss: 0.1955 - acc: 0.9286 - mse: 0.0301 - val_loss: 0.6392 - val_acc: 0.8684 - val_mse: 0.1156\n",
            "Epoch 78/150\n",
            "1/1 [==============================] - 0s 28ms/step - loss: 0.1942 - acc: 0.9286 - mse: 0.0299 - val_loss: 0.6370 - val_acc: 0.8684 - val_mse: 0.1152\n",
            "Epoch 79/150\n",
            "1/1 [==============================] - 0s 34ms/step - loss: 0.1930 - acc: 0.9286 - mse: 0.0297 - val_loss: 0.6346 - val_acc: 0.8421 - val_mse: 0.1147\n",
            "Epoch 80/150\n",
            "1/1 [==============================] - 0s 32ms/step - loss: 0.1918 - acc: 0.9286 - mse: 0.0295 - val_loss: 0.6325 - val_acc: 0.8421 - val_mse: 0.1143\n",
            "Epoch 81/150\n",
            "1/1 [==============================] - 0s 25ms/step - loss: 0.1907 - acc: 0.9286 - mse: 0.0293 - val_loss: 0.6301 - val_acc: 0.8421 - val_mse: 0.1138\n",
            "Epoch 82/150\n",
            "1/1 [==============================] - 0s 27ms/step - loss: 0.1895 - acc: 0.9286 - mse: 0.0291 - val_loss: 0.6278 - val_acc: 0.8421 - val_mse: 0.1134\n",
            "Epoch 83/150\n",
            "1/1 [==============================] - 0s 27ms/step - loss: 0.1883 - acc: 0.9286 - mse: 0.0289 - val_loss: 0.6257 - val_acc: 0.8421 - val_mse: 0.1130\n",
            "Epoch 84/150\n",
            "1/1 [==============================] - 0s 30ms/step - loss: 0.1872 - acc: 0.9286 - mse: 0.0287 - val_loss: 0.6234 - val_acc: 0.8421 - val_mse: 0.1125\n",
            "Epoch 85/150\n",
            "1/1 [==============================] - 0s 25ms/step - loss: 0.1860 - acc: 0.9375 - mse: 0.0285 - val_loss: 0.6214 - val_acc: 0.8421 - val_mse: 0.1121\n",
            "Epoch 86/150\n",
            "1/1 [==============================] - 0s 27ms/step - loss: 0.1849 - acc: 0.9375 - mse: 0.0283 - val_loss: 0.6191 - val_acc: 0.8421 - val_mse: 0.1117\n",
            "Epoch 87/150\n",
            "1/1 [==============================] - 0s 29ms/step - loss: 0.1838 - acc: 0.9375 - mse: 0.0281 - val_loss: 0.6168 - val_acc: 0.8421 - val_mse: 0.1112\n",
            "Epoch 88/150\n",
            "1/1 [==============================] - 0s 30ms/step - loss: 0.1828 - acc: 0.9375 - mse: 0.0280 - val_loss: 0.6148 - val_acc: 0.8421 - val_mse: 0.1109\n",
            "Epoch 89/150\n",
            "1/1 [==============================] - 0s 30ms/step - loss: 0.1817 - acc: 0.9375 - mse: 0.0278 - val_loss: 0.6126 - val_acc: 0.8421 - val_mse: 0.1104\n",
            "Epoch 90/150\n",
            "1/1 [==============================] - 0s 24ms/step - loss: 0.1806 - acc: 0.9375 - mse: 0.0276 - val_loss: 0.6106 - val_acc: 0.8421 - val_mse: 0.1101\n",
            "Epoch 91/150\n",
            "1/1 [==============================] - 0s 30ms/step - loss: 0.1796 - acc: 0.9464 - mse: 0.0274 - val_loss: 0.6083 - val_acc: 0.8421 - val_mse: 0.1096\n",
            "Epoch 92/150\n",
            "1/1 [==============================] - 0s 28ms/step - loss: 0.1786 - acc: 0.9464 - mse: 0.0272 - val_loss: 0.6063 - val_acc: 0.8421 - val_mse: 0.1093\n",
            "Epoch 93/150\n",
            "1/1 [==============================] - 0s 35ms/step - loss: 0.1776 - acc: 0.9464 - mse: 0.0271 - val_loss: 0.6042 - val_acc: 0.8421 - val_mse: 0.1088\n",
            "Epoch 94/150\n",
            "1/1 [==============================] - 0s 30ms/step - loss: 0.1766 - acc: 0.9464 - mse: 0.0269 - val_loss: 0.6023 - val_acc: 0.8421 - val_mse: 0.1085\n",
            "Epoch 95/150\n",
            "1/1 [==============================] - 0s 30ms/step - loss: 0.1756 - acc: 0.9464 - mse: 0.0267 - val_loss: 0.6000 - val_acc: 0.8421 - val_mse: 0.1081\n",
            "Epoch 96/150\n",
            "1/1 [==============================] - 0s 38ms/step - loss: 0.1746 - acc: 0.9464 - mse: 0.0266 - val_loss: 0.5980 - val_acc: 0.8421 - val_mse: 0.1077\n",
            "Epoch 97/150\n",
            "1/1 [==============================] - 0s 25ms/step - loss: 0.1737 - acc: 0.9464 - mse: 0.0264 - val_loss: 0.5960 - val_acc: 0.8421 - val_mse: 0.1073\n",
            "Epoch 98/150\n",
            "1/1 [==============================] - 0s 29ms/step - loss: 0.1727 - acc: 0.9464 - mse: 0.0263 - val_loss: 0.5940 - val_acc: 0.8421 - val_mse: 0.1070\n",
            "Epoch 99/150\n",
            "1/1 [==============================] - 0s 32ms/step - loss: 0.1718 - acc: 0.9464 - mse: 0.0261 - val_loss: 0.5921 - val_acc: 0.8421 - val_mse: 0.1066\n",
            "Epoch 100/150\n",
            "1/1 [==============================] - 0s 28ms/step - loss: 0.1709 - acc: 0.9464 - mse: 0.0260 - val_loss: 0.5900 - val_acc: 0.8421 - val_mse: 0.1062\n",
            "Epoch 101/150\n",
            "1/1 [==============================] - 0s 23ms/step - loss: 0.1700 - acc: 0.9464 - mse: 0.0258 - val_loss: 0.5882 - val_acc: 0.8421 - val_mse: 0.1059\n",
            "Epoch 102/150\n",
            "1/1 [==============================] - 0s 27ms/step - loss: 0.1691 - acc: 0.9464 - mse: 0.0257 - val_loss: 0.5862 - val_acc: 0.8421 - val_mse: 0.1056\n",
            "Epoch 103/150\n",
            "1/1 [==============================] - 0s 28ms/step - loss: 0.1682 - acc: 0.9554 - mse: 0.0255 - val_loss: 0.5842 - val_acc: 0.8421 - val_mse: 0.1052\n",
            "Epoch 104/150\n",
            "1/1 [==============================] - 0s 32ms/step - loss: 0.1674 - acc: 0.9554 - mse: 0.0254 - val_loss: 0.5822 - val_acc: 0.8421 - val_mse: 0.1048\n",
            "Epoch 105/150\n",
            "1/1 [==============================] - 0s 30ms/step - loss: 0.1665 - acc: 0.9554 - mse: 0.0252 - val_loss: 0.5803 - val_acc: 0.8421 - val_mse: 0.1045\n",
            "Epoch 106/150\n",
            "1/1 [==============================] - 0s 27ms/step - loss: 0.1656 - acc: 0.9554 - mse: 0.0251 - val_loss: 0.5785 - val_acc: 0.8421 - val_mse: 0.1042\n",
            "Epoch 107/150\n",
            "1/1 [==============================] - 0s 26ms/step - loss: 0.1648 - acc: 0.9554 - mse: 0.0249 - val_loss: 0.5766 - val_acc: 0.8421 - val_mse: 0.1039\n",
            "Epoch 108/150\n",
            "1/1 [==============================] - 0s 26ms/step - loss: 0.1640 - acc: 0.9554 - mse: 0.0248 - val_loss: 0.5749 - val_acc: 0.8421 - val_mse: 0.1035\n",
            "Epoch 109/150\n",
            "1/1 [==============================] - 0s 30ms/step - loss: 0.1631 - acc: 0.9554 - mse: 0.0247 - val_loss: 0.5729 - val_acc: 0.8421 - val_mse: 0.1032\n",
            "Epoch 110/150\n",
            "1/1 [==============================] - 0s 30ms/step - loss: 0.1623 - acc: 0.9554 - mse: 0.0245 - val_loss: 0.5712 - val_acc: 0.8421 - val_mse: 0.1029\n",
            "Epoch 111/150\n",
            "1/1 [==============================] - 0s 32ms/step - loss: 0.1615 - acc: 0.9554 - mse: 0.0244 - val_loss: 0.5693 - val_acc: 0.8421 - val_mse: 0.1026\n",
            "Epoch 112/150\n",
            "1/1 [==============================] - 0s 29ms/step - loss: 0.1607 - acc: 0.9554 - mse: 0.0243 - val_loss: 0.5676 - val_acc: 0.8421 - val_mse: 0.1023\n",
            "Epoch 113/150\n",
            "1/1 [==============================] - 0s 29ms/step - loss: 0.1599 - acc: 0.9643 - mse: 0.0241 - val_loss: 0.5660 - val_acc: 0.8421 - val_mse: 0.1020\n",
            "Epoch 114/150\n",
            "1/1 [==============================] - 0s 32ms/step - loss: 0.1591 - acc: 0.9643 - mse: 0.0240 - val_loss: 0.5640 - val_acc: 0.8421 - val_mse: 0.1017\n",
            "Epoch 115/150\n",
            "1/1 [==============================] - 0s 27ms/step - loss: 0.1583 - acc: 0.9643 - mse: 0.0239 - val_loss: 0.5625 - val_acc: 0.8684 - val_mse: 0.1014\n",
            "Epoch 116/150\n",
            "1/1 [==============================] - 0s 25ms/step - loss: 0.1575 - acc: 0.9643 - mse: 0.0237 - val_loss: 0.5607 - val_acc: 0.8684 - val_mse: 0.1011\n",
            "Epoch 117/150\n",
            "1/1 [==============================] - 0s 25ms/step - loss: 0.1567 - acc: 0.9643 - mse: 0.0236 - val_loss: 0.5591 - val_acc: 0.8684 - val_mse: 0.1008\n",
            "Epoch 118/150\n",
            "1/1 [==============================] - 0s 24ms/step - loss: 0.1559 - acc: 0.9643 - mse: 0.0235 - val_loss: 0.5575 - val_acc: 0.8684 - val_mse: 0.1006\n",
            "Epoch 119/150\n",
            "1/1 [==============================] - 0s 31ms/step - loss: 0.1552 - acc: 0.9643 - mse: 0.0233 - val_loss: 0.5558 - val_acc: 0.8684 - val_mse: 0.1003\n",
            "Epoch 120/150\n",
            "1/1 [==============================] - 0s 23ms/step - loss: 0.1544 - acc: 0.9643 - mse: 0.0232 - val_loss: 0.5542 - val_acc: 0.8684 - val_mse: 0.1000\n",
            "Epoch 121/150\n",
            "1/1 [==============================] - 0s 26ms/step - loss: 0.1537 - acc: 0.9643 - mse: 0.0231 - val_loss: 0.5528 - val_acc: 0.8684 - val_mse: 0.0998\n",
            "Epoch 122/150\n",
            "1/1 [==============================] - 0s 27ms/step - loss: 0.1529 - acc: 0.9643 - mse: 0.0229 - val_loss: 0.5513 - val_acc: 0.8684 - val_mse: 0.0996\n",
            "Epoch 123/150\n",
            "1/1 [==============================] - 0s 28ms/step - loss: 0.1522 - acc: 0.9643 - mse: 0.0228 - val_loss: 0.5496 - val_acc: 0.8684 - val_mse: 0.0993\n",
            "Epoch 124/150\n",
            "1/1 [==============================] - 0s 28ms/step - loss: 0.1514 - acc: 0.9643 - mse: 0.0227 - val_loss: 0.5481 - val_acc: 0.8684 - val_mse: 0.0991\n",
            "Epoch 125/150\n",
            "1/1 [==============================] - 0s 28ms/step - loss: 0.1507 - acc: 0.9643 - mse: 0.0225 - val_loss: 0.5466 - val_acc: 0.8684 - val_mse: 0.0988\n",
            "Epoch 126/150\n",
            "1/1 [==============================] - 0s 30ms/step - loss: 0.1500 - acc: 0.9732 - mse: 0.0224 - val_loss: 0.5452 - val_acc: 0.8684 - val_mse: 0.0986\n",
            "Epoch 127/150\n",
            "1/1 [==============================] - 0s 34ms/step - loss: 0.1493 - acc: 0.9732 - mse: 0.0223 - val_loss: 0.5437 - val_acc: 0.8684 - val_mse: 0.0984\n",
            "Epoch 128/150\n",
            "1/1 [==============================] - 0s 30ms/step - loss: 0.1486 - acc: 0.9732 - mse: 0.0221 - val_loss: 0.5423 - val_acc: 0.8684 - val_mse: 0.0981\n",
            "Epoch 129/150\n",
            "1/1 [==============================] - 0s 28ms/step - loss: 0.1479 - acc: 0.9732 - mse: 0.0220 - val_loss: 0.5409 - val_acc: 0.8684 - val_mse: 0.0979\n",
            "Epoch 130/150\n",
            "1/1 [==============================] - 0s 32ms/step - loss: 0.1472 - acc: 0.9732 - mse: 0.0219 - val_loss: 0.5395 - val_acc: 0.8684 - val_mse: 0.0977\n",
            "Epoch 131/150\n",
            "1/1 [==============================] - 0s 32ms/step - loss: 0.1465 - acc: 0.9732 - mse: 0.0218 - val_loss: 0.5381 - val_acc: 0.8684 - val_mse: 0.0975\n",
            "Epoch 132/150\n",
            "1/1 [==============================] - 0s 29ms/step - loss: 0.1458 - acc: 0.9732 - mse: 0.0217 - val_loss: 0.5367 - val_acc: 0.8684 - val_mse: 0.0973\n",
            "Epoch 133/150\n",
            "1/1 [==============================] - 0s 31ms/step - loss: 0.1451 - acc: 0.9732 - mse: 0.0215 - val_loss: 0.5353 - val_acc: 0.8684 - val_mse: 0.0971\n",
            "Epoch 134/150\n",
            "1/1 [==============================] - 0s 37ms/step - loss: 0.1445 - acc: 0.9732 - mse: 0.0214 - val_loss: 0.5340 - val_acc: 0.8684 - val_mse: 0.0969\n",
            "Epoch 135/150\n",
            "1/1 [==============================] - 0s 26ms/step - loss: 0.1438 - acc: 0.9732 - mse: 0.0213 - val_loss: 0.5327 - val_acc: 0.8684 - val_mse: 0.0967\n",
            "Epoch 136/150\n",
            "1/1 [==============================] - 0s 24ms/step - loss: 0.1431 - acc: 0.9732 - mse: 0.0212 - val_loss: 0.5312 - val_acc: 0.8684 - val_mse: 0.0964\n",
            "Epoch 137/150\n",
            "1/1 [==============================] - 0s 31ms/step - loss: 0.1425 - acc: 0.9732 - mse: 0.0211 - val_loss: 0.5299 - val_acc: 0.8684 - val_mse: 0.0962\n",
            "Epoch 138/150\n",
            "1/1 [==============================] - 0s 31ms/step - loss: 0.1418 - acc: 0.9732 - mse: 0.0210 - val_loss: 0.5285 - val_acc: 0.8684 - val_mse: 0.0960\n",
            "Epoch 139/150\n",
            "1/1 [==============================] - 0s 36ms/step - loss: 0.1412 - acc: 0.9732 - mse: 0.0209 - val_loss: 0.5273 - val_acc: 0.8684 - val_mse: 0.0958\n",
            "Epoch 140/150\n",
            "1/1 [==============================] - 0s 28ms/step - loss: 0.1406 - acc: 0.9732 - mse: 0.0208 - val_loss: 0.5259 - val_acc: 0.8684 - val_mse: 0.0956\n",
            "Epoch 141/150\n",
            "1/1 [==============================] - 0s 30ms/step - loss: 0.1400 - acc: 0.9732 - mse: 0.0207 - val_loss: 0.5247 - val_acc: 0.8684 - val_mse: 0.0954\n",
            "Epoch 142/150\n",
            "1/1 [==============================] - 0s 27ms/step - loss: 0.1394 - acc: 0.9732 - mse: 0.0205 - val_loss: 0.5234 - val_acc: 0.8684 - val_mse: 0.0952\n",
            "Epoch 143/150\n",
            "1/1 [==============================] - 0s 29ms/step - loss: 0.1387 - acc: 0.9732 - mse: 0.0205 - val_loss: 0.5222 - val_acc: 0.8684 - val_mse: 0.0950\n",
            "Epoch 144/150\n",
            "1/1 [==============================] - 0s 29ms/step - loss: 0.1381 - acc: 0.9732 - mse: 0.0203 - val_loss: 0.5210 - val_acc: 0.8684 - val_mse: 0.0948\n",
            "Epoch 145/150\n",
            "1/1 [==============================] - 0s 29ms/step - loss: 0.1375 - acc: 0.9732 - mse: 0.0202 - val_loss: 0.5198 - val_acc: 0.8684 - val_mse: 0.0947\n",
            "Epoch 146/150\n",
            "1/1 [==============================] - 0s 28ms/step - loss: 0.1369 - acc: 0.9732 - mse: 0.0201 - val_loss: 0.5185 - val_acc: 0.8684 - val_mse: 0.0945\n",
            "Epoch 147/150\n",
            "1/1 [==============================] - 0s 32ms/step - loss: 0.1364 - acc: 0.9732 - mse: 0.0200 - val_loss: 0.5174 - val_acc: 0.8684 - val_mse: 0.0943\n",
            "Epoch 148/150\n",
            "1/1 [==============================] - 0s 32ms/step - loss: 0.1358 - acc: 0.9732 - mse: 0.0199 - val_loss: 0.5162 - val_acc: 0.8684 - val_mse: 0.0941\n",
            "Epoch 149/150\n",
            "1/1 [==============================] - 0s 31ms/step - loss: 0.1352 - acc: 0.9732 - mse: 0.0198 - val_loss: 0.5148 - val_acc: 0.8684 - val_mse: 0.0939\n",
            "Epoch 150/150\n",
            "1/1 [==============================] - 0s 29ms/step - loss: 0.1346 - acc: 0.9732 - mse: 0.0198 - val_loss: 0.5138 - val_acc: 0.8684 - val_mse: 0.0938\n"
          ]
        }
      ]
    },
    {
      "cell_type": "code",
      "metadata": {
        "id": "Jiq83BGcv8Vu",
        "colab": {
          "base_uri": "https://localhost:8080/"
        },
        "outputId": "1b233fe7-b29f-4147-8ae0-f6929834be46"
      },
      "source": [
        "#just how we used evaluate() in the basic model previously, use it again to find the loss, accuracy and MSE on the test set\n",
        "print(model8.evaluate(X_test,y_test))"
      ],
      "execution_count": 52,
      "outputs": [
        {
          "output_type": "stream",
          "name": "stdout",
          "text": [
            "2/2 [==============================] - 0s 5ms/step - loss: 0.5138 - acc: 0.8684 - mse: 0.0938\n",
            "[0.5138468146324158, 0.8684210777282715, 0.09376112371683121]\n"
          ]
        }
      ]
    },
    {
      "cell_type": "code",
      "metadata": {
        "id": "sZFOvHibv8Vu",
        "colab": {
          "base_uri": "https://localhost:8080/",
          "height": 581
        },
        "outputId": "1d12a030-fb22-4117-88e4-fe32246ca453"
      },
      "source": [
        "# Plot the train loss vs validation loss and train accuracy vs validation accuracy graphs just like we did before\n",
        "plt.style.use('ggplot')\n",
        "plt.plot(hist8.history['loss'], label = 'loss')\n",
        "plt.plot(hist8.history['val_loss'], label='val loss')\n",
        "plt.title(\"Train Loss vs Val_Loss\")\n",
        "plt.xlabel(\"Epochs\")\n",
        "plt.ylabel(\"Loss\")\n",
        "plt.legend()\n",
        "plt.show()\n",
        "\n",
        "plt.plot(hist8.history['acc'], label = 'train acc')\n",
        "plt.plot(hist8.history['val_acc'], label='val acc')\n",
        "plt.title(\"train acc vs Val_acc\")\n",
        "plt.xlabel(\"Epochs\")\n",
        "plt.ylabel(\"acc\")\n",
        "plt.legend()\n",
        "plt.show()\n"
      ],
      "execution_count": 53,
      "outputs": [
        {
          "output_type": "display_data",
          "data": {
            "image/png": "[encoded data removed]",
            "text/plain": [
              "<Figure size 432x288 with 1 Axes>"
            ]
          },
          "metadata": {}
        },
        {
          "output_type": "display_data",
          "data": {
            "image/png": "[encoded data removed]",
            "text/plain": [
              "<Figure size 432x288 with 1 Axes>"
            ]
          },
          "metadata": {}
        }
      ]
    },
    {
      "cell_type": "code",
      "metadata": {
        "id": "Hj9YpQQ_v8Vu",
        "colab": {
          "base_uri": "https://localhost:8080/"
        },
        "outputId": "2fcdc6f7-94a0-4310-b2cd-2a5532ed2602"
      },
      "source": [
        "# Now create model9, having a BatchNormalization layer after each dense layer\n",
        "model9 = Sequential([\n",
        "    Dense(512, activation='tanh', input_shape = X_train[0].shape),\n",
        "    BatchNormalization(),\n",
        "    Dense(512//2, activation='tanh'),\n",
        "    BatchNormalization(),\n",
        "    Dense(512//4, activation='tanh'),\n",
        "    BatchNormalization(),\n",
        "    Dense(512//8, activation='tanh'),\n",
        "    BatchNormalization(),\n",
        "    Dense(32, activation='relu'),\n",
        "    BatchNormalization(),\n",
        "    Dense(3, activation='softmax')\n",
        "])\n",
        "print(model9.summary())\n",
        "model9.compile(optimizer='sgd',loss='categorical_crossentropy', metrics=['acc', 'mse'])\n",
        "\n",
        "hist9 = model9.fit(X_train, y_train, epochs=150, batch_size=128, validation_data=(X_test,y_test))\n",
        " \n"
      ],
      "execution_count": 54,
      "outputs": [
        {
          "output_type": "stream",
          "name": "stdout",
          "text": [
            "Model: \"sequential_10\"\n",
            "_________________________________________________________________\n",
            "Layer (type)                 Output Shape              Param #   \n",
            "=================================================================\n",
            "dense_50 (Dense)             (None, 512)               2560      \n",
            "_________________________________________________________________\n",
            "batch_normalization_1 (Batch (None, 512)               2048      \n",
            "_________________________________________________________________\n",
            "dense_51 (Dense)             (None, 256)               131328    \n",
            "_________________________________________________________________\n",
            "batch_normalization_2 (Batch (None, 256)               1024      \n",
            "_________________________________________________________________\n",
            "dense_52 (Dense)             (None, 128)               32896     \n",
            "_________________________________________________________________\n",
            "batch_normalization_3 (Batch (None, 128)               512       \n",
            "_________________________________________________________________\n",
            "dense_53 (Dense)             (None, 64)                8256      \n",
            "_________________________________________________________________\n",
            "batch_normalization_4 (Batch (None, 64)                256       \n",
            "_________________________________________________________________\n",
            "dense_54 (Dense)             (None, 32)                2080      \n",
            "_________________________________________________________________\n",
            "batch_normalization_5 (Batch (None, 32)                128       \n",
            "_________________________________________________________________\n",
            "dense_55 (Dense)             (None, 3)                 99        \n",
            "=================================================================\n",
            "Total params: 181,187\n",
            "Trainable params: 179,203\n",
            "Non-trainable params: 1,984\n",
            "_________________________________________________________________\n",
            "None\n",
            "Epoch 1/150\n",
            "1/1 [==============================] - 1s 1s/step - loss: 1.8703 - acc: 0.2946 - mse: 0.3369 - val_loss: 1.0491 - val_acc: 0.5526 - val_mse: 0.2112\n",
            "Epoch 2/150\n",
            "1/1 [==============================] - 0s 26ms/step - loss: 0.9247 - acc: 0.6429 - mse: 0.1699 - val_loss: 0.9418 - val_acc: 0.8158 - val_mse: 0.1863\n",
            "Epoch 3/150\n",
            "1/1 [==============================] - 0s 23ms/step - loss: 0.5450 - acc: 0.8036 - mse: 0.1006 - val_loss: 0.9531 - val_acc: 0.7368 - val_mse: 0.1889\n",
            "Epoch 4/150\n",
            "1/1 [==============================] - 0s 26ms/step - loss: 0.3581 - acc: 0.8214 - mse: 0.0705 - val_loss: 0.9498 - val_acc: 0.7368 - val_mse: 0.1882\n",
            "Epoch 5/150\n",
            "1/1 [==============================] - 0s 28ms/step - loss: 0.2478 - acc: 0.9107 - mse: 0.0416 - val_loss: 0.9471 - val_acc: 0.7632 - val_mse: 0.1875\n",
            "Epoch 6/150\n",
            "1/1 [==============================] - 0s 24ms/step - loss: 0.2046 - acc: 0.9554 - mse: 0.0312 - val_loss: 0.9437 - val_acc: 0.8421 - val_mse: 0.1868\n",
            "Epoch 7/150\n",
            "1/1 [==============================] - 0s 31ms/step - loss: 0.1852 - acc: 0.9732 - mse: 0.0266 - val_loss: 0.9401 - val_acc: 0.8421 - val_mse: 0.1860\n",
            "Epoch 8/150\n",
            "1/1 [==============================] - 0s 26ms/step - loss: 0.1727 - acc: 0.9732 - mse: 0.0237 - val_loss: 0.9364 - val_acc: 0.8947 - val_mse: 0.1851\n",
            "Epoch 9/150\n",
            "1/1 [==============================] - 0s 28ms/step - loss: 0.1632 - acc: 0.9732 - mse: 0.0219 - val_loss: 0.9342 - val_acc: 0.8684 - val_mse: 0.1846\n",
            "Epoch 10/150\n",
            "1/1 [==============================] - 0s 26ms/step - loss: 0.1543 - acc: 0.9732 - mse: 0.0200 - val_loss: 0.9304 - val_acc: 0.8684 - val_mse: 0.1837\n",
            "Epoch 11/150\n",
            "1/1 [==============================] - 0s 34ms/step - loss: 0.1466 - acc: 0.9732 - mse: 0.0187 - val_loss: 0.9279 - val_acc: 0.8684 - val_mse: 0.1832\n",
            "Epoch 12/150\n",
            "1/1 [==============================] - 0s 28ms/step - loss: 0.1396 - acc: 0.9732 - mse: 0.0173 - val_loss: 0.9252 - val_acc: 0.8684 - val_mse: 0.1826\n",
            "Epoch 13/150\n",
            "1/1 [==============================] - 0s 32ms/step - loss: 0.1335 - acc: 0.9732 - mse: 0.0163 - val_loss: 0.9226 - val_acc: 0.8684 - val_mse: 0.1820\n",
            "Epoch 14/150\n",
            "1/1 [==============================] - 0s 32ms/step - loss: 0.1281 - acc: 0.9732 - mse: 0.0153 - val_loss: 0.9193 - val_acc: 0.8684 - val_mse: 0.1812\n",
            "Epoch 15/150\n",
            "1/1 [==============================] - 0s 29ms/step - loss: 0.1234 - acc: 0.9821 - mse: 0.0146 - val_loss: 0.9174 - val_acc: 0.8684 - val_mse: 0.1808\n",
            "Epoch 16/150\n",
            "1/1 [==============================] - 0s 29ms/step - loss: 0.1190 - acc: 0.9821 - mse: 0.0137 - val_loss: 0.9134 - val_acc: 0.8421 - val_mse: 0.1799\n",
            "Epoch 17/150\n",
            "1/1 [==============================] - 0s 29ms/step - loss: 0.1155 - acc: 0.9821 - mse: 0.0134 - val_loss: 0.9119 - val_acc: 0.8421 - val_mse: 0.1796\n",
            "Epoch 18/150\n",
            "1/1 [==============================] - 0s 35ms/step - loss: 0.1120 - acc: 0.9911 - mse: 0.0126 - val_loss: 0.9071 - val_acc: 0.7632 - val_mse: 0.1785\n",
            "Epoch 19/150\n",
            "1/1 [==============================] - 0s 26ms/step - loss: 0.1086 - acc: 0.9821 - mse: 0.0123 - val_loss: 0.9063 - val_acc: 0.7368 - val_mse: 0.1783\n",
            "Epoch 20/150\n",
            "1/1 [==============================] - 0s 34ms/step - loss: 0.1056 - acc: 0.9911 - mse: 0.0115 - val_loss: 0.9005 - val_acc: 0.7368 - val_mse: 0.1769\n",
            "Epoch 21/150\n",
            "1/1 [==============================] - 0s 31ms/step - loss: 0.1016 - acc: 0.9821 - mse: 0.0112 - val_loss: 0.9004 - val_acc: 0.7368 - val_mse: 0.1769\n",
            "Epoch 22/150\n",
            "1/1 [==============================] - 0s 28ms/step - loss: 0.0995 - acc: 0.9911 - mse: 0.0105 - val_loss: 0.8935 - val_acc: 0.7368 - val_mse: 0.1753\n",
            "Epoch 23/150\n",
            "1/1 [==============================] - 0s 30ms/step - loss: 0.0957 - acc: 0.9821 - mse: 0.0102 - val_loss: 0.8944 - val_acc: 0.7368 - val_mse: 0.1755\n",
            "Epoch 24/150\n",
            "1/1 [==============================] - 0s 31ms/step - loss: 0.0927 - acc: 0.9911 - mse: 0.0093 - val_loss: 0.8870 - val_acc: 0.7368 - val_mse: 0.1738\n",
            "Epoch 25/150\n",
            "1/1 [==============================] - 0s 31ms/step - loss: 0.0906 - acc: 0.9821 - mse: 0.0094 - val_loss: 0.8885 - val_acc: 0.7368 - val_mse: 0.1742\n",
            "Epoch 26/150\n",
            "1/1 [==============================] - 0s 24ms/step - loss: 0.0883 - acc: 0.9911 - mse: 0.0086 - val_loss: 0.8805 - val_acc: 0.7368 - val_mse: 0.1723\n",
            "Epoch 27/150\n",
            "1/1 [==============================] - 0s 28ms/step - loss: 0.0868 - acc: 0.9821 - mse: 0.0089 - val_loss: 0.8827 - val_acc: 0.7368 - val_mse: 0.1728\n",
            "Epoch 28/150\n",
            "1/1 [==============================] - 0s 30ms/step - loss: 0.0825 - acc: 0.9911 - mse: 0.0076 - val_loss: 0.8751 - val_acc: 0.7368 - val_mse: 0.1710\n",
            "Epoch 29/150\n",
            "1/1 [==============================] - 0s 31ms/step - loss: 0.0814 - acc: 0.9821 - mse: 0.0080 - val_loss: 0.8775 - val_acc: 0.7368 - val_mse: 0.1716\n",
            "Epoch 30/150\n",
            "1/1 [==============================] - 0s 31ms/step - loss: 0.0781 - acc: 0.9911 - mse: 0.0069 - val_loss: 0.8696 - val_acc: 0.7368 - val_mse: 0.1697\n",
            "Epoch 31/150\n",
            "1/1 [==============================] - 0s 27ms/step - loss: 0.0779 - acc: 0.9821 - mse: 0.0074 - val_loss: 0.8720 - val_acc: 0.7368 - val_mse: 0.1703\n",
            "Epoch 32/150\n",
            "1/1 [==============================] - 0s 40ms/step - loss: 0.0737 - acc: 0.9911 - mse: 0.0062 - val_loss: 0.8649 - val_acc: 0.7368 - val_mse: 0.1687\n",
            "Epoch 33/150\n",
            "1/1 [==============================] - 0s 30ms/step - loss: 0.0727 - acc: 0.9911 - mse: 0.0064 - val_loss: 0.8666 - val_acc: 0.7368 - val_mse: 0.1691\n",
            "Epoch 34/150\n",
            "1/1 [==============================] - 0s 31ms/step - loss: 0.0699 - acc: 1.0000 - mse: 0.0056 - val_loss: 0.8596 - val_acc: 0.7368 - val_mse: 0.1674\n",
            "Epoch 35/150\n",
            "1/1 [==============================] - 0s 26ms/step - loss: 0.0698 - acc: 1.0000 - mse: 0.0059 - val_loss: 0.8611 - val_acc: 0.7368 - val_mse: 0.1678\n",
            "Epoch 36/150\n",
            "1/1 [==============================] - 0s 37ms/step - loss: 0.0659 - acc: 1.0000 - mse: 0.0049 - val_loss: 0.8556 - val_acc: 0.7368 - val_mse: 0.1665\n",
            "Epoch 37/150\n",
            "1/1 [==============================] - 0s 26ms/step - loss: 0.0652 - acc: 1.0000 - mse: 0.0051 - val_loss: 0.8562 - val_acc: 0.7368 - val_mse: 0.1666\n",
            "Epoch 38/150\n",
            "1/1 [==============================] - 0s 31ms/step - loss: 0.0633 - acc: 1.0000 - mse: 0.0045 - val_loss: 0.8499 - val_acc: 0.7368 - val_mse: 0.1651\n",
            "Epoch 39/150\n",
            "1/1 [==============================] - 0s 31ms/step - loss: 0.0628 - acc: 1.0000 - mse: 0.0047 - val_loss: 0.8509 - val_acc: 0.7368 - val_mse: 0.1654\n",
            "Epoch 40/150\n",
            "1/1 [==============================] - 0s 33ms/step - loss: 0.0601 - acc: 1.0000 - mse: 0.0040 - val_loss: 0.8452 - val_acc: 0.7368 - val_mse: 0.1640\n",
            "Epoch 41/150\n",
            "1/1 [==============================] - 0s 31ms/step - loss: 0.0596 - acc: 1.0000 - mse: 0.0043 - val_loss: 0.8457 - val_acc: 0.7368 - val_mse: 0.1641\n",
            "Epoch 42/150\n",
            "1/1 [==============================] - 0s 27ms/step - loss: 0.0576 - acc: 1.0000 - mse: 0.0036 - val_loss: 0.8405 - val_acc: 0.7368 - val_mse: 0.1629\n",
            "Epoch 43/150\n",
            "1/1 [==============================] - 0s 37ms/step - loss: 0.0572 - acc: 1.0000 - mse: 0.0039 - val_loss: 0.8408 - val_acc: 0.7368 - val_mse: 0.1630\n",
            "Epoch 44/150\n",
            "1/1 [==============================] - 0s 33ms/step - loss: 0.0553 - acc: 1.0000 - mse: 0.0033 - val_loss: 0.8363 - val_acc: 0.7368 - val_mse: 0.1619\n",
            "Epoch 45/150\n",
            "1/1 [==============================] - 0s 30ms/step - loss: 0.0547 - acc: 1.0000 - mse: 0.0035 - val_loss: 0.8361 - val_acc: 0.7368 - val_mse: 0.1619\n",
            "Epoch 46/150\n",
            "1/1 [==============================] - 0s 30ms/step - loss: 0.0530 - acc: 1.0000 - mse: 0.0030 - val_loss: 0.8320 - val_acc: 0.7368 - val_mse: 0.1609\n",
            "Epoch 47/150\n",
            "1/1 [==============================] - 0s 27ms/step - loss: 0.0525 - acc: 1.0000 - mse: 0.0032 - val_loss: 0.8311 - val_acc: 0.7368 - val_mse: 0.1606\n",
            "Epoch 48/150\n",
            "1/1 [==============================] - 0s 24ms/step - loss: 0.0509 - acc: 1.0000 - mse: 0.0028 - val_loss: 0.8274 - val_acc: 0.7368 - val_mse: 0.1598\n",
            "Epoch 49/150\n",
            "1/1 [==============================] - 0s 27ms/step - loss: 0.0505 - acc: 1.0000 - mse: 0.0030 - val_loss: 0.8267 - val_acc: 0.7368 - val_mse: 0.1596\n",
            "Epoch 50/150\n",
            "1/1 [==============================] - 0s 31ms/step - loss: 0.0488 - acc: 1.0000 - mse: 0.0025 - val_loss: 0.8231 - val_acc: 0.7368 - val_mse: 0.1588\n",
            "Epoch 51/150\n",
            "1/1 [==============================] - 0s 28ms/step - loss: 0.0482 - acc: 1.0000 - mse: 0.0027 - val_loss: 0.8216 - val_acc: 0.7368 - val_mse: 0.1584\n",
            "Epoch 52/150\n",
            "1/1 [==============================] - 0s 28ms/step - loss: 0.0470 - acc: 1.0000 - mse: 0.0023 - val_loss: 0.8189 - val_acc: 0.7368 - val_mse: 0.1578\n",
            "Epoch 53/150\n",
            "1/1 [==============================] - 0s 32ms/step - loss: 0.0463 - acc: 1.0000 - mse: 0.0024 - val_loss: 0.8170 - val_acc: 0.7368 - val_mse: 0.1573\n",
            "Epoch 54/150\n",
            "1/1 [==============================] - 0s 26ms/step - loss: 0.0451 - acc: 1.0000 - mse: 0.0021 - val_loss: 0.8149 - val_acc: 0.7368 - val_mse: 0.1568\n",
            "Epoch 55/150\n",
            "1/1 [==============================] - 0s 37ms/step - loss: 0.0447 - acc: 1.0000 - mse: 0.0022 - val_loss: 0.8121 - val_acc: 0.7368 - val_mse: 0.1561\n",
            "Epoch 56/150\n",
            "1/1 [==============================] - 0s 27ms/step - loss: 0.0436 - acc: 1.0000 - mse: 0.0019 - val_loss: 0.8111 - val_acc: 0.7368 - val_mse: 0.1559\n",
            "Epoch 57/150\n",
            "1/1 [==============================] - 0s 31ms/step - loss: 0.0436 - acc: 1.0000 - mse: 0.0021 - val_loss: 0.8078 - val_acc: 0.7368 - val_mse: 0.1551\n",
            "Epoch 58/150\n",
            "1/1 [==============================] - 0s 32ms/step - loss: 0.0424 - acc: 1.0000 - mse: 0.0018 - val_loss: 0.8075 - val_acc: 0.7368 - val_mse: 0.1551\n",
            "Epoch 59/150\n",
            "1/1 [==============================] - 0s 30ms/step - loss: 0.0425 - acc: 1.0000 - mse: 0.0018 - val_loss: 0.8026 - val_acc: 0.7368 - val_mse: 0.1539\n",
            "Epoch 60/150\n",
            "1/1 [==============================] - 0s 27ms/step - loss: 0.0414 - acc: 1.0000 - mse: 0.0018 - val_loss: 0.8039 - val_acc: 0.7368 - val_mse: 0.1543\n",
            "Epoch 61/150\n",
            "1/1 [==============================] - 0s 30ms/step - loss: 0.0420 - acc: 1.0000 - mse: 0.0017 - val_loss: 0.7982 - val_acc: 0.7368 - val_mse: 0.1528\n",
            "Epoch 62/150\n",
            "1/1 [==============================] - 0s 32ms/step - loss: 0.0424 - acc: 1.0000 - mse: 0.0023 - val_loss: 0.8009 - val_acc: 0.7368 - val_mse: 0.1536\n",
            "Epoch 63/150\n",
            "1/1 [==============================] - 0s 37ms/step - loss: 0.0431 - acc: 1.0000 - mse: 0.0019 - val_loss: 0.7940 - val_acc: 0.7368 - val_mse: 0.1518\n",
            "Epoch 64/150\n",
            "1/1 [==============================] - 0s 29ms/step - loss: 0.0428 - acc: 1.0000 - mse: 0.0025 - val_loss: 0.7977 - val_acc: 0.7368 - val_mse: 0.1529\n",
            "Epoch 65/150\n",
            "1/1 [==============================] - 0s 34ms/step - loss: 0.0422 - acc: 1.0000 - mse: 0.0018 - val_loss: 0.7908 - val_acc: 0.7368 - val_mse: 0.1511\n",
            "Epoch 66/150\n",
            "1/1 [==============================] - 0s 32ms/step - loss: 0.0402 - acc: 1.0000 - mse: 0.0021 - val_loss: 0.7944 - val_acc: 0.7368 - val_mse: 0.1521\n",
            "Epoch 67/150\n",
            "1/1 [==============================] - 0s 28ms/step - loss: 0.0399 - acc: 1.0000 - mse: 0.0015 - val_loss: 0.7879 - val_acc: 0.7368 - val_mse: 0.1505\n",
            "Epoch 68/150\n",
            "1/1 [==============================] - 0s 23ms/step - loss: 0.0380 - acc: 1.0000 - mse: 0.0017 - val_loss: 0.7901 - val_acc: 0.7368 - val_mse: 0.1511\n",
            "Epoch 69/150\n",
            "1/1 [==============================] - 0s 24ms/step - loss: 0.0375 - acc: 1.0000 - mse: 0.0013 - val_loss: 0.7860 - val_acc: 0.7368 - val_mse: 0.1500\n",
            "Epoch 70/150\n",
            "1/1 [==============================] - 0s 32ms/step - loss: 0.0365 - acc: 1.0000 - mse: 0.0015 - val_loss: 0.7872 - val_acc: 0.7368 - val_mse: 0.1504\n",
            "Epoch 71/150\n",
            "1/1 [==============================] - 0s 29ms/step - loss: 0.0364 - acc: 1.0000 - mse: 0.0012 - val_loss: 0.7824 - val_acc: 0.7368 - val_mse: 0.1492\n",
            "Epoch 72/150\n",
            "1/1 [==============================] - 0s 36ms/step - loss: 0.0364 - acc: 1.0000 - mse: 0.0016 - val_loss: 0.7861 - val_acc: 0.7368 - val_mse: 0.1502\n",
            "Epoch 73/150\n",
            "1/1 [==============================] - 0s 37ms/step - loss: 0.0367 - acc: 1.0000 - mse: 0.0013 - val_loss: 0.7794 - val_acc: 0.7368 - val_mse: 0.1485\n",
            "Epoch 74/150\n",
            "1/1 [==============================] - 0s 25ms/step - loss: 0.0358 - acc: 1.0000 - mse: 0.0016 - val_loss: 0.7834 - val_acc: 0.7368 - val_mse: 0.1496\n",
            "Epoch 75/150\n",
            "1/1 [==============================] - 0s 30ms/step - loss: 0.0362 - acc: 1.0000 - mse: 0.0012 - val_loss: 0.7772 - val_acc: 0.7368 - val_mse: 0.1480\n",
            "Epoch 76/150\n",
            "1/1 [==============================] - 0s 30ms/step - loss: 0.0346 - acc: 1.0000 - mse: 0.0014 - val_loss: 0.7802 - val_acc: 0.7368 - val_mse: 0.1488\n",
            "Epoch 77/150\n",
            "1/1 [==============================] - 0s 34ms/step - loss: 0.0344 - acc: 1.0000 - mse: 0.0011 - val_loss: 0.7752 - val_acc: 0.7368 - val_mse: 0.1476\n",
            "Epoch 78/150\n",
            "1/1 [==============================] - 0s 25ms/step - loss: 0.0337 - acc: 1.0000 - mse: 0.0013 - val_loss: 0.7777 - val_acc: 0.7368 - val_mse: 0.1483\n",
            "Epoch 79/150\n",
            "1/1 [==============================] - 0s 34ms/step - loss: 0.0335 - acc: 1.0000 - mse: 0.0010 - val_loss: 0.7739 - val_acc: 0.7368 - val_mse: 0.1473\n",
            "Epoch 80/150\n",
            "1/1 [==============================] - 0s 32ms/step - loss: 0.0330 - acc: 1.0000 - mse: 0.0013 - val_loss: 0.7758 - val_acc: 0.7368 - val_mse: 0.1479\n",
            "Epoch 81/150\n",
            "1/1 [==============================] - 0s 30ms/step - loss: 0.0331 - acc: 1.0000 - mse: 0.0010 - val_loss: 0.7714 - val_acc: 0.7368 - val_mse: 0.1467\n",
            "Epoch 82/150\n",
            "1/1 [==============================] - 0s 36ms/step - loss: 0.0324 - acc: 1.0000 - mse: 0.0013 - val_loss: 0.7747 - val_acc: 0.7368 - val_mse: 0.1476\n",
            "Epoch 83/150\n",
            "1/1 [==============================] - 0s 33ms/step - loss: 0.0325 - acc: 1.0000 - mse: 9.7525e-04 - val_loss: 0.7692 - val_acc: 0.7368 - val_mse: 0.1463\n",
            "Epoch 84/150\n",
            "1/1 [==============================] - 0s 34ms/step - loss: 0.0317 - acc: 1.0000 - mse: 0.0012 - val_loss: 0.7733 - val_acc: 0.7368 - val_mse: 0.1473\n",
            "Epoch 85/150\n",
            "1/1 [==============================] - 0s 34ms/step - loss: 0.0320 - acc: 1.0000 - mse: 9.4767e-04 - val_loss: 0.7675 - val_acc: 0.7368 - val_mse: 0.1459\n",
            "Epoch 86/150\n",
            "1/1 [==============================] - 0s 30ms/step - loss: 0.0309 - acc: 1.0000 - mse: 0.0011 - val_loss: 0.7714 - val_acc: 0.7368 - val_mse: 0.1469\n",
            "Epoch 87/150\n",
            "1/1 [==============================] - 0s 29ms/step - loss: 0.0308 - acc: 1.0000 - mse: 8.5998e-04 - val_loss: 0.7663 - val_acc: 0.7368 - val_mse: 0.1456\n",
            "Epoch 88/150\n",
            "1/1 [==============================] - 0s 26ms/step - loss: 0.0302 - acc: 1.0000 - mse: 0.0011 - val_loss: 0.7703 - val_acc: 0.7368 - val_mse: 0.1466\n",
            "Epoch 89/150\n",
            "1/1 [==============================] - 0s 34ms/step - loss: 0.0303 - acc: 1.0000 - mse: 8.3509e-04 - val_loss: 0.7651 - val_acc: 0.7368 - val_mse: 0.1454\n",
            "Epoch 90/150\n",
            "1/1 [==============================] - 0s 37ms/step - loss: 0.0296 - acc: 1.0000 - mse: 0.0010 - val_loss: 0.7689 - val_acc: 0.7368 - val_mse: 0.1463\n",
            "Epoch 91/150\n",
            "1/1 [==============================] - 0s 28ms/step - loss: 0.0295 - acc: 1.0000 - mse: 7.8654e-04 - val_loss: 0.7641 - val_acc: 0.7368 - val_mse: 0.1452\n",
            "Epoch 92/150\n",
            "1/1 [==============================] - 0s 30ms/step - loss: 0.0289 - acc: 1.0000 - mse: 9.3846e-04 - val_loss: 0.7677 - val_acc: 0.7368 - val_mse: 0.1460\n",
            "Epoch 93/150\n",
            "1/1 [==============================] - 0s 29ms/step - loss: 0.0288 - acc: 1.0000 - mse: 7.4179e-04 - val_loss: 0.7633 - val_acc: 0.7368 - val_mse: 0.1450\n",
            "Epoch 94/150\n",
            "1/1 [==============================] - 0s 29ms/step - loss: 0.0282 - acc: 1.0000 - mse: 8.7806e-04 - val_loss: 0.7665 - val_acc: 0.7368 - val_mse: 0.1458\n",
            "Epoch 95/150\n",
            "1/1 [==============================] - 0s 36ms/step - loss: 0.0281 - acc: 1.0000 - mse: 6.9877e-04 - val_loss: 0.7627 - val_acc: 0.7368 - val_mse: 0.1449\n",
            "Epoch 96/150\n",
            "1/1 [==============================] - 0s 34ms/step - loss: 0.0276 - acc: 1.0000 - mse: 8.2105e-04 - val_loss: 0.7656 - val_acc: 0.7368 - val_mse: 0.1456\n",
            "Epoch 97/150\n",
            "1/1 [==============================] - 0s 30ms/step - loss: 0.0274 - acc: 1.0000 - mse: 6.5800e-04 - val_loss: 0.7621 - val_acc: 0.7368 - val_mse: 0.1448\n",
            "Epoch 98/150\n",
            "1/1 [==============================] - 0s 31ms/step - loss: 0.0269 - acc: 1.0000 - mse: 7.6181e-04 - val_loss: 0.7650 - val_acc: 0.7368 - val_mse: 0.1455\n",
            "Epoch 99/150\n",
            "1/1 [==============================] - 0s 32ms/step - loss: 0.0268 - acc: 1.0000 - mse: 6.2980e-04 - val_loss: 0.7614 - val_acc: 0.7368 - val_mse: 0.1447\n",
            "Epoch 100/150\n",
            "1/1 [==============================] - 0s 27ms/step - loss: 0.0263 - acc: 1.0000 - mse: 7.1823e-04 - val_loss: 0.7636 - val_acc: 0.7368 - val_mse: 0.1452\n",
            "Epoch 101/150\n",
            "1/1 [==============================] - 0s 33ms/step - loss: 0.0262 - acc: 1.0000 - mse: 5.9849e-04 - val_loss: 0.7612 - val_acc: 0.7368 - val_mse: 0.1446\n",
            "Epoch 102/150\n",
            "1/1 [==============================] - 0s 37ms/step - loss: 0.0259 - acc: 1.0000 - mse: 6.9276e-04 - val_loss: 0.7637 - val_acc: 0.7368 - val_mse: 0.1452\n",
            "Epoch 103/150\n",
            "1/1 [==============================] - 0s 29ms/step - loss: 0.0259 - acc: 1.0000 - mse: 5.8524e-04 - val_loss: 0.7606 - val_acc: 0.7368 - val_mse: 0.1445\n",
            "Epoch 104/150\n",
            "1/1 [==============================] - 0s 31ms/step - loss: 0.0255 - acc: 1.0000 - mse: 6.7561e-04 - val_loss: 0.7643 - val_acc: 0.7368 - val_mse: 0.1453\n",
            "Epoch 105/150\n",
            "1/1 [==============================] - 0s 32ms/step - loss: 0.0257 - acc: 1.0000 - mse: 5.8457e-04 - val_loss: 0.7600 - val_acc: 0.7368 - val_mse: 0.1444\n",
            "Epoch 106/150\n",
            "1/1 [==============================] - 0s 31ms/step - loss: 0.0254 - acc: 1.0000 - mse: 6.9421e-04 - val_loss: 0.7647 - val_acc: 0.7368 - val_mse: 0.1454\n",
            "Epoch 107/150\n",
            "1/1 [==============================] - 0s 35ms/step - loss: 0.0257 - acc: 1.0000 - mse: 5.9283e-04 - val_loss: 0.7599 - val_acc: 0.7368 - val_mse: 0.1444\n",
            "Epoch 108/150\n",
            "1/1 [==============================] - 0s 29ms/step - loss: 0.0252 - acc: 1.0000 - mse: 7.0027e-04 - val_loss: 0.7652 - val_acc: 0.7368 - val_mse: 0.1455\n",
            "Epoch 109/150\n",
            "1/1 [==============================] - 0s 30ms/step - loss: 0.0255 - acc: 1.0000 - mse: 5.8409e-04 - val_loss: 0.7602 - val_acc: 0.7368 - val_mse: 0.1445\n",
            "Epoch 110/150\n",
            "1/1 [==============================] - 0s 29ms/step - loss: 0.0249 - acc: 1.0000 - mse: 6.8590e-04 - val_loss: 0.7657 - val_acc: 0.7368 - val_mse: 0.1456\n",
            "Epoch 111/150\n",
            "1/1 [==============================] - 0s 32ms/step - loss: 0.0250 - acc: 1.0000 - mse: 5.5994e-04 - val_loss: 0.7611 - val_acc: 0.7368 - val_mse: 0.1447\n",
            "Epoch 112/150\n",
            "1/1 [==============================] - 0s 25ms/step - loss: 0.0244 - acc: 1.0000 - mse: 6.4233e-04 - val_loss: 0.7663 - val_acc: 0.7368 - val_mse: 0.1457\n",
            "Epoch 113/150\n",
            "1/1 [==============================] - 0s 25ms/step - loss: 0.0244 - acc: 1.0000 - mse: 5.2666e-04 - val_loss: 0.7624 - val_acc: 0.7368 - val_mse: 0.1449\n",
            "Epoch 114/150\n",
            "1/1 [==============================] - 0s 32ms/step - loss: 0.0238 - acc: 1.0000 - mse: 6.0075e-04 - val_loss: 0.7666 - val_acc: 0.7368 - val_mse: 0.1458\n",
            "Epoch 115/150\n",
            "1/1 [==============================] - 0s 28ms/step - loss: 0.0238 - acc: 1.0000 - mse: 4.9323e-04 - val_loss: 0.7639 - val_acc: 0.7368 - val_mse: 0.1451\n",
            "Epoch 116/150\n",
            "1/1 [==============================] - 0s 44ms/step - loss: 0.0234 - acc: 1.0000 - mse: 5.6588e-04 - val_loss: 0.7681 - val_acc: 0.7368 - val_mse: 0.1460\n",
            "Epoch 117/150\n",
            "1/1 [==============================] - 0s 27ms/step - loss: 0.0234 - acc: 1.0000 - mse: 4.7802e-04 - val_loss: 0.7648 - val_acc: 0.7368 - val_mse: 0.1453\n",
            "Epoch 118/150\n",
            "1/1 [==============================] - 0s 28ms/step - loss: 0.0230 - acc: 1.0000 - mse: 5.3966e-04 - val_loss: 0.7707 - val_acc: 0.7368 - val_mse: 0.1464\n",
            "Epoch 119/150\n",
            "1/1 [==============================] - 0s 31ms/step - loss: 0.0231 - acc: 1.0000 - mse: 4.6646e-04 - val_loss: 0.7663 - val_acc: 0.7368 - val_mse: 0.1456\n",
            "Epoch 120/150\n",
            "1/1 [==============================] - 0s 29ms/step - loss: 0.0226 - acc: 1.0000 - mse: 5.1750e-04 - val_loss: 0.7719 - val_acc: 0.7368 - val_mse: 0.1466\n",
            "Epoch 121/150\n",
            "1/1 [==============================] - 0s 27ms/step - loss: 0.0226 - acc: 1.0000 - mse: 4.4078e-04 - val_loss: 0.7687 - val_acc: 0.7368 - val_mse: 0.1459\n",
            "Epoch 122/150\n",
            "1/1 [==============================] - 0s 32ms/step - loss: 0.0223 - acc: 1.0000 - mse: 5.0150e-04 - val_loss: 0.7735 - val_acc: 0.7368 - val_mse: 0.1469\n",
            "Epoch 123/150\n",
            "1/1 [==============================] - 0s 29ms/step - loss: 0.0223 - acc: 1.0000 - mse: 4.2658e-04 - val_loss: 0.7705 - val_acc: 0.7368 - val_mse: 0.1462\n",
            "Epoch 124/150\n",
            "1/1 [==============================] - 0s 30ms/step - loss: 0.0220 - acc: 1.0000 - mse: 4.9522e-04 - val_loss: 0.7765 - val_acc: 0.7368 - val_mse: 0.1473\n",
            "Epoch 125/150\n",
            "1/1 [==============================] - 0s 31ms/step - loss: 0.0219 - acc: 1.0000 - mse: 4.1385e-04 - val_loss: 0.7718 - val_acc: 0.7368 - val_mse: 0.1464\n",
            "Epoch 126/150\n",
            "1/1 [==============================] - 0s 34ms/step - loss: 0.0217 - acc: 1.0000 - mse: 4.7322e-04 - val_loss: 0.7786 - val_acc: 0.7368 - val_mse: 0.1476\n",
            "Epoch 127/150\n",
            "1/1 [==============================] - 0s 31ms/step - loss: 0.0218 - acc: 1.0000 - mse: 4.1036e-04 - val_loss: 0.7739 - val_acc: 0.7368 - val_mse: 0.1467\n",
            "Epoch 128/150\n",
            "1/1 [==============================] - 0s 40ms/step - loss: 0.0215 - acc: 1.0000 - mse: 4.7286e-04 - val_loss: 0.7809 - val_acc: 0.7368 - val_mse: 0.1480\n",
            "Epoch 129/150\n",
            "1/1 [==============================] - 0s 28ms/step - loss: 0.0216 - acc: 1.0000 - mse: 4.0338e-04 - val_loss: 0.7758 - val_acc: 0.7368 - val_mse: 0.1470\n",
            "Epoch 130/150\n",
            "1/1 [==============================] - 0s 34ms/step - loss: 0.0213 - acc: 1.0000 - mse: 4.7380e-04 - val_loss: 0.7830 - val_acc: 0.7368 - val_mse: 0.1483\n",
            "Epoch 131/150\n",
            "1/1 [==============================] - 0s 27ms/step - loss: 0.0214 - acc: 1.0000 - mse: 3.9358e-04 - val_loss: 0.7782 - val_acc: 0.7368 - val_mse: 0.1474\n",
            "Epoch 132/150\n",
            "1/1 [==============================] - 0s 30ms/step - loss: 0.0211 - acc: 1.0000 - mse: 4.6282e-04 - val_loss: 0.7861 - val_acc: 0.7368 - val_mse: 0.1487\n",
            "Epoch 133/150\n",
            "1/1 [==============================] - 0s 30ms/step - loss: 0.0210 - acc: 1.0000 - mse: 3.7966e-04 - val_loss: 0.7798 - val_acc: 0.7368 - val_mse: 0.1476\n",
            "Epoch 134/150\n",
            "1/1 [==============================] - 0s 29ms/step - loss: 0.0206 - acc: 1.0000 - mse: 4.2928e-04 - val_loss: 0.7882 - val_acc: 0.7368 - val_mse: 0.1490\n",
            "Epoch 135/150\n",
            "1/1 [==============================] - 0s 34ms/step - loss: 0.0206 - acc: 1.0000 - mse: 3.5722e-04 - val_loss: 0.7839 - val_acc: 0.7368 - val_mse: 0.1482\n",
            "Epoch 136/150\n",
            "1/1 [==============================] - 0s 29ms/step - loss: 0.0202 - acc: 1.0000 - mse: 4.0194e-04 - val_loss: 0.7915 - val_acc: 0.7368 - val_mse: 0.1494\n",
            "Epoch 137/150\n",
            "1/1 [==============================] - 0s 29ms/step - loss: 0.0200 - acc: 1.0000 - mse: 3.3648e-04 - val_loss: 0.7874 - val_acc: 0.7368 - val_mse: 0.1486\n",
            "Epoch 138/150\n",
            "1/1 [==============================] - 0s 34ms/step - loss: 0.0196 - acc: 1.0000 - mse: 3.5929e-04 - val_loss: 0.7939 - val_acc: 0.7368 - val_mse: 0.1496\n",
            "Epoch 139/150\n",
            "1/1 [==============================] - 0s 30ms/step - loss: 0.0195 - acc: 1.0000 - mse: 3.1538e-04 - val_loss: 0.7916 - val_acc: 0.7368 - val_mse: 0.1492\n",
            "Epoch 140/150\n",
            "1/1 [==============================] - 0s 35ms/step - loss: 0.0193 - acc: 1.0000 - mse: 3.4143e-04 - val_loss: 0.7951 - val_acc: 0.7368 - val_mse: 0.1497\n",
            "Epoch 141/150\n",
            "1/1 [==============================] - 0s 26ms/step - loss: 0.0192 - acc: 1.0000 - mse: 3.0367e-04 - val_loss: 0.7945 - val_acc: 0.7368 - val_mse: 0.1495\n",
            "Epoch 142/150\n",
            "1/1 [==============================] - 0s 30ms/step - loss: 0.0191 - acc: 1.0000 - mse: 3.3619e-04 - val_loss: 0.8000 - val_acc: 0.7368 - val_mse: 0.1503\n",
            "Epoch 143/150\n",
            "1/1 [==============================] - 0s 34ms/step - loss: 0.0190 - acc: 1.0000 - mse: 3.0000e-04 - val_loss: 0.7961 - val_acc: 0.7368 - val_mse: 0.1497\n",
            "Epoch 144/150\n",
            "1/1 [==============================] - 0s 34ms/step - loss: 0.0189 - acc: 1.0000 - mse: 3.3206e-04 - val_loss: 0.8042 - val_acc: 0.7368 - val_mse: 0.1508\n",
            "Epoch 145/150\n",
            "1/1 [==============================] - 0s 28ms/step - loss: 0.0188 - acc: 1.0000 - mse: 2.9285e-04 - val_loss: 0.7980 - val_acc: 0.7368 - val_mse: 0.1499\n",
            "Epoch 146/150\n",
            "1/1 [==============================] - 0s 36ms/step - loss: 0.0186 - acc: 1.0000 - mse: 3.1381e-04 - val_loss: 0.8083 - val_acc: 0.7368 - val_mse: 0.1513\n",
            "Epoch 147/150\n",
            "1/1 [==============================] - 0s 30ms/step - loss: 0.0187 - acc: 1.0000 - mse: 2.8678e-04 - val_loss: 0.7995 - val_acc: 0.7368 - val_mse: 0.1501\n",
            "Epoch 148/150\n",
            "1/1 [==============================] - 0s 28ms/step - loss: 0.0186 - acc: 1.0000 - mse: 3.1513e-04 - val_loss: 0.8124 - val_acc: 0.7368 - val_mse: 0.1518\n",
            "Epoch 149/150\n",
            "1/1 [==============================] - 0s 31ms/step - loss: 0.0186 - acc: 1.0000 - mse: 2.8246e-04 - val_loss: 0.8019 - val_acc: 0.7368 - val_mse: 0.1503\n",
            "Epoch 150/150\n",
            "1/1 [==============================] - 0s 30ms/step - loss: 0.0186 - acc: 1.0000 - mse: 3.1579e-04 - val_loss: 0.8151 - val_acc: 0.7368 - val_mse: 0.1521\n"
          ]
        }
      ]
    },
    {
      "cell_type": "code",
      "metadata": {
        "id": "ierrN0VGv8Vu",
        "colab": {
          "base_uri": "https://localhost:8080/"
        },
        "outputId": "79e10a02-340b-46e1-b3c7-8e09a4682009"
      },
      "source": [
        "#just how we used evaluate() in the basic model previously, use it again to find the loss, accuracy and MSE on the test set\n",
        "print(model9.evaluate(X_test,y_test)) "
      ],
      "execution_count": 55,
      "outputs": [
        {
          "output_type": "stream",
          "name": "stdout",
          "text": [
            "2/2 [==============================] - 0s 4ms/step - loss: 0.8151 - acc: 0.7368 - mse: 0.1521\n",
            "[0.8150651454925537, 0.7368420958518982, 0.15210364758968353]\n"
          ]
        }
      ]
    },
    {
      "cell_type": "code",
      "metadata": {
        "id": "vRJYZSPLv8Vu",
        "colab": {
          "base_uri": "https://localhost:8080/",
          "height": 581
        },
        "outputId": "66cfdfd6-160b-4623-adf8-eff3744252b4"
      },
      "source": [
        "# Plot the train loss vs validation loss and train accuracy vs validation accuracy graphs just like we did before\n",
        "plt.style.use('ggplot')\n",
        "plt.plot(hist9.history['loss'], label = 'loss')\n",
        "plt.plot(hist9.history['val_loss'], label='val loss')\n",
        "plt.title(\"Train Loss vs Val_Loss\")\n",
        "plt.xlabel(\"Epochs\")\n",
        "plt.ylabel(\"Loss\")\n",
        "plt.legend()\n",
        "plt.show()\n",
        "\n",
        "plt.plot(hist9.history['acc'], label = 'train acc')\n",
        "plt.plot(hist9.history['val_acc'], label='val acc')\n",
        "plt.title(\"train acc vs Val_acc\")\n",
        "plt.xlabel(\"Epochs\")\n",
        "plt.ylabel(\"acc\")\n",
        "plt.legend()\n",
        "plt.show()"
      ],
      "execution_count": 56,
      "outputs": [
        {
          "output_type": "display_data",
          "data": {
            "image/png": "[encoded data removed]",
            "text/plain": [
              "<Figure size 432x288 with 1 Axes>"
            ]
          },
          "metadata": {}
        },
        {
          "output_type": "display_data",
          "data": {
            "image/png": "[encoded data removed]",
            "text/plain": [
              "<Figure size 432x288 with 1 Axes>"
            ]
          },
          "metadata": {}
        }
      ]
    },
    {
      "cell_type": "code",
      "metadata": {
        "id": "1HQIrEWVv8Vu"
      },
      "source": [
        "#After completing the above tasks, note down what you've understood and observed in each of the 9 models and what type of regularization works best for this dataset\n",
        "#L2 is a better method of regularization as the training losss and validation loss is almost similar.\n",
        "#The accuracy is sufficiently high and overfitiing is the least as compared to L! or Dropout.\n"
      ],
      "execution_count": 57,
      "outputs": []
    }
  ]
}